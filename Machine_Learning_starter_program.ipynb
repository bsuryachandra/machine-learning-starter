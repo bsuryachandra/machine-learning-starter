{
  "nbformat": 4,
  "nbformat_minor": 0,
  "metadata": {
    "colab": {
      "name": "Machine Learning starter program.ipynb",
      "provenance": [],
      "collapsed_sections": []
    },
    "kernelspec": {
      "name": "python3",
      "display_name": "Python 3"
    },
    "widgets": {
      "application/vnd.jupyter.widget-state+json": {
        "24243e1b91f04d589fc94e6bc2bac1d8": {
          "model_module": "@jupyter-widgets/controls",
          "model_name": "IntProgressModel",
          "state": {
            "_view_name": "ProgressView",
            "style": "IPY_MODEL_1fbfd2adbf374ce7aff4164da2534d7e",
            "_dom_classes": [],
            "description": "Processing: ",
            "_model_name": "IntProgressModel",
            "bar_style": "",
            "max": 13,
            "_view_module": "@jupyter-widgets/controls",
            "_model_module_version": "1.5.0",
            "value": 12,
            "_view_count": null,
            "_view_module_version": "1.5.0",
            "orientation": "horizontal",
            "min": 0,
            "description_tooltip": null,
            "_model_module": "@jupyter-widgets/controls",
            "layout": "IPY_MODEL_145ac67f75674453a4a64aa857d65981"
          }
        },
        "1fbfd2adbf374ce7aff4164da2534d7e": {
          "model_module": "@jupyter-widgets/controls",
          "model_name": "ProgressStyleModel",
          "state": {
            "_view_name": "StyleView",
            "_model_name": "ProgressStyleModel",
            "description_width": "",
            "_view_module": "@jupyter-widgets/base",
            "_model_module_version": "1.5.0",
            "_view_count": null,
            "_view_module_version": "1.2.0",
            "bar_color": null,
            "_model_module": "@jupyter-widgets/controls"
          }
        },
        "145ac67f75674453a4a64aa857d65981": {
          "model_module": "@jupyter-widgets/base",
          "model_name": "LayoutModel",
          "state": {
            "_view_name": "LayoutView",
            "grid_template_rows": null,
            "right": null,
            "justify_content": null,
            "_view_module": "@jupyter-widgets/base",
            "overflow": null,
            "_model_module_version": "1.2.0",
            "_view_count": null,
            "flex_flow": null,
            "width": null,
            "min_width": null,
            "border": null,
            "align_items": null,
            "bottom": null,
            "_model_module": "@jupyter-widgets/base",
            "top": null,
            "grid_column": null,
            "overflow_y": null,
            "overflow_x": null,
            "grid_auto_flow": null,
            "grid_area": null,
            "grid_template_columns": null,
            "flex": null,
            "_model_name": "LayoutModel",
            "justify_items": null,
            "grid_row": null,
            "max_height": null,
            "align_content": null,
            "visibility": null,
            "align_self": null,
            "height": null,
            "min_height": null,
            "padding": null,
            "grid_auto_rows": null,
            "grid_gap": null,
            "max_width": null,
            "order": null,
            "_view_module_version": "1.2.0",
            "grid_template_areas": null,
            "object_position": null,
            "object_fit": null,
            "grid_auto_columns": null,
            "margin": null,
            "display": null,
            "left": null
          }
        },
        "dda4e09d097141c9931cd9f6f72fc46b": {
          "model_module": "@jupyter-widgets/controls",
          "model_name": "TextModel",
          "state": {
            "_view_name": "TextView",
            "style": "IPY_MODEL_2497a183e2ff4f589c8f52f653d259cb",
            "_dom_classes": [],
            "description": "",
            "_model_name": "TextModel",
            "placeholder": "​",
            "_view_module": "@jupyter-widgets/controls",
            "_model_module_version": "1.5.0",
            "value": "Following data types have been inferred automatically, if they are correct press enter to continue or type 'quit' otherwise.",
            "_view_count": null,
            "disabled": false,
            "_view_module_version": "1.5.0",
            "continuous_update": true,
            "description_tooltip": null,
            "_model_module": "@jupyter-widgets/controls",
            "layout": "IPY_MODEL_9e668d0952f6439595f11667e4bdb129"
          }
        },
        "2497a183e2ff4f589c8f52f653d259cb": {
          "model_module": "@jupyter-widgets/controls",
          "model_name": "DescriptionStyleModel",
          "state": {
            "_view_name": "StyleView",
            "_model_name": "DescriptionStyleModel",
            "description_width": "",
            "_view_module": "@jupyter-widgets/base",
            "_model_module_version": "1.5.0",
            "_view_count": null,
            "_view_module_version": "1.2.0",
            "_model_module": "@jupyter-widgets/controls"
          }
        },
        "9e668d0952f6439595f11667e4bdb129": {
          "model_module": "@jupyter-widgets/base",
          "model_name": "LayoutModel",
          "state": {
            "_view_name": "LayoutView",
            "grid_template_rows": null,
            "right": null,
            "justify_content": null,
            "_view_module": "@jupyter-widgets/base",
            "overflow": null,
            "_model_module_version": "1.2.0",
            "_view_count": null,
            "flex_flow": null,
            "width": "100%",
            "min_width": null,
            "border": null,
            "align_items": null,
            "bottom": null,
            "_model_module": "@jupyter-widgets/base",
            "top": null,
            "grid_column": null,
            "overflow_y": null,
            "overflow_x": null,
            "grid_auto_flow": null,
            "grid_area": null,
            "grid_template_columns": null,
            "flex": null,
            "_model_name": "LayoutModel",
            "justify_items": null,
            "grid_row": null,
            "max_height": null,
            "align_content": null,
            "visibility": null,
            "align_self": null,
            "height": null,
            "min_height": null,
            "padding": null,
            "grid_auto_rows": null,
            "grid_gap": null,
            "max_width": null,
            "order": null,
            "_view_module_version": "1.2.0",
            "grid_template_areas": null,
            "object_position": null,
            "object_fit": null,
            "grid_auto_columns": null,
            "margin": null,
            "display": null,
            "left": null
          }
        },
        "6ef38f4bdcdf4e5198356dc8a167d026": {
          "model_module": "@jupyter-widgets/controls",
          "model_name": "IntProgressModel",
          "state": {
            "_view_name": "ProgressView",
            "style": "IPY_MODEL_b60f43afa4e44192b86095c8817bb8c8",
            "_dom_classes": [],
            "description": "Processing: ",
            "_model_name": "IntProgressModel",
            "bar_style": "",
            "max": 14,
            "_view_module": "@jupyter-widgets/controls",
            "_model_module_version": "1.5.0",
            "value": 14,
            "_view_count": null,
            "_view_module_version": "1.5.0",
            "orientation": "horizontal",
            "min": 0,
            "description_tooltip": null,
            "_model_module": "@jupyter-widgets/controls",
            "layout": "IPY_MODEL_12bd68323ebe4988b79b3ad56dea37cb"
          }
        },
        "b60f43afa4e44192b86095c8817bb8c8": {
          "model_module": "@jupyter-widgets/controls",
          "model_name": "ProgressStyleModel",
          "state": {
            "_view_name": "StyleView",
            "_model_name": "ProgressStyleModel",
            "description_width": "",
            "_view_module": "@jupyter-widgets/base",
            "_model_module_version": "1.5.0",
            "_view_count": null,
            "_view_module_version": "1.2.0",
            "bar_color": null,
            "_model_module": "@jupyter-widgets/controls"
          }
        },
        "12bd68323ebe4988b79b3ad56dea37cb": {
          "model_module": "@jupyter-widgets/base",
          "model_name": "LayoutModel",
          "state": {
            "_view_name": "LayoutView",
            "grid_template_rows": null,
            "right": null,
            "justify_content": null,
            "_view_module": "@jupyter-widgets/base",
            "overflow": null,
            "_model_module_version": "1.2.0",
            "_view_count": null,
            "flex_flow": null,
            "width": null,
            "min_width": null,
            "border": null,
            "align_items": null,
            "bottom": null,
            "_model_module": "@jupyter-widgets/base",
            "top": null,
            "grid_column": null,
            "overflow_y": null,
            "overflow_x": null,
            "grid_auto_flow": null,
            "grid_area": null,
            "grid_template_columns": null,
            "flex": null,
            "_model_name": "LayoutModel",
            "justify_items": null,
            "grid_row": null,
            "max_height": null,
            "align_content": null,
            "visibility": null,
            "align_self": null,
            "height": null,
            "min_height": null,
            "padding": null,
            "grid_auto_rows": null,
            "grid_gap": null,
            "max_width": null,
            "order": null,
            "_view_module_version": "1.2.0",
            "grid_template_areas": null,
            "object_position": null,
            "object_fit": null,
            "grid_auto_columns": null,
            "margin": null,
            "display": null,
            "left": null
          }
        },
        "05791ad39a4d4a4b89fbc5ebade85d08": {
          "model_module": "@jupyter-widgets/controls",
          "model_name": "IntProgressModel",
          "state": {
            "_view_name": "ProgressView",
            "style": "IPY_MODEL_4b97d079cc234b198310a6972e986a3b",
            "_dom_classes": [],
            "description": "Processing: ",
            "_model_name": "IntProgressModel",
            "bar_style": "",
            "max": 13,
            "_view_module": "@jupyter-widgets/controls",
            "_model_module_version": "1.5.0",
            "value": 12,
            "_view_count": null,
            "_view_module_version": "1.5.0",
            "orientation": "horizontal",
            "min": 0,
            "description_tooltip": null,
            "_model_module": "@jupyter-widgets/controls",
            "layout": "IPY_MODEL_eccdcfdee77a4f498e3d442b1a790e40"
          }
        },
        "4b97d079cc234b198310a6972e986a3b": {
          "model_module": "@jupyter-widgets/controls",
          "model_name": "ProgressStyleModel",
          "state": {
            "_view_name": "StyleView",
            "_model_name": "ProgressStyleModel",
            "description_width": "",
            "_view_module": "@jupyter-widgets/base",
            "_model_module_version": "1.5.0",
            "_view_count": null,
            "_view_module_version": "1.2.0",
            "bar_color": null,
            "_model_module": "@jupyter-widgets/controls"
          }
        },
        "eccdcfdee77a4f498e3d442b1a790e40": {
          "model_module": "@jupyter-widgets/base",
          "model_name": "LayoutModel",
          "state": {
            "_view_name": "LayoutView",
            "grid_template_rows": null,
            "right": null,
            "justify_content": null,
            "_view_module": "@jupyter-widgets/base",
            "overflow": null,
            "_model_module_version": "1.2.0",
            "_view_count": null,
            "flex_flow": null,
            "width": null,
            "min_width": null,
            "border": null,
            "align_items": null,
            "bottom": null,
            "_model_module": "@jupyter-widgets/base",
            "top": null,
            "grid_column": null,
            "overflow_y": null,
            "overflow_x": null,
            "grid_auto_flow": null,
            "grid_area": null,
            "grid_template_columns": null,
            "flex": null,
            "_model_name": "LayoutModel",
            "justify_items": null,
            "grid_row": null,
            "max_height": null,
            "align_content": null,
            "visibility": null,
            "align_self": null,
            "height": null,
            "min_height": null,
            "padding": null,
            "grid_auto_rows": null,
            "grid_gap": null,
            "max_width": null,
            "order": null,
            "_view_module_version": "1.2.0",
            "grid_template_areas": null,
            "object_position": null,
            "object_fit": null,
            "grid_auto_columns": null,
            "margin": null,
            "display": null,
            "left": null
          }
        },
        "023800ce052e48b3b5ad7df45ddaa3be": {
          "model_module": "@jupyter-widgets/controls",
          "model_name": "TextModel",
          "state": {
            "_view_name": "TextView",
            "style": "IPY_MODEL_4f3ad3d682ea48019b1147da0ddc3206",
            "_dom_classes": [],
            "description": "",
            "_model_name": "TextModel",
            "placeholder": "​",
            "_view_module": "@jupyter-widgets/controls",
            "_model_module_version": "1.5.0",
            "value": "Following data types have been inferred automatically, if they are correct press enter to continue or type 'quit' otherwise.",
            "_view_count": null,
            "disabled": false,
            "_view_module_version": "1.5.0",
            "continuous_update": true,
            "description_tooltip": null,
            "_model_module": "@jupyter-widgets/controls",
            "layout": "IPY_MODEL_0745ccc3705246a3877bc767fa35c025"
          }
        },
        "4f3ad3d682ea48019b1147da0ddc3206": {
          "model_module": "@jupyter-widgets/controls",
          "model_name": "DescriptionStyleModel",
          "state": {
            "_view_name": "StyleView",
            "_model_name": "DescriptionStyleModel",
            "description_width": "",
            "_view_module": "@jupyter-widgets/base",
            "_model_module_version": "1.5.0",
            "_view_count": null,
            "_view_module_version": "1.2.0",
            "_model_module": "@jupyter-widgets/controls"
          }
        },
        "0745ccc3705246a3877bc767fa35c025": {
          "model_module": "@jupyter-widgets/base",
          "model_name": "LayoutModel",
          "state": {
            "_view_name": "LayoutView",
            "grid_template_rows": null,
            "right": null,
            "justify_content": null,
            "_view_module": "@jupyter-widgets/base",
            "overflow": null,
            "_model_module_version": "1.2.0",
            "_view_count": null,
            "flex_flow": null,
            "width": "100%",
            "min_width": null,
            "border": null,
            "align_items": null,
            "bottom": null,
            "_model_module": "@jupyter-widgets/base",
            "top": null,
            "grid_column": null,
            "overflow_y": null,
            "overflow_x": null,
            "grid_auto_flow": null,
            "grid_area": null,
            "grid_template_columns": null,
            "flex": null,
            "_model_name": "LayoutModel",
            "justify_items": null,
            "grid_row": null,
            "max_height": null,
            "align_content": null,
            "visibility": null,
            "align_self": null,
            "height": null,
            "min_height": null,
            "padding": null,
            "grid_auto_rows": null,
            "grid_gap": null,
            "max_width": null,
            "order": null,
            "_view_module_version": "1.2.0",
            "grid_template_areas": null,
            "object_position": null,
            "object_fit": null,
            "grid_auto_columns": null,
            "margin": null,
            "display": null,
            "left": null
          }
        },
        "e8a150f15798443eb7a7ba018cba8137": {
          "model_module": "@jupyter-widgets/controls",
          "model_name": "IntProgressModel",
          "state": {
            "_view_name": "ProgressView",
            "style": "IPY_MODEL_5f2d19b3a5cf487ba95ed7c62a991879",
            "_dom_classes": [],
            "description": "Processing: ",
            "_model_name": "IntProgressModel",
            "bar_style": "",
            "max": 14,
            "_view_module": "@jupyter-widgets/controls",
            "_model_module_version": "1.5.0",
            "value": 14,
            "_view_count": null,
            "_view_module_version": "1.5.0",
            "orientation": "horizontal",
            "min": 0,
            "description_tooltip": null,
            "_model_module": "@jupyter-widgets/controls",
            "layout": "IPY_MODEL_831c7a9398ff4613b57e08aaa761950d"
          }
        },
        "5f2d19b3a5cf487ba95ed7c62a991879": {
          "model_module": "@jupyter-widgets/controls",
          "model_name": "ProgressStyleModel",
          "state": {
            "_view_name": "StyleView",
            "_model_name": "ProgressStyleModel",
            "description_width": "",
            "_view_module": "@jupyter-widgets/base",
            "_model_module_version": "1.5.0",
            "_view_count": null,
            "_view_module_version": "1.2.0",
            "bar_color": null,
            "_model_module": "@jupyter-widgets/controls"
          }
        },
        "831c7a9398ff4613b57e08aaa761950d": {
          "model_module": "@jupyter-widgets/base",
          "model_name": "LayoutModel",
          "state": {
            "_view_name": "LayoutView",
            "grid_template_rows": null,
            "right": null,
            "justify_content": null,
            "_view_module": "@jupyter-widgets/base",
            "overflow": null,
            "_model_module_version": "1.2.0",
            "_view_count": null,
            "flex_flow": null,
            "width": null,
            "min_width": null,
            "border": null,
            "align_items": null,
            "bottom": null,
            "_model_module": "@jupyter-widgets/base",
            "top": null,
            "grid_column": null,
            "overflow_y": null,
            "overflow_x": null,
            "grid_auto_flow": null,
            "grid_area": null,
            "grid_template_columns": null,
            "flex": null,
            "_model_name": "LayoutModel",
            "justify_items": null,
            "grid_row": null,
            "max_height": null,
            "align_content": null,
            "visibility": null,
            "align_self": null,
            "height": null,
            "min_height": null,
            "padding": null,
            "grid_auto_rows": null,
            "grid_gap": null,
            "max_width": null,
            "order": null,
            "_view_module_version": "1.2.0",
            "grid_template_areas": null,
            "object_position": null,
            "object_fit": null,
            "grid_auto_columns": null,
            "margin": null,
            "display": null,
            "left": null
          }
        }
      }
    }
  },
  "cells": [
    {
      "cell_type": "markdown",
      "metadata": {
        "id": "vU6CI6sBfy6H",
        "colab_type": "text"
      },
      "source": [
        "**Machine learning starter program**\n",
        "\n",
        "https://datahack.analyticsvidhya.com/contest/machine-learning-starter-program-hackathon/#ProblemStatement\n"
      ]
    },
    {
      "cell_type": "code",
      "metadata": {
        "id": "HvX75X4af9-i",
        "colab_type": "code",
        "outputId": "3df001d8-7e21-42e6-839a-e945c694273a",
        "colab": {
          "base_uri": "https://localhost:8080/",
          "height": 1000
        }
      },
      "source": [
        "## import statements\n",
        "import pandas as pd\n",
        "import numpy as np\n",
        "import matplotlib.pyplot as plt\n",
        "import seaborn as sns\n",
        "from fancyimpute import IterativeImputer\n",
        "from sklearn.preprocessing import MultiLabelBinarizer\n",
        "from sklearn.linear_model import LogisticRegression\n",
        "from sklearn.model_selection import train_test_split\n",
        "from sklearn.metrics import classification_report, confusion_matrix, accuracy_score, f1_score\n",
        "! pip install pycaret\n",
        "from pycaret.classification import *\n",
        "import scipy.stats as stats\n",
        "from sklearn.utils import resample\n",
        "from sklearn.ensemble import ExtraTreesClassifier\n",
        "from imblearn.over_sampling import SMOTE"
      ],
      "execution_count": 0,
      "outputs": [
        {
          "output_type": "stream",
          "text": [
            "Requirement already satisfied: pycaret in /usr/local/lib/python3.6/dist-packages (1.0.0)\n",
            "Requirement already satisfied: matplotlib in /usr/local/lib/python3.6/dist-packages (from pycaret) (3.2.1)\n",
            "Requirement already satisfied: scikit-learn==0.22 in /usr/local/lib/python3.6/dist-packages (from pycaret) (0.22)\n",
            "Requirement already satisfied: textblob in /usr/local/lib/python3.6/dist-packages (from pycaret) (0.15.3)\n",
            "Requirement already satisfied: datefinder==0.7.0 in /usr/local/lib/python3.6/dist-packages (from pycaret) (0.7.0)\n",
            "Requirement already satisfied: pyod in /usr/local/lib/python3.6/dist-packages (from pycaret) (0.7.8.2)\n",
            "Requirement already satisfied: gensim in /usr/local/lib/python3.6/dist-packages (from pycaret) (3.6.0)\n",
            "Requirement already satisfied: xgboost==0.90 in /usr/local/lib/python3.6/dist-packages (from pycaret) (0.90)\n",
            "Requirement already satisfied: DateTime==4.3 in /usr/local/lib/python3.6/dist-packages (from pycaret) (4.3)\n",
            "Requirement already satisfied: IPython in /usr/local/lib/python3.6/dist-packages (from pycaret) (5.5.0)\n",
            "Requirement already satisfied: mlxtend in /usr/local/lib/python3.6/dist-packages (from pycaret) (0.14.0)\n",
            "Requirement already satisfied: pyLDAvis in /usr/local/lib/python3.6/dist-packages (from pycaret) (2.1.2)\n",
            "Requirement already satisfied: awscli in /usr/local/lib/python3.6/dist-packages (from pycaret) (1.18.49)\n",
            "Requirement already satisfied: yellowbrick==1.0.1 in /usr/local/lib/python3.6/dist-packages (from pycaret) (1.0.1)\n",
            "Requirement already satisfied: joblib in /usr/local/lib/python3.6/dist-packages (from pycaret) (0.14.1)\n",
            "Requirement already satisfied: catboost==0.20.2 in /usr/local/lib/python3.6/dist-packages (from pycaret) (0.20.2)\n",
            "Requirement already satisfied: wordcloud in /usr/local/lib/python3.6/dist-packages (from pycaret) (1.5.0)\n",
            "Requirement already satisfied: numpy in /usr/local/lib/python3.6/dist-packages (from pycaret) (1.18.3)\n",
            "Requirement already satisfied: nltk in /usr/local/lib/python3.6/dist-packages (from pycaret) (3.2.5)\n",
            "Requirement already satisfied: spacy in /usr/local/lib/python3.6/dist-packages (from pycaret) (2.2.4)\n",
            "Requirement already satisfied: pandas in /usr/local/lib/python3.6/dist-packages (from pycaret) (1.0.3)\n",
            "Requirement already satisfied: cufflinks==0.17.0 in /usr/local/lib/python3.6/dist-packages (from pycaret) (0.17.0)\n",
            "Requirement already satisfied: umap-learn in /usr/local/lib/python3.6/dist-packages (from pycaret) (0.4.1)\n",
            "Requirement already satisfied: plotly==4.4.1 in /usr/local/lib/python3.6/dist-packages (from pycaret) (4.4.1)\n",
            "Requirement already satisfied: pandas-profiling==2.3.0 in /usr/local/lib/python3.6/dist-packages (from pycaret) (2.3.0)\n",
            "Requirement already satisfied: lightgbm==2.3.1 in /usr/local/lib/python3.6/dist-packages (from pycaret) (2.3.1)\n",
            "Requirement already satisfied: kmodes==0.10.1 in /usr/local/lib/python3.6/dist-packages (from pycaret) (0.10.1)\n",
            "Requirement already satisfied: seaborn in /usr/local/lib/python3.6/dist-packages (from pycaret) (0.10.0)\n",
            "Requirement already satisfied: shap==0.32.1 in /usr/local/lib/python3.6/dist-packages (from pycaret) (0.32.1)\n",
            "Requirement already satisfied: ipywidgets in /usr/local/lib/python3.6/dist-packages (from pycaret) (7.5.1)\n",
            "Requirement already satisfied: python-dateutil>=2.1 in /usr/local/lib/python3.6/dist-packages (from matplotlib->pycaret) (2.8.1)\n",
            "Requirement already satisfied: pyparsing!=2.0.4,!=2.1.2,!=2.1.6,>=2.0.1 in /usr/local/lib/python3.6/dist-packages (from matplotlib->pycaret) (2.4.7)\n",
            "Requirement already satisfied: kiwisolver>=1.0.1 in /usr/local/lib/python3.6/dist-packages (from matplotlib->pycaret) (1.2.0)\n",
            "Requirement already satisfied: cycler>=0.10 in /usr/local/lib/python3.6/dist-packages (from matplotlib->pycaret) (0.10.0)\n",
            "Requirement already satisfied: scipy>=0.17.0 in /usr/local/lib/python3.6/dist-packages (from scikit-learn==0.22->pycaret) (1.4.1)\n",
            "Requirement already satisfied: pytz in /usr/local/lib/python3.6/dist-packages (from datefinder==0.7.0->pycaret) (2018.9)\n",
            "Requirement already satisfied: regex>=2017.02.08 in /usr/local/lib/python3.6/dist-packages (from datefinder==0.7.0->pycaret) (2019.12.20)\n",
            "Requirement already satisfied: numba>=0.35 in /usr/local/lib/python3.6/dist-packages (from pyod->pycaret) (0.48.0)\n",
            "Requirement already satisfied: suod in /usr/local/lib/python3.6/dist-packages (from pyod->pycaret) (0.0.4)\n",
            "Requirement already satisfied: six in /usr/local/lib/python3.6/dist-packages (from pyod->pycaret) (1.12.0)\n",
            "Requirement already satisfied: combo in /usr/local/lib/python3.6/dist-packages (from pyod->pycaret) (0.1.0)\n",
            "Requirement already satisfied: smart-open>=1.2.1 in /usr/local/lib/python3.6/dist-packages (from gensim->pycaret) (1.11.1)\n",
            "Requirement already satisfied: zope.interface in /usr/local/lib/python3.6/dist-packages (from DateTime==4.3->pycaret) (5.1.0)\n",
            "Requirement already satisfied: pickleshare in /usr/local/lib/python3.6/dist-packages (from IPython->pycaret) (0.7.5)\n",
            "Requirement already satisfied: prompt-toolkit<2.0.0,>=1.0.4 in /usr/local/lib/python3.6/dist-packages (from IPython->pycaret) (1.0.18)\n",
            "Requirement already satisfied: setuptools>=18.5 in /usr/local/lib/python3.6/dist-packages (from IPython->pycaret) (46.1.3)\n",
            "Requirement already satisfied: traitlets>=4.2 in /usr/local/lib/python3.6/dist-packages (from IPython->pycaret) (4.3.3)\n",
            "Requirement already satisfied: pygments in /usr/local/lib/python3.6/dist-packages (from IPython->pycaret) (2.1.3)\n",
            "Requirement already satisfied: decorator in /usr/local/lib/python3.6/dist-packages (from IPython->pycaret) (4.4.2)\n",
            "Requirement already satisfied: simplegeneric>0.8 in /usr/local/lib/python3.6/dist-packages (from IPython->pycaret) (0.8.1)\n",
            "Requirement already satisfied: pexpect; sys_platform != \"win32\" in /usr/local/lib/python3.6/dist-packages (from IPython->pycaret) (4.8.0)\n",
            "Requirement already satisfied: funcy in /usr/local/lib/python3.6/dist-packages (from pyLDAvis->pycaret) (1.14)\n",
            "Requirement already satisfied: wheel>=0.23.0 in /usr/local/lib/python3.6/dist-packages (from pyLDAvis->pycaret) (0.34.2)\n",
            "Requirement already satisfied: numexpr in /usr/local/lib/python3.6/dist-packages (from pyLDAvis->pycaret) (2.7.1)\n",
            "Requirement already satisfied: pytest in /usr/local/lib/python3.6/dist-packages (from pyLDAvis->pycaret) (3.6.4)\n",
            "Requirement already satisfied: future in /usr/local/lib/python3.6/dist-packages (from pyLDAvis->pycaret) (0.16.0)\n",
            "Requirement already satisfied: jinja2>=2.7.2 in /usr/local/lib/python3.6/dist-packages (from pyLDAvis->pycaret) (2.11.2)\n",
            "Requirement already satisfied: botocore==1.15.49 in /usr/local/lib/python3.6/dist-packages (from awscli->pycaret) (1.15.49)\n",
            "Requirement already satisfied: colorama<0.4.4,>=0.2.5; python_version != \"3.4\" in /usr/local/lib/python3.6/dist-packages (from awscli->pycaret) (0.4.3)\n",
            "Requirement already satisfied: PyYAML<5.4,>=3.10; python_version != \"3.4\" in /usr/local/lib/python3.6/dist-packages (from awscli->pycaret) (3.13)\n",
            "Requirement already satisfied: s3transfer<0.4.0,>=0.3.0 in /usr/local/lib/python3.6/dist-packages (from awscli->pycaret) (0.3.3)\n",
            "Requirement already satisfied: rsa<=3.5.0,>=3.1.2 in /usr/local/lib/python3.6/dist-packages (from awscli->pycaret) (3.4.2)\n",
            "Requirement already satisfied: docutils<0.16,>=0.10 in /usr/local/lib/python3.6/dist-packages (from awscli->pycaret) (0.15.2)\n",
            "Requirement already satisfied: graphviz in /usr/local/lib/python3.6/dist-packages (from catboost==0.20.2->pycaret) (0.10.1)\n",
            "Requirement already satisfied: pillow in /usr/local/lib/python3.6/dist-packages (from wordcloud->pycaret) (7.0.0)\n",
            "Requirement already satisfied: thinc==7.4.0 in /usr/local/lib/python3.6/dist-packages (from spacy->pycaret) (7.4.0)\n",
            "Requirement already satisfied: requests<3.0.0,>=2.13.0 in /usr/local/lib/python3.6/dist-packages (from spacy->pycaret) (2.21.0)\n",
            "Requirement already satisfied: cymem<2.1.0,>=2.0.2 in /usr/local/lib/python3.6/dist-packages (from spacy->pycaret) (2.0.3)\n",
            "Requirement already satisfied: catalogue<1.1.0,>=0.0.7 in /usr/local/lib/python3.6/dist-packages (from spacy->pycaret) (1.0.0)\n",
            "Requirement already satisfied: blis<0.5.0,>=0.4.0 in /usr/local/lib/python3.6/dist-packages (from spacy->pycaret) (0.4.1)\n",
            "Requirement already satisfied: murmurhash<1.1.0,>=0.28.0 in /usr/local/lib/python3.6/dist-packages (from spacy->pycaret) (1.0.2)\n",
            "Requirement already satisfied: tqdm<5.0.0,>=4.38.0 in /usr/local/lib/python3.6/dist-packages (from spacy->pycaret) (4.38.0)\n",
            "Requirement already satisfied: srsly<1.1.0,>=1.0.2 in /usr/local/lib/python3.6/dist-packages (from spacy->pycaret) (1.0.2)\n",
            "Requirement already satisfied: wasabi<1.1.0,>=0.4.0 in /usr/local/lib/python3.6/dist-packages (from spacy->pycaret) (0.6.0)\n",
            "Requirement already satisfied: plac<1.2.0,>=0.9.6 in /usr/local/lib/python3.6/dist-packages (from spacy->pycaret) (1.1.3)\n",
            "Requirement already satisfied: preshed<3.1.0,>=3.0.2 in /usr/local/lib/python3.6/dist-packages (from spacy->pycaret) (3.0.2)\n",
            "Requirement already satisfied: chart-studio>=1.0.0 in /usr/local/lib/python3.6/dist-packages (from cufflinks==0.17.0->pycaret) (1.1.0)\n",
            "Requirement already satisfied: colorlover>=0.2.1 in /usr/local/lib/python3.6/dist-packages (from cufflinks==0.17.0->pycaret) (0.3.0)\n",
            "Requirement already satisfied: tbb>=2019.0 in /usr/local/lib/python3.6/dist-packages (from umap-learn->pycaret) (2020.0.133)\n",
            "Requirement already satisfied: retrying>=1.3.3 in /usr/local/lib/python3.6/dist-packages (from plotly==4.4.1->pycaret) (1.3.3)\n",
            "Requirement already satisfied: htmlmin>=0.1.12 in /usr/local/lib/python3.6/dist-packages (from pandas-profiling==2.3.0->pycaret) (0.1.12)\n",
            "Requirement already satisfied: confuse>=1.0.0 in /usr/local/lib/python3.6/dist-packages (from pandas-profiling==2.3.0->pycaret) (1.1.0)\n",
            "Requirement already satisfied: missingno>=0.4.2 in /usr/local/lib/python3.6/dist-packages (from pandas-profiling==2.3.0->pycaret) (0.4.2)\n",
            "Requirement already satisfied: phik>=0.9.8 in /usr/local/lib/python3.6/dist-packages (from pandas-profiling==2.3.0->pycaret) (0.9.11)\n",
            "Requirement already satisfied: astropy in /usr/local/lib/python3.6/dist-packages (from pandas-profiling==2.3.0->pycaret) (4.0.1.post1)\n",
            "Requirement already satisfied: widgetsnbextension~=3.5.0 in /usr/local/lib/python3.6/dist-packages (from ipywidgets->pycaret) (3.5.1)\n",
            "Requirement already satisfied: nbformat>=4.2.0 in /usr/local/lib/python3.6/dist-packages (from ipywidgets->pycaret) (5.0.6)\n",
            "Requirement already satisfied: ipykernel>=4.5.1 in /usr/local/lib/python3.6/dist-packages (from ipywidgets->pycaret) (4.10.1)\n",
            "Requirement already satisfied: llvmlite<0.32.0,>=0.31.0dev0 in /usr/local/lib/python3.6/dist-packages (from numba>=0.35->pyod->pycaret) (0.31.0)\n",
            "Requirement already satisfied: boto3 in /usr/local/lib/python3.6/dist-packages (from smart-open>=1.2.1->gensim->pycaret) (1.12.46)\n",
            "Requirement already satisfied: boto in /usr/local/lib/python3.6/dist-packages (from smart-open>=1.2.1->gensim->pycaret) (2.49.0)\n",
            "Requirement already satisfied: wcwidth in /usr/local/lib/python3.6/dist-packages (from prompt-toolkit<2.0.0,>=1.0.4->IPython->pycaret) (0.1.9)\n",
            "Requirement already satisfied: ipython-genutils in /usr/local/lib/python3.6/dist-packages (from traitlets>=4.2->IPython->pycaret) (0.2.0)\n",
            "Requirement already satisfied: ptyprocess>=0.5 in /usr/local/lib/python3.6/dist-packages (from pexpect; sys_platform != \"win32\"->IPython->pycaret) (0.6.0)\n",
            "Requirement already satisfied: atomicwrites>=1.0 in /usr/local/lib/python3.6/dist-packages (from pytest->pyLDAvis->pycaret) (1.3.0)\n",
            "Requirement already satisfied: more-itertools>=4.0.0 in /usr/local/lib/python3.6/dist-packages (from pytest->pyLDAvis->pycaret) (8.2.0)\n",
            "Requirement already satisfied: py>=1.5.0 in /usr/local/lib/python3.6/dist-packages (from pytest->pyLDAvis->pycaret) (1.8.1)\n",
            "Requirement already satisfied: attrs>=17.4.0 in /usr/local/lib/python3.6/dist-packages (from pytest->pyLDAvis->pycaret) (19.3.0)\n",
            "Requirement already satisfied: pluggy<0.8,>=0.5 in /usr/local/lib/python3.6/dist-packages (from pytest->pyLDAvis->pycaret) (0.7.1)\n",
            "Requirement already satisfied: MarkupSafe>=0.23 in /usr/local/lib/python3.6/dist-packages (from jinja2>=2.7.2->pyLDAvis->pycaret) (1.1.1)\n",
            "Requirement already satisfied: jmespath<1.0.0,>=0.7.1 in /usr/local/lib/python3.6/dist-packages (from botocore==1.15.49->awscli->pycaret) (0.9.5)\n",
            "Requirement already satisfied: urllib3<1.26,>=1.20; python_version != \"3.4\" in /usr/local/lib/python3.6/dist-packages (from botocore==1.15.49->awscli->pycaret) (1.24.3)\n",
            "Requirement already satisfied: pyasn1>=0.1.3 in /usr/local/lib/python3.6/dist-packages (from rsa<=3.5.0,>=3.1.2->awscli->pycaret) (0.4.8)\n",
            "Requirement already satisfied: idna<2.9,>=2.5 in /usr/local/lib/python3.6/dist-packages (from requests<3.0.0,>=2.13.0->spacy->pycaret) (2.8)\n",
            "Requirement already satisfied: certifi>=2017.4.17 in /usr/local/lib/python3.6/dist-packages (from requests<3.0.0,>=2.13.0->spacy->pycaret) (2020.4.5.1)\n",
            "Requirement already satisfied: chardet<3.1.0,>=3.0.2 in /usr/local/lib/python3.6/dist-packages (from requests<3.0.0,>=2.13.0->spacy->pycaret) (3.0.4)\n",
            "Requirement already satisfied: importlib-metadata>=0.20; python_version < \"3.8\" in /usr/local/lib/python3.6/dist-packages (from catalogue<1.1.0,>=0.0.7->spacy->pycaret) (1.6.0)\n",
            "Requirement already satisfied: notebook>=4.4.1 in /usr/local/lib/python3.6/dist-packages (from widgetsnbextension~=3.5.0->ipywidgets->pycaret) (5.2.2)\n",
            "Requirement already satisfied: jsonschema!=2.5.0,>=2.4 in /usr/local/lib/python3.6/dist-packages (from nbformat>=4.2.0->ipywidgets->pycaret) (2.6.0)\n",
            "Requirement already satisfied: jupyter-core in /usr/local/lib/python3.6/dist-packages (from nbformat>=4.2.0->ipywidgets->pycaret) (4.6.3)\n",
            "Requirement already satisfied: jupyter-client in /usr/local/lib/python3.6/dist-packages (from ipykernel>=4.5.1->ipywidgets->pycaret) (5.3.4)\n",
            "Requirement already satisfied: tornado>=4.0 in /usr/local/lib/python3.6/dist-packages (from ipykernel>=4.5.1->ipywidgets->pycaret) (4.5.3)\n",
            "Requirement already satisfied: zipp>=0.5 in /usr/local/lib/python3.6/dist-packages (from importlib-metadata>=0.20; python_version < \"3.8\"->catalogue<1.1.0,>=0.0.7->spacy->pycaret) (3.1.0)\n",
            "Requirement already satisfied: nbconvert in /usr/local/lib/python3.6/dist-packages (from notebook>=4.4.1->widgetsnbextension~=3.5.0->ipywidgets->pycaret) (5.6.1)\n",
            "Requirement already satisfied: terminado>=0.3.3; sys_platform != \"win32\" in /usr/local/lib/python3.6/dist-packages (from notebook>=4.4.1->widgetsnbextension~=3.5.0->ipywidgets->pycaret) (0.8.3)\n",
            "Requirement already satisfied: pyzmq>=13 in /usr/local/lib/python3.6/dist-packages (from jupyter-client->ipykernel>=4.5.1->ipywidgets->pycaret) (19.0.0)\n",
            "Requirement already satisfied: bleach in /usr/local/lib/python3.6/dist-packages (from nbconvert->notebook>=4.4.1->widgetsnbextension~=3.5.0->ipywidgets->pycaret) (3.1.4)\n",
            "Requirement already satisfied: testpath in /usr/local/lib/python3.6/dist-packages (from nbconvert->notebook>=4.4.1->widgetsnbextension~=3.5.0->ipywidgets->pycaret) (0.4.4)\n",
            "Requirement already satisfied: defusedxml in /usr/local/lib/python3.6/dist-packages (from nbconvert->notebook>=4.4.1->widgetsnbextension~=3.5.0->ipywidgets->pycaret) (0.6.0)\n",
            "Requirement already satisfied: entrypoints>=0.2.2 in /usr/local/lib/python3.6/dist-packages (from nbconvert->notebook>=4.4.1->widgetsnbextension~=3.5.0->ipywidgets->pycaret) (0.3)\n",
            "Requirement already satisfied: pandocfilters>=1.4.1 in /usr/local/lib/python3.6/dist-packages (from nbconvert->notebook>=4.4.1->widgetsnbextension~=3.5.0->ipywidgets->pycaret) (1.4.2)\n",
            "Requirement already satisfied: mistune<2,>=0.8.1 in /usr/local/lib/python3.6/dist-packages (from nbconvert->notebook>=4.4.1->widgetsnbextension~=3.5.0->ipywidgets->pycaret) (0.8.4)\n",
            "Requirement already satisfied: webencodings in /usr/local/lib/python3.6/dist-packages (from bleach->nbconvert->notebook>=4.4.1->widgetsnbextension~=3.5.0->ipywidgets->pycaret) (0.5.1)\n"
          ],
          "name": "stdout"
        }
      ]
    },
    {
      "cell_type": "markdown",
      "metadata": {
        "id": "_hf87e1a3TIY",
        "colab_type": "text"
      },
      "source": [
        "# Data read"
      ]
    },
    {
      "cell_type": "code",
      "metadata": {
        "id": "YS8n8CeBgWfV",
        "colab_type": "code",
        "colab": {}
      },
      "source": [
        "## Read from google drive\n",
        "train = pd.read_csv(\"drive/My Drive/MachineLearning-Starter program - analyticsvidhya/train_HK6lq50.csv\")\n",
        "test = pd.read_csv(\"drive/My Drive/MachineLearning-Starter program - analyticsvidhya/test_wF0Ps6O.csv\")"
      ],
      "execution_count": 0,
      "outputs": []
    },
    {
      "cell_type": "code",
      "metadata": {
        "id": "pZv-BZm7h5Gz",
        "colab_type": "code",
        "outputId": "89a5fc62-6b0a-4303-fef7-b248d1837dbc",
        "colab": {
          "base_uri": "https://localhost:8080/",
          "height": 249
        }
      },
      "source": [
        "train.head()"
      ],
      "execution_count": 0,
      "outputs": [
        {
          "output_type": "execute_result",
          "data": {
            "text/html": [
              "<div>\n",
              "<style scoped>\n",
              "    .dataframe tbody tr th:only-of-type {\n",
              "        vertical-align: middle;\n",
              "    }\n",
              "\n",
              "    .dataframe tbody tr th {\n",
              "        vertical-align: top;\n",
              "    }\n",
              "\n",
              "    .dataframe thead th {\n",
              "        text-align: right;\n",
              "    }\n",
              "</style>\n",
              "<table border=\"1\" class=\"dataframe\">\n",
              "  <thead>\n",
              "    <tr style=\"text-align: right;\">\n",
              "      <th></th>\n",
              "      <th>id</th>\n",
              "      <th>program_id</th>\n",
              "      <th>program_type</th>\n",
              "      <th>program_duration</th>\n",
              "      <th>test_id</th>\n",
              "      <th>test_type</th>\n",
              "      <th>difficulty_level</th>\n",
              "      <th>trainee_id</th>\n",
              "      <th>gender</th>\n",
              "      <th>education</th>\n",
              "      <th>city_tier</th>\n",
              "      <th>age</th>\n",
              "      <th>total_programs_enrolled</th>\n",
              "      <th>is_handicapped</th>\n",
              "      <th>trainee_engagement_rating</th>\n",
              "      <th>is_pass</th>\n",
              "    </tr>\n",
              "  </thead>\n",
              "  <tbody>\n",
              "    <tr>\n",
              "      <th>0</th>\n",
              "      <td>9389_150</td>\n",
              "      <td>Y_1</td>\n",
              "      <td>Y</td>\n",
              "      <td>136</td>\n",
              "      <td>150</td>\n",
              "      <td>offline</td>\n",
              "      <td>intermediate</td>\n",
              "      <td>9389</td>\n",
              "      <td>M</td>\n",
              "      <td>Matriculation</td>\n",
              "      <td>3</td>\n",
              "      <td>24.0</td>\n",
              "      <td>5</td>\n",
              "      <td>N</td>\n",
              "      <td>1.0</td>\n",
              "      <td>0</td>\n",
              "    </tr>\n",
              "    <tr>\n",
              "      <th>1</th>\n",
              "      <td>16523_44</td>\n",
              "      <td>T_1</td>\n",
              "      <td>T</td>\n",
              "      <td>131</td>\n",
              "      <td>44</td>\n",
              "      <td>offline</td>\n",
              "      <td>easy</td>\n",
              "      <td>16523</td>\n",
              "      <td>F</td>\n",
              "      <td>High School Diploma</td>\n",
              "      <td>4</td>\n",
              "      <td>26.0</td>\n",
              "      <td>2</td>\n",
              "      <td>N</td>\n",
              "      <td>3.0</td>\n",
              "      <td>1</td>\n",
              "    </tr>\n",
              "    <tr>\n",
              "      <th>2</th>\n",
              "      <td>13987_178</td>\n",
              "      <td>Z_2</td>\n",
              "      <td>Z</td>\n",
              "      <td>120</td>\n",
              "      <td>178</td>\n",
              "      <td>online</td>\n",
              "      <td>easy</td>\n",
              "      <td>13987</td>\n",
              "      <td>M</td>\n",
              "      <td>Matriculation</td>\n",
              "      <td>1</td>\n",
              "      <td>40.0</td>\n",
              "      <td>1</td>\n",
              "      <td>N</td>\n",
              "      <td>2.0</td>\n",
              "      <td>1</td>\n",
              "    </tr>\n",
              "    <tr>\n",
              "      <th>3</th>\n",
              "      <td>13158_32</td>\n",
              "      <td>T_2</td>\n",
              "      <td>T</td>\n",
              "      <td>117</td>\n",
              "      <td>32</td>\n",
              "      <td>offline</td>\n",
              "      <td>easy</td>\n",
              "      <td>13158</td>\n",
              "      <td>F</td>\n",
              "      <td>Matriculation</td>\n",
              "      <td>3</td>\n",
              "      <td>NaN</td>\n",
              "      <td>4</td>\n",
              "      <td>N</td>\n",
              "      <td>1.0</td>\n",
              "      <td>1</td>\n",
              "    </tr>\n",
              "    <tr>\n",
              "      <th>4</th>\n",
              "      <td>10591_84</td>\n",
              "      <td>V_3</td>\n",
              "      <td>V</td>\n",
              "      <td>131</td>\n",
              "      <td>84</td>\n",
              "      <td>offline</td>\n",
              "      <td>intermediate</td>\n",
              "      <td>10591</td>\n",
              "      <td>F</td>\n",
              "      <td>High School Diploma</td>\n",
              "      <td>1</td>\n",
              "      <td>42.0</td>\n",
              "      <td>2</td>\n",
              "      <td>N</td>\n",
              "      <td>4.0</td>\n",
              "      <td>1</td>\n",
              "    </tr>\n",
              "  </tbody>\n",
              "</table>\n",
              "</div>"
            ],
            "text/plain": [
              "          id program_id  ... trainee_engagement_rating  is_pass\n",
              "0   9389_150        Y_1  ...                       1.0        0\n",
              "1   16523_44        T_1  ...                       3.0        1\n",
              "2  13987_178        Z_2  ...                       2.0        1\n",
              "3   13158_32        T_2  ...                       1.0        1\n",
              "4   10591_84        V_3  ...                       4.0        1\n",
              "\n",
              "[5 rows x 16 columns]"
            ]
          },
          "metadata": {
            "tags": []
          },
          "execution_count": 119
        }
      ]
    },
    {
      "cell_type": "code",
      "metadata": {
        "id": "5NohWQVhh8Yz",
        "colab_type": "code",
        "outputId": "97e89c95-8e0e-45ac-ac22-e350c6da5582",
        "colab": {
          "base_uri": "https://localhost:8080/",
          "height": 232
        }
      },
      "source": [
        "test.head()"
      ],
      "execution_count": 0,
      "outputs": [
        {
          "output_type": "execute_result",
          "data": {
            "text/html": [
              "<div>\n",
              "<style scoped>\n",
              "    .dataframe tbody tr th:only-of-type {\n",
              "        vertical-align: middle;\n",
              "    }\n",
              "\n",
              "    .dataframe tbody tr th {\n",
              "        vertical-align: top;\n",
              "    }\n",
              "\n",
              "    .dataframe thead th {\n",
              "        text-align: right;\n",
              "    }\n",
              "</style>\n",
              "<table border=\"1\" class=\"dataframe\">\n",
              "  <thead>\n",
              "    <tr style=\"text-align: right;\">\n",
              "      <th></th>\n",
              "      <th>id</th>\n",
              "      <th>program_id</th>\n",
              "      <th>program_type</th>\n",
              "      <th>program_duration</th>\n",
              "      <th>test_id</th>\n",
              "      <th>test_type</th>\n",
              "      <th>difficulty_level</th>\n",
              "      <th>trainee_id</th>\n",
              "      <th>gender</th>\n",
              "      <th>education</th>\n",
              "      <th>city_tier</th>\n",
              "      <th>age</th>\n",
              "      <th>total_programs_enrolled</th>\n",
              "      <th>is_handicapped</th>\n",
              "      <th>trainee_engagement_rating</th>\n",
              "    </tr>\n",
              "  </thead>\n",
              "  <tbody>\n",
              "    <tr>\n",
              "      <th>0</th>\n",
              "      <td>1626_45</td>\n",
              "      <td>T_1</td>\n",
              "      <td>T</td>\n",
              "      <td>131</td>\n",
              "      <td>45</td>\n",
              "      <td>offline</td>\n",
              "      <td>intermediate</td>\n",
              "      <td>1626</td>\n",
              "      <td>F</td>\n",
              "      <td>Matriculation</td>\n",
              "      <td>3</td>\n",
              "      <td>46.0</td>\n",
              "      <td>2</td>\n",
              "      <td>N</td>\n",
              "      <td>4.0</td>\n",
              "    </tr>\n",
              "    <tr>\n",
              "      <th>1</th>\n",
              "      <td>11020_130</td>\n",
              "      <td>Y_3</td>\n",
              "      <td>Y</td>\n",
              "      <td>135</td>\n",
              "      <td>130</td>\n",
              "      <td>online</td>\n",
              "      <td>easy</td>\n",
              "      <td>11020</td>\n",
              "      <td>M</td>\n",
              "      <td>Bachelors</td>\n",
              "      <td>3</td>\n",
              "      <td>NaN</td>\n",
              "      <td>4</td>\n",
              "      <td>N</td>\n",
              "      <td>4.0</td>\n",
              "    </tr>\n",
              "    <tr>\n",
              "      <th>2</th>\n",
              "      <td>12652_146</td>\n",
              "      <td>Y_2</td>\n",
              "      <td>Y</td>\n",
              "      <td>120</td>\n",
              "      <td>146</td>\n",
              "      <td>online</td>\n",
              "      <td>easy</td>\n",
              "      <td>12652</td>\n",
              "      <td>M</td>\n",
              "      <td>Matriculation</td>\n",
              "      <td>3</td>\n",
              "      <td>NaN</td>\n",
              "      <td>2</td>\n",
              "      <td>N</td>\n",
              "      <td>3.0</td>\n",
              "    </tr>\n",
              "    <tr>\n",
              "      <th>3</th>\n",
              "      <td>7038_72</td>\n",
              "      <td>V_4</td>\n",
              "      <td>V</td>\n",
              "      <td>122</td>\n",
              "      <td>72</td>\n",
              "      <td>offline</td>\n",
              "      <td>vary hard</td>\n",
              "      <td>7038</td>\n",
              "      <td>F</td>\n",
              "      <td>High School Diploma</td>\n",
              "      <td>1</td>\n",
              "      <td>NaN</td>\n",
              "      <td>2</td>\n",
              "      <td>N</td>\n",
              "      <td>2.0</td>\n",
              "    </tr>\n",
              "    <tr>\n",
              "      <th>4</th>\n",
              "      <td>888_71</td>\n",
              "      <td>V_4</td>\n",
              "      <td>V</td>\n",
              "      <td>122</td>\n",
              "      <td>71</td>\n",
              "      <td>offline</td>\n",
              "      <td>intermediate</td>\n",
              "      <td>888</td>\n",
              "      <td>F</td>\n",
              "      <td>Matriculation</td>\n",
              "      <td>3</td>\n",
              "      <td>NaN</td>\n",
              "      <td>2</td>\n",
              "      <td>N</td>\n",
              "      <td>2.0</td>\n",
              "    </tr>\n",
              "  </tbody>\n",
              "</table>\n",
              "</div>"
            ],
            "text/plain": [
              "          id program_id  ... is_handicapped  trainee_engagement_rating\n",
              "0    1626_45        T_1  ...              N                        4.0\n",
              "1  11020_130        Y_3  ...              N                        4.0\n",
              "2  12652_146        Y_2  ...              N                        3.0\n",
              "3    7038_72        V_4  ...              N                        2.0\n",
              "4     888_71        V_4  ...              N                        2.0\n",
              "\n",
              "[5 rows x 15 columns]"
            ]
          },
          "metadata": {
            "tags": []
          },
          "execution_count": 120
        }
      ]
    },
    {
      "cell_type": "code",
      "metadata": {
        "id": "XYtuBSech983",
        "colab_type": "code",
        "outputId": "ea9789f9-d7d9-4917-fa9a-fa32ef4fcbd0",
        "colab": {
          "base_uri": "https://localhost:8080/",
          "height": 291
        }
      },
      "source": [
        "train['program_id'].value_counts(normalize=True).plot(kind=\"bar\")"
      ],
      "execution_count": 0,
      "outputs": [
        {
          "output_type": "execute_result",
          "data": {
            "text/plain": [
              "<matplotlib.axes._subplots.AxesSubplot at 0x7f24d6bc3d30>"
            ]
          },
          "metadata": {
            "tags": []
          },
          "execution_count": 121
        },
        {
          "output_type": "display_data",
          "data": {
            "image/png": "[encoded data removed]",
            "text/plain": [
              "<Figure size 432x288 with 1 Axes>"
            ]
          },
          "metadata": {
            "tags": [],
            "needs_background": "light"
          }
        }
      ]
    },
    {
      "cell_type": "code",
      "metadata": {
        "id": "eOU62Y-pjKSl",
        "colab_type": "code",
        "outputId": "41af64a6-1ec4-42b5-8d80-99c373a90cc9",
        "colab": {
          "base_uri": "https://localhost:8080/",
          "height": 291
        }
      },
      "source": [
        "test['program_id'].value_counts(normalize=True).plot(kind=\"bar\")"
      ],
      "execution_count": 0,
      "outputs": [
        {
          "output_type": "execute_result",
          "data": {
            "text/plain": [
              "<matplotlib.axes._subplots.AxesSubplot at 0x7f24d8937ac8>"
            ]
          },
          "metadata": {
            "tags": []
          },
          "execution_count": 122
        },
        {
          "output_type": "display_data",
          "data": {
            "image/png": "[encoded data removed]",
            "text/plain": [
              "<Figure size 432x288 with 1 Axes>"
            ]
          },
          "metadata": {
            "tags": [],
            "needs_background": "light"
          }
        }
      ]
    },
    {
      "cell_type": "code",
      "metadata": {
        "id": "YNOjgvfg25bO",
        "colab_type": "code",
        "outputId": "76a628c7-27dd-4a24-e2ba-0d48778ab217",
        "colab": {
          "base_uri": "https://localhost:8080/",
          "height": 302
        }
      },
      "source": [
        "train.isnull().sum()"
      ],
      "execution_count": 0,
      "outputs": [
        {
          "output_type": "execute_result",
          "data": {
            "text/plain": [
              "id                               0\n",
              "program_id                       0\n",
              "program_type                     0\n",
              "program_duration                 0\n",
              "test_id                          0\n",
              "test_type                        0\n",
              "difficulty_level                 0\n",
              "trainee_id                       0\n",
              "gender                           0\n",
              "education                        0\n",
              "city_tier                        0\n",
              "age                          27729\n",
              "total_programs_enrolled          0\n",
              "is_handicapped                   0\n",
              "trainee_engagement_rating       77\n",
              "is_pass                          0\n",
              "dtype: int64"
            ]
          },
          "metadata": {
            "tags": []
          },
          "execution_count": 123
        }
      ]
    },
    {
      "cell_type": "markdown",
      "metadata": {
        "id": "g-A-I8L33C-g",
        "colab_type": "text"
      },
      "source": [
        "# Filling NA values in age and rating"
      ]
    },
    {
      "cell_type": "markdown",
      "metadata": {
        "id": "-UoQ2kF7kMFV",
        "colab_type": "text"
      },
      "source": [
        "## Age imputation"
      ]
    },
    {
      "cell_type": "code",
      "metadata": {
        "id": "_hHLtaIh258Q",
        "colab_type": "code",
        "outputId": "c84b65b9-83f7-4715-d156-0fed8cce915a",
        "colab": {
          "base_uri": "https://localhost:8080/",
          "height": 168
        }
      },
      "source": [
        "train['age'].describe()"
      ],
      "execution_count": 0,
      "outputs": [
        {
          "output_type": "execute_result",
          "data": {
            "text/plain": [
              "count    45418.000000\n",
              "mean        36.494033\n",
              "std          9.041119\n",
              "min         17.000000\n",
              "25%         28.000000\n",
              "50%         39.000000\n",
              "75%         45.000000\n",
              "max         63.000000\n",
              "Name: age, dtype: float64"
            ]
          },
          "metadata": {
            "tags": []
          },
          "execution_count": 124
        }
      ]
    },
    {
      "cell_type": "code",
      "metadata": {
        "id": "azUREm2s3EvD",
        "colab_type": "code",
        "outputId": "f152e718-45a4-4894-8a47-05bca2002369",
        "colab": {
          "base_uri": "https://localhost:8080/",
          "height": 279
        }
      },
      "source": [
        "sns.distplot(train['age'])\n",
        "plt.show()"
      ],
      "execution_count": 0,
      "outputs": [
        {
          "output_type": "display_data",
          "data": {
            "image/png": "[encoded data removed]",
            "text/plain": [
              "<Figure size 432x288 with 1 Axes>"
            ]
          },
          "metadata": {
            "tags": [],
            "needs_background": "light"
          }
        }
      ]
    },
    {
      "cell_type": "code",
      "metadata": {
        "id": "GKFv38Zc5Y02",
        "colab_type": "code",
        "outputId": "a40c30e9-1b9b-42dc-b7ae-281236f24f98",
        "colab": {
          "base_uri": "https://localhost:8080/",
          "height": 34
        }
      },
      "source": [
        "train['program_type'].unique()"
      ],
      "execution_count": 0,
      "outputs": [
        {
          "output_type": "execute_result",
          "data": {
            "text/plain": [
              "array(['Y', 'T', 'Z', 'V', 'U', 'X', 'S'], dtype=object)"
            ]
          },
          "metadata": {
            "tags": []
          },
          "execution_count": 126
        }
      ]
    },
    {
      "cell_type": "code",
      "metadata": {
        "id": "ii5eJN8VQ_sp",
        "colab_type": "code",
        "outputId": "c871c4bb-b5ae-4b35-a185-63e66469dca5",
        "colab": {
          "base_uri": "https://localhost:8080/",
          "height": 118
        }
      },
      "source": [
        "train['trainee_engagement_rating'].value_counts()"
      ],
      "execution_count": 0,
      "outputs": [
        {
          "output_type": "execute_result",
          "data": {
            "text/plain": [
              "1.0    25595\n",
              "2.0    17234\n",
              "4.0    13113\n",
              "3.0    11553\n",
              "5.0     5575\n",
              "Name: trainee_engagement_rating, dtype: int64"
            ]
          },
          "metadata": {
            "tags": []
          },
          "execution_count": 127
        }
      ]
    },
    {
      "cell_type": "code",
      "metadata": {
        "id": "kU1G67yO4fFt",
        "colab_type": "code",
        "colab": {}
      },
      "source": [
        "# Lets fill mode value for each program type\n",
        "def impute_missing_values(df):\n",
        "  program = df['program_type'].unique()\n",
        "  final = []\n",
        "  for program_name in program:\n",
        "    one_program  = df[df['program_type'] == program_name]\n",
        "    mode_age = one_program['age'].value_counts().index[0]\n",
        "    mode_ratings = one_program['trainee_engagement_rating'].value_counts().index[0]\n",
        "    one_program['age'].fillna(mode_age,inplace=True)\n",
        "    one_program['trainee_engagement_rating'].fillna(mode_ratings,inplace=True)\n",
        "    final.append(one_program)\n",
        "  return final"
      ],
      "execution_count": 0,
      "outputs": []
    },
    {
      "cell_type": "code",
      "metadata": {
        "id": "L-Woolpl5_OA",
        "colab_type": "code",
        "outputId": "bf5fc5bb-3c03-4124-f9ec-4698dfc303a9",
        "colab": {
          "base_uri": "https://localhost:8080/",
          "height": 101
        }
      },
      "source": [
        "df_train_mode_impute = impute_missing_values(train)\n",
        "df_test_mode_impute = impute_missing_values(test)\n",
        "# train_no_na = train.fillna(method=\"ffill\")\n",
        "# test_no_na = test.fillna(method=\"ffill\")"
      ],
      "execution_count": 0,
      "outputs": [
        {
          "output_type": "stream",
          "text": [
            "/usr/local/lib/python3.6/dist-packages/pandas/core/generic.py:6245: SettingWithCopyWarning: \n",
            "A value is trying to be set on a copy of a slice from a DataFrame\n",
            "\n",
            "See the caveats in the documentation: https://pandas.pydata.org/pandas-docs/stable/user_guide/indexing.html#returning-a-view-versus-a-copy\n",
            "  self._update_inplace(new_data)\n"
          ],
          "name": "stderr"
        }
      ]
    },
    {
      "cell_type": "code",
      "metadata": {
        "id": "2n1J7jLKTuHg",
        "colab_type": "code",
        "colab": {}
      },
      "source": [
        "train_no_na  = pd.concat(df_train_mode_impute,axis=0)\n",
        "test_no_na = pd.concat(df_test_mode_impute,axis=0)"
      ],
      "execution_count": 0,
      "outputs": []
    },
    {
      "cell_type": "code",
      "metadata": {
        "id": "7h99r8lpT4-W",
        "colab_type": "code",
        "outputId": "eb144a7b-5a28-4653-9735-e90dcdeb92e3",
        "colab": {
          "base_uri": "https://localhost:8080/",
          "height": 302
        }
      },
      "source": [
        "train_no_na.isnull().sum()"
      ],
      "execution_count": 0,
      "outputs": [
        {
          "output_type": "execute_result",
          "data": {
            "text/plain": [
              "id                           0\n",
              "program_id                   0\n",
              "program_type                 0\n",
              "program_duration             0\n",
              "test_id                      0\n",
              "test_type                    0\n",
              "difficulty_level             0\n",
              "trainee_id                   0\n",
              "gender                       0\n",
              "education                    0\n",
              "city_tier                    0\n",
              "age                          0\n",
              "total_programs_enrolled      0\n",
              "is_handicapped               0\n",
              "trainee_engagement_rating    0\n",
              "is_pass                      0\n",
              "dtype: int64"
            ]
          },
          "metadata": {
            "tags": []
          },
          "execution_count": 131
        }
      ]
    },
    {
      "cell_type": "code",
      "metadata": {
        "id": "l0-NmvadT9R-",
        "colab_type": "code",
        "outputId": "8934fb4c-13ae-4572-85d8-18df606a2156",
        "colab": {
          "base_uri": "https://localhost:8080/",
          "height": 286
        }
      },
      "source": [
        "test_no_na.isnull().sum()"
      ],
      "execution_count": 0,
      "outputs": [
        {
          "output_type": "execute_result",
          "data": {
            "text/plain": [
              "id                           0\n",
              "program_id                   0\n",
              "program_type                 0\n",
              "program_duration             0\n",
              "test_id                      0\n",
              "test_type                    0\n",
              "difficulty_level             0\n",
              "trainee_id                   0\n",
              "gender                       0\n",
              "education                    0\n",
              "city_tier                    0\n",
              "age                          0\n",
              "total_programs_enrolled      0\n",
              "is_handicapped               0\n",
              "trainee_engagement_rating    0\n",
              "dtype: int64"
            ]
          },
          "metadata": {
            "tags": []
          },
          "execution_count": 132
        }
      ]
    },
    {
      "cell_type": "code",
      "metadata": {
        "id": "S6ifr8JkQFlg",
        "colab_type": "code",
        "outputId": "4e010b56-e725-49c1-e616-5265014f8647",
        "colab": {
          "base_uri": "https://localhost:8080/",
          "height": 265
        }
      },
      "source": [
        "sns.kdeplot(train_no_na['trainee_engagement_rating'])\n",
        "plt.show()"
      ],
      "execution_count": 0,
      "outputs": [
        {
          "output_type": "display_data",
          "data": {
            "image/png": "[encoded data removed]",
            "text/plain": [
              "<Figure size 432x288 with 1 Axes>"
            ]
          },
          "metadata": {
            "tags": [],
            "needs_background": "light"
          }
        }
      ]
    },
    {
      "cell_type": "code",
      "metadata": {
        "id": "3Nu9JeNm6DwO",
        "colab_type": "code",
        "outputId": "c829f97c-0ddf-4b61-f804-1b2e80e7c129",
        "colab": {
          "base_uri": "https://localhost:8080/",
          "height": 265
        }
      },
      "source": [
        "sns.kdeplot(train_no_na['age'])\n",
        "plt.show()"
      ],
      "execution_count": 0,
      "outputs": [
        {
          "output_type": "display_data",
          "data": {
            "image/png": "[encoded data removed]",
            "text/plain": [
              "<Figure size 432x288 with 1 Axes>"
            ]
          },
          "metadata": {
            "tags": [],
            "needs_background": "light"
          }
        }
      ]
    },
    {
      "cell_type": "code",
      "metadata": {
        "colab_type": "code",
        "outputId": "33a756dc-f719-4e49-8bc0-5f357079eb8f",
        "id": "QryBUk8tUJLp",
        "colab": {
          "base_uri": "https://localhost:8080/",
          "height": 266
        }
      },
      "source": [
        "sns.kdeplot(test_no_na['trainee_engagement_rating'])\n",
        "plt.show()"
      ],
      "execution_count": 0,
      "outputs": [
        {
          "output_type": "display_data",
          "data": {
            "image/png": "[encoded data removed]",
            "text/plain": [
              "<Figure size 432x288 with 1 Axes>"
            ]
          },
          "metadata": {
            "tags": [],
            "needs_background": "light"
          }
        }
      ]
    },
    {
      "cell_type": "code",
      "metadata": {
        "colab_type": "code",
        "outputId": "04d9cab0-eb41-4b2d-9257-990d2dac90e9",
        "id": "AJCC6KxKUJLy",
        "colab": {
          "base_uri": "https://localhost:8080/",
          "height": 265
        }
      },
      "source": [
        "sns.kdeplot(test_no_na['age'])\n",
        "plt.show()"
      ],
      "execution_count": 0,
      "outputs": [
        {
          "output_type": "display_data",
          "data": {
            "image/png": "[encoded data removed]",
            "text/plain": [
              "<Figure size 432x288 with 1 Axes>"
            ]
          },
          "metadata": {
            "tags": [],
            "needs_background": "light"
          }
        }
      ]
    },
    {
      "cell_type": "code",
      "metadata": {
        "id": "Gr8-iAniUTMn",
        "colab_type": "code",
        "outputId": "297fad83-99c3-463d-8514-ac2d9e45e5a7",
        "colab": {
          "base_uri": "https://localhost:8080/",
          "height": 34
        }
      },
      "source": [
        "print(train_no_na.shape,test_no_na.shape)"
      ],
      "execution_count": 0,
      "outputs": [
        {
          "output_type": "stream",
          "text": [
            "(73147, 16) (31349, 15)\n"
          ],
          "name": "stdout"
        }
      ]
    },
    {
      "cell_type": "code",
      "metadata": {
        "id": "TpjXsZIqUcqo",
        "colab_type": "code",
        "colab": {}
      },
      "source": [
        "train = train_no_na.copy()\n",
        "test = test_no_na.copy()"
      ],
      "execution_count": 0,
      "outputs": []
    },
    {
      "cell_type": "markdown",
      "metadata": {
        "id": "7SldIS5vjbJG",
        "colab_type": "text"
      },
      "source": [
        "# Analyzing with the target variable to get the idea "
      ]
    },
    {
      "cell_type": "markdown",
      "metadata": {
        "id": "a0I4iVA4kRYJ",
        "colab_type": "text"
      },
      "source": [
        "## Program Id with is_pass"
      ]
    },
    {
      "cell_type": "code",
      "metadata": {
        "id": "RxwLGo4BlF-q",
        "colab_type": "code",
        "outputId": "6b76d0f4-7e43-4578-cef9-7c88c8f4d50f",
        "colab": {
          "base_uri": "https://localhost:8080/",
          "height": 281
        }
      },
      "source": [
        "sns.countplot(x='program_id',hue='is_pass',data=train)\n",
        "plt.show()"
      ],
      "execution_count": 0,
      "outputs": [
        {
          "output_type": "display_data",
          "data": {
            "image/png": "[encoded data removed]",
            "text/plain": [
              "<Figure size 432x288 with 1 Axes>"
            ]
          },
          "metadata": {
            "tags": [],
            "needs_background": "light"
          }
        }
      ]
    },
    {
      "cell_type": "markdown",
      "metadata": {
        "id": "JBgn1PY1lgEf",
        "colab_type": "text"
      },
      "source": [
        "            Upon analysis, we can see some program ids are really having good number of pass counts. Y_1,T_3,Y_3,T_2,Y_2 are some significant program  "
      ]
    },
    {
      "cell_type": "markdown",
      "metadata": {
        "id": "IGvs17yGnpRa",
        "colab_type": "text"
      },
      "source": [
        "## Program type with is_pass"
      ]
    },
    {
      "cell_type": "code",
      "metadata": {
        "id": "3333ZWKgn0zj",
        "colab_type": "code",
        "outputId": "021afd46-9679-4680-bc3e-07db67c31255",
        "colab": {
          "base_uri": "https://localhost:8080/",
          "height": 280
        }
      },
      "source": [
        "train['program_type'].value_counts(normalize=True).plot(kind=\"bar\")"
      ],
      "execution_count": 0,
      "outputs": [
        {
          "output_type": "execute_result",
          "data": {
            "text/plain": [
              "<matplotlib.axes._subplots.AxesSubplot at 0x7f24d97a50f0>"
            ]
          },
          "metadata": {
            "tags": []
          },
          "execution_count": 140
        },
        {
          "output_type": "display_data",
          "data": {
            "image/png": "[encoded data removed]",
            "text/plain": [
              "<Figure size 432x288 with 1 Axes>"
            ]
          },
          "metadata": {
            "tags": [],
            "needs_background": "light"
          }
        }
      ]
    },
    {
      "cell_type": "code",
      "metadata": {
        "id": "wnNg0ts6n84u",
        "colab_type": "code",
        "outputId": "e2e93971-4bba-401b-ebf4-6be4606ab80d",
        "colab": {
          "base_uri": "https://localhost:8080/",
          "height": 280
        }
      },
      "source": [
        "sns.countplot(x='program_type',hue='is_pass',data=train)\n",
        "plt.show()"
      ],
      "execution_count": 0,
      "outputs": [
        {
          "output_type": "display_data",
          "data": {
            "image/png": "[encoded data removed]",
            "text/plain": [
              "<Figure size 432x288 with 1 Axes>"
            ]
          },
          "metadata": {
            "tags": [],
            "needs_background": "light"
          }
        }
      ]
    },
    {
      "cell_type": "markdown",
      "metadata": {
        "id": "UzHrTAVOoCWj",
        "colab_type": "text"
      },
      "source": [
        "      Generally Y programs are having significant pass numbers then other program type"
      ]
    },
    {
      "cell_type": "markdown",
      "metadata": {
        "id": "hCXhATJuoLXP",
        "colab_type": "text"
      },
      "source": [
        "## If the number of days is more, do the pass count also increase? "
      ]
    },
    {
      "cell_type": "code",
      "metadata": {
        "id": "VeMs8lhqokCf",
        "colab_type": "code",
        "outputId": "5c6b9ba0-899a-4072-bc20-b7b8472aeb50",
        "colab": {
          "base_uri": "https://localhost:8080/",
          "height": 34
        }
      },
      "source": [
        "train['program_duration'].nunique()"
      ],
      "execution_count": 0,
      "outputs": [
        {
          "output_type": "execute_result",
          "data": {
            "text/plain": [
              "10"
            ]
          },
          "metadata": {
            "tags": []
          },
          "execution_count": 142
        }
      ]
    },
    {
      "cell_type": "code",
      "metadata": {
        "id": "V8vxrb7IoyHv",
        "colab_type": "code",
        "outputId": "4a70f991-fff9-4213-bca1-e80ca585dcf3",
        "colab": {
          "base_uri": "https://localhost:8080/",
          "height": 265
        }
      },
      "source": [
        "sns.kdeplot(train['program_duration'])\n",
        "plt.show()"
      ],
      "execution_count": 0,
      "outputs": [
        {
          "output_type": "display_data",
          "data": {
            "image/png": "[encoded data removed]",
            "text/plain": [
              "<Figure size 432x288 with 1 Axes>"
            ]
          },
          "metadata": {
            "tags": [],
            "needs_background": "light"
          }
        }
      ]
    },
    {
      "cell_type": "markdown",
      "metadata": {
        "id": "fA469U_drKFZ",
        "colab_type": "text"
      },
      "source": [
        "            From the distribution it is clear that many programs are of 120 days and 135 days"
      ]
    },
    {
      "cell_type": "code",
      "metadata": {
        "id": "aIPxGX2qo5zW",
        "colab_type": "code",
        "outputId": "d1c802a7-4948-4dcd-c9f1-a08fb792e7e9",
        "colab": {
          "base_uri": "https://localhost:8080/",
          "height": 202
        }
      },
      "source": [
        "test['program_duration'].value_counts()"
      ],
      "execution_count": 0,
      "outputs": [
        {
          "output_type": "execute_result",
          "data": {
            "text/plain": [
              "134    5608\n",
              "120    4783\n",
              "136    4123\n",
              "121    3298\n",
              "135    3268\n",
              "122    3206\n",
              "131    2809\n",
              "117    1814\n",
              "133    1447\n",
              "130     993\n",
              "Name: program_duration, dtype: int64"
            ]
          },
          "metadata": {
            "tags": []
          },
          "execution_count": 144
        }
      ]
    },
    {
      "cell_type": "code",
      "metadata": {
        "id": "eQgPt1yTpDID",
        "colab_type": "code",
        "outputId": "a33aaf1a-b7df-40a0-903b-ae31793a314b",
        "colab": {
          "base_uri": "https://localhost:8080/",
          "height": 202
        }
      },
      "source": [
        "train['program_duration'].value_counts()"
      ],
      "execution_count": 0,
      "outputs": [
        {
          "output_type": "execute_result",
          "data": {
            "text/plain": [
              "134    13027\n",
              "120    11130\n",
              "136     9765\n",
              "121     7679\n",
              "122     7374\n",
              "135     7267\n",
              "131     6571\n",
              "117     4266\n",
              "133     3409\n",
              "130     2659\n",
              "Name: program_duration, dtype: int64"
            ]
          },
          "metadata": {
            "tags": []
          },
          "execution_count": 145
        }
      ]
    },
    {
      "cell_type": "code",
      "metadata": {
        "id": "LlIpH7vzpKGQ",
        "colab_type": "code",
        "outputId": "7e37f4d8-f45d-40b0-a47a-fed8da6f9f9a",
        "colab": {
          "base_uri": "https://localhost:8080/",
          "height": 280
        }
      },
      "source": [
        "sns.countplot(x='program_duration',hue='is_pass',data=train)\n",
        "plt.show()"
      ],
      "execution_count": 0,
      "outputs": [
        {
          "output_type": "display_data",
          "data": {
            "image/png": "[encoded data removed]",
            "text/plain": [
              "<Figure size 432x288 with 1 Axes>"
            ]
          },
          "metadata": {
            "tags": [],
            "needs_background": "light"
          }
        }
      ]
    },
    {
      "cell_type": "markdown",
      "metadata": {
        "id": "W3lhEhfEtXAu",
        "colab_type": "text"
      },
      "source": [
        "            Number of duration has minimal effect on pass ... lesser number of duration and more duration has impact. Moderate durations has no impact"
      ]
    },
    {
      "cell_type": "code",
      "metadata": {
        "id": "zAEd2iHhuZ-3",
        "colab_type": "code",
        "outputId": "b7deff19-f508-46a7-b879-256739e181d6",
        "colab": {
          "base_uri": "https://localhost:8080/",
          "height": 280
        }
      },
      "source": [
        "sns.boxplot(x=\"program_type\",y=\"program_duration\",data=train)\n",
        "plt.show()"
      ],
      "execution_count": 0,
      "outputs": [
        {
          "output_type": "display_data",
          "data": {
            "image/png": "[encoded data removed]",
            "text/plain": [
              "<Figure size 432x288 with 1 Axes>"
            ]
          },
          "metadata": {
            "tags": [],
            "needs_background": "light"
          }
        }
      ]
    },
    {
      "cell_type": "markdown",
      "metadata": {
        "id": "SVB0LiOduuM4",
        "colab_type": "text"
      },
      "source": [
        "## Test Type with is_pass"
      ]
    },
    {
      "cell_type": "code",
      "metadata": {
        "id": "JcbHrUVvvOqF",
        "colab_type": "code",
        "outputId": "dbb25ebd-cc18-47fd-dcb9-8e508e1af826",
        "colab": {
          "base_uri": "https://localhost:8080/",
          "height": 280
        }
      },
      "source": [
        "sns.countplot(x='test_type',hue='is_pass',data=train)\n",
        "plt.show()"
      ],
      "execution_count": 0,
      "outputs": [
        {
          "output_type": "display_data",
          "data": {
            "image/png": "[encoded data removed]",
            "text/plain": [
              "<Figure size 432x288 with 1 Axes>"
            ]
          },
          "metadata": {
            "tags": [],
            "needs_background": "light"
          }
        }
      ]
    },
    {
      "cell_type": "code",
      "metadata": {
        "id": "NfHAsCqbvcdN",
        "colab_type": "code",
        "outputId": "477d4964-c813-44a4-ee75-1b3acd1af66f",
        "colab": {
          "base_uri": "https://localhost:8080/",
          "height": 34
        }
      },
      "source": [
        "27000/(27000+15000)"
      ],
      "execution_count": 0,
      "outputs": [
        {
          "output_type": "execute_result",
          "data": {
            "text/plain": [
              "0.6428571428571429"
            ]
          },
          "metadata": {
            "tags": []
          },
          "execution_count": 149
        }
      ]
    },
    {
      "cell_type": "code",
      "metadata": {
        "id": "7p6vLC15vpgA",
        "colab_type": "code",
        "outputId": "4c94690b-1e46-44b5-e7df-9aaaaded8775",
        "colab": {
          "base_uri": "https://localhost:8080/",
          "height": 34
        }
      },
      "source": [
        "22500/(22500+5000)"
      ],
      "execution_count": 0,
      "outputs": [
        {
          "output_type": "execute_result",
          "data": {
            "text/plain": [
              "0.8181818181818182"
            ]
          },
          "metadata": {
            "tags": []
          },
          "execution_count": 150
        }
      ]
    },
    {
      "cell_type": "markdown",
      "metadata": {
        "id": "_4EC9pdxvTWe",
        "colab_type": "text"
      },
      "source": [
        "          more number of offline test than online test. But online test has more pass than offline (approx)"
      ]
    },
    {
      "cell_type": "markdown",
      "metadata": {
        "id": "R7gT3BBBva7U",
        "colab_type": "text"
      },
      "source": [
        "## Difficulty level with is_pass"
      ]
    },
    {
      "cell_type": "code",
      "metadata": {
        "id": "ZB9WWjjNwJKc",
        "colab_type": "code",
        "outputId": "fff94a8d-f8e7-408a-b750-054bddc1c342",
        "colab": {
          "base_uri": "https://localhost:8080/",
          "height": 280
        }
      },
      "source": [
        "sns.countplot(x='difficulty_level',hue='is_pass',data=train)\n",
        "plt.show()"
      ],
      "execution_count": 0,
      "outputs": [
        {
          "output_type": "display_data",
          "data": {
            "image/png": "[encoded data removed]",
            "text/plain": [
              "<Figure size 432x288 with 1 Axes>"
            ]
          },
          "metadata": {
            "tags": [],
            "needs_background": "light"
          }
        }
      ]
    },
    {
      "cell_type": "markdown",
      "metadata": {
        "id": "DoGJWU4hwgPg",
        "colab_type": "text"
      },
      "source": [
        "              more easier the test is, more number of pass. It means when the test is very hard, the agent is demotivated ?"
      ]
    },
    {
      "cell_type": "markdown",
      "metadata": {
        "id": "m7DKpasuwyDJ",
        "colab_type": "text"
      },
      "source": [
        "## Gender with is_pass"
      ]
    },
    {
      "cell_type": "code",
      "metadata": {
        "id": "kXbR01yixOy2",
        "colab_type": "code",
        "outputId": "7c078997-1507-4620-a36f-10d53c24a60f",
        "colab": {
          "base_uri": "https://localhost:8080/",
          "height": 279
        }
      },
      "source": [
        "sns.countplot(x='gender',hue='is_pass',data=train)\n",
        "plt.show()"
      ],
      "execution_count": 0,
      "outputs": [
        {
          "output_type": "display_data",
          "data": {
            "image/png": "[encoded data removed]",
            "text/plain": [
              "<Figure size 432x288 with 1 Axes>"
            ]
          },
          "metadata": {
            "tags": [],
            "needs_background": "light"
          }
        }
      ]
    },
    {
      "cell_type": "markdown",
      "metadata": {
        "id": "FgzLmbiIxXvt",
        "colab_type": "text"
      },
      "source": [
        "            more male pass percentage than female"
      ]
    },
    {
      "cell_type": "markdown",
      "metadata": {
        "id": "edWrgENpxStY",
        "colab_type": "text"
      },
      "source": [
        "## Education level with is_pass"
      ]
    },
    {
      "cell_type": "code",
      "metadata": {
        "id": "fo6K_9tNx6IY",
        "colab_type": "code",
        "outputId": "4ca0a025-befb-4f00-955e-7c5357a658c2",
        "colab": {
          "base_uri": "https://localhost:8080/",
          "height": 279
        }
      },
      "source": [
        "sns.countplot(x='education',hue='is_pass',data=train,)\n",
        "plt.show()"
      ],
      "execution_count": 0,
      "outputs": [
        {
          "output_type": "display_data",
          "data": {
            "image/png": "[encoded data removed]",
            "text/plain": [
              "<Figure size 432x288 with 1 Axes>"
            ]
          },
          "metadata": {
            "tags": [],
            "needs_background": "light"
          }
        }
      ]
    },
    {
      "cell_type": "markdown",
      "metadata": {
        "id": "N7lyVWgOx9cK",
        "colab_type": "text"
      },
      "source": [
        "                Diploma has more pass. But it doesnt conclude, since to become an agent, it doesnt need any good education qualifications"
      ]
    },
    {
      "cell_type": "markdown",
      "metadata": {
        "id": "Q-YYA3KzyU8j",
        "colab_type": "text"
      },
      "source": [
        "## ciy tier with is_pass"
      ]
    },
    {
      "cell_type": "code",
      "metadata": {
        "id": "-bycCol5yan4",
        "colab_type": "code",
        "outputId": "dde78c8c-4217-42f1-aad8-514e75c163cf",
        "colab": {
          "base_uri": "https://localhost:8080/",
          "height": 280
        }
      },
      "source": [
        "sns.countplot(x='city_tier',hue='is_pass',data=train,)\n",
        "plt.show()"
      ],
      "execution_count": 0,
      "outputs": [
        {
          "output_type": "display_data",
          "data": {
            "image/png": "[encoded data removed]",
            "text/plain": [
              "<Figure size 432x288 with 1 Axes>"
            ]
          },
          "metadata": {
            "tags": [],
            "needs_background": "light"
          }
        }
      ]
    },
    {
      "cell_type": "code",
      "metadata": {
        "id": "D7jKT3fLydZp",
        "colab_type": "code",
        "outputId": "c460e759-75b0-4d1b-8af8-0655317dff84",
        "colab": {
          "base_uri": "https://localhost:8080/",
          "height": 84
        }
      },
      "source": [
        "print(\"tier1\",17500/(17500+6000))\n",
        "print(\"tier2\",11000/(11000+4000))\n",
        "print(\"tier3\",18000/(18000+7500))\n",
        "print(\"tier4\",4000/(4000+2500))"
      ],
      "execution_count": 0,
      "outputs": [
        {
          "output_type": "stream",
          "text": [
            "tier1 0.7446808510638298\n",
            "tier2 0.7333333333333333\n",
            "tier3 0.7058823529411765\n",
            "tier4 0.6153846153846154\n"
          ],
          "name": "stdout"
        }
      ]
    },
    {
      "cell_type": "markdown",
      "metadata": {
        "id": "f8-sLQf-zZt5",
        "colab_type": "text"
      },
      "source": [
        "            Tier 1 > Tier 2 > Tier 3 > Tier 4"
      ]
    },
    {
      "cell_type": "markdown",
      "metadata": {
        "id": "TJNlibfzzys7",
        "colab_type": "text"
      },
      "source": [
        "## Age with is_pass"
      ]
    },
    {
      "cell_type": "code",
      "metadata": {
        "id": "lEgy8Cm1z3oI",
        "colab_type": "code",
        "outputId": "306c064b-6702-4e57-ffbb-d039490ccbf8",
        "colab": {
          "base_uri": "https://localhost:8080/",
          "height": 265
        }
      },
      "source": [
        "sns.kdeplot(train['age'])\n",
        "plt.show()"
      ],
      "execution_count": 0,
      "outputs": [
        {
          "output_type": "display_data",
          "data": {
            "image/png": "[encoded data removed]",
            "text/plain": [
              "<Figure size 432x288 with 1 Axes>"
            ]
          },
          "metadata": {
            "tags": [],
            "needs_background": "light"
          }
        }
      ]
    },
    {
      "cell_type": "code",
      "metadata": {
        "id": "IGNKlCUGz8QT",
        "colab_type": "code",
        "outputId": "3c294d0b-309c-4cb8-f349-869ded27f47d",
        "colab": {
          "base_uri": "https://localhost:8080/",
          "height": 34
        }
      },
      "source": [
        "train['age'].nunique()"
      ],
      "execution_count": 0,
      "outputs": [
        {
          "output_type": "execute_result",
          "data": {
            "text/plain": [
              "45"
            ]
          },
          "metadata": {
            "tags": []
          },
          "execution_count": 157
        }
      ]
    },
    {
      "cell_type": "code",
      "metadata": {
        "id": "zOowFeKr0EGe",
        "colab_type": "code",
        "outputId": "818d973c-1bf4-4734-a218-402c35d1893d",
        "colab": {
          "base_uri": "https://localhost:8080/",
          "height": 168
        }
      },
      "source": [
        "train['age'].describe()"
      ],
      "execution_count": 0,
      "outputs": [
        {
          "output_type": "execute_result",
          "data": {
            "text/plain": [
              "count    73147.000000\n",
              "mean        39.449615\n",
              "std          8.328750\n",
              "min         17.000000\n",
              "25%         30.000000\n",
              "50%         45.000000\n",
              "75%         45.000000\n",
              "max         63.000000\n",
              "Name: age, dtype: float64"
            ]
          },
          "metadata": {
            "tags": []
          },
          "execution_count": 158
        }
      ]
    },
    {
      "cell_type": "markdown",
      "metadata": {
        "id": "3GgTKxrz0JCf",
        "colab_type": "text"
      },
      "source": [
        "            Divide the age based on quantiles"
      ]
    },
    {
      "cell_type": "code",
      "metadata": {
        "id": "KC7TUm040aq3",
        "colab_type": "code",
        "colab": {}
      },
      "source": [
        "train['age_group'] = \"\"\n",
        "train.loc[(train['age'] >= 17) & (train['age'] < 28),'age_group'] = \"group 17-28\"\n",
        "train.loc[(train['age'] >= 28) & (train['age'] < 39),'age_group'] = \"group 28-39\"\n",
        "train.loc[(train['age'] >= 39) & (train['age'] < 45),'age_group'] = \"group 39-45\"\n",
        "train.loc[(train['age'] >= 45) & (train['age'] <= 63),'age_group'] = \"group 45-63\""
      ],
      "execution_count": 0,
      "outputs": []
    },
    {
      "cell_type": "code",
      "metadata": {
        "id": "qkCo-t4y1Aun",
        "colab_type": "code",
        "outputId": "861bfa1c-0920-40bb-fd0d-2a9bd0a0be6e",
        "colab": {
          "base_uri": "https://localhost:8080/",
          "height": 279
        }
      },
      "source": [
        "sns.countplot(x='age_group',hue='is_pass',data=train)\n",
        "plt.show()"
      ],
      "execution_count": 0,
      "outputs": [
        {
          "output_type": "display_data",
          "data": {
            "image/png": "[encoded data removed]",
            "text/plain": [
              "<Figure size 432x288 with 1 Axes>"
            ]
          },
          "metadata": {
            "tags": [],
            "needs_background": "light"
          }
        }
      ]
    },
    {
      "cell_type": "code",
      "metadata": {
        "id": "X3icfM_g1E8V",
        "colab_type": "code",
        "outputId": "e267477d-269d-47e0-f364-65689e40aec3",
        "colab": {
          "base_uri": "https://localhost:8080/",
          "height": 34
        }
      },
      "source": [
        "train[train['age_group'] == \"\"]['age']"
      ],
      "execution_count": 0,
      "outputs": [
        {
          "output_type": "execute_result",
          "data": {
            "text/plain": [
              "Series([], Name: age, dtype: float64)"
            ]
          },
          "metadata": {
            "tags": []
          },
          "execution_count": 161
        }
      ]
    },
    {
      "cell_type": "markdown",
      "metadata": {
        "id": "jR1qb_bp1aWt",
        "colab_type": "text"
      },
      "source": [
        "## Total programs enrolled with is_pass"
      ]
    },
    {
      "cell_type": "code",
      "metadata": {
        "id": "SBCXgqd71pGk",
        "colab_type": "code",
        "outputId": "889b16f7-0396-4780-c4c9-f0fd3b0872ed",
        "colab": {
          "base_uri": "https://localhost:8080/",
          "height": 34
        }
      },
      "source": [
        "train['total_programs_enrolled'].nunique()"
      ],
      "execution_count": 0,
      "outputs": [
        {
          "output_type": "execute_result",
          "data": {
            "text/plain": [
              "13"
            ]
          },
          "metadata": {
            "tags": []
          },
          "execution_count": 162
        }
      ]
    },
    {
      "cell_type": "code",
      "metadata": {
        "id": "cXJaDCB_1sZ-",
        "colab_type": "code",
        "outputId": "e3d71836-7eae-4d66-f1d6-fbb169d84081",
        "colab": {
          "base_uri": "https://localhost:8080/",
          "height": 34
        }
      },
      "source": [
        "train['program_id'].nunique()"
      ],
      "execution_count": 0,
      "outputs": [
        {
          "output_type": "execute_result",
          "data": {
            "text/plain": [
              "22"
            ]
          },
          "metadata": {
            "tags": []
          },
          "execution_count": 163
        }
      ]
    },
    {
      "cell_type": "code",
      "metadata": {
        "id": "SzyggYah13Ai",
        "colab_type": "code",
        "outputId": "10a20175-52b2-4189-a008-f8b0ab1860ec",
        "colab": {
          "base_uri": "https://localhost:8080/",
          "height": 168
        }
      },
      "source": [
        "train['total_programs_enrolled'].describe()"
      ],
      "execution_count": 0,
      "outputs": [
        {
          "output_type": "execute_result",
          "data": {
            "text/plain": [
              "count    73147.000000\n",
              "mean         2.583934\n",
              "std          1.240816\n",
              "min          1.000000\n",
              "25%          2.000000\n",
              "50%          2.000000\n",
              "75%          3.000000\n",
              "max         14.000000\n",
              "Name: total_programs_enrolled, dtype: float64"
            ]
          },
          "metadata": {
            "tags": []
          },
          "execution_count": 164
        }
      ]
    },
    {
      "cell_type": "code",
      "metadata": {
        "id": "V4-cHM901_a3",
        "colab_type": "code",
        "outputId": "d0833bef-dbc1-4ebc-ecda-4bf9d4973f5c",
        "colab": {
          "base_uri": "https://localhost:8080/",
          "height": 280
        }
      },
      "source": [
        "sns.countplot(x='total_programs_enrolled',hue='is_pass',data=train)\n",
        "plt.show()"
      ],
      "execution_count": 0,
      "outputs": [
        {
          "output_type": "display_data",
          "data": {
            "image/png": "[encoded data removed]",
            "text/plain": [
              "<Figure size 432x288 with 1 Axes>"
            ]
          },
          "metadata": {
            "tags": [],
            "needs_background": "light"
          }
        }
      ]
    },
    {
      "cell_type": "markdown",
      "metadata": {
        "id": "cOseGAuu2D2j",
        "colab_type": "text"
      },
      "source": [
        "            Optimal value is 2 if the programs enrolled is 2 by trainees. pass is so high        "
      ]
    },
    {
      "cell_type": "markdown",
      "metadata": {
        "id": "VxR7kXlK2MfV",
        "colab_type": "text"
      },
      "source": [
        "## Disability with is_pass"
      ]
    },
    {
      "cell_type": "code",
      "metadata": {
        "id": "GApn5HBf2QRO",
        "colab_type": "code",
        "outputId": "634072ba-1bd5-40b8-e411-9f5ce68dd075",
        "colab": {
          "base_uri": "https://localhost:8080/",
          "height": 280
        }
      },
      "source": [
        "sns.countplot(x='is_handicapped',hue='is_pass',data=train)\n",
        "plt.show()"
      ],
      "execution_count": 0,
      "outputs": [
        {
          "output_type": "display_data",
          "data": {
            "image/png": "[encoded data removed]",
            "text/plain": [
              "<Figure size 432x288 with 1 Axes>"
            ]
          },
          "metadata": {
            "tags": [],
            "needs_background": "light"
          }
        }
      ]
    },
    {
      "cell_type": "markdown",
      "metadata": {
        "id": "SlHCgj_W2UTI",
        "colab_type": "text"
      },
      "source": [
        "                Most of the agents are not handicapped.             "
      ]
    },
    {
      "cell_type": "markdown",
      "metadata": {
        "id": "JFoTkGHN2eo5",
        "colab_type": "text"
      },
      "source": [
        "## Trainee_engagement_rating with Is_pass"
      ]
    },
    {
      "cell_type": "code",
      "metadata": {
        "id": "4AcWlLbM2hz4",
        "colab_type": "code",
        "outputId": "967b2f0f-2da3-4776-c741-413deaa7a705",
        "colab": {
          "base_uri": "https://localhost:8080/",
          "height": 280
        }
      },
      "source": [
        "sns.countplot(x='trainee_engagement_rating',hue='is_pass',data=train)\n",
        "plt.show()"
      ],
      "execution_count": 0,
      "outputs": [
        {
          "output_type": "display_data",
          "data": {
            "image/png": "[encoded data removed]",
            "text/plain": [
              "<Figure size 432x288 with 1 Axes>"
            ]
          },
          "metadata": {
            "tags": [],
            "needs_background": "light"
          }
        }
      ]
    },
    {
      "cell_type": "markdown",
      "metadata": {
        "id": "s4eVOsXj2qJZ",
        "colab_type": "text"
      },
      "source": [
        "          more the trainees engage, more number of pass"
      ]
    },
    {
      "cell_type": "markdown",
      "metadata": {
        "id": "jQFKAfXuXBaN",
        "colab_type": "text"
      },
      "source": [
        "## Label encoding"
      ]
    },
    {
      "cell_type": "code",
      "metadata": {
        "id": "tUMaL54k1N_3",
        "colab_type": "code",
        "colab": {}
      },
      "source": [
        "## creating a copy\n",
        "train_main = train.copy()\n",
        "test_main = test.copy()"
      ],
      "execution_count": 0,
      "outputs": []
    },
    {
      "cell_type": "code",
      "metadata": {
        "id": "RWk5ThHdW4jt",
        "colab_type": "code",
        "colab": {}
      },
      "source": [
        "from sklearn.preprocessing import LabelEncoder\n",
        "\n",
        "class LabelEncoderExt(object):\n",
        "    def __init__(self):\n",
        "        \"\"\"\n",
        "        It differs from LabelEncoder by handling new classes and providing a value for it [Unknown]\n",
        "        Unknown will be added in fit and transform will take care of new item. It gives unknown class id\n",
        "        \"\"\"\n",
        "        self.label_encoder = LabelEncoder()\n",
        "        # self.classes_ = self.label_encoder.classes_\n",
        "\n",
        "    def fit(self, data_list):\n",
        "        \"\"\"\n",
        "        This will fit the encoder for all the unique values and introduce unknown value\n",
        "        :param data_list: A list of string\n",
        "        :return: self\n",
        "        \"\"\"\n",
        "        self.label_encoder = self.label_encoder.fit(list(data_list) + ['Unknown'])\n",
        "        self.classes_ = self.label_encoder.classes_\n",
        "\n",
        "        return self\n",
        "\n",
        "    def transform(self, data_list):\n",
        "        \"\"\"\n",
        "        This will transform the data_list to id list where the new values get assigned to Unknown class\n",
        "        :param data_list:\n",
        "        :return:\n",
        "        \"\"\"\n",
        "        new_data_list = list(data_list)\n",
        "        for unique_item in np.unique(data_list):\n",
        "            if unique_item not in self.label_encoder.classes_:\n",
        "                new_data_list = ['Unknown' if x==unique_item else x for x in new_data_list]\n",
        "\n",
        "        return self.label_encoder.transform(new_data_list)"
      ],
      "execution_count": 0,
      "outputs": []
    },
    {
      "cell_type": "code",
      "metadata": {
        "id": "27DlMcvnXFBT",
        "colab_type": "code",
        "colab": {}
      },
      "source": [
        "le = LabelEncoderExt()\n",
        "le.fit(train['program_id'])\n",
        "train['program_id'] = le.transform(train['program_id'])\n",
        "test['program_id'] = le.transform(test['program_id'])"
      ],
      "execution_count": 0,
      "outputs": []
    },
    {
      "cell_type": "code",
      "metadata": {
        "id": "BwxOgh0eXdJq",
        "colab_type": "code",
        "colab": {}
      },
      "source": [
        "le = LabelEncoderExt()\n",
        "le.fit(train['program_type'])\n",
        "train['program_type'] = le.transform(train['program_type'])\n",
        "test['program_type'] = le.transform(test['program_type'])\n",
        "\n",
        "le = LabelEncoderExt()\n",
        "le.fit(train['test_type'])\n",
        "train['test_type'] = le.transform(train['test_type'])\n",
        "test['test_type'] = le.transform(test['test_type'])\n",
        "\n",
        "le = LabelEncoderExt()\n",
        "le.fit(train['difficulty_level'])\n",
        "train['difficulty_level'] = le.transform(train['difficulty_level'])\n",
        "test['difficulty_level'] = le.transform(test['difficulty_level'])\n",
        "\n",
        "le = LabelEncoderExt()\n",
        "le.fit(train['gender'])\n",
        "train['gender'] = le.transform(train['gender'])\n",
        "test['gender'] = le.transform(test['gender'])\n",
        "\n",
        "le = LabelEncoderExt()\n",
        "le.fit(train['education'])\n",
        "train['education'] = le.transform(train['education'])\n",
        "test['education'] = le.transform(test['education'])\n",
        "\n",
        "le = LabelEncoderExt()\n",
        "le.fit(train['is_handicapped'])\n",
        "train['is_handicapped'] = le.transform(train['is_handicapped'])\n",
        "test['is_handicapped'] = le.transform(test['is_handicapped'])"
      ],
      "execution_count": 0,
      "outputs": []
    },
    {
      "cell_type": "markdown",
      "metadata": {
        "id": "k5l4tMZh2xcb",
        "colab_type": "text"
      },
      "source": [
        "# Baseline model"
      ]
    },
    {
      "cell_type": "code",
      "metadata": {
        "id": "maWlk13HWZFq",
        "colab_type": "code",
        "outputId": "a1db3893-e41e-42e6-e141-b8e4d84699e6",
        "colab": {
          "base_uri": "https://localhost:8080/",
          "height": 299
        }
      },
      "source": [
        "train.head()"
      ],
      "execution_count": 0,
      "outputs": [
        {
          "output_type": "execute_result",
          "data": {
            "text/html": [
              "<div>\n",
              "<style scoped>\n",
              "    .dataframe tbody tr th:only-of-type {\n",
              "        vertical-align: middle;\n",
              "    }\n",
              "\n",
              "    .dataframe tbody tr th {\n",
              "        vertical-align: top;\n",
              "    }\n",
              "\n",
              "    .dataframe thead th {\n",
              "        text-align: right;\n",
              "    }\n",
              "</style>\n",
              "<table border=\"1\" class=\"dataframe\">\n",
              "  <thead>\n",
              "    <tr style=\"text-align: right;\">\n",
              "      <th></th>\n",
              "      <th>id</th>\n",
              "      <th>program_id</th>\n",
              "      <th>program_type</th>\n",
              "      <th>program_duration</th>\n",
              "      <th>test_id</th>\n",
              "      <th>test_type</th>\n",
              "      <th>difficulty_level</th>\n",
              "      <th>trainee_id</th>\n",
              "      <th>gender</th>\n",
              "      <th>education</th>\n",
              "      <th>city_tier</th>\n",
              "      <th>age</th>\n",
              "      <th>total_programs_enrolled</th>\n",
              "      <th>is_handicapped</th>\n",
              "      <th>trainee_engagement_rating</th>\n",
              "      <th>is_pass</th>\n",
              "      <th>age_group</th>\n",
              "    </tr>\n",
              "  </thead>\n",
              "  <tbody>\n",
              "    <tr>\n",
              "      <th>0</th>\n",
              "      <td>9389_150</td>\n",
              "      <td>16</td>\n",
              "      <td>6</td>\n",
              "      <td>136</td>\n",
              "      <td>150</td>\n",
              "      <td>1</td>\n",
              "      <td>3</td>\n",
              "      <td>9389</td>\n",
              "      <td>1</td>\n",
              "      <td>3</td>\n",
              "      <td>3</td>\n",
              "      <td>24.0</td>\n",
              "      <td>5</td>\n",
              "      <td>0</td>\n",
              "      <td>1.0</td>\n",
              "      <td>0</td>\n",
              "      <td>group 17-28</td>\n",
              "    </tr>\n",
              "    <tr>\n",
              "      <th>6</th>\n",
              "      <td>17874_144</td>\n",
              "      <td>17</td>\n",
              "      <td>6</td>\n",
              "      <td>120</td>\n",
              "      <td>144</td>\n",
              "      <td>2</td>\n",
              "      <td>1</td>\n",
              "      <td>17874</td>\n",
              "      <td>1</td>\n",
              "      <td>0</td>\n",
              "      <td>2</td>\n",
              "      <td>48.0</td>\n",
              "      <td>3</td>\n",
              "      <td>0</td>\n",
              "      <td>3.0</td>\n",
              "      <td>1</td>\n",
              "      <td>group 45-63</td>\n",
              "    </tr>\n",
              "    <tr>\n",
              "      <th>9</th>\n",
              "      <td>17019_153</td>\n",
              "      <td>16</td>\n",
              "      <td>6</td>\n",
              "      <td>136</td>\n",
              "      <td>153</td>\n",
              "      <td>1</td>\n",
              "      <td>2</td>\n",
              "      <td>17019</td>\n",
              "      <td>1</td>\n",
              "      <td>0</td>\n",
              "      <td>3</td>\n",
              "      <td>28.0</td>\n",
              "      <td>2</td>\n",
              "      <td>0</td>\n",
              "      <td>4.0</td>\n",
              "      <td>1</td>\n",
              "      <td>group 28-39</td>\n",
              "    </tr>\n",
              "    <tr>\n",
              "      <th>12</th>\n",
              "      <td>15848_149</td>\n",
              "      <td>16</td>\n",
              "      <td>6</td>\n",
              "      <td>136</td>\n",
              "      <td>149</td>\n",
              "      <td>1</td>\n",
              "      <td>3</td>\n",
              "      <td>15848</td>\n",
              "      <td>1</td>\n",
              "      <td>1</td>\n",
              "      <td>1</td>\n",
              "      <td>45.0</td>\n",
              "      <td>4</td>\n",
              "      <td>0</td>\n",
              "      <td>4.0</td>\n",
              "      <td>1</td>\n",
              "      <td>group 45-63</td>\n",
              "    </tr>\n",
              "    <tr>\n",
              "      <th>13</th>\n",
              "      <td>423_126</td>\n",
              "      <td>18</td>\n",
              "      <td>6</td>\n",
              "      <td>135</td>\n",
              "      <td>126</td>\n",
              "      <td>1</td>\n",
              "      <td>3</td>\n",
              "      <td>423</td>\n",
              "      <td>1</td>\n",
              "      <td>3</td>\n",
              "      <td>3</td>\n",
              "      <td>45.0</td>\n",
              "      <td>4</td>\n",
              "      <td>0</td>\n",
              "      <td>5.0</td>\n",
              "      <td>1</td>\n",
              "      <td>group 45-63</td>\n",
              "    </tr>\n",
              "  </tbody>\n",
              "</table>\n",
              "</div>"
            ],
            "text/plain": [
              "           id  program_id  ...  is_pass    age_group\n",
              "0    9389_150          16  ...        0  group 17-28\n",
              "6   17874_144          17  ...        1  group 45-63\n",
              "9   17019_153          16  ...        1  group 28-39\n",
              "12  15848_149          16  ...        1  group 45-63\n",
              "13    423_126          18  ...        1  group 45-63\n",
              "\n",
              "[5 rows x 17 columns]"
            ]
          },
          "metadata": {
            "tags": []
          },
          "execution_count": 172
        }
      ]
    },
    {
      "cell_type": "code",
      "metadata": {
        "id": "zmzceT3TwXuq",
        "colab_type": "code",
        "colab": {}
      },
      "source": [
        "df_majority = train[train.is_pass==1]\n",
        "df_minority = train[train.is_pass==0]\n",
        " \n",
        "# Upsample minority class\n",
        "df_minority_upsampled = resample(df_minority, \n",
        "                                 replace=True,     # sample with replacement\n",
        "                                 n_samples=50867,    # to match majority class\n",
        "                                 random_state=88) # reproducible results\n",
        " \n",
        "# Combine majority class with upsampled minority class\n",
        "train = pd.concat([df_majority, df_minority_upsampled])"
      ],
      "execution_count": 0,
      "outputs": []
    },
    {
      "cell_type": "code",
      "metadata": {
        "id": "7gMuCT9v0RE4",
        "colab_type": "code",
        "outputId": "6ffe4ef5-0671-4fe6-be22-7f441f8a0a6b",
        "colab": {
          "base_uri": "https://localhost:8080/",
          "height": 67
        }
      },
      "source": [
        "train['is_pass'].value_counts()"
      ],
      "execution_count": 0,
      "outputs": [
        {
          "output_type": "execute_result",
          "data": {
            "text/plain": [
              "1    50867\n",
              "0    50867\n",
              "Name: is_pass, dtype: int64"
            ]
          },
          "metadata": {
            "tags": []
          },
          "execution_count": 174
        }
      ]
    },
    {
      "cell_type": "code",
      "metadata": {
        "id": "mjnbQQ6JWGy9",
        "colab_type": "code",
        "colab": {}
      },
      "source": [
        "X = train[['program_id','program_duration','test_type','difficulty_level','test_id','trainee_id',\n",
        "           'gender','education','city_tier','age','total_programs_enrolled','is_handicapped',\n",
        "           'trainee_engagement_rating']]\n",
        "y = train['is_pass']"
      ],
      "execution_count": 0,
      "outputs": []
    },
    {
      "cell_type": "code",
      "metadata": {
        "id": "wirvaIxjZFJ3",
        "colab_type": "code",
        "colab": {}
      },
      "source": [
        "x_train, x_valid, y_train, y_valid = train_test_split(X, y, \n",
        "                                                      random_state=88,test_size=0.20, stratify=y)"
      ],
      "execution_count": 0,
      "outputs": []
    },
    {
      "cell_type": "code",
      "metadata": {
        "id": "VToCUDqsZbwQ",
        "colab_type": "code",
        "outputId": "d1537e0d-e2c3-4d0f-f2a6-c53d5b6487b4",
        "colab": {
          "base_uri": "https://localhost:8080/",
          "height": 235
        }
      },
      "source": [
        "lr = LogisticRegression()\n",
        "lr.fit(x_train,y_train)"
      ],
      "execution_count": 0,
      "outputs": [
        {
          "output_type": "stream",
          "text": [
            "/usr/local/lib/python3.6/dist-packages/sklearn/linear_model/_logistic.py:940: ConvergenceWarning: lbfgs failed to converge (status=1):\n",
            "STOP: TOTAL NO. of ITERATIONS REACHED LIMIT.\n",
            "\n",
            "Increase the number of iterations (max_iter) or scale the data as shown in:\n",
            "    https://scikit-learn.org/stable/modules/preprocessing.html\n",
            "Please also refer to the documentation for alternative solver options:\n",
            "    https://scikit-learn.org/stable/modules/linear_model.html#logistic-regression\n",
            "  w0, loss = opt_res.x, opt_res.fun\n"
          ],
          "name": "stderr"
        },
        {
          "output_type": "execute_result",
          "data": {
            "text/plain": [
              "LogisticRegression(C=1.0, class_weight=None, dual=False, fit_intercept=True,\n",
              "                   intercept_scaling=1, l1_ratio=None, max_iter=100,\n",
              "                   multi_class='auto', n_jobs=None, penalty='l2',\n",
              "                   random_state=None, solver='lbfgs', tol=0.0001, verbose=0,\n",
              "                   warm_start=False)"
            ]
          },
          "metadata": {
            "tags": []
          },
          "execution_count": 177
        }
      ]
    },
    {
      "cell_type": "code",
      "metadata": {
        "id": "hSU_7XJCZpuV",
        "colab_type": "code",
        "colab": {}
      },
      "source": [
        "y_pred = lr.predict(x_valid)"
      ],
      "execution_count": 0,
      "outputs": []
    },
    {
      "cell_type": "code",
      "metadata": {
        "id": "uQtRh26taZHw",
        "colab_type": "code",
        "colab": {}
      },
      "source": [
        "def evaluate_model(y_true, y_pred):\n",
        "    print('confusion matrix')\n",
        "    cm = confusion_matrix(y_true, y_pred)\n",
        "    cm_df = pd.DataFrame(cm.T)\n",
        "    cm_df.index.name = 'Predicted'\n",
        "    cm_df.columns.name = 'True'\n",
        "    print(cm_df)\n",
        "    print('classification report')\n",
        "    print(classification_report(y_true,y_pred))\n",
        "    print('accuracy score')\n",
        "    print(accuracy_score(y_true, y_pred))"
      ],
      "execution_count": 0,
      "outputs": []
    },
    {
      "cell_type": "code",
      "metadata": {
        "id": "PKmZNB-3ZxqN",
        "colab_type": "code",
        "outputId": "b8d5d9e9-0604-47cf-d406-0d7a530fe9b7",
        "colab": {
          "base_uri": "https://localhost:8080/",
          "height": 302
        }
      },
      "source": [
        "evaluate_model(y_valid,y_pred)"
      ],
      "execution_count": 0,
      "outputs": [
        {
          "output_type": "stream",
          "text": [
            "confusion matrix\n",
            "True          0     1\n",
            "Predicted            \n",
            "0          6712  4282\n",
            "1          3462  5891\n",
            "classification report\n",
            "              precision    recall  f1-score   support\n",
            "\n",
            "           0       0.61      0.66      0.63     10174\n",
            "           1       0.63      0.58      0.60     10173\n",
            "\n",
            "    accuracy                           0.62     20347\n",
            "   macro avg       0.62      0.62      0.62     20347\n",
            "weighted avg       0.62      0.62      0.62     20347\n",
            "\n",
            "accuracy score\n",
            "0.6194033518454809\n"
          ],
          "name": "stdout"
        }
      ]
    },
    {
      "cell_type": "code",
      "metadata": {
        "id": "rn4wpSPZalzx",
        "colab_type": "code",
        "colab": {}
      },
      "source": [
        "X_test = test[['program_id','program_duration','test_type','difficulty_level','test_id','trainee_id',\n",
        "           'gender','education','city_tier','age','total_programs_enrolled','is_handicapped',\n",
        "           'trainee_engagement_rating']]"
      ],
      "execution_count": 0,
      "outputs": []
    },
    {
      "cell_type": "code",
      "metadata": {
        "id": "ohEs7572bHNT",
        "colab_type": "code",
        "colab": {}
      },
      "source": [
        "y_test = lr.predict(X_test)"
      ],
      "execution_count": 0,
      "outputs": []
    },
    {
      "cell_type": "code",
      "metadata": {
        "id": "25TtnEoebKfz",
        "colab_type": "code",
        "colab": {}
      },
      "source": [
        "ispass_df = pd.DataFrame(y_test,columns = [\"is_pass\"])"
      ],
      "execution_count": 0,
      "outputs": []
    },
    {
      "cell_type": "code",
      "metadata": {
        "id": "eSUjzO8pbMwu",
        "colab_type": "code",
        "colab": {}
      },
      "source": [
        "submission = pd.concat([test,ispass_df],axis=1)\n",
        "submission = submission[['id','is_pass']]\n",
        "submission.to_csv(\"submission_baseline.csv\",index=False)"
      ],
      "execution_count": 0,
      "outputs": []
    },
    {
      "cell_type": "markdown",
      "metadata": {
        "id": "eEyvmD3fbcx0",
        "colab_type": "text"
      },
      "source": [
        "          Above file acts as a baseline that resulted in 0.509"
      ]
    },
    {
      "cell_type": "markdown",
      "metadata": {
        "id": "pN8YGOEg3qZo",
        "colab_type": "text"
      },
      "source": [
        "# Analysis"
      ]
    },
    {
      "cell_type": "code",
      "metadata": {
        "id": "fFmu9TaF4sv3",
        "colab_type": "code",
        "outputId": "a2bf6261-95f4-48b9-d56c-1131de7d329a",
        "colab": {
          "base_uri": "https://localhost:8080/",
          "height": 299
        }
      },
      "source": [
        "train_main.head()"
      ],
      "execution_count": 0,
      "outputs": [
        {
          "output_type": "execute_result",
          "data": {
            "text/html": [
              "<div>\n",
              "<style scoped>\n",
              "    .dataframe tbody tr th:only-of-type {\n",
              "        vertical-align: middle;\n",
              "    }\n",
              "\n",
              "    .dataframe tbody tr th {\n",
              "        vertical-align: top;\n",
              "    }\n",
              "\n",
              "    .dataframe thead th {\n",
              "        text-align: right;\n",
              "    }\n",
              "</style>\n",
              "<table border=\"1\" class=\"dataframe\">\n",
              "  <thead>\n",
              "    <tr style=\"text-align: right;\">\n",
              "      <th></th>\n",
              "      <th>id</th>\n",
              "      <th>program_id</th>\n",
              "      <th>program_type</th>\n",
              "      <th>program_duration</th>\n",
              "      <th>test_id</th>\n",
              "      <th>test_type</th>\n",
              "      <th>difficulty_level</th>\n",
              "      <th>trainee_id</th>\n",
              "      <th>gender</th>\n",
              "      <th>education</th>\n",
              "      <th>city_tier</th>\n",
              "      <th>age</th>\n",
              "      <th>total_programs_enrolled</th>\n",
              "      <th>is_handicapped</th>\n",
              "      <th>trainee_engagement_rating</th>\n",
              "      <th>is_pass</th>\n",
              "      <th>age_group</th>\n",
              "    </tr>\n",
              "  </thead>\n",
              "  <tbody>\n",
              "    <tr>\n",
              "      <th>0</th>\n",
              "      <td>9389_150</td>\n",
              "      <td>Y_1</td>\n",
              "      <td>Y</td>\n",
              "      <td>136</td>\n",
              "      <td>150</td>\n",
              "      <td>offline</td>\n",
              "      <td>intermediate</td>\n",
              "      <td>9389</td>\n",
              "      <td>M</td>\n",
              "      <td>Matriculation</td>\n",
              "      <td>3</td>\n",
              "      <td>24.0</td>\n",
              "      <td>5</td>\n",
              "      <td>N</td>\n",
              "      <td>1.0</td>\n",
              "      <td>0</td>\n",
              "      <td>group 17-28</td>\n",
              "    </tr>\n",
              "    <tr>\n",
              "      <th>6</th>\n",
              "      <td>17874_144</td>\n",
              "      <td>Y_2</td>\n",
              "      <td>Y</td>\n",
              "      <td>120</td>\n",
              "      <td>144</td>\n",
              "      <td>online</td>\n",
              "      <td>easy</td>\n",
              "      <td>17874</td>\n",
              "      <td>M</td>\n",
              "      <td>Bachelors</td>\n",
              "      <td>2</td>\n",
              "      <td>48.0</td>\n",
              "      <td>3</td>\n",
              "      <td>N</td>\n",
              "      <td>3.0</td>\n",
              "      <td>1</td>\n",
              "      <td>group 45-63</td>\n",
              "    </tr>\n",
              "    <tr>\n",
              "      <th>9</th>\n",
              "      <td>17019_153</td>\n",
              "      <td>Y_1</td>\n",
              "      <td>Y</td>\n",
              "      <td>136</td>\n",
              "      <td>153</td>\n",
              "      <td>offline</td>\n",
              "      <td>hard</td>\n",
              "      <td>17019</td>\n",
              "      <td>M</td>\n",
              "      <td>Bachelors</td>\n",
              "      <td>3</td>\n",
              "      <td>28.0</td>\n",
              "      <td>2</td>\n",
              "      <td>N</td>\n",
              "      <td>4.0</td>\n",
              "      <td>1</td>\n",
              "      <td>group 28-39</td>\n",
              "    </tr>\n",
              "    <tr>\n",
              "      <th>12</th>\n",
              "      <td>15848_149</td>\n",
              "      <td>Y_1</td>\n",
              "      <td>Y</td>\n",
              "      <td>136</td>\n",
              "      <td>149</td>\n",
              "      <td>offline</td>\n",
              "      <td>intermediate</td>\n",
              "      <td>15848</td>\n",
              "      <td>M</td>\n",
              "      <td>High School Diploma</td>\n",
              "      <td>1</td>\n",
              "      <td>45.0</td>\n",
              "      <td>4</td>\n",
              "      <td>N</td>\n",
              "      <td>4.0</td>\n",
              "      <td>1</td>\n",
              "      <td>group 45-63</td>\n",
              "    </tr>\n",
              "    <tr>\n",
              "      <th>13</th>\n",
              "      <td>423_126</td>\n",
              "      <td>Y_3</td>\n",
              "      <td>Y</td>\n",
              "      <td>135</td>\n",
              "      <td>126</td>\n",
              "      <td>offline</td>\n",
              "      <td>intermediate</td>\n",
              "      <td>423</td>\n",
              "      <td>M</td>\n",
              "      <td>Matriculation</td>\n",
              "      <td>3</td>\n",
              "      <td>45.0</td>\n",
              "      <td>4</td>\n",
              "      <td>N</td>\n",
              "      <td>5.0</td>\n",
              "      <td>1</td>\n",
              "      <td>group 45-63</td>\n",
              "    </tr>\n",
              "  </tbody>\n",
              "</table>\n",
              "</div>"
            ],
            "text/plain": [
              "           id program_id  ... is_pass    age_group\n",
              "0    9389_150        Y_1  ...       0  group 17-28\n",
              "6   17874_144        Y_2  ...       1  group 45-63\n",
              "9   17019_153        Y_1  ...       1  group 28-39\n",
              "12  15848_149        Y_1  ...       1  group 45-63\n",
              "13    423_126        Y_3  ...       1  group 45-63\n",
              "\n",
              "[5 rows x 17 columns]"
            ]
          },
          "metadata": {
            "tags": []
          },
          "execution_count": 185
        }
      ]
    },
    {
      "cell_type": "code",
      "metadata": {
        "id": "-WGOB-Pf5O5x",
        "colab_type": "code",
        "outputId": "1542d5c4-da13-4b4c-a570-5418dfb4abe9",
        "colab": {
          "base_uri": "https://localhost:8080/",
          "height": 280
        }
      },
      "source": [
        "sns.countplot(\"total_programs_enrolled\",hue=\"trainee_engagement_rating\",data=train_main)\n",
        "plt.show()"
      ],
      "execution_count": 0,
      "outputs": [
        {
          "output_type": "display_data",
          "data": {
            "image/png": "[encoded data removed]",
            "text/plain": [
              "<Figure size 432x288 with 1 Axes>"
            ]
          },
          "metadata": {
            "tags": [],
            "needs_background": "light"
          }
        }
      ]
    },
    {
      "cell_type": "code",
      "metadata": {
        "id": "VC3oIQjn5XdH",
        "colab_type": "code",
        "outputId": "8d313d8b-56b5-40b7-d972-5a473a14432a",
        "colab": {
          "base_uri": "https://localhost:8080/",
          "height": 118
        }
      },
      "source": [
        "train_main['education'].value_counts()"
      ],
      "execution_count": 0,
      "outputs": [
        {
          "output_type": "execute_result",
          "data": {
            "text/plain": [
              "High School Diploma    34371\n",
              "Matriculation          26169\n",
              "Bachelors              11581\n",
              "No Qualification         514\n",
              "Masters                  512\n",
              "Name: education, dtype: int64"
            ]
          },
          "metadata": {
            "tags": []
          },
          "execution_count": 187
        }
      ]
    },
    {
      "cell_type": "markdown",
      "metadata": {
        "id": "ddaWNt9o6x1k",
        "colab_type": "text"
      },
      "source": [
        "# Pycaret demo"
      ]
    },
    {
      "cell_type": "code",
      "metadata": {
        "id": "qBliyL5z9C5-",
        "colab_type": "code",
        "colab": {}
      },
      "source": [
        "train_main_pycaret = train_main.drop(columns = [\"age_group\"]).copy()\n",
        "test_main_pycaret = test_main.copy()"
      ],
      "execution_count": 0,
      "outputs": []
    },
    {
      "cell_type": "code",
      "metadata": {
        "id": "rg4IXFbN990B",
        "colab_type": "code",
        "outputId": "ed3a3603-2248-4d22-b42d-79926026b2b8",
        "colab": {
          "base_uri": "https://localhost:8080/",
          "height": 67
        }
      },
      "source": [
        "train_main_pycaret['is_pass'].value_counts()"
      ],
      "execution_count": 0,
      "outputs": [
        {
          "output_type": "execute_result",
          "data": {
            "text/plain": [
              "1    50867\n",
              "0    22280\n",
              "Name: is_pass, dtype: int64"
            ]
          },
          "metadata": {
            "tags": []
          },
          "execution_count": 189
        }
      ]
    },
    {
      "cell_type": "code",
      "metadata": {
        "id": "C1KxRkxz92JG",
        "colab_type": "code",
        "colab": {}
      },
      "source": [
        "df_majority = train_main_pycaret[train_main_pycaret.is_pass==1]\n",
        "df_minority = train_main_pycaret[train_main_pycaret.is_pass==0]\n",
        " \n",
        "# Upsample minority class\n",
        "df_minority_upsampled = resample(df_minority, \n",
        "                                 replace=True,     # sample with replacement\n",
        "                                 n_samples=50867,    # to match majority class\n",
        "                                 random_state=88) # reproducible results\n",
        " \n",
        "# Combine majority class with upsampled minority class\n",
        "train_main_pycaret_sampled = pd.concat([df_majority, df_minority_upsampled])"
      ],
      "execution_count": 0,
      "outputs": []
    },
    {
      "cell_type": "code",
      "metadata": {
        "id": "D7U-vQ07-U3d",
        "colab_type": "code",
        "outputId": "3c961679-4080-4150-d423-14f5deacac55",
        "colab": {
          "base_uri": "https://localhost:8080/",
          "height": 34
        }
      },
      "source": [
        "df_minority_upsampled.shape"
      ],
      "execution_count": 0,
      "outputs": [
        {
          "output_type": "execute_result",
          "data": {
            "text/plain": [
              "(50867, 16)"
            ]
          },
          "metadata": {
            "tags": []
          },
          "execution_count": 191
        }
      ]
    },
    {
      "cell_type": "code",
      "metadata": {
        "id": "OMMdV398-Pdw",
        "colab_type": "code",
        "outputId": "bac12ae8-a385-4f46-9bfd-021a2ccd9260",
        "colab": {
          "base_uri": "https://localhost:8080/",
          "height": 67
        }
      },
      "source": [
        "train_main_pycaret_sampled['is_pass'].value_counts()"
      ],
      "execution_count": 0,
      "outputs": [
        {
          "output_type": "execute_result",
          "data": {
            "text/plain": [
              "1    50867\n",
              "0    50867\n",
              "Name: is_pass, dtype: int64"
            ]
          },
          "metadata": {
            "tags": []
          },
          "execution_count": 192
        }
      ]
    },
    {
      "cell_type": "code",
      "metadata": {
        "id": "j9iZEx6Xv1-K",
        "colab_type": "code",
        "colab": {}
      },
      "source": [
        "train_main_pycaret_sampled['program_duration'] = train_main_pycaret_sampled['program_duration'].astype(float)\n",
        "test_main_pycaret['program_duration'] = test_main_pycaret['program_duration'].astype(float)\n",
        "train_main_pycaret_sampled['total_programs_enrolled'] = train_main_pycaret_sampled['total_programs_enrolled'].astype(float)\n",
        "test_main_pycaret['total_programs_enrolled'] = test_main_pycaret['total_programs_enrolled'].astype(float)"
      ],
      "execution_count": 0,
      "outputs": []
    },
    {
      "cell_type": "code",
      "metadata": {
        "id": "MIrT92OL8Glh",
        "colab_type": "code",
        "outputId": "bcf7a225-6e9c-4805-e975-a2a2307bc6b4",
        "colab": {
          "base_uri": "https://localhost:8080/",
          "height": 912,
          "referenced_widgets": [
            "24243e1b91f04d589fc94e6bc2bac1d8",
            "1fbfd2adbf374ce7aff4164da2534d7e",
            "145ac67f75674453a4a64aa857d65981",
            "dda4e09d097141c9931cd9f6f72fc46b",
            "2497a183e2ff4f589c8f52f653d259cb",
            "9e668d0952f6439595f11667e4bdb129"
          ]
        }
      },
      "source": [
        "clf1 = setup(data = train_main_pycaret_sampled, target = 'is_pass')"
      ],
      "execution_count": 0,
      "outputs": [
        {
          "output_type": "stream",
          "text": [
            " \n",
            "Setup Succesfully Completed!\n"
          ],
          "name": "stdout"
        },
        {
          "output_type": "display_data",
          "data": {
            "text/html": [
              "<style  type=\"text/css\" >\n",
              "</style><table id=\"T_dd45c43c_8a97_11ea_9347_0242ac1c0002\" ><thead>    <tr>        <th class=\"blank level0\" ></th>        <th class=\"col_heading level0 col0\" >Description</th>        <th class=\"col_heading level0 col1\" >Value</th>    </tr></thead><tbody>\n",
              "                <tr>\n",
              "                        <th id=\"T_dd45c43c_8a97_11ea_9347_0242ac1c0002level0_row0\" class=\"row_heading level0 row0\" >0</th>\n",
              "                        <td id=\"T_dd45c43c_8a97_11ea_9347_0242ac1c0002row0_col0\" class=\"data row0 col0\" >session_id</td>\n",
              "                        <td id=\"T_dd45c43c_8a97_11ea_9347_0242ac1c0002row0_col1\" class=\"data row0 col1\" >2239</td>\n",
              "            </tr>\n",
              "            <tr>\n",
              "                        <th id=\"T_dd45c43c_8a97_11ea_9347_0242ac1c0002level0_row1\" class=\"row_heading level0 row1\" >1</th>\n",
              "                        <td id=\"T_dd45c43c_8a97_11ea_9347_0242ac1c0002row1_col0\" class=\"data row1 col0\" >Target Type</td>\n",
              "                        <td id=\"T_dd45c43c_8a97_11ea_9347_0242ac1c0002row1_col1\" class=\"data row1 col1\" >Binary</td>\n",
              "            </tr>\n",
              "            <tr>\n",
              "                        <th id=\"T_dd45c43c_8a97_11ea_9347_0242ac1c0002level0_row2\" class=\"row_heading level0 row2\" >2</th>\n",
              "                        <td id=\"T_dd45c43c_8a97_11ea_9347_0242ac1c0002row2_col0\" class=\"data row2 col0\" >Label Encoded</td>\n",
              "                        <td id=\"T_dd45c43c_8a97_11ea_9347_0242ac1c0002row2_col1\" class=\"data row2 col1\" >None</td>\n",
              "            </tr>\n",
              "            <tr>\n",
              "                        <th id=\"T_dd45c43c_8a97_11ea_9347_0242ac1c0002level0_row3\" class=\"row_heading level0 row3\" >3</th>\n",
              "                        <td id=\"T_dd45c43c_8a97_11ea_9347_0242ac1c0002row3_col0\" class=\"data row3 col0\" >Original Data</td>\n",
              "                        <td id=\"T_dd45c43c_8a97_11ea_9347_0242ac1c0002row3_col1\" class=\"data row3 col1\" >(101734, 16)</td>\n",
              "            </tr>\n",
              "            <tr>\n",
              "                        <th id=\"T_dd45c43c_8a97_11ea_9347_0242ac1c0002level0_row4\" class=\"row_heading level0 row4\" >4</th>\n",
              "                        <td id=\"T_dd45c43c_8a97_11ea_9347_0242ac1c0002row4_col0\" class=\"data row4 col0\" >Missing Values </td>\n",
              "                        <td id=\"T_dd45c43c_8a97_11ea_9347_0242ac1c0002row4_col1\" class=\"data row4 col1\" >False</td>\n",
              "            </tr>\n",
              "            <tr>\n",
              "                        <th id=\"T_dd45c43c_8a97_11ea_9347_0242ac1c0002level0_row5\" class=\"row_heading level0 row5\" >5</th>\n",
              "                        <td id=\"T_dd45c43c_8a97_11ea_9347_0242ac1c0002row5_col0\" class=\"data row5 col0\" >Numeric Features </td>\n",
              "                        <td id=\"T_dd45c43c_8a97_11ea_9347_0242ac1c0002row5_col1\" class=\"data row5 col1\" >7</td>\n",
              "            </tr>\n",
              "            <tr>\n",
              "                        <th id=\"T_dd45c43c_8a97_11ea_9347_0242ac1c0002level0_row6\" class=\"row_heading level0 row6\" >6</th>\n",
              "                        <td id=\"T_dd45c43c_8a97_11ea_9347_0242ac1c0002row6_col0\" class=\"data row6 col0\" >Categorical Features </td>\n",
              "                        <td id=\"T_dd45c43c_8a97_11ea_9347_0242ac1c0002row6_col1\" class=\"data row6 col1\" >8</td>\n",
              "            </tr>\n",
              "            <tr>\n",
              "                        <th id=\"T_dd45c43c_8a97_11ea_9347_0242ac1c0002level0_row7\" class=\"row_heading level0 row7\" >7</th>\n",
              "                        <td id=\"T_dd45c43c_8a97_11ea_9347_0242ac1c0002row7_col0\" class=\"data row7 col0\" >Ordinal Features </td>\n",
              "                        <td id=\"T_dd45c43c_8a97_11ea_9347_0242ac1c0002row7_col1\" class=\"data row7 col1\" >False</td>\n",
              "            </tr>\n",
              "            <tr>\n",
              "                        <th id=\"T_dd45c43c_8a97_11ea_9347_0242ac1c0002level0_row8\" class=\"row_heading level0 row8\" >8</th>\n",
              "                        <td id=\"T_dd45c43c_8a97_11ea_9347_0242ac1c0002row8_col0\" class=\"data row8 col0\" >High Cardinality Features </td>\n",
              "                        <td id=\"T_dd45c43c_8a97_11ea_9347_0242ac1c0002row8_col1\" class=\"data row8 col1\" >False</td>\n",
              "            </tr>\n",
              "            <tr>\n",
              "                        <th id=\"T_dd45c43c_8a97_11ea_9347_0242ac1c0002level0_row9\" class=\"row_heading level0 row9\" >9</th>\n",
              "                        <td id=\"T_dd45c43c_8a97_11ea_9347_0242ac1c0002row9_col0\" class=\"data row9 col0\" >High Cardinality Method </td>\n",
              "                        <td id=\"T_dd45c43c_8a97_11ea_9347_0242ac1c0002row9_col1\" class=\"data row9 col1\" >None</td>\n",
              "            </tr>\n",
              "            <tr>\n",
              "                        <th id=\"T_dd45c43c_8a97_11ea_9347_0242ac1c0002level0_row10\" class=\"row_heading level0 row10\" >10</th>\n",
              "                        <td id=\"T_dd45c43c_8a97_11ea_9347_0242ac1c0002row10_col0\" class=\"data row10 col0\" >Sampled Data</td>\n",
              "                        <td id=\"T_dd45c43c_8a97_11ea_9347_0242ac1c0002row10_col1\" class=\"data row10 col1\" >(71213, 16)</td>\n",
              "            </tr>\n",
              "            <tr>\n",
              "                        <th id=\"T_dd45c43c_8a97_11ea_9347_0242ac1c0002level0_row11\" class=\"row_heading level0 row11\" >11</th>\n",
              "                        <td id=\"T_dd45c43c_8a97_11ea_9347_0242ac1c0002row11_col0\" class=\"data row11 col0\" >Transformed Train Set</td>\n",
              "                        <td id=\"T_dd45c43c_8a97_11ea_9347_0242ac1c0002row11_col1\" class=\"data row11 col1\" >(49849, 52)</td>\n",
              "            </tr>\n",
              "            <tr>\n",
              "                        <th id=\"T_dd45c43c_8a97_11ea_9347_0242ac1c0002level0_row12\" class=\"row_heading level0 row12\" >12</th>\n",
              "                        <td id=\"T_dd45c43c_8a97_11ea_9347_0242ac1c0002row12_col0\" class=\"data row12 col0\" >Transformed Test Set</td>\n",
              "                        <td id=\"T_dd45c43c_8a97_11ea_9347_0242ac1c0002row12_col1\" class=\"data row12 col1\" >(21364, 52)</td>\n",
              "            </tr>\n",
              "            <tr>\n",
              "                        <th id=\"T_dd45c43c_8a97_11ea_9347_0242ac1c0002level0_row13\" class=\"row_heading level0 row13\" >13</th>\n",
              "                        <td id=\"T_dd45c43c_8a97_11ea_9347_0242ac1c0002row13_col0\" class=\"data row13 col0\" >Numeric Imputer </td>\n",
              "                        <td id=\"T_dd45c43c_8a97_11ea_9347_0242ac1c0002row13_col1\" class=\"data row13 col1\" >mean</td>\n",
              "            </tr>\n",
              "            <tr>\n",
              "                        <th id=\"T_dd45c43c_8a97_11ea_9347_0242ac1c0002level0_row14\" class=\"row_heading level0 row14\" >14</th>\n",
              "                        <td id=\"T_dd45c43c_8a97_11ea_9347_0242ac1c0002row14_col0\" class=\"data row14 col0\" >Categorical Imputer </td>\n",
              "                        <td id=\"T_dd45c43c_8a97_11ea_9347_0242ac1c0002row14_col1\" class=\"data row14 col1\" >constant</td>\n",
              "            </tr>\n",
              "            <tr>\n",
              "                        <th id=\"T_dd45c43c_8a97_11ea_9347_0242ac1c0002level0_row15\" class=\"row_heading level0 row15\" >15</th>\n",
              "                        <td id=\"T_dd45c43c_8a97_11ea_9347_0242ac1c0002row15_col0\" class=\"data row15 col0\" >Normalize </td>\n",
              "                        <td id=\"T_dd45c43c_8a97_11ea_9347_0242ac1c0002row15_col1\" class=\"data row15 col1\" >False</td>\n",
              "            </tr>\n",
              "            <tr>\n",
              "                        <th id=\"T_dd45c43c_8a97_11ea_9347_0242ac1c0002level0_row16\" class=\"row_heading level0 row16\" >16</th>\n",
              "                        <td id=\"T_dd45c43c_8a97_11ea_9347_0242ac1c0002row16_col0\" class=\"data row16 col0\" >Normalize Method </td>\n",
              "                        <td id=\"T_dd45c43c_8a97_11ea_9347_0242ac1c0002row16_col1\" class=\"data row16 col1\" >None</td>\n",
              "            </tr>\n",
              "            <tr>\n",
              "                        <th id=\"T_dd45c43c_8a97_11ea_9347_0242ac1c0002level0_row17\" class=\"row_heading level0 row17\" >17</th>\n",
              "                        <td id=\"T_dd45c43c_8a97_11ea_9347_0242ac1c0002row17_col0\" class=\"data row17 col0\" >Transformation </td>\n",
              "                        <td id=\"T_dd45c43c_8a97_11ea_9347_0242ac1c0002row17_col1\" class=\"data row17 col1\" >False</td>\n",
              "            </tr>\n",
              "            <tr>\n",
              "                        <th id=\"T_dd45c43c_8a97_11ea_9347_0242ac1c0002level0_row18\" class=\"row_heading level0 row18\" >18</th>\n",
              "                        <td id=\"T_dd45c43c_8a97_11ea_9347_0242ac1c0002row18_col0\" class=\"data row18 col0\" >Transformation Method </td>\n",
              "                        <td id=\"T_dd45c43c_8a97_11ea_9347_0242ac1c0002row18_col1\" class=\"data row18 col1\" >None</td>\n",
              "            </tr>\n",
              "            <tr>\n",
              "                        <th id=\"T_dd45c43c_8a97_11ea_9347_0242ac1c0002level0_row19\" class=\"row_heading level0 row19\" >19</th>\n",
              "                        <td id=\"T_dd45c43c_8a97_11ea_9347_0242ac1c0002row19_col0\" class=\"data row19 col0\" >PCA </td>\n",
              "                        <td id=\"T_dd45c43c_8a97_11ea_9347_0242ac1c0002row19_col1\" class=\"data row19 col1\" >False</td>\n",
              "            </tr>\n",
              "            <tr>\n",
              "                        <th id=\"T_dd45c43c_8a97_11ea_9347_0242ac1c0002level0_row20\" class=\"row_heading level0 row20\" >20</th>\n",
              "                        <td id=\"T_dd45c43c_8a97_11ea_9347_0242ac1c0002row20_col0\" class=\"data row20 col0\" >PCA Method </td>\n",
              "                        <td id=\"T_dd45c43c_8a97_11ea_9347_0242ac1c0002row20_col1\" class=\"data row20 col1\" >None</td>\n",
              "            </tr>\n",
              "            <tr>\n",
              "                        <th id=\"T_dd45c43c_8a97_11ea_9347_0242ac1c0002level0_row21\" class=\"row_heading level0 row21\" >21</th>\n",
              "                        <td id=\"T_dd45c43c_8a97_11ea_9347_0242ac1c0002row21_col0\" class=\"data row21 col0\" >PCA Components </td>\n",
              "                        <td id=\"T_dd45c43c_8a97_11ea_9347_0242ac1c0002row21_col1\" class=\"data row21 col1\" >None</td>\n",
              "            </tr>\n",
              "            <tr>\n",
              "                        <th id=\"T_dd45c43c_8a97_11ea_9347_0242ac1c0002level0_row22\" class=\"row_heading level0 row22\" >22</th>\n",
              "                        <td id=\"T_dd45c43c_8a97_11ea_9347_0242ac1c0002row22_col0\" class=\"data row22 col0\" >Ignore Low Variance </td>\n",
              "                        <td id=\"T_dd45c43c_8a97_11ea_9347_0242ac1c0002row22_col1\" class=\"data row22 col1\" >False</td>\n",
              "            </tr>\n",
              "            <tr>\n",
              "                        <th id=\"T_dd45c43c_8a97_11ea_9347_0242ac1c0002level0_row23\" class=\"row_heading level0 row23\" >23</th>\n",
              "                        <td id=\"T_dd45c43c_8a97_11ea_9347_0242ac1c0002row23_col0\" class=\"data row23 col0\" >Combine Rare Levels </td>\n",
              "                        <td id=\"T_dd45c43c_8a97_11ea_9347_0242ac1c0002row23_col1\" class=\"data row23 col1\" >False</td>\n",
              "            </tr>\n",
              "            <tr>\n",
              "                        <th id=\"T_dd45c43c_8a97_11ea_9347_0242ac1c0002level0_row24\" class=\"row_heading level0 row24\" >24</th>\n",
              "                        <td id=\"T_dd45c43c_8a97_11ea_9347_0242ac1c0002row24_col0\" class=\"data row24 col0\" >Rare Level Threshold </td>\n",
              "                        <td id=\"T_dd45c43c_8a97_11ea_9347_0242ac1c0002row24_col1\" class=\"data row24 col1\" >None</td>\n",
              "            </tr>\n",
              "            <tr>\n",
              "                        <th id=\"T_dd45c43c_8a97_11ea_9347_0242ac1c0002level0_row25\" class=\"row_heading level0 row25\" >25</th>\n",
              "                        <td id=\"T_dd45c43c_8a97_11ea_9347_0242ac1c0002row25_col0\" class=\"data row25 col0\" >Numeric Binning </td>\n",
              "                        <td id=\"T_dd45c43c_8a97_11ea_9347_0242ac1c0002row25_col1\" class=\"data row25 col1\" >False</td>\n",
              "            </tr>\n",
              "            <tr>\n",
              "                        <th id=\"T_dd45c43c_8a97_11ea_9347_0242ac1c0002level0_row26\" class=\"row_heading level0 row26\" >26</th>\n",
              "                        <td id=\"T_dd45c43c_8a97_11ea_9347_0242ac1c0002row26_col0\" class=\"data row26 col0\" >Remove Outliers </td>\n",
              "                        <td id=\"T_dd45c43c_8a97_11ea_9347_0242ac1c0002row26_col1\" class=\"data row26 col1\" >False</td>\n",
              "            </tr>\n",
              "            <tr>\n",
              "                        <th id=\"T_dd45c43c_8a97_11ea_9347_0242ac1c0002level0_row27\" class=\"row_heading level0 row27\" >27</th>\n",
              "                        <td id=\"T_dd45c43c_8a97_11ea_9347_0242ac1c0002row27_col0\" class=\"data row27 col0\" >Outliers Threshold </td>\n",
              "                        <td id=\"T_dd45c43c_8a97_11ea_9347_0242ac1c0002row27_col1\" class=\"data row27 col1\" >None</td>\n",
              "            </tr>\n",
              "            <tr>\n",
              "                        <th id=\"T_dd45c43c_8a97_11ea_9347_0242ac1c0002level0_row28\" class=\"row_heading level0 row28\" >28</th>\n",
              "                        <td id=\"T_dd45c43c_8a97_11ea_9347_0242ac1c0002row28_col0\" class=\"data row28 col0\" >Remove Multicollinearity </td>\n",
              "                        <td id=\"T_dd45c43c_8a97_11ea_9347_0242ac1c0002row28_col1\" class=\"data row28 col1\" >False</td>\n",
              "            </tr>\n",
              "            <tr>\n",
              "                        <th id=\"T_dd45c43c_8a97_11ea_9347_0242ac1c0002level0_row29\" class=\"row_heading level0 row29\" >29</th>\n",
              "                        <td id=\"T_dd45c43c_8a97_11ea_9347_0242ac1c0002row29_col0\" class=\"data row29 col0\" >Multicollinearity Threshold </td>\n",
              "                        <td id=\"T_dd45c43c_8a97_11ea_9347_0242ac1c0002row29_col1\" class=\"data row29 col1\" >None</td>\n",
              "            </tr>\n",
              "            <tr>\n",
              "                        <th id=\"T_dd45c43c_8a97_11ea_9347_0242ac1c0002level0_row30\" class=\"row_heading level0 row30\" >30</th>\n",
              "                        <td id=\"T_dd45c43c_8a97_11ea_9347_0242ac1c0002row30_col0\" class=\"data row30 col0\" >Clustering </td>\n",
              "                        <td id=\"T_dd45c43c_8a97_11ea_9347_0242ac1c0002row30_col1\" class=\"data row30 col1\" >False</td>\n",
              "            </tr>\n",
              "            <tr>\n",
              "                        <th id=\"T_dd45c43c_8a97_11ea_9347_0242ac1c0002level0_row31\" class=\"row_heading level0 row31\" >31</th>\n",
              "                        <td id=\"T_dd45c43c_8a97_11ea_9347_0242ac1c0002row31_col0\" class=\"data row31 col0\" >Clustering Iteration </td>\n",
              "                        <td id=\"T_dd45c43c_8a97_11ea_9347_0242ac1c0002row31_col1\" class=\"data row31 col1\" >None</td>\n",
              "            </tr>\n",
              "            <tr>\n",
              "                        <th id=\"T_dd45c43c_8a97_11ea_9347_0242ac1c0002level0_row32\" class=\"row_heading level0 row32\" >32</th>\n",
              "                        <td id=\"T_dd45c43c_8a97_11ea_9347_0242ac1c0002row32_col0\" class=\"data row32 col0\" >Polynomial Features </td>\n",
              "                        <td id=\"T_dd45c43c_8a97_11ea_9347_0242ac1c0002row32_col1\" class=\"data row32 col1\" >False</td>\n",
              "            </tr>\n",
              "            <tr>\n",
              "                        <th id=\"T_dd45c43c_8a97_11ea_9347_0242ac1c0002level0_row33\" class=\"row_heading level0 row33\" >33</th>\n",
              "                        <td id=\"T_dd45c43c_8a97_11ea_9347_0242ac1c0002row33_col0\" class=\"data row33 col0\" >Polynomial Degree </td>\n",
              "                        <td id=\"T_dd45c43c_8a97_11ea_9347_0242ac1c0002row33_col1\" class=\"data row33 col1\" >None</td>\n",
              "            </tr>\n",
              "            <tr>\n",
              "                        <th id=\"T_dd45c43c_8a97_11ea_9347_0242ac1c0002level0_row34\" class=\"row_heading level0 row34\" >34</th>\n",
              "                        <td id=\"T_dd45c43c_8a97_11ea_9347_0242ac1c0002row34_col0\" class=\"data row34 col0\" >Trignometry Features </td>\n",
              "                        <td id=\"T_dd45c43c_8a97_11ea_9347_0242ac1c0002row34_col1\" class=\"data row34 col1\" >False</td>\n",
              "            </tr>\n",
              "            <tr>\n",
              "                        <th id=\"T_dd45c43c_8a97_11ea_9347_0242ac1c0002level0_row35\" class=\"row_heading level0 row35\" >35</th>\n",
              "                        <td id=\"T_dd45c43c_8a97_11ea_9347_0242ac1c0002row35_col0\" class=\"data row35 col0\" >Polynomial Threshold </td>\n",
              "                        <td id=\"T_dd45c43c_8a97_11ea_9347_0242ac1c0002row35_col1\" class=\"data row35 col1\" >None</td>\n",
              "            </tr>\n",
              "            <tr>\n",
              "                        <th id=\"T_dd45c43c_8a97_11ea_9347_0242ac1c0002level0_row36\" class=\"row_heading level0 row36\" >36</th>\n",
              "                        <td id=\"T_dd45c43c_8a97_11ea_9347_0242ac1c0002row36_col0\" class=\"data row36 col0\" >Group Features </td>\n",
              "                        <td id=\"T_dd45c43c_8a97_11ea_9347_0242ac1c0002row36_col1\" class=\"data row36 col1\" >False</td>\n",
              "            </tr>\n",
              "            <tr>\n",
              "                        <th id=\"T_dd45c43c_8a97_11ea_9347_0242ac1c0002level0_row37\" class=\"row_heading level0 row37\" >37</th>\n",
              "                        <td id=\"T_dd45c43c_8a97_11ea_9347_0242ac1c0002row37_col0\" class=\"data row37 col0\" >Feature Selection </td>\n",
              "                        <td id=\"T_dd45c43c_8a97_11ea_9347_0242ac1c0002row37_col1\" class=\"data row37 col1\" >False</td>\n",
              "            </tr>\n",
              "            <tr>\n",
              "                        <th id=\"T_dd45c43c_8a97_11ea_9347_0242ac1c0002level0_row38\" class=\"row_heading level0 row38\" >38</th>\n",
              "                        <td id=\"T_dd45c43c_8a97_11ea_9347_0242ac1c0002row38_col0\" class=\"data row38 col0\" >Features Selection Threshold </td>\n",
              "                        <td id=\"T_dd45c43c_8a97_11ea_9347_0242ac1c0002row38_col1\" class=\"data row38 col1\" >None</td>\n",
              "            </tr>\n",
              "            <tr>\n",
              "                        <th id=\"T_dd45c43c_8a97_11ea_9347_0242ac1c0002level0_row39\" class=\"row_heading level0 row39\" >39</th>\n",
              "                        <td id=\"T_dd45c43c_8a97_11ea_9347_0242ac1c0002row39_col0\" class=\"data row39 col0\" >Feature Interaction </td>\n",
              "                        <td id=\"T_dd45c43c_8a97_11ea_9347_0242ac1c0002row39_col1\" class=\"data row39 col1\" >False</td>\n",
              "            </tr>\n",
              "            <tr>\n",
              "                        <th id=\"T_dd45c43c_8a97_11ea_9347_0242ac1c0002level0_row40\" class=\"row_heading level0 row40\" >40</th>\n",
              "                        <td id=\"T_dd45c43c_8a97_11ea_9347_0242ac1c0002row40_col0\" class=\"data row40 col0\" >Feature Ratio </td>\n",
              "                        <td id=\"T_dd45c43c_8a97_11ea_9347_0242ac1c0002row40_col1\" class=\"data row40 col1\" >False</td>\n",
              "            </tr>\n",
              "            <tr>\n",
              "                        <th id=\"T_dd45c43c_8a97_11ea_9347_0242ac1c0002level0_row41\" class=\"row_heading level0 row41\" >41</th>\n",
              "                        <td id=\"T_dd45c43c_8a97_11ea_9347_0242ac1c0002row41_col0\" class=\"data row41 col0\" >Interaction Threshold </td>\n",
              "                        <td id=\"T_dd45c43c_8a97_11ea_9347_0242ac1c0002row41_col1\" class=\"data row41 col1\" >None</td>\n",
              "            </tr>\n",
              "    </tbody></table>"
            ],
            "text/plain": [
              "<pandas.io.formats.style.Styler at 0x7f24c97fd8d0>"
            ]
          },
          "metadata": {
            "tags": []
          }
        }
      ]
    },
    {
      "cell_type": "code",
      "metadata": {
        "id": "WgaUsjb29WOk",
        "colab_type": "code",
        "colab": {}
      },
      "source": [
        "# compare_models()"
      ],
      "execution_count": 0,
      "outputs": []
    },
    {
      "cell_type": "code",
      "metadata": {
        "id": "3Q30CLYx9o0c",
        "colab_type": "code",
        "outputId": "ecb44f14-98e3-475c-976f-2852bf92d403",
        "colab": {
          "base_uri": "https://localhost:8080/",
          "height": 402,
          "referenced_widgets": [
            "6ef38f4bdcdf4e5198356dc8a167d026",
            "b60f43afa4e44192b86095c8817bb8c8",
            "12bd68323ebe4988b79b3ad56dea37cb"
          ]
        }
      },
      "source": [
        "extra_tree = create_model(\"et\")"
      ],
      "execution_count": 0,
      "outputs": [
        {
          "output_type": "display_data",
          "data": {
            "text/html": [
              "<div>\n",
              "<style scoped>\n",
              "    .dataframe tbody tr th:only-of-type {\n",
              "        vertical-align: middle;\n",
              "    }\n",
              "\n",
              "    .dataframe tbody tr th {\n",
              "        vertical-align: top;\n",
              "    }\n",
              "\n",
              "    .dataframe thead th {\n",
              "        text-align: right;\n",
              "    }\n",
              "</style>\n",
              "<table border=\"1\" class=\"dataframe\">\n",
              "  <thead>\n",
              "    <tr style=\"text-align: right;\">\n",
              "      <th></th>\n",
              "      <th>Accuracy</th>\n",
              "      <th>AUC</th>\n",
              "      <th>Recall</th>\n",
              "      <th>Prec.</th>\n",
              "      <th>F1</th>\n",
              "      <th>Kappa</th>\n",
              "    </tr>\n",
              "  </thead>\n",
              "  <tbody>\n",
              "    <tr>\n",
              "      <th>0</th>\n",
              "      <td>0.8012</td>\n",
              "      <td>0.9063</td>\n",
              "      <td>0.7553</td>\n",
              "      <td>0.8317</td>\n",
              "      <td>0.7917</td>\n",
              "      <td>0.6024</td>\n",
              "    </tr>\n",
              "    <tr>\n",
              "      <th>1</th>\n",
              "      <td>0.7974</td>\n",
              "      <td>0.9003</td>\n",
              "      <td>0.7581</td>\n",
              "      <td>0.8228</td>\n",
              "      <td>0.7891</td>\n",
              "      <td>0.5948</td>\n",
              "    </tr>\n",
              "    <tr>\n",
              "      <th>2</th>\n",
              "      <td>0.8110</td>\n",
              "      <td>0.9038</td>\n",
              "      <td>0.7770</td>\n",
              "      <td>0.8338</td>\n",
              "      <td>0.8044</td>\n",
              "      <td>0.6221</td>\n",
              "    </tr>\n",
              "    <tr>\n",
              "      <th>3</th>\n",
              "      <td>0.8056</td>\n",
              "      <td>0.9072</td>\n",
              "      <td>0.7625</td>\n",
              "      <td>0.8345</td>\n",
              "      <td>0.7969</td>\n",
              "      <td>0.6112</td>\n",
              "    </tr>\n",
              "    <tr>\n",
              "      <th>4</th>\n",
              "      <td>0.8036</td>\n",
              "      <td>0.8994</td>\n",
              "      <td>0.7633</td>\n",
              "      <td>0.8303</td>\n",
              "      <td>0.7954</td>\n",
              "      <td>0.6072</td>\n",
              "    </tr>\n",
              "    <tr>\n",
              "      <th>5</th>\n",
              "      <td>0.8100</td>\n",
              "      <td>0.9053</td>\n",
              "      <td>0.7673</td>\n",
              "      <td>0.8390</td>\n",
              "      <td>0.8015</td>\n",
              "      <td>0.6201</td>\n",
              "    </tr>\n",
              "    <tr>\n",
              "      <th>6</th>\n",
              "      <td>0.8026</td>\n",
              "      <td>0.8993</td>\n",
              "      <td>0.7705</td>\n",
              "      <td>0.8233</td>\n",
              "      <td>0.7960</td>\n",
              "      <td>0.6052</td>\n",
              "    </tr>\n",
              "    <tr>\n",
              "      <th>7</th>\n",
              "      <td>0.8038</td>\n",
              "      <td>0.9042</td>\n",
              "      <td>0.7709</td>\n",
              "      <td>0.8252</td>\n",
              "      <td>0.7971</td>\n",
              "      <td>0.6076</td>\n",
              "    </tr>\n",
              "    <tr>\n",
              "      <th>8</th>\n",
              "      <td>0.8018</td>\n",
              "      <td>0.8962</td>\n",
              "      <td>0.7665</td>\n",
              "      <td>0.8247</td>\n",
              "      <td>0.7945</td>\n",
              "      <td>0.6036</td>\n",
              "    </tr>\n",
              "    <tr>\n",
              "      <th>9</th>\n",
              "      <td>0.8038</td>\n",
              "      <td>0.8992</td>\n",
              "      <td>0.7725</td>\n",
              "      <td>0.8241</td>\n",
              "      <td>0.7974</td>\n",
              "      <td>0.6075</td>\n",
              "    </tr>\n",
              "    <tr>\n",
              "      <th>Mean</th>\n",
              "      <td>0.8041</td>\n",
              "      <td>0.9021</td>\n",
              "      <td>0.7664</td>\n",
              "      <td>0.8289</td>\n",
              "      <td>0.7964</td>\n",
              "      <td>0.6082</td>\n",
              "    </tr>\n",
              "    <tr>\n",
              "      <th>SD</th>\n",
              "      <td>0.0038</td>\n",
              "      <td>0.0035</td>\n",
              "      <td>0.0063</td>\n",
              "      <td>0.0054</td>\n",
              "      <td>0.0041</td>\n",
              "      <td>0.0077</td>\n",
              "    </tr>\n",
              "  </tbody>\n",
              "</table>\n",
              "</div>"
            ],
            "text/plain": [
              "      Accuracy     AUC  Recall   Prec.      F1   Kappa\n",
              "0       0.8012  0.9063  0.7553  0.8317  0.7917  0.6024\n",
              "1       0.7974  0.9003  0.7581  0.8228  0.7891  0.5948\n",
              "2       0.8110  0.9038  0.7770  0.8338  0.8044  0.6221\n",
              "3       0.8056  0.9072  0.7625  0.8345  0.7969  0.6112\n",
              "4       0.8036  0.8994  0.7633  0.8303  0.7954  0.6072\n",
              "5       0.8100  0.9053  0.7673  0.8390  0.8015  0.6201\n",
              "6       0.8026  0.8993  0.7705  0.8233  0.7960  0.6052\n",
              "7       0.8038  0.9042  0.7709  0.8252  0.7971  0.6076\n",
              "8       0.8018  0.8962  0.7665  0.8247  0.7945  0.6036\n",
              "9       0.8038  0.8992  0.7725  0.8241  0.7974  0.6075\n",
              "Mean    0.8041  0.9021  0.7664  0.8289  0.7964  0.6082\n",
              "SD      0.0038  0.0035  0.0063  0.0054  0.0041  0.0077"
            ]
          },
          "metadata": {
            "tags": []
          }
        }
      ]
    },
    {
      "cell_type": "code",
      "metadata": {
        "id": "5ByN-Nn3_edl",
        "colab_type": "code",
        "colab": {}
      },
      "source": [
        "y_pred = predict_model(extra_tree,data=test_main_pycaret)"
      ],
      "execution_count": 0,
      "outputs": []
    },
    {
      "cell_type": "code",
      "metadata": {
        "id": "4SsX9DK0BfEt",
        "colab_type": "code",
        "outputId": "648b9589-b040-4a46-cf48-10749a2f8bb9",
        "colab": {
          "base_uri": "https://localhost:8080/",
          "height": 249
        }
      },
      "source": [
        "y_pred.head()"
      ],
      "execution_count": 0,
      "outputs": [
        {
          "output_type": "execute_result",
          "data": {
            "text/html": [
              "<div>\n",
              "<style scoped>\n",
              "    .dataframe tbody tr th:only-of-type {\n",
              "        vertical-align: middle;\n",
              "    }\n",
              "\n",
              "    .dataframe tbody tr th {\n",
              "        vertical-align: top;\n",
              "    }\n",
              "\n",
              "    .dataframe thead th {\n",
              "        text-align: right;\n",
              "    }\n",
              "</style>\n",
              "<table border=\"1\" class=\"dataframe\">\n",
              "  <thead>\n",
              "    <tr style=\"text-align: right;\">\n",
              "      <th></th>\n",
              "      <th>id</th>\n",
              "      <th>program_id</th>\n",
              "      <th>program_type</th>\n",
              "      <th>program_duration</th>\n",
              "      <th>test_id</th>\n",
              "      <th>test_type</th>\n",
              "      <th>difficulty_level</th>\n",
              "      <th>trainee_id</th>\n",
              "      <th>gender</th>\n",
              "      <th>education</th>\n",
              "      <th>city_tier</th>\n",
              "      <th>age</th>\n",
              "      <th>total_programs_enrolled</th>\n",
              "      <th>is_handicapped</th>\n",
              "      <th>trainee_engagement_rating</th>\n",
              "      <th>Label</th>\n",
              "      <th>Score</th>\n",
              "    </tr>\n",
              "  </thead>\n",
              "  <tbody>\n",
              "    <tr>\n",
              "      <th>0</th>\n",
              "      <td>1626_45</td>\n",
              "      <td>T_1</td>\n",
              "      <td>T</td>\n",
              "      <td>131.0</td>\n",
              "      <td>45</td>\n",
              "      <td>offline</td>\n",
              "      <td>intermediate</td>\n",
              "      <td>1626</td>\n",
              "      <td>F</td>\n",
              "      <td>Matriculation</td>\n",
              "      <td>3</td>\n",
              "      <td>46.0</td>\n",
              "      <td>2.0</td>\n",
              "      <td>N</td>\n",
              "      <td>4.0</td>\n",
              "      <td>1</td>\n",
              "      <td>0.75</td>\n",
              "    </tr>\n",
              "    <tr>\n",
              "      <th>1</th>\n",
              "      <td>5499_29</td>\n",
              "      <td>T_3</td>\n",
              "      <td>T</td>\n",
              "      <td>134.0</td>\n",
              "      <td>29</td>\n",
              "      <td>online</td>\n",
              "      <td>easy</td>\n",
              "      <td>5499</td>\n",
              "      <td>F</td>\n",
              "      <td>High School Diploma</td>\n",
              "      <td>2</td>\n",
              "      <td>45.0</td>\n",
              "      <td>2.0</td>\n",
              "      <td>N</td>\n",
              "      <td>4.0</td>\n",
              "      <td>1</td>\n",
              "      <td>0.88</td>\n",
              "    </tr>\n",
              "    <tr>\n",
              "      <th>2</th>\n",
              "      <td>6215_17</td>\n",
              "      <td>T_4</td>\n",
              "      <td>T</td>\n",
              "      <td>120.0</td>\n",
              "      <td>17</td>\n",
              "      <td>online</td>\n",
              "      <td>easy</td>\n",
              "      <td>6215</td>\n",
              "      <td>F</td>\n",
              "      <td>High School Diploma</td>\n",
              "      <td>1</td>\n",
              "      <td>45.0</td>\n",
              "      <td>4.0</td>\n",
              "      <td>N</td>\n",
              "      <td>1.0</td>\n",
              "      <td>1</td>\n",
              "      <td>0.87</td>\n",
              "    </tr>\n",
              "    <tr>\n",
              "      <th>3</th>\n",
              "      <td>11094_23</td>\n",
              "      <td>T_3</td>\n",
              "      <td>T</td>\n",
              "      <td>134.0</td>\n",
              "      <td>23</td>\n",
              "      <td>offline</td>\n",
              "      <td>intermediate</td>\n",
              "      <td>11094</td>\n",
              "      <td>F</td>\n",
              "      <td>Bachelors</td>\n",
              "      <td>2</td>\n",
              "      <td>44.0</td>\n",
              "      <td>2.0</td>\n",
              "      <td>N</td>\n",
              "      <td>1.0</td>\n",
              "      <td>0</td>\n",
              "      <td>0.31</td>\n",
              "    </tr>\n",
              "    <tr>\n",
              "      <th>4</th>\n",
              "      <td>17853_11</td>\n",
              "      <td>T_4</td>\n",
              "      <td>T</td>\n",
              "      <td>120.0</td>\n",
              "      <td>11</td>\n",
              "      <td>offline</td>\n",
              "      <td>intermediate</td>\n",
              "      <td>17853</td>\n",
              "      <td>F</td>\n",
              "      <td>Matriculation</td>\n",
              "      <td>1</td>\n",
              "      <td>48.0</td>\n",
              "      <td>2.0</td>\n",
              "      <td>N</td>\n",
              "      <td>3.0</td>\n",
              "      <td>1</td>\n",
              "      <td>0.87</td>\n",
              "    </tr>\n",
              "  </tbody>\n",
              "</table>\n",
              "</div>"
            ],
            "text/plain": [
              "         id program_id program_type  ...  trainee_engagement_rating  Label Score\n",
              "0   1626_45        T_1            T  ...                        4.0      1  0.75\n",
              "1   5499_29        T_3            T  ...                        4.0      1  0.88\n",
              "2   6215_17        T_4            T  ...                        1.0      1  0.87\n",
              "3  11094_23        T_3            T  ...                        1.0      0  0.31\n",
              "4  17853_11        T_4            T  ...                        3.0      1  0.87\n",
              "\n",
              "[5 rows x 17 columns]"
            ]
          },
          "metadata": {
            "tags": []
          },
          "execution_count": 198
        }
      ]
    },
    {
      "cell_type": "code",
      "metadata": {
        "id": "0_EJId_j5v3o",
        "colab_type": "code",
        "outputId": "3f94dcfe-431c-46ce-f8a4-2852b4ea8fcf",
        "colab": {
          "base_uri": "https://localhost:8080/",
          "height": 67
        }
      },
      "source": [
        "y_pred['Label'].value_counts()"
      ],
      "execution_count": 0,
      "outputs": [
        {
          "output_type": "execute_result",
          "data": {
            "text/plain": [
              "1    21214\n",
              "0    10135\n",
              "Name: Label, dtype: int64"
            ]
          },
          "metadata": {
            "tags": []
          },
          "execution_count": 199
        }
      ]
    },
    {
      "cell_type": "code",
      "metadata": {
        "id": "EFemuAdLBHOm",
        "colab_type": "code",
        "colab": {}
      },
      "source": [
        "submission_pycaret_test = y_pred[['id','Label']]\n",
        "submission_pycaret_test.rename(columns={\"Label\":'is_pass'},inplace=True)\n",
        "submission_pycaret_test.to_csv(\"submission_et_pycaret_v1.csv\",index=False)"
      ],
      "execution_count": 0,
      "outputs": []
    },
    {
      "cell_type": "markdown",
      "metadata": {
        "id": "Kb63mP50sw1T",
        "colab_type": "text"
      },
      "source": [
        "              The above code resulted in 0.629 accuracy. Atleast we can try using lightgbm to improve the accuracy. Awesome pycaret. It can be mainly used for initial analysis"
      ]
    },
    {
      "cell_type": "markdown",
      "metadata": {
        "id": "croSSHv4tBwq",
        "colab_type": "text"
      },
      "source": [
        "# Further analysis after baseline model and boosting model"
      ]
    },
    {
      "cell_type": "code",
      "metadata": {
        "id": "OjKOTQgKAFad",
        "colab_type": "code",
        "colab": {}
      },
      "source": [
        "train_analysis = train_main.copy()\n",
        "test_analysis = test_main.copy()"
      ],
      "execution_count": 0,
      "outputs": []
    },
    {
      "cell_type": "code",
      "metadata": {
        "id": "swGM7iJQxZKV",
        "colab_type": "code",
        "outputId": "37e0f7db-9a54-4527-ef0f-3b7cec130b08",
        "colab": {
          "base_uri": "https://localhost:8080/",
          "height": 299
        }
      },
      "source": [
        "train_analysis.head()"
      ],
      "execution_count": 0,
      "outputs": [
        {
          "output_type": "execute_result",
          "data": {
            "text/html": [
              "<div>\n",
              "<style scoped>\n",
              "    .dataframe tbody tr th:only-of-type {\n",
              "        vertical-align: middle;\n",
              "    }\n",
              "\n",
              "    .dataframe tbody tr th {\n",
              "        vertical-align: top;\n",
              "    }\n",
              "\n",
              "    .dataframe thead th {\n",
              "        text-align: right;\n",
              "    }\n",
              "</style>\n",
              "<table border=\"1\" class=\"dataframe\">\n",
              "  <thead>\n",
              "    <tr style=\"text-align: right;\">\n",
              "      <th></th>\n",
              "      <th>id</th>\n",
              "      <th>program_id</th>\n",
              "      <th>program_type</th>\n",
              "      <th>program_duration</th>\n",
              "      <th>test_id</th>\n",
              "      <th>test_type</th>\n",
              "      <th>difficulty_level</th>\n",
              "      <th>trainee_id</th>\n",
              "      <th>gender</th>\n",
              "      <th>education</th>\n",
              "      <th>city_tier</th>\n",
              "      <th>age</th>\n",
              "      <th>total_programs_enrolled</th>\n",
              "      <th>is_handicapped</th>\n",
              "      <th>trainee_engagement_rating</th>\n",
              "      <th>is_pass</th>\n",
              "      <th>age_group</th>\n",
              "    </tr>\n",
              "  </thead>\n",
              "  <tbody>\n",
              "    <tr>\n",
              "      <th>0</th>\n",
              "      <td>9389_150</td>\n",
              "      <td>Y_1</td>\n",
              "      <td>Y</td>\n",
              "      <td>136</td>\n",
              "      <td>150</td>\n",
              "      <td>offline</td>\n",
              "      <td>intermediate</td>\n",
              "      <td>9389</td>\n",
              "      <td>M</td>\n",
              "      <td>Matriculation</td>\n",
              "      <td>3</td>\n",
              "      <td>24.0</td>\n",
              "      <td>5</td>\n",
              "      <td>N</td>\n",
              "      <td>1.0</td>\n",
              "      <td>0</td>\n",
              "      <td>group 17-28</td>\n",
              "    </tr>\n",
              "    <tr>\n",
              "      <th>6</th>\n",
              "      <td>17874_144</td>\n",
              "      <td>Y_2</td>\n",
              "      <td>Y</td>\n",
              "      <td>120</td>\n",
              "      <td>144</td>\n",
              "      <td>online</td>\n",
              "      <td>easy</td>\n",
              "      <td>17874</td>\n",
              "      <td>M</td>\n",
              "      <td>Bachelors</td>\n",
              "      <td>2</td>\n",
              "      <td>48.0</td>\n",
              "      <td>3</td>\n",
              "      <td>N</td>\n",
              "      <td>3.0</td>\n",
              "      <td>1</td>\n",
              "      <td>group 45-63</td>\n",
              "    </tr>\n",
              "    <tr>\n",
              "      <th>9</th>\n",
              "      <td>17019_153</td>\n",
              "      <td>Y_1</td>\n",
              "      <td>Y</td>\n",
              "      <td>136</td>\n",
              "      <td>153</td>\n",
              "      <td>offline</td>\n",
              "      <td>hard</td>\n",
              "      <td>17019</td>\n",
              "      <td>M</td>\n",
              "      <td>Bachelors</td>\n",
              "      <td>3</td>\n",
              "      <td>28.0</td>\n",
              "      <td>2</td>\n",
              "      <td>N</td>\n",
              "      <td>4.0</td>\n",
              "      <td>1</td>\n",
              "      <td>group 28-39</td>\n",
              "    </tr>\n",
              "    <tr>\n",
              "      <th>12</th>\n",
              "      <td>15848_149</td>\n",
              "      <td>Y_1</td>\n",
              "      <td>Y</td>\n",
              "      <td>136</td>\n",
              "      <td>149</td>\n",
              "      <td>offline</td>\n",
              "      <td>intermediate</td>\n",
              "      <td>15848</td>\n",
              "      <td>M</td>\n",
              "      <td>High School Diploma</td>\n",
              "      <td>1</td>\n",
              "      <td>45.0</td>\n",
              "      <td>4</td>\n",
              "      <td>N</td>\n",
              "      <td>4.0</td>\n",
              "      <td>1</td>\n",
              "      <td>group 45-63</td>\n",
              "    </tr>\n",
              "    <tr>\n",
              "      <th>13</th>\n",
              "      <td>423_126</td>\n",
              "      <td>Y_3</td>\n",
              "      <td>Y</td>\n",
              "      <td>135</td>\n",
              "      <td>126</td>\n",
              "      <td>offline</td>\n",
              "      <td>intermediate</td>\n",
              "      <td>423</td>\n",
              "      <td>M</td>\n",
              "      <td>Matriculation</td>\n",
              "      <td>3</td>\n",
              "      <td>45.0</td>\n",
              "      <td>4</td>\n",
              "      <td>N</td>\n",
              "      <td>5.0</td>\n",
              "      <td>1</td>\n",
              "      <td>group 45-63</td>\n",
              "    </tr>\n",
              "  </tbody>\n",
              "</table>\n",
              "</div>"
            ],
            "text/plain": [
              "           id program_id  ... is_pass    age_group\n",
              "0    9389_150        Y_1  ...       0  group 17-28\n",
              "6   17874_144        Y_2  ...       1  group 45-63\n",
              "9   17019_153        Y_1  ...       1  group 28-39\n",
              "12  15848_149        Y_1  ...       1  group 45-63\n",
              "13    423_126        Y_3  ...       1  group 45-63\n",
              "\n",
              "[5 rows x 17 columns]"
            ]
          },
          "metadata": {
            "tags": []
          },
          "execution_count": 202
        }
      ]
    },
    {
      "cell_type": "code",
      "metadata": {
        "id": "2sPjxAMSxbE5",
        "colab_type": "code",
        "outputId": "b9ed5cd7-1ed5-4266-9539-396cbc896530",
        "colab": {
          "base_uri": "https://localhost:8080/",
          "height": 34
        }
      },
      "source": [
        "train_analysis['test_id'].nunique()"
      ],
      "execution_count": 0,
      "outputs": [
        {
          "output_type": "execute_result",
          "data": {
            "text/plain": [
              "188"
            ]
          },
          "metadata": {
            "tags": []
          },
          "execution_count": 203
        }
      ]
    },
    {
      "cell_type": "code",
      "metadata": {
        "id": "3WWlQfAUyQ_o",
        "colab_type": "code",
        "outputId": "7927af0f-bd81-449c-cdf4-0d876c936928",
        "colab": {
          "base_uri": "https://localhost:8080/",
          "height": 168
        }
      },
      "source": [
        "train_analysis['program_duration'].describe()"
      ],
      "execution_count": 0,
      "outputs": [
        {
          "output_type": "execute_result",
          "data": {
            "text/plain": [
              "count    73147.000000\n",
              "mean       128.208676\n",
              "std          6.889679\n",
              "min        117.000000\n",
              "25%        121.000000\n",
              "50%        131.000000\n",
              "75%        134.000000\n",
              "max        136.000000\n",
              "Name: program_duration, dtype: float64"
            ]
          },
          "metadata": {
            "tags": []
          },
          "execution_count": 204
        }
      ]
    },
    {
      "cell_type": "code",
      "metadata": {
        "id": "ax9U8Sqz2Sm1",
        "colab_type": "code",
        "colab": {}
      },
      "source": [
        "# def z_norm(x,mean,sd):\n",
        "#   return (x-mean)/sd\n",
        "\n",
        "# mean_duration = train['program_duration'].mean()\n",
        "# std_duration = train['program_duration'].std()\n",
        "# mean_age = train['age'].mean()\n",
        "# std_age = train['age'].std()\n",
        "\n",
        "# train['program_duration'] = train['program_duration'].apply(z_norm,mean=mean_duration,sd=std_duration)\n",
        "# train['age'] = train['age'].apply(z_norm,mean=mean_age,sd=std_age)"
      ],
      "execution_count": 0,
      "outputs": []
    },
    {
      "cell_type": "code",
      "metadata": {
        "id": "0Jyp5gXd383n",
        "colab_type": "code",
        "outputId": "3510cdaf-16e9-41ec-a90c-867f0b1115b3",
        "colab": {
          "base_uri": "https://localhost:8080/",
          "height": 265
        }
      },
      "source": [
        "sns.kdeplot(train_analysis['program_duration'])\n",
        "plt.show()"
      ],
      "execution_count": 0,
      "outputs": [
        {
          "output_type": "display_data",
          "data": {
            "image/png": "[encoded data removed]",
            "text/plain": [
              "<Figure size 432x288 with 1 Axes>"
            ]
          },
          "metadata": {
            "tags": [],
            "needs_background": "light"
          }
        }
      ]
    },
    {
      "cell_type": "code",
      "metadata": {
        "id": "q39OdM76AVtG",
        "colab_type": "code",
        "colab": {}
      },
      "source": [
        "def diagnostic_plots(df, variable):\n",
        "    # function to plot a histogram and a Q-Q plot\n",
        "    # side by side, for a certain variable\n",
        "    \n",
        "    plt.figure(figsize=(15,6))\n",
        "    plt.subplot(1, 2, 1)\n",
        "    df[variable].hist()\n",
        "\n",
        "    plt.subplot(1, 2, 2)\n",
        "    stats.probplot(df[variable], dist=\"norm\", plot=plt)\n",
        "\n",
        "    plt.show()"
      ],
      "execution_count": 0,
      "outputs": []
    },
    {
      "cell_type": "code",
      "metadata": {
        "id": "AWPv4rXyAc2Z",
        "colab_type": "code",
        "outputId": "4fb1f19a-a255-4cb9-ebe3-b931bfb194af",
        "colab": {
          "base_uri": "https://localhost:8080/",
          "height": 404
        }
      },
      "source": [
        "train_analysis['program_duration_log'] = np.log(train_analysis.program_duration +1)\n",
        "diagnostic_plots(train_analysis,'program_duration_log')"
      ],
      "execution_count": 0,
      "outputs": [
        {
          "output_type": "display_data",
          "data": {
            "image/png": "[encoded data removed]",
            "text/plain": [
              "<Figure size 1080x432 with 2 Axes>"
            ]
          },
          "metadata": {
            "tags": [],
            "needs_background": "light"
          }
        }
      ]
    },
    {
      "cell_type": "code",
      "metadata": {
        "id": "tpRTrK-5Askd",
        "colab_type": "code",
        "outputId": "1a5192e2-5fb5-4d41-bdf3-2ee7c3ef9aad",
        "colab": {
          "base_uri": "https://localhost:8080/",
          "height": 299
        }
      },
      "source": [
        "train_analysis.head()"
      ],
      "execution_count": 0,
      "outputs": [
        {
          "output_type": "execute_result",
          "data": {
            "text/html": [
              "<div>\n",
              "<style scoped>\n",
              "    .dataframe tbody tr th:only-of-type {\n",
              "        vertical-align: middle;\n",
              "    }\n",
              "\n",
              "    .dataframe tbody tr th {\n",
              "        vertical-align: top;\n",
              "    }\n",
              "\n",
              "    .dataframe thead th {\n",
              "        text-align: right;\n",
              "    }\n",
              "</style>\n",
              "<table border=\"1\" class=\"dataframe\">\n",
              "  <thead>\n",
              "    <tr style=\"text-align: right;\">\n",
              "      <th></th>\n",
              "      <th>id</th>\n",
              "      <th>program_id</th>\n",
              "      <th>program_type</th>\n",
              "      <th>program_duration</th>\n",
              "      <th>test_id</th>\n",
              "      <th>test_type</th>\n",
              "      <th>difficulty_level</th>\n",
              "      <th>trainee_id</th>\n",
              "      <th>gender</th>\n",
              "      <th>education</th>\n",
              "      <th>city_tier</th>\n",
              "      <th>age</th>\n",
              "      <th>total_programs_enrolled</th>\n",
              "      <th>is_handicapped</th>\n",
              "      <th>trainee_engagement_rating</th>\n",
              "      <th>is_pass</th>\n",
              "      <th>age_group</th>\n",
              "      <th>program_duration_log</th>\n",
              "    </tr>\n",
              "  </thead>\n",
              "  <tbody>\n",
              "    <tr>\n",
              "      <th>0</th>\n",
              "      <td>9389_150</td>\n",
              "      <td>Y_1</td>\n",
              "      <td>Y</td>\n",
              "      <td>136</td>\n",
              "      <td>150</td>\n",
              "      <td>offline</td>\n",
              "      <td>intermediate</td>\n",
              "      <td>9389</td>\n",
              "      <td>M</td>\n",
              "      <td>Matriculation</td>\n",
              "      <td>3</td>\n",
              "      <td>24.0</td>\n",
              "      <td>5</td>\n",
              "      <td>N</td>\n",
              "      <td>1.0</td>\n",
              "      <td>0</td>\n",
              "      <td>group 17-28</td>\n",
              "      <td>4.919981</td>\n",
              "    </tr>\n",
              "    <tr>\n",
              "      <th>6</th>\n",
              "      <td>17874_144</td>\n",
              "      <td>Y_2</td>\n",
              "      <td>Y</td>\n",
              "      <td>120</td>\n",
              "      <td>144</td>\n",
              "      <td>online</td>\n",
              "      <td>easy</td>\n",
              "      <td>17874</td>\n",
              "      <td>M</td>\n",
              "      <td>Bachelors</td>\n",
              "      <td>2</td>\n",
              "      <td>48.0</td>\n",
              "      <td>3</td>\n",
              "      <td>N</td>\n",
              "      <td>3.0</td>\n",
              "      <td>1</td>\n",
              "      <td>group 45-63</td>\n",
              "      <td>4.795791</td>\n",
              "    </tr>\n",
              "    <tr>\n",
              "      <th>9</th>\n",
              "      <td>17019_153</td>\n",
              "      <td>Y_1</td>\n",
              "      <td>Y</td>\n",
              "      <td>136</td>\n",
              "      <td>153</td>\n",
              "      <td>offline</td>\n",
              "      <td>hard</td>\n",
              "      <td>17019</td>\n",
              "      <td>M</td>\n",
              "      <td>Bachelors</td>\n",
              "      <td>3</td>\n",
              "      <td>28.0</td>\n",
              "      <td>2</td>\n",
              "      <td>N</td>\n",
              "      <td>4.0</td>\n",
              "      <td>1</td>\n",
              "      <td>group 28-39</td>\n",
              "      <td>4.919981</td>\n",
              "    </tr>\n",
              "    <tr>\n",
              "      <th>12</th>\n",
              "      <td>15848_149</td>\n",
              "      <td>Y_1</td>\n",
              "      <td>Y</td>\n",
              "      <td>136</td>\n",
              "      <td>149</td>\n",
              "      <td>offline</td>\n",
              "      <td>intermediate</td>\n",
              "      <td>15848</td>\n",
              "      <td>M</td>\n",
              "      <td>High School Diploma</td>\n",
              "      <td>1</td>\n",
              "      <td>45.0</td>\n",
              "      <td>4</td>\n",
              "      <td>N</td>\n",
              "      <td>4.0</td>\n",
              "      <td>1</td>\n",
              "      <td>group 45-63</td>\n",
              "      <td>4.919981</td>\n",
              "    </tr>\n",
              "    <tr>\n",
              "      <th>13</th>\n",
              "      <td>423_126</td>\n",
              "      <td>Y_3</td>\n",
              "      <td>Y</td>\n",
              "      <td>135</td>\n",
              "      <td>126</td>\n",
              "      <td>offline</td>\n",
              "      <td>intermediate</td>\n",
              "      <td>423</td>\n",
              "      <td>M</td>\n",
              "      <td>Matriculation</td>\n",
              "      <td>3</td>\n",
              "      <td>45.0</td>\n",
              "      <td>4</td>\n",
              "      <td>N</td>\n",
              "      <td>5.0</td>\n",
              "      <td>1</td>\n",
              "      <td>group 45-63</td>\n",
              "      <td>4.912655</td>\n",
              "    </tr>\n",
              "  </tbody>\n",
              "</table>\n",
              "</div>"
            ],
            "text/plain": [
              "           id program_id  ...    age_group  program_duration_log\n",
              "0    9389_150        Y_1  ...  group 17-28              4.919981\n",
              "6   17874_144        Y_2  ...  group 45-63              4.795791\n",
              "9   17019_153        Y_1  ...  group 28-39              4.919981\n",
              "12  15848_149        Y_1  ...  group 45-63              4.919981\n",
              "13    423_126        Y_3  ...  group 45-63              4.912655\n",
              "\n",
              "[5 rows x 18 columns]"
            ]
          },
          "metadata": {
            "tags": []
          },
          "execution_count": 209
        }
      ]
    },
    {
      "cell_type": "code",
      "metadata": {
        "id": "hdFaBKw-3WBY",
        "colab_type": "code",
        "colab": {}
      },
      "source": [
        "# Creating feature that includes education and tier as it is my intuition that same qualification from tier 1 city is much more effective than tier 2 and so on\n",
        "train_analysis['education_tier'] = train_analysis['city_tier'].map(str) + \"_\" + train_analysis['education'] \n",
        "test_analysis['education_tier'] = test_analysis['city_tier'].map(str) + \"_\" + test_analysis['education'] "
      ],
      "execution_count": 0,
      "outputs": []
    },
    {
      "cell_type": "code",
      "metadata": {
        "id": "LI9SAPC035xl",
        "colab_type": "code",
        "outputId": "1df65320-3b48-4a12-851d-0298409fcc9c",
        "colab": {
          "base_uri": "https://localhost:8080/",
          "height": 299
        }
      },
      "source": [
        "train_analysis.head()"
      ],
      "execution_count": 0,
      "outputs": [
        {
          "output_type": "execute_result",
          "data": {
            "text/html": [
              "<div>\n",
              "<style scoped>\n",
              "    .dataframe tbody tr th:only-of-type {\n",
              "        vertical-align: middle;\n",
              "    }\n",
              "\n",
              "    .dataframe tbody tr th {\n",
              "        vertical-align: top;\n",
              "    }\n",
              "\n",
              "    .dataframe thead th {\n",
              "        text-align: right;\n",
              "    }\n",
              "</style>\n",
              "<table border=\"1\" class=\"dataframe\">\n",
              "  <thead>\n",
              "    <tr style=\"text-align: right;\">\n",
              "      <th></th>\n",
              "      <th>id</th>\n",
              "      <th>program_id</th>\n",
              "      <th>program_type</th>\n",
              "      <th>program_duration</th>\n",
              "      <th>test_id</th>\n",
              "      <th>test_type</th>\n",
              "      <th>difficulty_level</th>\n",
              "      <th>trainee_id</th>\n",
              "      <th>gender</th>\n",
              "      <th>education</th>\n",
              "      <th>city_tier</th>\n",
              "      <th>age</th>\n",
              "      <th>total_programs_enrolled</th>\n",
              "      <th>is_handicapped</th>\n",
              "      <th>trainee_engagement_rating</th>\n",
              "      <th>is_pass</th>\n",
              "      <th>age_group</th>\n",
              "      <th>program_duration_log</th>\n",
              "      <th>education_tier</th>\n",
              "    </tr>\n",
              "  </thead>\n",
              "  <tbody>\n",
              "    <tr>\n",
              "      <th>0</th>\n",
              "      <td>9389_150</td>\n",
              "      <td>Y_1</td>\n",
              "      <td>Y</td>\n",
              "      <td>136</td>\n",
              "      <td>150</td>\n",
              "      <td>offline</td>\n",
              "      <td>intermediate</td>\n",
              "      <td>9389</td>\n",
              "      <td>M</td>\n",
              "      <td>Matriculation</td>\n",
              "      <td>3</td>\n",
              "      <td>24.0</td>\n",
              "      <td>5</td>\n",
              "      <td>N</td>\n",
              "      <td>1.0</td>\n",
              "      <td>0</td>\n",
              "      <td>group 17-28</td>\n",
              "      <td>4.919981</td>\n",
              "      <td>3_Matriculation</td>\n",
              "    </tr>\n",
              "    <tr>\n",
              "      <th>6</th>\n",
              "      <td>17874_144</td>\n",
              "      <td>Y_2</td>\n",
              "      <td>Y</td>\n",
              "      <td>120</td>\n",
              "      <td>144</td>\n",
              "      <td>online</td>\n",
              "      <td>easy</td>\n",
              "      <td>17874</td>\n",
              "      <td>M</td>\n",
              "      <td>Bachelors</td>\n",
              "      <td>2</td>\n",
              "      <td>48.0</td>\n",
              "      <td>3</td>\n",
              "      <td>N</td>\n",
              "      <td>3.0</td>\n",
              "      <td>1</td>\n",
              "      <td>group 45-63</td>\n",
              "      <td>4.795791</td>\n",
              "      <td>2_Bachelors</td>\n",
              "    </tr>\n",
              "    <tr>\n",
              "      <th>9</th>\n",
              "      <td>17019_153</td>\n",
              "      <td>Y_1</td>\n",
              "      <td>Y</td>\n",
              "      <td>136</td>\n",
              "      <td>153</td>\n",
              "      <td>offline</td>\n",
              "      <td>hard</td>\n",
              "      <td>17019</td>\n",
              "      <td>M</td>\n",
              "      <td>Bachelors</td>\n",
              "      <td>3</td>\n",
              "      <td>28.0</td>\n",
              "      <td>2</td>\n",
              "      <td>N</td>\n",
              "      <td>4.0</td>\n",
              "      <td>1</td>\n",
              "      <td>group 28-39</td>\n",
              "      <td>4.919981</td>\n",
              "      <td>3_Bachelors</td>\n",
              "    </tr>\n",
              "    <tr>\n",
              "      <th>12</th>\n",
              "      <td>15848_149</td>\n",
              "      <td>Y_1</td>\n",
              "      <td>Y</td>\n",
              "      <td>136</td>\n",
              "      <td>149</td>\n",
              "      <td>offline</td>\n",
              "      <td>intermediate</td>\n",
              "      <td>15848</td>\n",
              "      <td>M</td>\n",
              "      <td>High School Diploma</td>\n",
              "      <td>1</td>\n",
              "      <td>45.0</td>\n",
              "      <td>4</td>\n",
              "      <td>N</td>\n",
              "      <td>4.0</td>\n",
              "      <td>1</td>\n",
              "      <td>group 45-63</td>\n",
              "      <td>4.919981</td>\n",
              "      <td>1_High School Diploma</td>\n",
              "    </tr>\n",
              "    <tr>\n",
              "      <th>13</th>\n",
              "      <td>423_126</td>\n",
              "      <td>Y_3</td>\n",
              "      <td>Y</td>\n",
              "      <td>135</td>\n",
              "      <td>126</td>\n",
              "      <td>offline</td>\n",
              "      <td>intermediate</td>\n",
              "      <td>423</td>\n",
              "      <td>M</td>\n",
              "      <td>Matriculation</td>\n",
              "      <td>3</td>\n",
              "      <td>45.0</td>\n",
              "      <td>4</td>\n",
              "      <td>N</td>\n",
              "      <td>5.0</td>\n",
              "      <td>1</td>\n",
              "      <td>group 45-63</td>\n",
              "      <td>4.912655</td>\n",
              "      <td>3_Matriculation</td>\n",
              "    </tr>\n",
              "  </tbody>\n",
              "</table>\n",
              "</div>"
            ],
            "text/plain": [
              "           id program_id  ... program_duration_log         education_tier\n",
              "0    9389_150        Y_1  ...             4.919981        3_Matriculation\n",
              "6   17874_144        Y_2  ...             4.795791            2_Bachelors\n",
              "9   17019_153        Y_1  ...             4.919981            3_Bachelors\n",
              "12  15848_149        Y_1  ...             4.919981  1_High School Diploma\n",
              "13    423_126        Y_3  ...             4.912655        3_Matriculation\n",
              "\n",
              "[5 rows x 19 columns]"
            ]
          },
          "metadata": {
            "tags": []
          },
          "execution_count": 211
        }
      ]
    },
    {
      "cell_type": "code",
      "metadata": {
        "id": "pAw9tjUZ4Ap8",
        "colab_type": "code",
        "outputId": "9d23f77f-2cdc-49b4-e5cc-1ad7fe644685",
        "colab": {
          "base_uri": "https://localhost:8080/",
          "height": 168
        }
      },
      "source": [
        "train_analysis['program_duration'].describe()"
      ],
      "execution_count": 0,
      "outputs": [
        {
          "output_type": "execute_result",
          "data": {
            "text/plain": [
              "count    73147.000000\n",
              "mean       128.208676\n",
              "std          6.889679\n",
              "min        117.000000\n",
              "25%        121.000000\n",
              "50%        131.000000\n",
              "75%        134.000000\n",
              "max        136.000000\n",
              "Name: program_duration, dtype: float64"
            ]
          },
          "metadata": {
            "tags": []
          },
          "execution_count": 212
        }
      ]
    },
    {
      "cell_type": "code",
      "metadata": {
        "id": "J_GUlVcL6T9Q",
        "colab_type": "code",
        "outputId": "86a6939f-53e0-47e9-f435-7defccb3a9e7",
        "colab": {
          "base_uri": "https://localhost:8080/",
          "height": 265
        }
      },
      "source": [
        "plt.hist(train_analysis['program_duration'])\n",
        "plt.show()"
      ],
      "execution_count": 0,
      "outputs": [
        {
          "output_type": "display_data",
          "data": {
            "image/png": "[encoded data removed]",
            "text/plain": [
              "<Figure size 432x288 with 1 Axes>"
            ]
          },
          "metadata": {
            "tags": [],
            "needs_background": "light"
          }
        }
      ]
    },
    {
      "cell_type": "code",
      "metadata": {
        "id": "tGZJmaq05fWn",
        "colab_type": "code",
        "colab": {}
      },
      "source": [
        "## We will try to make the program duration into categorical by splitting into 4\n",
        "def program_duration_cat(df,variable):\n",
        "  min_value = df[variable].describe()['min']\n",
        "  per_25 = df[variable].describe()['25%']\n",
        "  per_50 = df[variable].describe()['50%']\n",
        "  per_75 = df[variable].describe()['75%']\n",
        "  max_value = df[variable].describe()['max']\n",
        "  df['program_duration_cat'] = \"\"\n",
        "  df.loc[((df[variable] >= min_value) & (df[variable] <= per_25)),'program_duration_cat'] = \"Minimum duration\"\n",
        "  df.loc[((df[variable] > per_25) & (df[variable] <= per_50)),'program_duration_cat'] = \"medium1 duration\"\n",
        "  df.loc[((df[variable] > per_50) & (df[variable] <= per_75)),'program_duration_cat'] = \"medium2 duration\"\n",
        "  df.loc[((df[variable] > per_75) & (df[variable] <= max_value)),'program_duration_cat'] = \"max duration\"\n",
        "  return df['program_duration_cat']"
      ],
      "execution_count": 0,
      "outputs": []
    },
    {
      "cell_type": "code",
      "metadata": {
        "id": "u9ovdiTU9FSn",
        "colab_type": "code",
        "colab": {}
      },
      "source": [
        "train_analysis['program_duration_cat'] = program_duration_cat(train_analysis,'program_duration')\n",
        "test_analysis['program_duration_cat'] = program_duration_cat(test_analysis,'program_duration')"
      ],
      "execution_count": 0,
      "outputs": []
    },
    {
      "cell_type": "code",
      "metadata": {
        "id": "5U4LBlnS-arW",
        "colab_type": "code",
        "outputId": "bf9a4325-58e5-480f-8b28-5b7e92fa5efe",
        "colab": {
          "base_uri": "https://localhost:8080/",
          "height": 101
        }
      },
      "source": [
        "train_analysis['program_duration_cat'].value_counts()"
      ],
      "execution_count": 0,
      "outputs": [
        {
          "output_type": "execute_result",
          "data": {
            "text/plain": [
              "Minimum duration    23075\n",
              "max duration        17032\n",
              "medium1 duration    16604\n",
              "medium2 duration    16436\n",
              "Name: program_duration_cat, dtype: int64"
            ]
          },
          "metadata": {
            "tags": []
          },
          "execution_count": 216
        }
      ]
    },
    {
      "cell_type": "code",
      "metadata": {
        "id": "722hW1JE-e8V",
        "colab_type": "code",
        "outputId": "ae621ad2-7f9f-4fd7-bffc-f7981cb85bf7",
        "colab": {
          "base_uri": "https://localhost:8080/",
          "height": 101
        }
      },
      "source": [
        "test_analysis['program_duration_cat'].value_counts()"
      ],
      "execution_count": 0,
      "outputs": [
        {
          "output_type": "execute_result",
          "data": {
            "text/plain": [
              "Minimum duration    9895\n",
              "max duration        7391\n",
              "medium2 duration    7055\n",
              "medium1 duration    7008\n",
              "Name: program_duration_cat, dtype: int64"
            ]
          },
          "metadata": {
            "tags": []
          },
          "execution_count": 217
        }
      ]
    },
    {
      "cell_type": "code",
      "metadata": {
        "id": "drT3aMWq_GZW",
        "colab_type": "code",
        "outputId": "3d143f80-e8f2-440a-abcb-a0c5216bc704",
        "colab": {
          "base_uri": "https://localhost:8080/",
          "height": 299
        }
      },
      "source": [
        "train_analysis.head()"
      ],
      "execution_count": 0,
      "outputs": [
        {
          "output_type": "execute_result",
          "data": {
            "text/html": [
              "<div>\n",
              "<style scoped>\n",
              "    .dataframe tbody tr th:only-of-type {\n",
              "        vertical-align: middle;\n",
              "    }\n",
              "\n",
              "    .dataframe tbody tr th {\n",
              "        vertical-align: top;\n",
              "    }\n",
              "\n",
              "    .dataframe thead th {\n",
              "        text-align: right;\n",
              "    }\n",
              "</style>\n",
              "<table border=\"1\" class=\"dataframe\">\n",
              "  <thead>\n",
              "    <tr style=\"text-align: right;\">\n",
              "      <th></th>\n",
              "      <th>id</th>\n",
              "      <th>program_id</th>\n",
              "      <th>program_type</th>\n",
              "      <th>program_duration</th>\n",
              "      <th>test_id</th>\n",
              "      <th>test_type</th>\n",
              "      <th>difficulty_level</th>\n",
              "      <th>trainee_id</th>\n",
              "      <th>gender</th>\n",
              "      <th>education</th>\n",
              "      <th>city_tier</th>\n",
              "      <th>age</th>\n",
              "      <th>total_programs_enrolled</th>\n",
              "      <th>is_handicapped</th>\n",
              "      <th>trainee_engagement_rating</th>\n",
              "      <th>is_pass</th>\n",
              "      <th>age_group</th>\n",
              "      <th>program_duration_log</th>\n",
              "      <th>education_tier</th>\n",
              "      <th>program_duration_cat</th>\n",
              "    </tr>\n",
              "  </thead>\n",
              "  <tbody>\n",
              "    <tr>\n",
              "      <th>0</th>\n",
              "      <td>9389_150</td>\n",
              "      <td>Y_1</td>\n",
              "      <td>Y</td>\n",
              "      <td>136</td>\n",
              "      <td>150</td>\n",
              "      <td>offline</td>\n",
              "      <td>intermediate</td>\n",
              "      <td>9389</td>\n",
              "      <td>M</td>\n",
              "      <td>Matriculation</td>\n",
              "      <td>3</td>\n",
              "      <td>24.0</td>\n",
              "      <td>5</td>\n",
              "      <td>N</td>\n",
              "      <td>1.0</td>\n",
              "      <td>0</td>\n",
              "      <td>group 17-28</td>\n",
              "      <td>4.919981</td>\n",
              "      <td>3_Matriculation</td>\n",
              "      <td>max duration</td>\n",
              "    </tr>\n",
              "    <tr>\n",
              "      <th>6</th>\n",
              "      <td>17874_144</td>\n",
              "      <td>Y_2</td>\n",
              "      <td>Y</td>\n",
              "      <td>120</td>\n",
              "      <td>144</td>\n",
              "      <td>online</td>\n",
              "      <td>easy</td>\n",
              "      <td>17874</td>\n",
              "      <td>M</td>\n",
              "      <td>Bachelors</td>\n",
              "      <td>2</td>\n",
              "      <td>48.0</td>\n",
              "      <td>3</td>\n",
              "      <td>N</td>\n",
              "      <td>3.0</td>\n",
              "      <td>1</td>\n",
              "      <td>group 45-63</td>\n",
              "      <td>4.795791</td>\n",
              "      <td>2_Bachelors</td>\n",
              "      <td>Minimum duration</td>\n",
              "    </tr>\n",
              "    <tr>\n",
              "      <th>9</th>\n",
              "      <td>17019_153</td>\n",
              "      <td>Y_1</td>\n",
              "      <td>Y</td>\n",
              "      <td>136</td>\n",
              "      <td>153</td>\n",
              "      <td>offline</td>\n",
              "      <td>hard</td>\n",
              "      <td>17019</td>\n",
              "      <td>M</td>\n",
              "      <td>Bachelors</td>\n",
              "      <td>3</td>\n",
              "      <td>28.0</td>\n",
              "      <td>2</td>\n",
              "      <td>N</td>\n",
              "      <td>4.0</td>\n",
              "      <td>1</td>\n",
              "      <td>group 28-39</td>\n",
              "      <td>4.919981</td>\n",
              "      <td>3_Bachelors</td>\n",
              "      <td>max duration</td>\n",
              "    </tr>\n",
              "    <tr>\n",
              "      <th>12</th>\n",
              "      <td>15848_149</td>\n",
              "      <td>Y_1</td>\n",
              "      <td>Y</td>\n",
              "      <td>136</td>\n",
              "      <td>149</td>\n",
              "      <td>offline</td>\n",
              "      <td>intermediate</td>\n",
              "      <td>15848</td>\n",
              "      <td>M</td>\n",
              "      <td>High School Diploma</td>\n",
              "      <td>1</td>\n",
              "      <td>45.0</td>\n",
              "      <td>4</td>\n",
              "      <td>N</td>\n",
              "      <td>4.0</td>\n",
              "      <td>1</td>\n",
              "      <td>group 45-63</td>\n",
              "      <td>4.919981</td>\n",
              "      <td>1_High School Diploma</td>\n",
              "      <td>max duration</td>\n",
              "    </tr>\n",
              "    <tr>\n",
              "      <th>13</th>\n",
              "      <td>423_126</td>\n",
              "      <td>Y_3</td>\n",
              "      <td>Y</td>\n",
              "      <td>135</td>\n",
              "      <td>126</td>\n",
              "      <td>offline</td>\n",
              "      <td>intermediate</td>\n",
              "      <td>423</td>\n",
              "      <td>M</td>\n",
              "      <td>Matriculation</td>\n",
              "      <td>3</td>\n",
              "      <td>45.0</td>\n",
              "      <td>4</td>\n",
              "      <td>N</td>\n",
              "      <td>5.0</td>\n",
              "      <td>1</td>\n",
              "      <td>group 45-63</td>\n",
              "      <td>4.912655</td>\n",
              "      <td>3_Matriculation</td>\n",
              "      <td>max duration</td>\n",
              "    </tr>\n",
              "  </tbody>\n",
              "</table>\n",
              "</div>"
            ],
            "text/plain": [
              "           id program_id  ...         education_tier  program_duration_cat\n",
              "0    9389_150        Y_1  ...        3_Matriculation          max duration\n",
              "6   17874_144        Y_2  ...            2_Bachelors      Minimum duration\n",
              "9   17019_153        Y_1  ...            3_Bachelors          max duration\n",
              "12  15848_149        Y_1  ...  1_High School Diploma          max duration\n",
              "13    423_126        Y_3  ...        3_Matriculation          max duration\n",
              "\n",
              "[5 rows x 20 columns]"
            ]
          },
          "metadata": {
            "tags": []
          },
          "execution_count": 218
        }
      ]
    },
    {
      "cell_type": "code",
      "metadata": {
        "id": "BwixhmT1CE8u",
        "colab_type": "code",
        "outputId": "9f967290-0ee3-4575-f512-5671259edeaf",
        "colab": {
          "base_uri": "https://localhost:8080/",
          "height": 168
        }
      },
      "source": [
        "test_analysis['age'].describe()"
      ],
      "execution_count": 0,
      "outputs": [
        {
          "output_type": "execute_result",
          "data": {
            "text/plain": [
              "count    31349.000000\n",
              "mean        39.400651\n",
              "std          8.358654\n",
              "min         17.000000\n",
              "25%         30.000000\n",
              "50%         45.000000\n",
              "75%         45.000000\n",
              "max         63.000000\n",
              "Name: age, dtype: float64"
            ]
          },
          "metadata": {
            "tags": []
          },
          "execution_count": 219
        }
      ]
    },
    {
      "cell_type": "code",
      "metadata": {
        "id": "HDQFD8hPAJ_X",
        "colab_type": "code",
        "colab": {}
      },
      "source": [
        "test_analysis['age_group'] = \"\"\n",
        "test_analysis.loc[(test_analysis['age'] >= 17) & (test_analysis['age'] < 28),'age_group'] = \"group 17-28\"\n",
        "test_analysis.loc[(test_analysis['age'] >= 28) & (test_analysis['age'] < 39),'age_group'] = \"group 28-39\"\n",
        "test_analysis.loc[(test_analysis['age'] >= 39) & (test_analysis['age'] < 45),'age_group'] = \"group 39-45\"\n",
        "test_analysis.loc[(test_analysis['age'] >= 45) & (test_analysis['age'] <= 63),'age_group'] = \"group 45-63\""
      ],
      "execution_count": 0,
      "outputs": []
    },
    {
      "cell_type": "code",
      "metadata": {
        "id": "Ckorfj0ABuOh",
        "colab_type": "code",
        "colab": {}
      },
      "source": [
        "def experience(df,variable):\n",
        "  df['experience'] = \"\"\n",
        "  df.loc[df[variable] == 'group 17-28','experience'] = \"Least experience\"\n",
        "  df.loc[df[variable] == 'group 28-39','experience'] = \"Moderate experience\"\n",
        "  df.loc[df[variable] == 'group 39-45','experience'] = \"Experienced\"\n",
        "  df.loc[df[variable] == 'group 45-63','experience'] = \"Highly experienced\"\n",
        "  return df['experience']"
      ],
      "execution_count": 0,
      "outputs": []
    },
    {
      "cell_type": "code",
      "metadata": {
        "id": "RM3zs_OiDA1O",
        "colab_type": "code",
        "colab": {}
      },
      "source": [
        "train_analysis['experience'] = experience(train_analysis,'age_group')\n",
        "test_analysis['experience'] = experience(test_analysis,'age_group')"
      ],
      "execution_count": 0,
      "outputs": []
    },
    {
      "cell_type": "code",
      "metadata": {
        "id": "2M2ZKXWEDHWC",
        "colab_type": "code",
        "outputId": "a4b29450-e0a5-4c71-c859-395e0add781a",
        "colab": {
          "base_uri": "https://localhost:8080/",
          "height": 299
        }
      },
      "source": [
        "train_analysis.head()"
      ],
      "execution_count": 0,
      "outputs": [
        {
          "output_type": "execute_result",
          "data": {
            "text/html": [
              "<div>\n",
              "<style scoped>\n",
              "    .dataframe tbody tr th:only-of-type {\n",
              "        vertical-align: middle;\n",
              "    }\n",
              "\n",
              "    .dataframe tbody tr th {\n",
              "        vertical-align: top;\n",
              "    }\n",
              "\n",
              "    .dataframe thead th {\n",
              "        text-align: right;\n",
              "    }\n",
              "</style>\n",
              "<table border=\"1\" class=\"dataframe\">\n",
              "  <thead>\n",
              "    <tr style=\"text-align: right;\">\n",
              "      <th></th>\n",
              "      <th>id</th>\n",
              "      <th>program_id</th>\n",
              "      <th>program_type</th>\n",
              "      <th>program_duration</th>\n",
              "      <th>test_id</th>\n",
              "      <th>test_type</th>\n",
              "      <th>difficulty_level</th>\n",
              "      <th>trainee_id</th>\n",
              "      <th>gender</th>\n",
              "      <th>education</th>\n",
              "      <th>city_tier</th>\n",
              "      <th>age</th>\n",
              "      <th>total_programs_enrolled</th>\n",
              "      <th>is_handicapped</th>\n",
              "      <th>trainee_engagement_rating</th>\n",
              "      <th>is_pass</th>\n",
              "      <th>age_group</th>\n",
              "      <th>program_duration_log</th>\n",
              "      <th>education_tier</th>\n",
              "      <th>program_duration_cat</th>\n",
              "      <th>experience</th>\n",
              "    </tr>\n",
              "  </thead>\n",
              "  <tbody>\n",
              "    <tr>\n",
              "      <th>0</th>\n",
              "      <td>9389_150</td>\n",
              "      <td>Y_1</td>\n",
              "      <td>Y</td>\n",
              "      <td>136</td>\n",
              "      <td>150</td>\n",
              "      <td>offline</td>\n",
              "      <td>intermediate</td>\n",
              "      <td>9389</td>\n",
              "      <td>M</td>\n",
              "      <td>Matriculation</td>\n",
              "      <td>3</td>\n",
              "      <td>24.0</td>\n",
              "      <td>5</td>\n",
              "      <td>N</td>\n",
              "      <td>1.0</td>\n",
              "      <td>0</td>\n",
              "      <td>group 17-28</td>\n",
              "      <td>4.919981</td>\n",
              "      <td>3_Matriculation</td>\n",
              "      <td>max duration</td>\n",
              "      <td>Least experience</td>\n",
              "    </tr>\n",
              "    <tr>\n",
              "      <th>6</th>\n",
              "      <td>17874_144</td>\n",
              "      <td>Y_2</td>\n",
              "      <td>Y</td>\n",
              "      <td>120</td>\n",
              "      <td>144</td>\n",
              "      <td>online</td>\n",
              "      <td>easy</td>\n",
              "      <td>17874</td>\n",
              "      <td>M</td>\n",
              "      <td>Bachelors</td>\n",
              "      <td>2</td>\n",
              "      <td>48.0</td>\n",
              "      <td>3</td>\n",
              "      <td>N</td>\n",
              "      <td>3.0</td>\n",
              "      <td>1</td>\n",
              "      <td>group 45-63</td>\n",
              "      <td>4.795791</td>\n",
              "      <td>2_Bachelors</td>\n",
              "      <td>Minimum duration</td>\n",
              "      <td>Highly experienced</td>\n",
              "    </tr>\n",
              "    <tr>\n",
              "      <th>9</th>\n",
              "      <td>17019_153</td>\n",
              "      <td>Y_1</td>\n",
              "      <td>Y</td>\n",
              "      <td>136</td>\n",
              "      <td>153</td>\n",
              "      <td>offline</td>\n",
              "      <td>hard</td>\n",
              "      <td>17019</td>\n",
              "      <td>M</td>\n",
              "      <td>Bachelors</td>\n",
              "      <td>3</td>\n",
              "      <td>28.0</td>\n",
              "      <td>2</td>\n",
              "      <td>N</td>\n",
              "      <td>4.0</td>\n",
              "      <td>1</td>\n",
              "      <td>group 28-39</td>\n",
              "      <td>4.919981</td>\n",
              "      <td>3_Bachelors</td>\n",
              "      <td>max duration</td>\n",
              "      <td>Moderate experience</td>\n",
              "    </tr>\n",
              "    <tr>\n",
              "      <th>12</th>\n",
              "      <td>15848_149</td>\n",
              "      <td>Y_1</td>\n",
              "      <td>Y</td>\n",
              "      <td>136</td>\n",
              "      <td>149</td>\n",
              "      <td>offline</td>\n",
              "      <td>intermediate</td>\n",
              "      <td>15848</td>\n",
              "      <td>M</td>\n",
              "      <td>High School Diploma</td>\n",
              "      <td>1</td>\n",
              "      <td>45.0</td>\n",
              "      <td>4</td>\n",
              "      <td>N</td>\n",
              "      <td>4.0</td>\n",
              "      <td>1</td>\n",
              "      <td>group 45-63</td>\n",
              "      <td>4.919981</td>\n",
              "      <td>1_High School Diploma</td>\n",
              "      <td>max duration</td>\n",
              "      <td>Highly experienced</td>\n",
              "    </tr>\n",
              "    <tr>\n",
              "      <th>13</th>\n",
              "      <td>423_126</td>\n",
              "      <td>Y_3</td>\n",
              "      <td>Y</td>\n",
              "      <td>135</td>\n",
              "      <td>126</td>\n",
              "      <td>offline</td>\n",
              "      <td>intermediate</td>\n",
              "      <td>423</td>\n",
              "      <td>M</td>\n",
              "      <td>Matriculation</td>\n",
              "      <td>3</td>\n",
              "      <td>45.0</td>\n",
              "      <td>4</td>\n",
              "      <td>N</td>\n",
              "      <td>5.0</td>\n",
              "      <td>1</td>\n",
              "      <td>group 45-63</td>\n",
              "      <td>4.912655</td>\n",
              "      <td>3_Matriculation</td>\n",
              "      <td>max duration</td>\n",
              "      <td>Highly experienced</td>\n",
              "    </tr>\n",
              "  </tbody>\n",
              "</table>\n",
              "</div>"
            ],
            "text/plain": [
              "           id program_id  ... program_duration_cat           experience\n",
              "0    9389_150        Y_1  ...         max duration     Least experience\n",
              "6   17874_144        Y_2  ...     Minimum duration   Highly experienced\n",
              "9   17019_153        Y_1  ...         max duration  Moderate experience\n",
              "12  15848_149        Y_1  ...         max duration   Highly experienced\n",
              "13    423_126        Y_3  ...         max duration   Highly experienced\n",
              "\n",
              "[5 rows x 21 columns]"
            ]
          },
          "metadata": {
            "tags": []
          },
          "execution_count": 223
        }
      ]
    },
    {
      "cell_type": "code",
      "metadata": {
        "id": "epxqhUHRDMcU",
        "colab_type": "code",
        "outputId": "0dce9ef5-95e4-4b4a-faff-43236865325e",
        "colab": {
          "base_uri": "https://localhost:8080/",
          "height": 1000
        }
      },
      "source": [
        "for program_id in train_analysis['program_id'].unique():\n",
        "  print(train_analysis[train_analysis['program_id'] == program_id]['test_type'].value_counts())\n",
        "  print(\"---------------------------\")"
      ],
      "execution_count": 0,
      "outputs": [
        {
          "output_type": "stream",
          "text": [
            "online     3692\n",
            "offline    2995\n",
            "Name: test_type, dtype: int64\n",
            "---------------------------\n",
            "online     2333\n",
            "offline    1908\n",
            "Name: test_type, dtype: int64\n",
            "---------------------------\n",
            "online     3572\n",
            "offline    3051\n",
            "Name: test_type, dtype: int64\n",
            "---------------------------\n",
            "online     2758\n",
            "offline    2251\n",
            "Name: test_type, dtype: int64\n",
            "---------------------------\n",
            "offline    3152\n",
            "Name: test_type, dtype: int64\n",
            "---------------------------\n",
            "offline    2337\n",
            "online     1929\n",
            "Name: test_type, dtype: int64\n",
            "---------------------------\n",
            "offline    3450\n",
            "online     2798\n",
            "Name: test_type, dtype: int64\n",
            "---------------------------\n",
            "offline    2591\n",
            "online     2201\n",
            "Name: test_type, dtype: int64\n",
            "---------------------------\n",
            "online     1301\n",
            "offline     796\n",
            "Name: test_type, dtype: int64\n",
            "---------------------------\n",
            "online     1167\n",
            "offline     706\n",
            "Name: test_type, dtype: int64\n",
            "---------------------------\n",
            "online     1681\n",
            "offline     978\n",
            "Name: test_type, dtype: int64\n",
            "---------------------------\n",
            "offline    3419\n",
            "Name: test_type, dtype: int64\n",
            "---------------------------\n",
            "offline    3409\n",
            "Name: test_type, dtype: int64\n",
            "---------------------------\n",
            "online     2207\n",
            "offline    2094\n",
            "Name: test_type, dtype: int64\n",
            "---------------------------\n",
            "offline    1896\n",
            "Name: test_type, dtype: int64\n",
            "---------------------------\n",
            "online     2395\n",
            "offline    2353\n",
            "Name: test_type, dtype: int64\n",
            "---------------------------\n",
            "online     1570\n",
            "offline    1503\n",
            "Name: test_type, dtype: int64\n",
            "---------------------------\n",
            "offline    1205\n",
            "Name: test_type, dtype: int64\n",
            "---------------------------\n",
            "offline    774\n",
            "Name: test_type, dtype: int64\n",
            "---------------------------\n",
            "offline    1349\n",
            "Name: test_type, dtype: int64\n",
            "---------------------------\n",
            "offline    682\n",
            "Name: test_type, dtype: int64\n",
            "---------------------------\n",
            "offline    644\n",
            "Name: test_type, dtype: int64\n",
            "---------------------------\n"
          ],
          "name": "stdout"
        }
      ]
    },
    {
      "cell_type": "code",
      "metadata": {
        "id": "h9lNpuQdDY6p",
        "colab_type": "code",
        "outputId": "3ae356c8-2888-4148-98f3-6d52c3e4b81a",
        "colab": {
          "base_uri": "https://localhost:8080/",
          "height": 1000
        }
      },
      "source": [
        "for program_id in train_analysis['program_id'].unique():\n",
        "  print(program_id)\n",
        "  print(train_analysis[train_analysis['program_id'] == program_id]['difficulty_level'].value_counts())\n",
        "  print(\"---------------------------\")"
      ],
      "execution_count": 0,
      "outputs": [
        {
          "output_type": "stream",
          "text": [
            "Y_1\n",
            "easy            3692\n",
            "hard            1521\n",
            "intermediate    1474\n",
            "Name: difficulty_level, dtype: int64\n",
            "---------------------------\n",
            "Y_2\n",
            "easy            2333\n",
            "hard             992\n",
            "intermediate     916\n",
            "Name: difficulty_level, dtype: int64\n",
            "---------------------------\n",
            "Y_3\n",
            "easy            3572\n",
            "hard            1603\n",
            "intermediate    1448\n",
            "Name: difficulty_level, dtype: int64\n",
            "---------------------------\n",
            "Y_4\n",
            "easy            2758\n",
            "hard            1140\n",
            "intermediate    1111\n",
            "Name: difficulty_level, dtype: int64\n",
            "---------------------------\n",
            "T_1\n",
            "easy            1415\n",
            "hard            1131\n",
            "intermediate     606\n",
            "Name: difficulty_level, dtype: int64\n",
            "---------------------------\n",
            "T_2\n",
            "easy            2425\n",
            "intermediate    1841\n",
            "Name: difficulty_level, dtype: int64\n",
            "---------------------------\n",
            "T_3\n",
            "easy            3545\n",
            "intermediate    2703\n",
            "Name: difficulty_level, dtype: int64\n",
            "---------------------------\n",
            "T_4\n",
            "easy            2761\n",
            "intermediate    2031\n",
            "Name: difficulty_level, dtype: int64\n",
            "---------------------------\n",
            "Z_2\n",
            "easy    2097\n",
            "Name: difficulty_level, dtype: int64\n",
            "---------------------------\n",
            "Z_1\n",
            "easy    1873\n",
            "Name: difficulty_level, dtype: int64\n",
            "---------------------------\n",
            "Z_3\n",
            "easy    2659\n",
            "Name: difficulty_level, dtype: int64\n",
            "---------------------------\n",
            "V_3\n",
            "intermediate    2331\n",
            "easy             660\n",
            "vary hard        428\n",
            "Name: difficulty_level, dtype: int64\n",
            "---------------------------\n",
            "V_1\n",
            "easy         1671\n",
            "hard         1335\n",
            "vary hard     403\n",
            "Name: difficulty_level, dtype: int64\n",
            "---------------------------\n",
            "V_4\n",
            "easy            2956\n",
            "intermediate    1107\n",
            "vary hard        238\n",
            "Name: difficulty_level, dtype: int64\n",
            "---------------------------\n",
            "V_2\n",
            "intermediate    1281\n",
            "easy             406\n",
            "vary hard        209\n",
            "Name: difficulty_level, dtype: int64\n",
            "---------------------------\n",
            "U_1\n",
            "easy            3001\n",
            "intermediate    1239\n",
            "vary hard        508\n",
            "Name: difficulty_level, dtype: int64\n",
            "---------------------------\n",
            "U_2\n",
            "easy            1983\n",
            "intermediate     795\n",
            "vary hard        295\n",
            "Name: difficulty_level, dtype: int64\n",
            "---------------------------\n",
            "X_3\n",
            "hard            837\n",
            "intermediate    368\n",
            "Name: difficulty_level, dtype: int64\n",
            "---------------------------\n",
            "X_2\n",
            "hard            542\n",
            "intermediate    232\n",
            "Name: difficulty_level, dtype: int64\n",
            "---------------------------\n",
            "X_1\n",
            "hard            957\n",
            "intermediate    392\n",
            "Name: difficulty_level, dtype: int64\n",
            "---------------------------\n",
            "S_2\n",
            "intermediate    401\n",
            "easy            160\n",
            "hard            121\n",
            "Name: difficulty_level, dtype: int64\n",
            "---------------------------\n",
            "S_1\n",
            "intermediate    392\n",
            "easy            134\n",
            "hard            118\n",
            "Name: difficulty_level, dtype: int64\n",
            "---------------------------\n"
          ],
          "name": "stdout"
        }
      ]
    },
    {
      "cell_type": "code",
      "metadata": {
        "id": "B6r7YiY_D8oA",
        "colab_type": "code",
        "outputId": "addadc7e-0ebd-4c23-bf4a-2de923b084e7",
        "colab": {
          "base_uri": "https://localhost:8080/",
          "height": 571
        }
      },
      "source": [
        "for program_type in train_analysis['program_type'].unique():\n",
        "  print(program_type)\n",
        "  print(train_analysis[train_analysis['program_type'] == program_type]['test_type'].value_counts())\n",
        "  print(\"---------------------------\")"
      ],
      "execution_count": 0,
      "outputs": [
        {
          "output_type": "stream",
          "text": [
            "Y\n",
            "online     12355\n",
            "offline    10205\n",
            "Name: test_type, dtype: int64\n",
            "---------------------------\n",
            "T\n",
            "offline    11530\n",
            "online      6928\n",
            "Name: test_type, dtype: int64\n",
            "---------------------------\n",
            "Z\n",
            "online     4149\n",
            "offline    2480\n",
            "Name: test_type, dtype: int64\n",
            "---------------------------\n",
            "V\n",
            "offline    10818\n",
            "online      2207\n",
            "Name: test_type, dtype: int64\n",
            "---------------------------\n",
            "U\n",
            "online     3965\n",
            "offline    3856\n",
            "Name: test_type, dtype: int64\n",
            "---------------------------\n",
            "X\n",
            "offline    3328\n",
            "Name: test_type, dtype: int64\n",
            "---------------------------\n",
            "S\n",
            "offline    1326\n",
            "Name: test_type, dtype: int64\n",
            "---------------------------\n"
          ],
          "name": "stdout"
        }
      ]
    },
    {
      "cell_type": "code",
      "metadata": {
        "id": "SQJjN1xkEiOs",
        "colab_type": "code",
        "colab": {}
      },
      "source": [
        "train_analysis['difficulty_test_type'] = train_analysis['difficulty_level'] +\"_\"+ train_analysis['test_type']\n",
        "test_analysis['difficulty_test_type'] = test_analysis['difficulty_level'] +\"_\"+ test_analysis['test_type']"
      ],
      "execution_count": 0,
      "outputs": []
    },
    {
      "cell_type": "code",
      "metadata": {
        "id": "BxZubmSpFbuT",
        "colab_type": "code",
        "outputId": "688689be-a6c9-47b8-92dd-f7a593829dbe",
        "colab": {
          "base_uri": "https://localhost:8080/",
          "height": 281
        }
      },
      "source": [
        "sns.countplot(x='difficulty_test_type',hue='is_pass',data=train_analysis)\n",
        "plt.xticks()\n",
        "plt.show()"
      ],
      "execution_count": 0,
      "outputs": [
        {
          "output_type": "display_data",
          "data": {
            "image/png": "[encoded data removed]",
            "text/plain": [
              "<Figure size 432x288 with 1 Axes>"
            ]
          },
          "metadata": {
            "tags": [],
            "needs_background": "light"
          }
        }
      ]
    },
    {
      "cell_type": "code",
      "metadata": {
        "id": "IXURIc5LFk-5",
        "colab_type": "code",
        "outputId": "c1286fce-d821-4c8b-8c6c-b30a6d197921",
        "colab": {
          "base_uri": "https://localhost:8080/",
          "height": 299
        }
      },
      "source": [
        "train_analysis.head()"
      ],
      "execution_count": 0,
      "outputs": [
        {
          "output_type": "execute_result",
          "data": {
            "text/html": [
              "<div>\n",
              "<style scoped>\n",
              "    .dataframe tbody tr th:only-of-type {\n",
              "        vertical-align: middle;\n",
              "    }\n",
              "\n",
              "    .dataframe tbody tr th {\n",
              "        vertical-align: top;\n",
              "    }\n",
              "\n",
              "    .dataframe thead th {\n",
              "        text-align: right;\n",
              "    }\n",
              "</style>\n",
              "<table border=\"1\" class=\"dataframe\">\n",
              "  <thead>\n",
              "    <tr style=\"text-align: right;\">\n",
              "      <th></th>\n",
              "      <th>id</th>\n",
              "      <th>program_id</th>\n",
              "      <th>program_type</th>\n",
              "      <th>program_duration</th>\n",
              "      <th>test_id</th>\n",
              "      <th>test_type</th>\n",
              "      <th>difficulty_level</th>\n",
              "      <th>trainee_id</th>\n",
              "      <th>gender</th>\n",
              "      <th>education</th>\n",
              "      <th>city_tier</th>\n",
              "      <th>age</th>\n",
              "      <th>total_programs_enrolled</th>\n",
              "      <th>is_handicapped</th>\n",
              "      <th>trainee_engagement_rating</th>\n",
              "      <th>is_pass</th>\n",
              "      <th>age_group</th>\n",
              "      <th>program_duration_log</th>\n",
              "      <th>education_tier</th>\n",
              "      <th>program_duration_cat</th>\n",
              "      <th>experience</th>\n",
              "      <th>difficulty_test_type</th>\n",
              "    </tr>\n",
              "  </thead>\n",
              "  <tbody>\n",
              "    <tr>\n",
              "      <th>0</th>\n",
              "      <td>9389_150</td>\n",
              "      <td>Y_1</td>\n",
              "      <td>Y</td>\n",
              "      <td>136</td>\n",
              "      <td>150</td>\n",
              "      <td>offline</td>\n",
              "      <td>intermediate</td>\n",
              "      <td>9389</td>\n",
              "      <td>M</td>\n",
              "      <td>Matriculation</td>\n",
              "      <td>3</td>\n",
              "      <td>24.0</td>\n",
              "      <td>5</td>\n",
              "      <td>N</td>\n",
              "      <td>1.0</td>\n",
              "      <td>0</td>\n",
              "      <td>group 17-28</td>\n",
              "      <td>4.919981</td>\n",
              "      <td>3_Matriculation</td>\n",
              "      <td>max duration</td>\n",
              "      <td>Least experience</td>\n",
              "      <td>intermediate_offline</td>\n",
              "    </tr>\n",
              "    <tr>\n",
              "      <th>6</th>\n",
              "      <td>17874_144</td>\n",
              "      <td>Y_2</td>\n",
              "      <td>Y</td>\n",
              "      <td>120</td>\n",
              "      <td>144</td>\n",
              "      <td>online</td>\n",
              "      <td>easy</td>\n",
              "      <td>17874</td>\n",
              "      <td>M</td>\n",
              "      <td>Bachelors</td>\n",
              "      <td>2</td>\n",
              "      <td>48.0</td>\n",
              "      <td>3</td>\n",
              "      <td>N</td>\n",
              "      <td>3.0</td>\n",
              "      <td>1</td>\n",
              "      <td>group 45-63</td>\n",
              "      <td>4.795791</td>\n",
              "      <td>2_Bachelors</td>\n",
              "      <td>Minimum duration</td>\n",
              "      <td>Highly experienced</td>\n",
              "      <td>easy_online</td>\n",
              "    </tr>\n",
              "    <tr>\n",
              "      <th>9</th>\n",
              "      <td>17019_153</td>\n",
              "      <td>Y_1</td>\n",
              "      <td>Y</td>\n",
              "      <td>136</td>\n",
              "      <td>153</td>\n",
              "      <td>offline</td>\n",
              "      <td>hard</td>\n",
              "      <td>17019</td>\n",
              "      <td>M</td>\n",
              "      <td>Bachelors</td>\n",
              "      <td>3</td>\n",
              "      <td>28.0</td>\n",
              "      <td>2</td>\n",
              "      <td>N</td>\n",
              "      <td>4.0</td>\n",
              "      <td>1</td>\n",
              "      <td>group 28-39</td>\n",
              "      <td>4.919981</td>\n",
              "      <td>3_Bachelors</td>\n",
              "      <td>max duration</td>\n",
              "      <td>Moderate experience</td>\n",
              "      <td>hard_offline</td>\n",
              "    </tr>\n",
              "    <tr>\n",
              "      <th>12</th>\n",
              "      <td>15848_149</td>\n",
              "      <td>Y_1</td>\n",
              "      <td>Y</td>\n",
              "      <td>136</td>\n",
              "      <td>149</td>\n",
              "      <td>offline</td>\n",
              "      <td>intermediate</td>\n",
              "      <td>15848</td>\n",
              "      <td>M</td>\n",
              "      <td>High School Diploma</td>\n",
              "      <td>1</td>\n",
              "      <td>45.0</td>\n",
              "      <td>4</td>\n",
              "      <td>N</td>\n",
              "      <td>4.0</td>\n",
              "      <td>1</td>\n",
              "      <td>group 45-63</td>\n",
              "      <td>4.919981</td>\n",
              "      <td>1_High School Diploma</td>\n",
              "      <td>max duration</td>\n",
              "      <td>Highly experienced</td>\n",
              "      <td>intermediate_offline</td>\n",
              "    </tr>\n",
              "    <tr>\n",
              "      <th>13</th>\n",
              "      <td>423_126</td>\n",
              "      <td>Y_3</td>\n",
              "      <td>Y</td>\n",
              "      <td>135</td>\n",
              "      <td>126</td>\n",
              "      <td>offline</td>\n",
              "      <td>intermediate</td>\n",
              "      <td>423</td>\n",
              "      <td>M</td>\n",
              "      <td>Matriculation</td>\n",
              "      <td>3</td>\n",
              "      <td>45.0</td>\n",
              "      <td>4</td>\n",
              "      <td>N</td>\n",
              "      <td>5.0</td>\n",
              "      <td>1</td>\n",
              "      <td>group 45-63</td>\n",
              "      <td>4.912655</td>\n",
              "      <td>3_Matriculation</td>\n",
              "      <td>max duration</td>\n",
              "      <td>Highly experienced</td>\n",
              "      <td>intermediate_offline</td>\n",
              "    </tr>\n",
              "  </tbody>\n",
              "</table>\n",
              "</div>"
            ],
            "text/plain": [
              "           id program_id  ...           experience  difficulty_test_type\n",
              "0    9389_150        Y_1  ...     Least experience  intermediate_offline\n",
              "6   17874_144        Y_2  ...   Highly experienced           easy_online\n",
              "9   17019_153        Y_1  ...  Moderate experience          hard_offline\n",
              "12  15848_149        Y_1  ...   Highly experienced  intermediate_offline\n",
              "13    423_126        Y_3  ...   Highly experienced  intermediate_offline\n",
              "\n",
              "[5 rows x 22 columns]"
            ]
          },
          "metadata": {
            "tags": []
          },
          "execution_count": 229
        }
      ]
    },
    {
      "cell_type": "code",
      "metadata": {
        "id": "5nP3zQhDHHEw",
        "colab_type": "code",
        "outputId": "327ff017-be9e-4607-a7af-6aba5916ade3",
        "colab": {
          "base_uri": "https://localhost:8080/",
          "height": 160
        }
      },
      "source": [
        "test_analysis[test_analysis['trainee_id'] ==9389]"
      ],
      "execution_count": 0,
      "outputs": [
        {
          "output_type": "execute_result",
          "data": {
            "text/html": [
              "<div>\n",
              "<style scoped>\n",
              "    .dataframe tbody tr th:only-of-type {\n",
              "        vertical-align: middle;\n",
              "    }\n",
              "\n",
              "    .dataframe tbody tr th {\n",
              "        vertical-align: top;\n",
              "    }\n",
              "\n",
              "    .dataframe thead th {\n",
              "        text-align: right;\n",
              "    }\n",
              "</style>\n",
              "<table border=\"1\" class=\"dataframe\">\n",
              "  <thead>\n",
              "    <tr style=\"text-align: right;\">\n",
              "      <th></th>\n",
              "      <th>id</th>\n",
              "      <th>program_id</th>\n",
              "      <th>program_type</th>\n",
              "      <th>program_duration</th>\n",
              "      <th>test_id</th>\n",
              "      <th>test_type</th>\n",
              "      <th>difficulty_level</th>\n",
              "      <th>trainee_id</th>\n",
              "      <th>gender</th>\n",
              "      <th>education</th>\n",
              "      <th>city_tier</th>\n",
              "      <th>age</th>\n",
              "      <th>total_programs_enrolled</th>\n",
              "      <th>is_handicapped</th>\n",
              "      <th>trainee_engagement_rating</th>\n",
              "      <th>education_tier</th>\n",
              "      <th>program_duration_cat</th>\n",
              "      <th>age_group</th>\n",
              "      <th>experience</th>\n",
              "      <th>difficulty_test_type</th>\n",
              "    </tr>\n",
              "  </thead>\n",
              "  <tbody>\n",
              "    <tr>\n",
              "      <th>3836</th>\n",
              "      <td>9389_149</td>\n",
              "      <td>Y_1</td>\n",
              "      <td>Y</td>\n",
              "      <td>136</td>\n",
              "      <td>149</td>\n",
              "      <td>offline</td>\n",
              "      <td>intermediate</td>\n",
              "      <td>9389</td>\n",
              "      <td>M</td>\n",
              "      <td>Matriculation</td>\n",
              "      <td>3</td>\n",
              "      <td>24.0</td>\n",
              "      <td>5</td>\n",
              "      <td>N</td>\n",
              "      <td>1.0</td>\n",
              "      <td>3_Matriculation</td>\n",
              "      <td>max duration</td>\n",
              "      <td>group 17-28</td>\n",
              "      <td>Least experience</td>\n",
              "      <td>intermediate_offline</td>\n",
              "    </tr>\n",
              "    <tr>\n",
              "      <th>27224</th>\n",
              "      <td>9389_151</td>\n",
              "      <td>Y_1</td>\n",
              "      <td>Y</td>\n",
              "      <td>136</td>\n",
              "      <td>151</td>\n",
              "      <td>offline</td>\n",
              "      <td>hard</td>\n",
              "      <td>9389</td>\n",
              "      <td>M</td>\n",
              "      <td>Matriculation</td>\n",
              "      <td>3</td>\n",
              "      <td>24.0</td>\n",
              "      <td>5</td>\n",
              "      <td>N</td>\n",
              "      <td>1.0</td>\n",
              "      <td>3_Matriculation</td>\n",
              "      <td>max duration</td>\n",
              "      <td>group 17-28</td>\n",
              "      <td>Least experience</td>\n",
              "      <td>hard_offline</td>\n",
              "    </tr>\n",
              "  </tbody>\n",
              "</table>\n",
              "</div>"
            ],
            "text/plain": [
              "             id program_id  ...        experience  difficulty_test_type\n",
              "3836   9389_149        Y_1  ...  Least experience  intermediate_offline\n",
              "27224  9389_151        Y_1  ...  Least experience          hard_offline\n",
              "\n",
              "[2 rows x 20 columns]"
            ]
          },
          "metadata": {
            "tags": []
          },
          "execution_count": 230
        }
      ]
    },
    {
      "cell_type": "code",
      "metadata": {
        "id": "zoRgyQrVHORd",
        "colab_type": "code",
        "outputId": "44dc0faf-2229-4ab1-83fe-de50731566cd",
        "colab": {
          "base_uri": "https://localhost:8080/",
          "height": 206
        }
      },
      "source": [
        "train_analysis[train_analysis['trainee_id'] ==9389]"
      ],
      "execution_count": 0,
      "outputs": [
        {
          "output_type": "execute_result",
          "data": {
            "text/html": [
              "<div>\n",
              "<style scoped>\n",
              "    .dataframe tbody tr th:only-of-type {\n",
              "        vertical-align: middle;\n",
              "    }\n",
              "\n",
              "    .dataframe tbody tr th {\n",
              "        vertical-align: top;\n",
              "    }\n",
              "\n",
              "    .dataframe thead th {\n",
              "        text-align: right;\n",
              "    }\n",
              "</style>\n",
              "<table border=\"1\" class=\"dataframe\">\n",
              "  <thead>\n",
              "    <tr style=\"text-align: right;\">\n",
              "      <th></th>\n",
              "      <th>id</th>\n",
              "      <th>program_id</th>\n",
              "      <th>program_type</th>\n",
              "      <th>program_duration</th>\n",
              "      <th>test_id</th>\n",
              "      <th>test_type</th>\n",
              "      <th>difficulty_level</th>\n",
              "      <th>trainee_id</th>\n",
              "      <th>gender</th>\n",
              "      <th>education</th>\n",
              "      <th>city_tier</th>\n",
              "      <th>age</th>\n",
              "      <th>total_programs_enrolled</th>\n",
              "      <th>is_handicapped</th>\n",
              "      <th>trainee_engagement_rating</th>\n",
              "      <th>is_pass</th>\n",
              "      <th>age_group</th>\n",
              "      <th>program_duration_log</th>\n",
              "      <th>education_tier</th>\n",
              "      <th>program_duration_cat</th>\n",
              "      <th>experience</th>\n",
              "      <th>difficulty_test_type</th>\n",
              "    </tr>\n",
              "  </thead>\n",
              "  <tbody>\n",
              "    <tr>\n",
              "      <th>0</th>\n",
              "      <td>9389_150</td>\n",
              "      <td>Y_1</td>\n",
              "      <td>Y</td>\n",
              "      <td>136</td>\n",
              "      <td>150</td>\n",
              "      <td>offline</td>\n",
              "      <td>intermediate</td>\n",
              "      <td>9389</td>\n",
              "      <td>M</td>\n",
              "      <td>Matriculation</td>\n",
              "      <td>3</td>\n",
              "      <td>24.0</td>\n",
              "      <td>5</td>\n",
              "      <td>N</td>\n",
              "      <td>1.0</td>\n",
              "      <td>0</td>\n",
              "      <td>group 17-28</td>\n",
              "      <td>4.919981</td>\n",
              "      <td>3_Matriculation</td>\n",
              "      <td>max duration</td>\n",
              "      <td>Least experience</td>\n",
              "      <td>intermediate_offline</td>\n",
              "    </tr>\n",
              "    <tr>\n",
              "      <th>49948</th>\n",
              "      <td>9389_154</td>\n",
              "      <td>Y_1</td>\n",
              "      <td>Y</td>\n",
              "      <td>136</td>\n",
              "      <td>154</td>\n",
              "      <td>online</td>\n",
              "      <td>easy</td>\n",
              "      <td>9389</td>\n",
              "      <td>M</td>\n",
              "      <td>Matriculation</td>\n",
              "      <td>3</td>\n",
              "      <td>24.0</td>\n",
              "      <td>5</td>\n",
              "      <td>N</td>\n",
              "      <td>1.0</td>\n",
              "      <td>0</td>\n",
              "      <td>group 17-28</td>\n",
              "      <td>4.919981</td>\n",
              "      <td>3_Matriculation</td>\n",
              "      <td>max duration</td>\n",
              "      <td>Least experience</td>\n",
              "      <td>easy_online</td>\n",
              "    </tr>\n",
              "    <tr>\n",
              "      <th>64716</th>\n",
              "      <td>9389_152</td>\n",
              "      <td>Y_1</td>\n",
              "      <td>Y</td>\n",
              "      <td>136</td>\n",
              "      <td>152</td>\n",
              "      <td>offline</td>\n",
              "      <td>hard</td>\n",
              "      <td>9389</td>\n",
              "      <td>M</td>\n",
              "      <td>Matriculation</td>\n",
              "      <td>3</td>\n",
              "      <td>24.0</td>\n",
              "      <td>5</td>\n",
              "      <td>N</td>\n",
              "      <td>1.0</td>\n",
              "      <td>0</td>\n",
              "      <td>group 17-28</td>\n",
              "      <td>4.919981</td>\n",
              "      <td>3_Matriculation</td>\n",
              "      <td>max duration</td>\n",
              "      <td>Least experience</td>\n",
              "      <td>hard_offline</td>\n",
              "    </tr>\n",
              "  </tbody>\n",
              "</table>\n",
              "</div>"
            ],
            "text/plain": [
              "             id program_id  ...        experience  difficulty_test_type\n",
              "0      9389_150        Y_1  ...  Least experience  intermediate_offline\n",
              "49948  9389_154        Y_1  ...  Least experience           easy_online\n",
              "64716  9389_152        Y_1  ...  Least experience          hard_offline\n",
              "\n",
              "[3 rows x 22 columns]"
            ]
          },
          "metadata": {
            "tags": []
          },
          "execution_count": 231
        }
      ]
    },
    {
      "cell_type": "code",
      "metadata": {
        "id": "NIxtJnxpH4-L",
        "colab_type": "code",
        "outputId": "5512e980-7904-4642-ffba-0e5658d36012",
        "colab": {
          "base_uri": "https://localhost:8080/",
          "height": 252
        }
      },
      "source": [
        "train_analysis['total_programs_enrolled'].value_counts()"
      ],
      "execution_count": 0,
      "outputs": [
        {
          "output_type": "execute_result",
          "data": {
            "text/plain": [
              "2     40538\n",
              "4     13521\n",
              "3      7652\n",
              "1      7522\n",
              "5      1705\n",
              "6      1458\n",
              "8       300\n",
              "7       286\n",
              "9        79\n",
              "10       30\n",
              "12       28\n",
              "11       15\n",
              "14       13\n",
              "Name: total_programs_enrolled, dtype: int64"
            ]
          },
          "metadata": {
            "tags": []
          },
          "execution_count": 232
        }
      ]
    },
    {
      "cell_type": "code",
      "metadata": {
        "id": "f3h94M68IIYg",
        "colab_type": "code",
        "outputId": "a2bc604d-7c33-4d8f-c030-af769075426c",
        "colab": {
          "base_uri": "https://localhost:8080/",
          "height": 168
        }
      },
      "source": [
        "train_analysis['total_programs_enrolled'].describe()"
      ],
      "execution_count": 0,
      "outputs": [
        {
          "output_type": "execute_result",
          "data": {
            "text/plain": [
              "count    73147.000000\n",
              "mean         2.583934\n",
              "std          1.240816\n",
              "min          1.000000\n",
              "25%          2.000000\n",
              "50%          2.000000\n",
              "75%          3.000000\n",
              "max         14.000000\n",
              "Name: total_programs_enrolled, dtype: float64"
            ]
          },
          "metadata": {
            "tags": []
          },
          "execution_count": 233
        }
      ]
    },
    {
      "cell_type": "code",
      "metadata": {
        "id": "3fjrIBp0IgXV",
        "colab_type": "code",
        "outputId": "a9f2e569-0753-43b1-c202-dc68a3c3652b",
        "colab": {
          "base_uri": "https://localhost:8080/",
          "height": 297
        }
      },
      "source": [
        "sns.boxplot(x=train_analysis['total_programs_enrolled'])"
      ],
      "execution_count": 0,
      "outputs": [
        {
          "output_type": "execute_result",
          "data": {
            "text/plain": [
              "<matplotlib.axes._subplots.AxesSubplot at 0x7f24c7711a58>"
            ]
          },
          "metadata": {
            "tags": []
          },
          "execution_count": 234
        },
        {
          "output_type": "display_data",
          "data": {
            "image/png": "[encoded data removed]",
            "text/plain": [
              "<Figure size 432x288 with 1 Axes>"
            ]
          },
          "metadata": {
            "tags": [],
            "needs_background": "light"
          }
        }
      ]
    },
    {
      "cell_type": "code",
      "metadata": {
        "id": "7h27Rxz9JTs1",
        "colab_type": "code",
        "outputId": "6bf77630-1458-4933-a3af-a143639ebad4",
        "colab": {
          "base_uri": "https://localhost:8080/",
          "height": 1000
        }
      },
      "source": [
        "## To find the characteristics of total programs enrolled\n",
        "for i in range(1,15,1):\n",
        "  print(i)\n",
        "  print(train_analysis[train_analysis['total_programs_enrolled'] == i]['is_pass'].value_counts(\"normalize\"))\n",
        "  print(\"-----------------------\")"
      ],
      "execution_count": 0,
      "outputs": [
        {
          "output_type": "stream",
          "text": [
            "1\n",
            "1    0.717229\n",
            "0    0.282771\n",
            "Name: is_pass, dtype: float64\n",
            "-----------------------\n",
            "2\n",
            "1    0.698209\n",
            "0    0.301791\n",
            "Name: is_pass, dtype: float64\n",
            "-----------------------\n",
            "3\n",
            "1    0.693936\n",
            "0    0.306064\n",
            "Name: is_pass, dtype: float64\n",
            "-----------------------\n",
            "4\n",
            "1    0.695141\n",
            "0    0.304859\n",
            "Name: is_pass, dtype: float64\n",
            "-----------------------\n",
            "5\n",
            "1    0.628152\n",
            "0    0.371848\n",
            "Name: is_pass, dtype: float64\n",
            "-----------------------\n",
            "6\n",
            "1    0.645405\n",
            "0    0.354595\n",
            "Name: is_pass, dtype: float64\n",
            "-----------------------\n",
            "7\n",
            "1    0.646853\n",
            "0    0.353147\n",
            "Name: is_pass, dtype: float64\n",
            "-----------------------\n",
            "8\n",
            "1    0.603333\n",
            "0    0.396667\n",
            "Name: is_pass, dtype: float64\n",
            "-----------------------\n",
            "9\n",
            "0    0.582278\n",
            "1    0.417722\n",
            "Name: is_pass, dtype: float64\n",
            "-----------------------\n",
            "10\n",
            "1    0.7\n",
            "0    0.3\n",
            "Name: is_pass, dtype: float64\n",
            "-----------------------\n",
            "11\n",
            "1    0.6\n",
            "0    0.4\n",
            "Name: is_pass, dtype: float64\n",
            "-----------------------\n",
            "12\n",
            "0    0.678571\n",
            "1    0.321429\n",
            "Name: is_pass, dtype: float64\n",
            "-----------------------\n",
            "13\n",
            "Series([], Name: is_pass, dtype: float64)\n",
            "-----------------------\n",
            "14\n",
            "1    0.692308\n",
            "0    0.307692\n",
            "Name: is_pass, dtype: float64\n",
            "-----------------------\n"
          ],
          "name": "stdout"
        }
      ]
    },
    {
      "cell_type": "markdown",
      "metadata": {
        "id": "fkB8QW-IK7j6",
        "colab_type": "text"
      },
      "source": [
        "          There is no big change in behavior of is_pass irrespective of total programs enrolled"
      ]
    },
    {
      "cell_type": "code",
      "metadata": {
        "id": "1e56WrtTKNvO",
        "colab_type": "code",
        "colab": {}
      },
      "source": [
        "## Splitting enrolled into quantiles\n",
        "## Total Enrolled - 1 (25%) or 50%\n",
        "## Total Enrolled - 2 (75%)\n",
        "## Total Enrolled - 3 (100%)"
      ],
      "execution_count": 0,
      "outputs": []
    },
    {
      "cell_type": "code",
      "metadata": {
        "id": "-xHQY9bWZ0S3",
        "colab_type": "code",
        "outputId": "05ed4f52-19fa-49d2-d44f-516495929abf",
        "colab": {
          "base_uri": "https://localhost:8080/",
          "height": 168
        }
      },
      "source": [
        "train_analysis['total_programs_enrolled'].describe()"
      ],
      "execution_count": 0,
      "outputs": [
        {
          "output_type": "execute_result",
          "data": {
            "text/plain": [
              "count    73147.000000\n",
              "mean         2.583934\n",
              "std          1.240816\n",
              "min          1.000000\n",
              "25%          2.000000\n",
              "50%          2.000000\n",
              "75%          3.000000\n",
              "max         14.000000\n",
              "Name: total_programs_enrolled, dtype: float64"
            ]
          },
          "metadata": {
            "tags": []
          },
          "execution_count": 237
        }
      ]
    },
    {
      "cell_type": "code",
      "metadata": {
        "id": "oC0HgFoTa1oA",
        "colab_type": "code",
        "colab": {}
      },
      "source": [
        "def total_programs_enrolled_cat(df,variable):\n",
        "  df['total_programs_enrolled_cat'] = \"\"\n",
        "  df.loc[((df[variable] >= 1) & (df[variable] <= 2)),'total_programs_enrolled_cat'] = \"Total Enrolled - 1\"\n",
        "  df.loc[((df[variable] > 2) & (df[variable] <= 3)),'total_programs_enrolled_cat'] = \"Total Enrolled - 2\"\n",
        "  df.loc[((df[variable] > 3) & (df[variable] <= 14)),'total_programs_enrolled_cat'] = \"Total Enrolled - 3\"\n",
        "  return df['total_programs_enrolled_cat']"
      ],
      "execution_count": 0,
      "outputs": []
    },
    {
      "cell_type": "code",
      "metadata": {
        "id": "lFVQvcbnbzYM",
        "colab_type": "code",
        "colab": {}
      },
      "source": [
        "train_analysis['total_programs_enrolled_cat'] = total_programs_enrolled_cat(train_analysis,'total_programs_enrolled')\n",
        "test_analysis['total_programs_enrolled_cat'] = total_programs_enrolled_cat(test_analysis,'total_programs_enrolled')"
      ],
      "execution_count": 0,
      "outputs": []
    },
    {
      "cell_type": "code",
      "metadata": {
        "id": "XimBxbulcB9b",
        "colab_type": "code",
        "outputId": "f6430056-9c64-416a-947d-f8f804aada99",
        "colab": {
          "base_uri": "https://localhost:8080/",
          "height": 299
        }
      },
      "source": [
        "train_analysis.head()"
      ],
      "execution_count": 0,
      "outputs": [
        {
          "output_type": "execute_result",
          "data": {
            "text/html": [
              "<div>\n",
              "<style scoped>\n",
              "    .dataframe tbody tr th:only-of-type {\n",
              "        vertical-align: middle;\n",
              "    }\n",
              "\n",
              "    .dataframe tbody tr th {\n",
              "        vertical-align: top;\n",
              "    }\n",
              "\n",
              "    .dataframe thead th {\n",
              "        text-align: right;\n",
              "    }\n",
              "</style>\n",
              "<table border=\"1\" class=\"dataframe\">\n",
              "  <thead>\n",
              "    <tr style=\"text-align: right;\">\n",
              "      <th></th>\n",
              "      <th>id</th>\n",
              "      <th>program_id</th>\n",
              "      <th>program_type</th>\n",
              "      <th>program_duration</th>\n",
              "      <th>test_id</th>\n",
              "      <th>test_type</th>\n",
              "      <th>difficulty_level</th>\n",
              "      <th>trainee_id</th>\n",
              "      <th>gender</th>\n",
              "      <th>education</th>\n",
              "      <th>city_tier</th>\n",
              "      <th>age</th>\n",
              "      <th>total_programs_enrolled</th>\n",
              "      <th>is_handicapped</th>\n",
              "      <th>trainee_engagement_rating</th>\n",
              "      <th>is_pass</th>\n",
              "      <th>age_group</th>\n",
              "      <th>program_duration_log</th>\n",
              "      <th>education_tier</th>\n",
              "      <th>program_duration_cat</th>\n",
              "      <th>experience</th>\n",
              "      <th>difficulty_test_type</th>\n",
              "      <th>total_programs_enrolled_cat</th>\n",
              "    </tr>\n",
              "  </thead>\n",
              "  <tbody>\n",
              "    <tr>\n",
              "      <th>0</th>\n",
              "      <td>9389_150</td>\n",
              "      <td>Y_1</td>\n",
              "      <td>Y</td>\n",
              "      <td>136</td>\n",
              "      <td>150</td>\n",
              "      <td>offline</td>\n",
              "      <td>intermediate</td>\n",
              "      <td>9389</td>\n",
              "      <td>M</td>\n",
              "      <td>Matriculation</td>\n",
              "      <td>3</td>\n",
              "      <td>24.0</td>\n",
              "      <td>5</td>\n",
              "      <td>N</td>\n",
              "      <td>1.0</td>\n",
              "      <td>0</td>\n",
              "      <td>group 17-28</td>\n",
              "      <td>4.919981</td>\n",
              "      <td>3_Matriculation</td>\n",
              "      <td>max duration</td>\n",
              "      <td>Least experience</td>\n",
              "      <td>intermediate_offline</td>\n",
              "      <td>Total Enrolled - 3</td>\n",
              "    </tr>\n",
              "    <tr>\n",
              "      <th>6</th>\n",
              "      <td>17874_144</td>\n",
              "      <td>Y_2</td>\n",
              "      <td>Y</td>\n",
              "      <td>120</td>\n",
              "      <td>144</td>\n",
              "      <td>online</td>\n",
              "      <td>easy</td>\n",
              "      <td>17874</td>\n",
              "      <td>M</td>\n",
              "      <td>Bachelors</td>\n",
              "      <td>2</td>\n",
              "      <td>48.0</td>\n",
              "      <td>3</td>\n",
              "      <td>N</td>\n",
              "      <td>3.0</td>\n",
              "      <td>1</td>\n",
              "      <td>group 45-63</td>\n",
              "      <td>4.795791</td>\n",
              "      <td>2_Bachelors</td>\n",
              "      <td>Minimum duration</td>\n",
              "      <td>Highly experienced</td>\n",
              "      <td>easy_online</td>\n",
              "      <td>Total Enrolled - 2</td>\n",
              "    </tr>\n",
              "    <tr>\n",
              "      <th>9</th>\n",
              "      <td>17019_153</td>\n",
              "      <td>Y_1</td>\n",
              "      <td>Y</td>\n",
              "      <td>136</td>\n",
              "      <td>153</td>\n",
              "      <td>offline</td>\n",
              "      <td>hard</td>\n",
              "      <td>17019</td>\n",
              "      <td>M</td>\n",
              "      <td>Bachelors</td>\n",
              "      <td>3</td>\n",
              "      <td>28.0</td>\n",
              "      <td>2</td>\n",
              "      <td>N</td>\n",
              "      <td>4.0</td>\n",
              "      <td>1</td>\n",
              "      <td>group 28-39</td>\n",
              "      <td>4.919981</td>\n",
              "      <td>3_Bachelors</td>\n",
              "      <td>max duration</td>\n",
              "      <td>Moderate experience</td>\n",
              "      <td>hard_offline</td>\n",
              "      <td>Total Enrolled - 1</td>\n",
              "    </tr>\n",
              "    <tr>\n",
              "      <th>12</th>\n",
              "      <td>15848_149</td>\n",
              "      <td>Y_1</td>\n",
              "      <td>Y</td>\n",
              "      <td>136</td>\n",
              "      <td>149</td>\n",
              "      <td>offline</td>\n",
              "      <td>intermediate</td>\n",
              "      <td>15848</td>\n",
              "      <td>M</td>\n",
              "      <td>High School Diploma</td>\n",
              "      <td>1</td>\n",
              "      <td>45.0</td>\n",
              "      <td>4</td>\n",
              "      <td>N</td>\n",
              "      <td>4.0</td>\n",
              "      <td>1</td>\n",
              "      <td>group 45-63</td>\n",
              "      <td>4.919981</td>\n",
              "      <td>1_High School Diploma</td>\n",
              "      <td>max duration</td>\n",
              "      <td>Highly experienced</td>\n",
              "      <td>intermediate_offline</td>\n",
              "      <td>Total Enrolled - 3</td>\n",
              "    </tr>\n",
              "    <tr>\n",
              "      <th>13</th>\n",
              "      <td>423_126</td>\n",
              "      <td>Y_3</td>\n",
              "      <td>Y</td>\n",
              "      <td>135</td>\n",
              "      <td>126</td>\n",
              "      <td>offline</td>\n",
              "      <td>intermediate</td>\n",
              "      <td>423</td>\n",
              "      <td>M</td>\n",
              "      <td>Matriculation</td>\n",
              "      <td>3</td>\n",
              "      <td>45.0</td>\n",
              "      <td>4</td>\n",
              "      <td>N</td>\n",
              "      <td>5.0</td>\n",
              "      <td>1</td>\n",
              "      <td>group 45-63</td>\n",
              "      <td>4.912655</td>\n",
              "      <td>3_Matriculation</td>\n",
              "      <td>max duration</td>\n",
              "      <td>Highly experienced</td>\n",
              "      <td>intermediate_offline</td>\n",
              "      <td>Total Enrolled - 3</td>\n",
              "    </tr>\n",
              "  </tbody>\n",
              "</table>\n",
              "</div>"
            ],
            "text/plain": [
              "           id program_id  ...  difficulty_test_type  total_programs_enrolled_cat\n",
              "0    9389_150        Y_1  ...  intermediate_offline           Total Enrolled - 3\n",
              "6   17874_144        Y_2  ...           easy_online           Total Enrolled - 2\n",
              "9   17019_153        Y_1  ...          hard_offline           Total Enrolled - 1\n",
              "12  15848_149        Y_1  ...  intermediate_offline           Total Enrolled - 3\n",
              "13    423_126        Y_3  ...  intermediate_offline           Total Enrolled - 3\n",
              "\n",
              "[5 rows x 23 columns]"
            ]
          },
          "metadata": {
            "tags": []
          },
          "execution_count": 240
        }
      ]
    },
    {
      "cell_type": "code",
      "metadata": {
        "id": "C2BpFKw2cDt5",
        "colab_type": "code",
        "colab": {}
      },
      "source": [
        "train_analysis.loc[((train_analysis['total_programs_enrolled'] >= 1) & (train_analysis['total_programs_enrolled'] <= 2)),'total_programs_enrolled_cat'] = \"Total Enrolled - 1\""
      ],
      "execution_count": 0,
      "outputs": []
    },
    {
      "cell_type": "code",
      "metadata": {
        "id": "YWj1Ji_ShnV6",
        "colab_type": "code",
        "outputId": "71cbbe06-a75d-49a8-bdae-5e2516739180",
        "colab": {
          "base_uri": "https://localhost:8080/",
          "height": 218
        }
      },
      "source": [
        "train_analysis[((train_analysis['total_programs_enrolled'] >= 1) & (train_analysis['total_programs_enrolled'] <= 2))]['total_programs_enrolled_cat']"
      ],
      "execution_count": 0,
      "outputs": [
        {
          "output_type": "execute_result",
          "data": {
            "text/plain": [
              "9        Total Enrolled - 1\n",
              "19       Total Enrolled - 1\n",
              "20       Total Enrolled - 1\n",
              "23       Total Enrolled - 1\n",
              "34       Total Enrolled - 1\n",
              "                ...        \n",
              "72931    Total Enrolled - 1\n",
              "72941    Total Enrolled - 1\n",
              "72962    Total Enrolled - 1\n",
              "73004    Total Enrolled - 1\n",
              "73037    Total Enrolled - 1\n",
              "Name: total_programs_enrolled_cat, Length: 48060, dtype: object"
            ]
          },
          "metadata": {
            "tags": []
          },
          "execution_count": 242
        }
      ]
    },
    {
      "cell_type": "code",
      "metadata": {
        "id": "2jYdh71PhydW",
        "colab_type": "code",
        "outputId": "a8e8e673-ab86-4909-e51c-e0d1200ebb5a",
        "colab": {
          "base_uri": "https://localhost:8080/",
          "height": 282
        }
      },
      "source": [
        "sns.countplot(x=\"total_programs_enrolled_cat\",hue=\"is_pass\",data=train_analysis)\n",
        "plt.show()"
      ],
      "execution_count": 0,
      "outputs": [
        {
          "output_type": "display_data",
          "data": {
            "image/png": "[encoded data removed]",
            "text/plain": [
              "<Figure size 432x288 with 1 Axes>"
            ]
          },
          "metadata": {
            "tags": [],
            "needs_background": "light"
          }
        }
      ]
    },
    {
      "cell_type": "code",
      "metadata": {
        "id": "ccQl1mfYjG-S",
        "colab_type": "code",
        "outputId": "5ae1ea9b-c71d-4f20-f4ef-2e74a82fcfbe",
        "colab": {
          "base_uri": "https://localhost:8080/",
          "height": 218
        }
      },
      "source": [
        "## To find the characteristics of total programs enrolled\n",
        "for value in train_analysis['total_programs_enrolled_cat'].unique():\n",
        "\n",
        "  print(train_analysis[train_analysis['total_programs_enrolled_cat'] == value]['is_pass'].value_counts(\"normalize\"))\n",
        "  print(\"-----------------------\")"
      ],
      "execution_count": 0,
      "outputs": [
        {
          "output_type": "stream",
          "text": [
            "1    0.680126\n",
            "0    0.319874\n",
            "Name: is_pass, dtype: float64\n",
            "-----------------------\n",
            "1    0.693936\n",
            "0    0.306064\n",
            "Name: is_pass, dtype: float64\n",
            "-----------------------\n",
            "1    0.701186\n",
            "0    0.298814\n",
            "Name: is_pass, dtype: float64\n",
            "-----------------------\n"
          ],
          "name": "stdout"
        }
      ]
    },
    {
      "cell_type": "markdown",
      "metadata": {
        "id": "2rprjl3MjVmM",
        "colab_type": "text"
      },
      "source": [
        "            same pattern and same proportion throughout"
      ]
    },
    {
      "cell_type": "markdown",
      "metadata": {
        "id": "wH6Ll3nyjd96",
        "colab_type": "text"
      },
      "source": [
        "# Pycaret after feature engineering"
      ]
    },
    {
      "cell_type": "code",
      "metadata": {
        "id": "KLfFUCcYkQsz",
        "colab_type": "code",
        "outputId": "d055e5c7-dbaf-454d-e0a6-9a6d65ccd8ba",
        "colab": {
          "base_uri": "https://localhost:8080/",
          "height": 299
        }
      },
      "source": [
        "train_analysis.head()"
      ],
      "execution_count": 0,
      "outputs": [
        {
          "output_type": "execute_result",
          "data": {
            "text/html": [
              "<div>\n",
              "<style scoped>\n",
              "    .dataframe tbody tr th:only-of-type {\n",
              "        vertical-align: middle;\n",
              "    }\n",
              "\n",
              "    .dataframe tbody tr th {\n",
              "        vertical-align: top;\n",
              "    }\n",
              "\n",
              "    .dataframe thead th {\n",
              "        text-align: right;\n",
              "    }\n",
              "</style>\n",
              "<table border=\"1\" class=\"dataframe\">\n",
              "  <thead>\n",
              "    <tr style=\"text-align: right;\">\n",
              "      <th></th>\n",
              "      <th>id</th>\n",
              "      <th>program_id</th>\n",
              "      <th>program_type</th>\n",
              "      <th>program_duration</th>\n",
              "      <th>test_id</th>\n",
              "      <th>test_type</th>\n",
              "      <th>difficulty_level</th>\n",
              "      <th>trainee_id</th>\n",
              "      <th>gender</th>\n",
              "      <th>education</th>\n",
              "      <th>city_tier</th>\n",
              "      <th>age</th>\n",
              "      <th>total_programs_enrolled</th>\n",
              "      <th>is_handicapped</th>\n",
              "      <th>trainee_engagement_rating</th>\n",
              "      <th>is_pass</th>\n",
              "      <th>age_group</th>\n",
              "      <th>program_duration_log</th>\n",
              "      <th>education_tier</th>\n",
              "      <th>program_duration_cat</th>\n",
              "      <th>experience</th>\n",
              "      <th>difficulty_test_type</th>\n",
              "      <th>total_programs_enrolled_cat</th>\n",
              "    </tr>\n",
              "  </thead>\n",
              "  <tbody>\n",
              "    <tr>\n",
              "      <th>0</th>\n",
              "      <td>9389_150</td>\n",
              "      <td>Y_1</td>\n",
              "      <td>Y</td>\n",
              "      <td>136</td>\n",
              "      <td>150</td>\n",
              "      <td>offline</td>\n",
              "      <td>intermediate</td>\n",
              "      <td>9389</td>\n",
              "      <td>M</td>\n",
              "      <td>Matriculation</td>\n",
              "      <td>3</td>\n",
              "      <td>24.0</td>\n",
              "      <td>5</td>\n",
              "      <td>N</td>\n",
              "      <td>1.0</td>\n",
              "      <td>0</td>\n",
              "      <td>group 17-28</td>\n",
              "      <td>4.919981</td>\n",
              "      <td>3_Matriculation</td>\n",
              "      <td>max duration</td>\n",
              "      <td>Least experience</td>\n",
              "      <td>intermediate_offline</td>\n",
              "      <td>Total Enrolled - 3</td>\n",
              "    </tr>\n",
              "    <tr>\n",
              "      <th>6</th>\n",
              "      <td>17874_144</td>\n",
              "      <td>Y_2</td>\n",
              "      <td>Y</td>\n",
              "      <td>120</td>\n",
              "      <td>144</td>\n",
              "      <td>online</td>\n",
              "      <td>easy</td>\n",
              "      <td>17874</td>\n",
              "      <td>M</td>\n",
              "      <td>Bachelors</td>\n",
              "      <td>2</td>\n",
              "      <td>48.0</td>\n",
              "      <td>3</td>\n",
              "      <td>N</td>\n",
              "      <td>3.0</td>\n",
              "      <td>1</td>\n",
              "      <td>group 45-63</td>\n",
              "      <td>4.795791</td>\n",
              "      <td>2_Bachelors</td>\n",
              "      <td>Minimum duration</td>\n",
              "      <td>Highly experienced</td>\n",
              "      <td>easy_online</td>\n",
              "      <td>Total Enrolled - 2</td>\n",
              "    </tr>\n",
              "    <tr>\n",
              "      <th>9</th>\n",
              "      <td>17019_153</td>\n",
              "      <td>Y_1</td>\n",
              "      <td>Y</td>\n",
              "      <td>136</td>\n",
              "      <td>153</td>\n",
              "      <td>offline</td>\n",
              "      <td>hard</td>\n",
              "      <td>17019</td>\n",
              "      <td>M</td>\n",
              "      <td>Bachelors</td>\n",
              "      <td>3</td>\n",
              "      <td>28.0</td>\n",
              "      <td>2</td>\n",
              "      <td>N</td>\n",
              "      <td>4.0</td>\n",
              "      <td>1</td>\n",
              "      <td>group 28-39</td>\n",
              "      <td>4.919981</td>\n",
              "      <td>3_Bachelors</td>\n",
              "      <td>max duration</td>\n",
              "      <td>Moderate experience</td>\n",
              "      <td>hard_offline</td>\n",
              "      <td>Total Enrolled - 1</td>\n",
              "    </tr>\n",
              "    <tr>\n",
              "      <th>12</th>\n",
              "      <td>15848_149</td>\n",
              "      <td>Y_1</td>\n",
              "      <td>Y</td>\n",
              "      <td>136</td>\n",
              "      <td>149</td>\n",
              "      <td>offline</td>\n",
              "      <td>intermediate</td>\n",
              "      <td>15848</td>\n",
              "      <td>M</td>\n",
              "      <td>High School Diploma</td>\n",
              "      <td>1</td>\n",
              "      <td>45.0</td>\n",
              "      <td>4</td>\n",
              "      <td>N</td>\n",
              "      <td>4.0</td>\n",
              "      <td>1</td>\n",
              "      <td>group 45-63</td>\n",
              "      <td>4.919981</td>\n",
              "      <td>1_High School Diploma</td>\n",
              "      <td>max duration</td>\n",
              "      <td>Highly experienced</td>\n",
              "      <td>intermediate_offline</td>\n",
              "      <td>Total Enrolled - 3</td>\n",
              "    </tr>\n",
              "    <tr>\n",
              "      <th>13</th>\n",
              "      <td>423_126</td>\n",
              "      <td>Y_3</td>\n",
              "      <td>Y</td>\n",
              "      <td>135</td>\n",
              "      <td>126</td>\n",
              "      <td>offline</td>\n",
              "      <td>intermediate</td>\n",
              "      <td>423</td>\n",
              "      <td>M</td>\n",
              "      <td>Matriculation</td>\n",
              "      <td>3</td>\n",
              "      <td>45.0</td>\n",
              "      <td>4</td>\n",
              "      <td>N</td>\n",
              "      <td>5.0</td>\n",
              "      <td>1</td>\n",
              "      <td>group 45-63</td>\n",
              "      <td>4.912655</td>\n",
              "      <td>3_Matriculation</td>\n",
              "      <td>max duration</td>\n",
              "      <td>Highly experienced</td>\n",
              "      <td>intermediate_offline</td>\n",
              "      <td>Total Enrolled - 3</td>\n",
              "    </tr>\n",
              "  </tbody>\n",
              "</table>\n",
              "</div>"
            ],
            "text/plain": [
              "           id program_id  ...  difficulty_test_type  total_programs_enrolled_cat\n",
              "0    9389_150        Y_1  ...  intermediate_offline           Total Enrolled - 3\n",
              "6   17874_144        Y_2  ...           easy_online           Total Enrolled - 2\n",
              "9   17019_153        Y_1  ...          hard_offline           Total Enrolled - 1\n",
              "12  15848_149        Y_1  ...  intermediate_offline           Total Enrolled - 3\n",
              "13    423_126        Y_3  ...  intermediate_offline           Total Enrolled - 3\n",
              "\n",
              "[5 rows x 23 columns]"
            ]
          },
          "metadata": {
            "tags": []
          },
          "execution_count": 245
        }
      ]
    },
    {
      "cell_type": "code",
      "metadata": {
        "id": "AcC2M-mujjHc",
        "colab_type": "code",
        "colab": {}
      },
      "source": [
        "train_analysis_pycaret = train_analysis[['id','program_id','test_id','trainee_id','program_type','program_duration','age','difficulty_test_type','total_programs_enrolled',\n",
        "                                         'gender','education_tier','is_handicapped','trainee_engagement_rating','is_pass']]\n",
        "test_analysis_pycaret = test_analysis[['id','program_id','test_id','trainee_id','program_type','program_duration','age','difficulty_test_type','total_programs_enrolled',\n",
        "                                         'gender','education_tier','is_handicapped','trainee_engagement_rating']]"
      ],
      "execution_count": 0,
      "outputs": []
    },
    {
      "cell_type": "code",
      "metadata": {
        "colab_type": "code",
        "id": "r045Up688V8m",
        "colab": {}
      },
      "source": [
        "df_majority = train_analysis_pycaret[train_analysis_pycaret.is_pass==1]\n",
        "df_minority = train_analysis_pycaret[train_analysis_pycaret.is_pass==0]\n",
        " \n",
        "# Upsample minority class\n",
        "df_minority_upsampled = resample(df_minority, \n",
        "                                 replace=True,     # sample with replacement\n",
        "                                 n_samples=50867,    # to match majority class\n",
        "                                 random_state=88) # reproducible results\n",
        " \n",
        "# Combine majority class with upsampled minority class\n",
        "train_analysis_pycaret_sampled = pd.concat([df_majority, df_minority_upsampled])"
      ],
      "execution_count": 0,
      "outputs": []
    },
    {
      "cell_type": "code",
      "metadata": {
        "colab_type": "code",
        "outputId": "aeba7ae3-9326-4583-f609-6e5d97b59baf",
        "id": "aHff35gP8V8w",
        "colab": {
          "base_uri": "https://localhost:8080/",
          "height": 34
        }
      },
      "source": [
        "df_minority_upsampled.shape"
      ],
      "execution_count": 0,
      "outputs": [
        {
          "output_type": "execute_result",
          "data": {
            "text/plain": [
              "(50867, 14)"
            ]
          },
          "metadata": {
            "tags": []
          },
          "execution_count": 248
        }
      ]
    },
    {
      "cell_type": "code",
      "metadata": {
        "colab_type": "code",
        "outputId": "0a9c66d3-4e20-4af0-914a-2b8e86f59056",
        "id": "5C-5YolB8V85",
        "colab": {
          "base_uri": "https://localhost:8080/",
          "height": 67
        }
      },
      "source": [
        "train_analysis_pycaret_sampled['is_pass'].value_counts()"
      ],
      "execution_count": 0,
      "outputs": [
        {
          "output_type": "execute_result",
          "data": {
            "text/plain": [
              "1    50867\n",
              "0    50867\n",
              "Name: is_pass, dtype: int64"
            ]
          },
          "metadata": {
            "tags": []
          },
          "execution_count": 249
        }
      ]
    },
    {
      "cell_type": "code",
      "metadata": {
        "id": "bR8HtpakCj1e",
        "colab_type": "code",
        "outputId": "89dedd73-c299-4aba-906e-a7c2235ce29a",
        "colab": {
          "base_uri": "https://localhost:8080/",
          "height": 269
        }
      },
      "source": [
        "train_analysis_pycaret_sampled.dtypes"
      ],
      "execution_count": 0,
      "outputs": [
        {
          "output_type": "execute_result",
          "data": {
            "text/plain": [
              "id                            object\n",
              "program_id                    object\n",
              "test_id                        int64\n",
              "trainee_id                     int64\n",
              "program_type                  object\n",
              "program_duration               int64\n",
              "age                          float64\n",
              "difficulty_test_type          object\n",
              "total_programs_enrolled        int64\n",
              "gender                        object\n",
              "education_tier                object\n",
              "is_handicapped                object\n",
              "trainee_engagement_rating    float64\n",
              "is_pass                        int64\n",
              "dtype: object"
            ]
          },
          "metadata": {
            "tags": []
          },
          "execution_count": 250
        }
      ]
    },
    {
      "cell_type": "code",
      "metadata": {
        "colab_type": "code",
        "id": "Z9_6mRhF8V9B",
        "colab": {}
      },
      "source": [
        "train_analysis_pycaret_sampled['program_duration'] = train_analysis_pycaret_sampled['program_duration'].astype(float)\n",
        "test_main_pycaret['program_duration'] = test_main_pycaret['program_duration'].astype(float)\n",
        "train_analysis_pycaret_sampled['total_programs_enrolled'] = train_analysis_pycaret_sampled['total_programs_enrolled'].astype(float)\n",
        "test_main_pycaret['total_programs_enrolled'] = test_main_pycaret['total_programs_enrolled'].astype(float)"
      ],
      "execution_count": 0,
      "outputs": []
    },
    {
      "cell_type": "code",
      "metadata": {
        "id": "dvkquboYksDZ",
        "colab_type": "code",
        "outputId": "abbc2ac5-9b45-42cd-c852-30cd8f317e43",
        "colab": {
          "base_uri": "https://localhost:8080/",
          "height": 912,
          "referenced_widgets": [
            "05791ad39a4d4a4b89fbc5ebade85d08",
            "4b97d079cc234b198310a6972e986a3b",
            "eccdcfdee77a4f498e3d442b1a790e40",
            "023800ce052e48b3b5ad7df45ddaa3be",
            "4f3ad3d682ea48019b1147da0ddc3206",
            "0745ccc3705246a3877bc767fa35c025"
          ]
        }
      },
      "source": [
        "clf2 = setup(data = train_analysis_pycaret_sampled, target = 'is_pass')"
      ],
      "execution_count": 0,
      "outputs": [
        {
          "output_type": "stream",
          "text": [
            " \n",
            "Setup Succesfully Completed!\n"
          ],
          "name": "stdout"
        },
        {
          "output_type": "display_data",
          "data": {
            "text/html": [
              "<style  type=\"text/css\" >\n",
              "</style><table id=\"T_3ac0ef06_8a98_11ea_9347_0242ac1c0002\" ><thead>    <tr>        <th class=\"blank level0\" ></th>        <th class=\"col_heading level0 col0\" >Description</th>        <th class=\"col_heading level0 col1\" >Value</th>    </tr></thead><tbody>\n",
              "                <tr>\n",
              "                        <th id=\"T_3ac0ef06_8a98_11ea_9347_0242ac1c0002level0_row0\" class=\"row_heading level0 row0\" >0</th>\n",
              "                        <td id=\"T_3ac0ef06_8a98_11ea_9347_0242ac1c0002row0_col0\" class=\"data row0 col0\" >session_id</td>\n",
              "                        <td id=\"T_3ac0ef06_8a98_11ea_9347_0242ac1c0002row0_col1\" class=\"data row0 col1\" >4165</td>\n",
              "            </tr>\n",
              "            <tr>\n",
              "                        <th id=\"T_3ac0ef06_8a98_11ea_9347_0242ac1c0002level0_row1\" class=\"row_heading level0 row1\" >1</th>\n",
              "                        <td id=\"T_3ac0ef06_8a98_11ea_9347_0242ac1c0002row1_col0\" class=\"data row1 col0\" >Target Type</td>\n",
              "                        <td id=\"T_3ac0ef06_8a98_11ea_9347_0242ac1c0002row1_col1\" class=\"data row1 col1\" >Binary</td>\n",
              "            </tr>\n",
              "            <tr>\n",
              "                        <th id=\"T_3ac0ef06_8a98_11ea_9347_0242ac1c0002level0_row2\" class=\"row_heading level0 row2\" >2</th>\n",
              "                        <td id=\"T_3ac0ef06_8a98_11ea_9347_0242ac1c0002row2_col0\" class=\"data row2 col0\" >Label Encoded</td>\n",
              "                        <td id=\"T_3ac0ef06_8a98_11ea_9347_0242ac1c0002row2_col1\" class=\"data row2 col1\" >None</td>\n",
              "            </tr>\n",
              "            <tr>\n",
              "                        <th id=\"T_3ac0ef06_8a98_11ea_9347_0242ac1c0002level0_row3\" class=\"row_heading level0 row3\" >3</th>\n",
              "                        <td id=\"T_3ac0ef06_8a98_11ea_9347_0242ac1c0002row3_col0\" class=\"data row3 col0\" >Original Data</td>\n",
              "                        <td id=\"T_3ac0ef06_8a98_11ea_9347_0242ac1c0002row3_col1\" class=\"data row3 col1\" >(101734, 14)</td>\n",
              "            </tr>\n",
              "            <tr>\n",
              "                        <th id=\"T_3ac0ef06_8a98_11ea_9347_0242ac1c0002level0_row4\" class=\"row_heading level0 row4\" >4</th>\n",
              "                        <td id=\"T_3ac0ef06_8a98_11ea_9347_0242ac1c0002row4_col0\" class=\"data row4 col0\" >Missing Values </td>\n",
              "                        <td id=\"T_3ac0ef06_8a98_11ea_9347_0242ac1c0002row4_col1\" class=\"data row4 col1\" >False</td>\n",
              "            </tr>\n",
              "            <tr>\n",
              "                        <th id=\"T_3ac0ef06_8a98_11ea_9347_0242ac1c0002level0_row5\" class=\"row_heading level0 row5\" >5</th>\n",
              "                        <td id=\"T_3ac0ef06_8a98_11ea_9347_0242ac1c0002row5_col0\" class=\"data row5 col0\" >Numeric Features </td>\n",
              "                        <td id=\"T_3ac0ef06_8a98_11ea_9347_0242ac1c0002row5_col1\" class=\"data row5 col1\" >7</td>\n",
              "            </tr>\n",
              "            <tr>\n",
              "                        <th id=\"T_3ac0ef06_8a98_11ea_9347_0242ac1c0002level0_row6\" class=\"row_heading level0 row6\" >6</th>\n",
              "                        <td id=\"T_3ac0ef06_8a98_11ea_9347_0242ac1c0002row6_col0\" class=\"data row6 col0\" >Categorical Features </td>\n",
              "                        <td id=\"T_3ac0ef06_8a98_11ea_9347_0242ac1c0002row6_col1\" class=\"data row6 col1\" >6</td>\n",
              "            </tr>\n",
              "            <tr>\n",
              "                        <th id=\"T_3ac0ef06_8a98_11ea_9347_0242ac1c0002level0_row7\" class=\"row_heading level0 row7\" >7</th>\n",
              "                        <td id=\"T_3ac0ef06_8a98_11ea_9347_0242ac1c0002row7_col0\" class=\"data row7 col0\" >Ordinal Features </td>\n",
              "                        <td id=\"T_3ac0ef06_8a98_11ea_9347_0242ac1c0002row7_col1\" class=\"data row7 col1\" >False</td>\n",
              "            </tr>\n",
              "            <tr>\n",
              "                        <th id=\"T_3ac0ef06_8a98_11ea_9347_0242ac1c0002level0_row8\" class=\"row_heading level0 row8\" >8</th>\n",
              "                        <td id=\"T_3ac0ef06_8a98_11ea_9347_0242ac1c0002row8_col0\" class=\"data row8 col0\" >High Cardinality Features </td>\n",
              "                        <td id=\"T_3ac0ef06_8a98_11ea_9347_0242ac1c0002row8_col1\" class=\"data row8 col1\" >False</td>\n",
              "            </tr>\n",
              "            <tr>\n",
              "                        <th id=\"T_3ac0ef06_8a98_11ea_9347_0242ac1c0002level0_row9\" class=\"row_heading level0 row9\" >9</th>\n",
              "                        <td id=\"T_3ac0ef06_8a98_11ea_9347_0242ac1c0002row9_col0\" class=\"data row9 col0\" >High Cardinality Method </td>\n",
              "                        <td id=\"T_3ac0ef06_8a98_11ea_9347_0242ac1c0002row9_col1\" class=\"data row9 col1\" >None</td>\n",
              "            </tr>\n",
              "            <tr>\n",
              "                        <th id=\"T_3ac0ef06_8a98_11ea_9347_0242ac1c0002level0_row10\" class=\"row_heading level0 row10\" >10</th>\n",
              "                        <td id=\"T_3ac0ef06_8a98_11ea_9347_0242ac1c0002row10_col0\" class=\"data row10 col0\" >Sampled Data</td>\n",
              "                        <td id=\"T_3ac0ef06_8a98_11ea_9347_0242ac1c0002row10_col1\" class=\"data row10 col1\" >(71213, 14)</td>\n",
              "            </tr>\n",
              "            <tr>\n",
              "                        <th id=\"T_3ac0ef06_8a98_11ea_9347_0242ac1c0002level0_row11\" class=\"row_heading level0 row11\" >11</th>\n",
              "                        <td id=\"T_3ac0ef06_8a98_11ea_9347_0242ac1c0002row11_col0\" class=\"data row11 col0\" >Transformed Train Set</td>\n",
              "                        <td id=\"T_3ac0ef06_8a98_11ea_9347_0242ac1c0002row11_col1\" class=\"data row11 col1\" >(49849, 62)</td>\n",
              "            </tr>\n",
              "            <tr>\n",
              "                        <th id=\"T_3ac0ef06_8a98_11ea_9347_0242ac1c0002level0_row12\" class=\"row_heading level0 row12\" >12</th>\n",
              "                        <td id=\"T_3ac0ef06_8a98_11ea_9347_0242ac1c0002row12_col0\" class=\"data row12 col0\" >Transformed Test Set</td>\n",
              "                        <td id=\"T_3ac0ef06_8a98_11ea_9347_0242ac1c0002row12_col1\" class=\"data row12 col1\" >(21364, 62)</td>\n",
              "            </tr>\n",
              "            <tr>\n",
              "                        <th id=\"T_3ac0ef06_8a98_11ea_9347_0242ac1c0002level0_row13\" class=\"row_heading level0 row13\" >13</th>\n",
              "                        <td id=\"T_3ac0ef06_8a98_11ea_9347_0242ac1c0002row13_col0\" class=\"data row13 col0\" >Numeric Imputer </td>\n",
              "                        <td id=\"T_3ac0ef06_8a98_11ea_9347_0242ac1c0002row13_col1\" class=\"data row13 col1\" >mean</td>\n",
              "            </tr>\n",
              "            <tr>\n",
              "                        <th id=\"T_3ac0ef06_8a98_11ea_9347_0242ac1c0002level0_row14\" class=\"row_heading level0 row14\" >14</th>\n",
              "                        <td id=\"T_3ac0ef06_8a98_11ea_9347_0242ac1c0002row14_col0\" class=\"data row14 col0\" >Categorical Imputer </td>\n",
              "                        <td id=\"T_3ac0ef06_8a98_11ea_9347_0242ac1c0002row14_col1\" class=\"data row14 col1\" >constant</td>\n",
              "            </tr>\n",
              "            <tr>\n",
              "                        <th id=\"T_3ac0ef06_8a98_11ea_9347_0242ac1c0002level0_row15\" class=\"row_heading level0 row15\" >15</th>\n",
              "                        <td id=\"T_3ac0ef06_8a98_11ea_9347_0242ac1c0002row15_col0\" class=\"data row15 col0\" >Normalize </td>\n",
              "                        <td id=\"T_3ac0ef06_8a98_11ea_9347_0242ac1c0002row15_col1\" class=\"data row15 col1\" >False</td>\n",
              "            </tr>\n",
              "            <tr>\n",
              "                        <th id=\"T_3ac0ef06_8a98_11ea_9347_0242ac1c0002level0_row16\" class=\"row_heading level0 row16\" >16</th>\n",
              "                        <td id=\"T_3ac0ef06_8a98_11ea_9347_0242ac1c0002row16_col0\" class=\"data row16 col0\" >Normalize Method </td>\n",
              "                        <td id=\"T_3ac0ef06_8a98_11ea_9347_0242ac1c0002row16_col1\" class=\"data row16 col1\" >None</td>\n",
              "            </tr>\n",
              "            <tr>\n",
              "                        <th id=\"T_3ac0ef06_8a98_11ea_9347_0242ac1c0002level0_row17\" class=\"row_heading level0 row17\" >17</th>\n",
              "                        <td id=\"T_3ac0ef06_8a98_11ea_9347_0242ac1c0002row17_col0\" class=\"data row17 col0\" >Transformation </td>\n",
              "                        <td id=\"T_3ac0ef06_8a98_11ea_9347_0242ac1c0002row17_col1\" class=\"data row17 col1\" >False</td>\n",
              "            </tr>\n",
              "            <tr>\n",
              "                        <th id=\"T_3ac0ef06_8a98_11ea_9347_0242ac1c0002level0_row18\" class=\"row_heading level0 row18\" >18</th>\n",
              "                        <td id=\"T_3ac0ef06_8a98_11ea_9347_0242ac1c0002row18_col0\" class=\"data row18 col0\" >Transformation Method </td>\n",
              "                        <td id=\"T_3ac0ef06_8a98_11ea_9347_0242ac1c0002row18_col1\" class=\"data row18 col1\" >None</td>\n",
              "            </tr>\n",
              "            <tr>\n",
              "                        <th id=\"T_3ac0ef06_8a98_11ea_9347_0242ac1c0002level0_row19\" class=\"row_heading level0 row19\" >19</th>\n",
              "                        <td id=\"T_3ac0ef06_8a98_11ea_9347_0242ac1c0002row19_col0\" class=\"data row19 col0\" >PCA </td>\n",
              "                        <td id=\"T_3ac0ef06_8a98_11ea_9347_0242ac1c0002row19_col1\" class=\"data row19 col1\" >False</td>\n",
              "            </tr>\n",
              "            <tr>\n",
              "                        <th id=\"T_3ac0ef06_8a98_11ea_9347_0242ac1c0002level0_row20\" class=\"row_heading level0 row20\" >20</th>\n",
              "                        <td id=\"T_3ac0ef06_8a98_11ea_9347_0242ac1c0002row20_col0\" class=\"data row20 col0\" >PCA Method </td>\n",
              "                        <td id=\"T_3ac0ef06_8a98_11ea_9347_0242ac1c0002row20_col1\" class=\"data row20 col1\" >None</td>\n",
              "            </tr>\n",
              "            <tr>\n",
              "                        <th id=\"T_3ac0ef06_8a98_11ea_9347_0242ac1c0002level0_row21\" class=\"row_heading level0 row21\" >21</th>\n",
              "                        <td id=\"T_3ac0ef06_8a98_11ea_9347_0242ac1c0002row21_col0\" class=\"data row21 col0\" >PCA Components </td>\n",
              "                        <td id=\"T_3ac0ef06_8a98_11ea_9347_0242ac1c0002row21_col1\" class=\"data row21 col1\" >None</td>\n",
              "            </tr>\n",
              "            <tr>\n",
              "                        <th id=\"T_3ac0ef06_8a98_11ea_9347_0242ac1c0002level0_row22\" class=\"row_heading level0 row22\" >22</th>\n",
              "                        <td id=\"T_3ac0ef06_8a98_11ea_9347_0242ac1c0002row22_col0\" class=\"data row22 col0\" >Ignore Low Variance </td>\n",
              "                        <td id=\"T_3ac0ef06_8a98_11ea_9347_0242ac1c0002row22_col1\" class=\"data row22 col1\" >False</td>\n",
              "            </tr>\n",
              "            <tr>\n",
              "                        <th id=\"T_3ac0ef06_8a98_11ea_9347_0242ac1c0002level0_row23\" class=\"row_heading level0 row23\" >23</th>\n",
              "                        <td id=\"T_3ac0ef06_8a98_11ea_9347_0242ac1c0002row23_col0\" class=\"data row23 col0\" >Combine Rare Levels </td>\n",
              "                        <td id=\"T_3ac0ef06_8a98_11ea_9347_0242ac1c0002row23_col1\" class=\"data row23 col1\" >False</td>\n",
              "            </tr>\n",
              "            <tr>\n",
              "                        <th id=\"T_3ac0ef06_8a98_11ea_9347_0242ac1c0002level0_row24\" class=\"row_heading level0 row24\" >24</th>\n",
              "                        <td id=\"T_3ac0ef06_8a98_11ea_9347_0242ac1c0002row24_col0\" class=\"data row24 col0\" >Rare Level Threshold </td>\n",
              "                        <td id=\"T_3ac0ef06_8a98_11ea_9347_0242ac1c0002row24_col1\" class=\"data row24 col1\" >None</td>\n",
              "            </tr>\n",
              "            <tr>\n",
              "                        <th id=\"T_3ac0ef06_8a98_11ea_9347_0242ac1c0002level0_row25\" class=\"row_heading level0 row25\" >25</th>\n",
              "                        <td id=\"T_3ac0ef06_8a98_11ea_9347_0242ac1c0002row25_col0\" class=\"data row25 col0\" >Numeric Binning </td>\n",
              "                        <td id=\"T_3ac0ef06_8a98_11ea_9347_0242ac1c0002row25_col1\" class=\"data row25 col1\" >False</td>\n",
              "            </tr>\n",
              "            <tr>\n",
              "                        <th id=\"T_3ac0ef06_8a98_11ea_9347_0242ac1c0002level0_row26\" class=\"row_heading level0 row26\" >26</th>\n",
              "                        <td id=\"T_3ac0ef06_8a98_11ea_9347_0242ac1c0002row26_col0\" class=\"data row26 col0\" >Remove Outliers </td>\n",
              "                        <td id=\"T_3ac0ef06_8a98_11ea_9347_0242ac1c0002row26_col1\" class=\"data row26 col1\" >False</td>\n",
              "            </tr>\n",
              "            <tr>\n",
              "                        <th id=\"T_3ac0ef06_8a98_11ea_9347_0242ac1c0002level0_row27\" class=\"row_heading level0 row27\" >27</th>\n",
              "                        <td id=\"T_3ac0ef06_8a98_11ea_9347_0242ac1c0002row27_col0\" class=\"data row27 col0\" >Outliers Threshold </td>\n",
              "                        <td id=\"T_3ac0ef06_8a98_11ea_9347_0242ac1c0002row27_col1\" class=\"data row27 col1\" >None</td>\n",
              "            </tr>\n",
              "            <tr>\n",
              "                        <th id=\"T_3ac0ef06_8a98_11ea_9347_0242ac1c0002level0_row28\" class=\"row_heading level0 row28\" >28</th>\n",
              "                        <td id=\"T_3ac0ef06_8a98_11ea_9347_0242ac1c0002row28_col0\" class=\"data row28 col0\" >Remove Multicollinearity </td>\n",
              "                        <td id=\"T_3ac0ef06_8a98_11ea_9347_0242ac1c0002row28_col1\" class=\"data row28 col1\" >False</td>\n",
              "            </tr>\n",
              "            <tr>\n",
              "                        <th id=\"T_3ac0ef06_8a98_11ea_9347_0242ac1c0002level0_row29\" class=\"row_heading level0 row29\" >29</th>\n",
              "                        <td id=\"T_3ac0ef06_8a98_11ea_9347_0242ac1c0002row29_col0\" class=\"data row29 col0\" >Multicollinearity Threshold </td>\n",
              "                        <td id=\"T_3ac0ef06_8a98_11ea_9347_0242ac1c0002row29_col1\" class=\"data row29 col1\" >None</td>\n",
              "            </tr>\n",
              "            <tr>\n",
              "                        <th id=\"T_3ac0ef06_8a98_11ea_9347_0242ac1c0002level0_row30\" class=\"row_heading level0 row30\" >30</th>\n",
              "                        <td id=\"T_3ac0ef06_8a98_11ea_9347_0242ac1c0002row30_col0\" class=\"data row30 col0\" >Clustering </td>\n",
              "                        <td id=\"T_3ac0ef06_8a98_11ea_9347_0242ac1c0002row30_col1\" class=\"data row30 col1\" >False</td>\n",
              "            </tr>\n",
              "            <tr>\n",
              "                        <th id=\"T_3ac0ef06_8a98_11ea_9347_0242ac1c0002level0_row31\" class=\"row_heading level0 row31\" >31</th>\n",
              "                        <td id=\"T_3ac0ef06_8a98_11ea_9347_0242ac1c0002row31_col0\" class=\"data row31 col0\" >Clustering Iteration </td>\n",
              "                        <td id=\"T_3ac0ef06_8a98_11ea_9347_0242ac1c0002row31_col1\" class=\"data row31 col1\" >None</td>\n",
              "            </tr>\n",
              "            <tr>\n",
              "                        <th id=\"T_3ac0ef06_8a98_11ea_9347_0242ac1c0002level0_row32\" class=\"row_heading level0 row32\" >32</th>\n",
              "                        <td id=\"T_3ac0ef06_8a98_11ea_9347_0242ac1c0002row32_col0\" class=\"data row32 col0\" >Polynomial Features </td>\n",
              "                        <td id=\"T_3ac0ef06_8a98_11ea_9347_0242ac1c0002row32_col1\" class=\"data row32 col1\" >False</td>\n",
              "            </tr>\n",
              "            <tr>\n",
              "                        <th id=\"T_3ac0ef06_8a98_11ea_9347_0242ac1c0002level0_row33\" class=\"row_heading level0 row33\" >33</th>\n",
              "                        <td id=\"T_3ac0ef06_8a98_11ea_9347_0242ac1c0002row33_col0\" class=\"data row33 col0\" >Polynomial Degree </td>\n",
              "                        <td id=\"T_3ac0ef06_8a98_11ea_9347_0242ac1c0002row33_col1\" class=\"data row33 col1\" >None</td>\n",
              "            </tr>\n",
              "            <tr>\n",
              "                        <th id=\"T_3ac0ef06_8a98_11ea_9347_0242ac1c0002level0_row34\" class=\"row_heading level0 row34\" >34</th>\n",
              "                        <td id=\"T_3ac0ef06_8a98_11ea_9347_0242ac1c0002row34_col0\" class=\"data row34 col0\" >Trignometry Features </td>\n",
              "                        <td id=\"T_3ac0ef06_8a98_11ea_9347_0242ac1c0002row34_col1\" class=\"data row34 col1\" >False</td>\n",
              "            </tr>\n",
              "            <tr>\n",
              "                        <th id=\"T_3ac0ef06_8a98_11ea_9347_0242ac1c0002level0_row35\" class=\"row_heading level0 row35\" >35</th>\n",
              "                        <td id=\"T_3ac0ef06_8a98_11ea_9347_0242ac1c0002row35_col0\" class=\"data row35 col0\" >Polynomial Threshold </td>\n",
              "                        <td id=\"T_3ac0ef06_8a98_11ea_9347_0242ac1c0002row35_col1\" class=\"data row35 col1\" >None</td>\n",
              "            </tr>\n",
              "            <tr>\n",
              "                        <th id=\"T_3ac0ef06_8a98_11ea_9347_0242ac1c0002level0_row36\" class=\"row_heading level0 row36\" >36</th>\n",
              "                        <td id=\"T_3ac0ef06_8a98_11ea_9347_0242ac1c0002row36_col0\" class=\"data row36 col0\" >Group Features </td>\n",
              "                        <td id=\"T_3ac0ef06_8a98_11ea_9347_0242ac1c0002row36_col1\" class=\"data row36 col1\" >False</td>\n",
              "            </tr>\n",
              "            <tr>\n",
              "                        <th id=\"T_3ac0ef06_8a98_11ea_9347_0242ac1c0002level0_row37\" class=\"row_heading level0 row37\" >37</th>\n",
              "                        <td id=\"T_3ac0ef06_8a98_11ea_9347_0242ac1c0002row37_col0\" class=\"data row37 col0\" >Feature Selection </td>\n",
              "                        <td id=\"T_3ac0ef06_8a98_11ea_9347_0242ac1c0002row37_col1\" class=\"data row37 col1\" >False</td>\n",
              "            </tr>\n",
              "            <tr>\n",
              "                        <th id=\"T_3ac0ef06_8a98_11ea_9347_0242ac1c0002level0_row38\" class=\"row_heading level0 row38\" >38</th>\n",
              "                        <td id=\"T_3ac0ef06_8a98_11ea_9347_0242ac1c0002row38_col0\" class=\"data row38 col0\" >Features Selection Threshold </td>\n",
              "                        <td id=\"T_3ac0ef06_8a98_11ea_9347_0242ac1c0002row38_col1\" class=\"data row38 col1\" >None</td>\n",
              "            </tr>\n",
              "            <tr>\n",
              "                        <th id=\"T_3ac0ef06_8a98_11ea_9347_0242ac1c0002level0_row39\" class=\"row_heading level0 row39\" >39</th>\n",
              "                        <td id=\"T_3ac0ef06_8a98_11ea_9347_0242ac1c0002row39_col0\" class=\"data row39 col0\" >Feature Interaction </td>\n",
              "                        <td id=\"T_3ac0ef06_8a98_11ea_9347_0242ac1c0002row39_col1\" class=\"data row39 col1\" >False</td>\n",
              "            </tr>\n",
              "            <tr>\n",
              "                        <th id=\"T_3ac0ef06_8a98_11ea_9347_0242ac1c0002level0_row40\" class=\"row_heading level0 row40\" >40</th>\n",
              "                        <td id=\"T_3ac0ef06_8a98_11ea_9347_0242ac1c0002row40_col0\" class=\"data row40 col0\" >Feature Ratio </td>\n",
              "                        <td id=\"T_3ac0ef06_8a98_11ea_9347_0242ac1c0002row40_col1\" class=\"data row40 col1\" >False</td>\n",
              "            </tr>\n",
              "            <tr>\n",
              "                        <th id=\"T_3ac0ef06_8a98_11ea_9347_0242ac1c0002level0_row41\" class=\"row_heading level0 row41\" >41</th>\n",
              "                        <td id=\"T_3ac0ef06_8a98_11ea_9347_0242ac1c0002row41_col0\" class=\"data row41 col0\" >Interaction Threshold </td>\n",
              "                        <td id=\"T_3ac0ef06_8a98_11ea_9347_0242ac1c0002row41_col1\" class=\"data row41 col1\" >None</td>\n",
              "            </tr>\n",
              "    </tbody></table>"
            ],
            "text/plain": [
              "<pandas.io.formats.style.Styler at 0x7f24c8b52e80>"
            ]
          },
          "metadata": {
            "tags": []
          }
        }
      ]
    },
    {
      "cell_type": "code",
      "metadata": {
        "id": "FiwnHn4-lKen",
        "colab_type": "code",
        "colab": {}
      },
      "source": [
        "# compare_models()"
      ],
      "execution_count": 0,
      "outputs": []
    },
    {
      "cell_type": "code",
      "metadata": {
        "id": "kHGin30t_7y9",
        "colab_type": "code",
        "outputId": "12cfeb47-7295-43b0-98b9-c1062a3d4023",
        "colab": {
          "base_uri": "https://localhost:8080/",
          "height": 402,
          "referenced_widgets": [
            "e8a150f15798443eb7a7ba018cba8137",
            "5f2d19b3a5cf487ba95ed7c62a991879",
            "831c7a9398ff4613b57e08aaa761950d"
          ]
        }
      },
      "source": [
        "et_new = create_model(\"et\")"
      ],
      "execution_count": 0,
      "outputs": [
        {
          "output_type": "display_data",
          "data": {
            "text/html": [
              "<div>\n",
              "<style scoped>\n",
              "    .dataframe tbody tr th:only-of-type {\n",
              "        vertical-align: middle;\n",
              "    }\n",
              "\n",
              "    .dataframe tbody tr th {\n",
              "        vertical-align: top;\n",
              "    }\n",
              "\n",
              "    .dataframe thead th {\n",
              "        text-align: right;\n",
              "    }\n",
              "</style>\n",
              "<table border=\"1\" class=\"dataframe\">\n",
              "  <thead>\n",
              "    <tr style=\"text-align: right;\">\n",
              "      <th></th>\n",
              "      <th>Accuracy</th>\n",
              "      <th>AUC</th>\n",
              "      <th>Recall</th>\n",
              "      <th>Prec.</th>\n",
              "      <th>F1</th>\n",
              "      <th>Kappa</th>\n",
              "    </tr>\n",
              "  </thead>\n",
              "  <tbody>\n",
              "    <tr>\n",
              "      <th>0</th>\n",
              "      <td>0.8054</td>\n",
              "      <td>0.8998</td>\n",
              "      <td>0.7693</td>\n",
              "      <td>0.8292</td>\n",
              "      <td>0.7981</td>\n",
              "      <td>0.6108</td>\n",
              "    </tr>\n",
              "    <tr>\n",
              "      <th>1</th>\n",
              "      <td>0.8118</td>\n",
              "      <td>0.9032</td>\n",
              "      <td>0.7845</td>\n",
              "      <td>0.8298</td>\n",
              "      <td>0.8065</td>\n",
              "      <td>0.6237</td>\n",
              "    </tr>\n",
              "    <tr>\n",
              "      <th>2</th>\n",
              "      <td>0.8074</td>\n",
              "      <td>0.9096</td>\n",
              "      <td>0.7556</td>\n",
              "      <td>0.8429</td>\n",
              "      <td>0.7969</td>\n",
              "      <td>0.6148</td>\n",
              "    </tr>\n",
              "    <tr>\n",
              "      <th>3</th>\n",
              "      <td>0.7934</td>\n",
              "      <td>0.8976</td>\n",
              "      <td>0.7552</td>\n",
              "      <td>0.8175</td>\n",
              "      <td>0.7851</td>\n",
              "      <td>0.5868</td>\n",
              "    </tr>\n",
              "    <tr>\n",
              "      <th>4</th>\n",
              "      <td>0.7980</td>\n",
              "      <td>0.9018</td>\n",
              "      <td>0.7557</td>\n",
              "      <td>0.8256</td>\n",
              "      <td>0.7891</td>\n",
              "      <td>0.5960</td>\n",
              "    </tr>\n",
              "    <tr>\n",
              "      <th>5</th>\n",
              "      <td>0.8078</td>\n",
              "      <td>0.9010</td>\n",
              "      <td>0.7758</td>\n",
              "      <td>0.8290</td>\n",
              "      <td>0.8015</td>\n",
              "      <td>0.6157</td>\n",
              "    </tr>\n",
              "    <tr>\n",
              "      <th>6</th>\n",
              "      <td>0.8030</td>\n",
              "      <td>0.9018</td>\n",
              "      <td>0.7673</td>\n",
              "      <td>0.8263</td>\n",
              "      <td>0.7958</td>\n",
              "      <td>0.6060</td>\n",
              "    </tr>\n",
              "    <tr>\n",
              "      <th>7</th>\n",
              "      <td>0.8066</td>\n",
              "      <td>0.9034</td>\n",
              "      <td>0.7762</td>\n",
              "      <td>0.8266</td>\n",
              "      <td>0.8006</td>\n",
              "      <td>0.6132</td>\n",
              "    </tr>\n",
              "    <tr>\n",
              "      <th>8</th>\n",
              "      <td>0.7916</td>\n",
              "      <td>0.8953</td>\n",
              "      <td>0.7545</td>\n",
              "      <td>0.8150</td>\n",
              "      <td>0.7836</td>\n",
              "      <td>0.5832</td>\n",
              "    </tr>\n",
              "    <tr>\n",
              "      <th>9</th>\n",
              "      <td>0.8016</td>\n",
              "      <td>0.9020</td>\n",
              "      <td>0.7632</td>\n",
              "      <td>0.8266</td>\n",
              "      <td>0.7937</td>\n",
              "      <td>0.6031</td>\n",
              "    </tr>\n",
              "    <tr>\n",
              "      <th>Mean</th>\n",
              "      <td>0.8027</td>\n",
              "      <td>0.9015</td>\n",
              "      <td>0.7657</td>\n",
              "      <td>0.8268</td>\n",
              "      <td>0.7951</td>\n",
              "      <td>0.6053</td>\n",
              "    </tr>\n",
              "    <tr>\n",
              "      <th>SD</th>\n",
              "      <td>0.0062</td>\n",
              "      <td>0.0036</td>\n",
              "      <td>0.0101</td>\n",
              "      <td>0.0071</td>\n",
              "      <td>0.0070</td>\n",
              "      <td>0.0125</td>\n",
              "    </tr>\n",
              "  </tbody>\n",
              "</table>\n",
              "</div>"
            ],
            "text/plain": [
              "      Accuracy     AUC  Recall   Prec.      F1   Kappa\n",
              "0       0.8054  0.8998  0.7693  0.8292  0.7981  0.6108\n",
              "1       0.8118  0.9032  0.7845  0.8298  0.8065  0.6237\n",
              "2       0.8074  0.9096  0.7556  0.8429  0.7969  0.6148\n",
              "3       0.7934  0.8976  0.7552  0.8175  0.7851  0.5868\n",
              "4       0.7980  0.9018  0.7557  0.8256  0.7891  0.5960\n",
              "5       0.8078  0.9010  0.7758  0.8290  0.8015  0.6157\n",
              "6       0.8030  0.9018  0.7673  0.8263  0.7958  0.6060\n",
              "7       0.8066  0.9034  0.7762  0.8266  0.8006  0.6132\n",
              "8       0.7916  0.8953  0.7545  0.8150  0.7836  0.5832\n",
              "9       0.8016  0.9020  0.7632  0.8266  0.7937  0.6031\n",
              "Mean    0.8027  0.9015  0.7657  0.8268  0.7951  0.6053\n",
              "SD      0.0062  0.0036  0.0101  0.0071  0.0070  0.0125"
            ]
          },
          "metadata": {
            "tags": []
          }
        }
      ]
    },
    {
      "cell_type": "code",
      "metadata": {
        "id": "HSqt30-pl5os",
        "colab_type": "code",
        "colab": {}
      },
      "source": [
        "# randomForest = create_model('rf')\n",
        "# catboost = create_model('catboost')\n",
        "# xgboost = create_model('xgboost')\n",
        "# decision = create_model('dt')\n"
      ],
      "execution_count": 0,
      "outputs": []
    },
    {
      "cell_type": "code",
      "metadata": {
        "id": "iEzSIgf1Ppvs",
        "colab_type": "code",
        "colab": {}
      },
      "source": [
        "# blender = blend_models(estimator_list = [randomForest,et_new,xgboost,decision])"
      ],
      "execution_count": 0,
      "outputs": []
    },
    {
      "cell_type": "code",
      "metadata": {
        "id": "lDx7TvpPNbW2",
        "colab_type": "code",
        "colab": {}
      },
      "source": [
        "# y_analysis_pycaret_stack = predict_model(stacker,data=test_analysis_pycaret)"
      ],
      "execution_count": 0,
      "outputs": []
    },
    {
      "cell_type": "code",
      "metadata": {
        "id": "NMlSfUL-pRYt",
        "colab_type": "code",
        "colab": {}
      },
      "source": [
        "y_analysis_pycaret = predict_model(et_new,data=test_analysis_pycaret)"
      ],
      "execution_count": 0,
      "outputs": []
    },
    {
      "cell_type": "code",
      "metadata": {
        "id": "meJgqlOsNfi-",
        "colab_type": "code",
        "colab": {}
      },
      "source": [
        "# submission_new = y_analysis_pycaret_stack[['id','Label']]\n",
        "# submission_new.rename(columns={\"Label\":\"is_pass\"},inplace=True)\n",
        "# submission_new.to_csv(\"submission_new_v3.csv\",index=False)"
      ],
      "execution_count": 0,
      "outputs": []
    },
    {
      "cell_type": "code",
      "metadata": {
        "id": "zDiEMp6trmcS",
        "colab_type": "code",
        "colab": {}
      },
      "source": [
        "submission_new = y_analysis_pycaret[['id','Label']]\n",
        "submission_new.rename(columns={\"Label\":\"is_pass\"},inplace=True)\n",
        "submission_new.to_csv(\"submission_new_v2.csv\",index=False)"
      ],
      "execution_count": 0,
      "outputs": []
    },
    {
      "cell_type": "markdown",
      "metadata": {
        "id": "0K-tWGxsu-79",
        "colab_type": "text"
      },
      "source": [
        "## Label encode features"
      ]
    },
    {
      "cell_type": "code",
      "metadata": {
        "id": "eQyNlvSMMaKI",
        "colab_type": "code",
        "outputId": "3a6d7fd6-7c14-4fc5-85d2-a177628692a6",
        "colab": {
          "base_uri": "https://localhost:8080/",
          "height": 134
        }
      },
      "source": [
        "train_analysis.columns"
      ],
      "execution_count": 0,
      "outputs": [
        {
          "output_type": "execute_result",
          "data": {
            "text/plain": [
              "Index(['id', 'program_id', 'program_type', 'program_duration', 'test_id',\n",
              "       'test_type', 'difficulty_level', 'trainee_id', 'gender', 'education',\n",
              "       'city_tier', 'age', 'total_programs_enrolled', 'is_handicapped',\n",
              "       'trainee_engagement_rating', 'is_pass', 'age_group',\n",
              "       'program_duration_log', 'education_tier', 'program_duration_cat',\n",
              "       'experience', 'difficulty_test_type', 'total_programs_enrolled_cat'],\n",
              "      dtype='object')"
            ]
          },
          "metadata": {
            "tags": []
          },
          "execution_count": 266
        }
      ]
    },
    {
      "cell_type": "code",
      "metadata": {
        "id": "4sRaymIb8Cdy",
        "colab_type": "code",
        "colab": {}
      },
      "source": [
        "train_analysis_pycaret = train_analysis[['id','program_id','test_id','trainee_id','program_duration_cat','age','difficulty_test_type','total_programs_enrolled',\n",
        "                                         'gender','education_tier','is_handicapped','trainee_engagement_rating','is_pass']]\n",
        "test_analysis_pycaret = test_analysis[['id','program_id','test_id','trainee_id','program_duration_cat','age','difficulty_test_type','total_programs_enrolled',\n",
        "                                         'gender','education_tier','is_handicapped','trainee_engagement_rating']]"
      ],
      "execution_count": 0,
      "outputs": []
    },
    {
      "cell_type": "code",
      "metadata": {
        "id": "0lYAgFJV8G2E",
        "colab_type": "code",
        "colab": {}
      },
      "source": [
        "le = LabelEncoderExt()\n",
        "le.fit(train_analysis_pycaret['program_id'])\n",
        "train_analysis_pycaret['program_id'] = le.transform(train_analysis_pycaret['program_id'])\n",
        "test_analysis_pycaret['program_id'] = le.transform(test_analysis_pycaret['program_id'])\n",
        "\n",
        "# le = LabelEncoderExt()\n",
        "# le.fit(train_analysis_pycaret['program_type'])\n",
        "# train_analysis_pycaret['program_type'] = le.transform(train_analysis_pycaret['program_type'])\n",
        "# test_analysis_pycaret['program_type'] = le.transform(test_analysis_pycaret['program_type'])\n",
        "\n",
        "le = LabelEncoderExt()\n",
        "le.fit(train_analysis_pycaret['difficulty_test_type'])\n",
        "train_analysis_pycaret['difficulty_test_type'] = le.transform(train_analysis_pycaret['difficulty_test_type'])\n",
        "test_analysis_pycaret['difficulty_test_type'] = le.transform(test_analysis_pycaret['difficulty_test_type'])\n",
        "\n",
        "# le = LabelEncoderExt()\n",
        "# le.fit(train_analysis_pycaret['difficulty_level'])\n",
        "# train_analysis_pycaret['difficulty_level'] = le.transform(train_analysis_pycaret['difficulty_level'])\n",
        "# test_analysis_pycaret['difficulty_level'] = le.transform(test_analysis_pycaret['difficulty_level'])\n",
        "\n",
        "# le = LabelEncoderExt()\n",
        "# le.fit(train_analysis_pycaret['test_type'])\n",
        "# train_analysis_pycaret['test_type'] = le.transform(train_analysis_pycaret['test_type'])\n",
        "# test_analysis_pycaret['test_type'] = le.transform(test_analysis_pycaret['test_type'])\n",
        "\n",
        "le = LabelEncoderExt()\n",
        "le.fit(train_analysis_pycaret['program_duration_cat'])\n",
        "train_analysis_pycaret['program_duration_cat'] = le.transform(train_analysis_pycaret['program_duration_cat'])\n",
        "test_analysis_pycaret['program_duration_cat'] = le.transform(test_analysis_pycaret['program_duration_cat'])\n",
        "\n",
        "# le = LabelEncoderExt()\n",
        "# le.fit(train_analysis_pycaret['total_programs_enrolled_cat'])\n",
        "# train_analysis_pycaret['total_programs_enrolled_cat'] = le.transform(train_analysis_pycaret['total_programs_enrolled_cat'])\n",
        "# test_analysis_pycaret['total_programs_enrolled_cat'] = le.transform(test_analysis_pycaret['total_programs_enrolled_cat'])\n",
        "\n",
        "le = LabelEncoderExt()\n",
        "le.fit(train_analysis_pycaret['gender'])\n",
        "train_analysis_pycaret['gender'] = le.transform(train_analysis_pycaret['gender'])\n",
        "test_analysis_pycaret['gender'] = le.transform(test_analysis_pycaret['gender'])\n",
        "\n",
        "le = LabelEncoderExt()\n",
        "le.fit(train_analysis_pycaret['education_tier'])\n",
        "train_analysis_pycaret['education_tier'] = le.transform(train_analysis_pycaret['education_tier'])\n",
        "test_analysis_pycaret['education_tier'] = le.transform(test_analysis_pycaret['education_tier'])\n",
        "\n",
        "le = LabelEncoderExt()\n",
        "le.fit(train_analysis_pycaret['is_handicapped'])\n",
        "train_analysis_pycaret['is_handicapped'] = le.transform(train_analysis_pycaret['is_handicapped'])\n",
        "test_analysis_pycaret['is_handicapped'] = le.transform(test_analysis_pycaret['is_handicapped'])"
      ],
      "execution_count": 0,
      "outputs": []
    },
    {
      "cell_type": "code",
      "metadata": {
        "id": "c3IWlINq-XRn",
        "colab_type": "code",
        "colab": {}
      },
      "source": [
        "## Since pycaret directly takes data as categorical we will convert the data type to float"
      ],
      "execution_count": 0,
      "outputs": []
    },
    {
      "cell_type": "code",
      "metadata": {
        "id": "Wj9rpfY--bFv",
        "colab_type": "code",
        "colab": {}
      },
      "source": [
        "def resample_data(train_analysis_pycaret):\n",
        "  df_majority = train_analysis_pycaret[train_analysis_pycaret.is_pass==1]\n",
        "  df_minority = train_analysis_pycaret[train_analysis_pycaret.is_pass==0]\n",
        " \n",
        "  # Upsample minority class\n",
        "  df_minority_upsampled = resample(df_minority, \n",
        "                                   replace=True,     # sample with replacement\n",
        "                                   n_samples=50867,    # to match majority class\n",
        "                                   random_state=88) # reproducible results\n",
        " \n",
        "  # Combine majority class with upsampled minority class\n",
        "  train_analysis_pycaret_sampled = pd.concat([df_majority, df_minority_upsampled])\n",
        "  return train_analysis_pycaret_sampled"
      ],
      "execution_count": 0,
      "outputs": []
    },
    {
      "cell_type": "code",
      "metadata": {
        "id": "cjB9i3-giRiA",
        "colab_type": "code",
        "colab": {}
      },
      "source": [
        "# train_analysis_pycaret_sampled = resample_data(train_analysis_pycaret)"
      ],
      "execution_count": 0,
      "outputs": []
    },
    {
      "cell_type": "code",
      "metadata": {
        "id": "FC-cHqe8i8qm",
        "colab_type": "code",
        "outputId": "dde29fe5-a912-47a9-d28e-56edb9ced954",
        "colab": {
          "base_uri": "https://localhost:8080/",
          "height": 67
        }
      },
      "source": [
        "# train_analysis_pycaret_sampled['is_pass'].value_counts()"
      ],
      "execution_count": 0,
      "outputs": [
        {
          "output_type": "execute_result",
          "data": {
            "text/plain": [
              "1    50867\n",
              "0    50867\n",
              "Name: is_pass, dtype: int64"
            ]
          },
          "metadata": {
            "tags": []
          },
          "execution_count": 265
        }
      ]
    },
    {
      "cell_type": "code",
      "metadata": {
        "id": "2H2KZTd7R33W",
        "colab_type": "code",
        "outputId": "7f54801a-b601-4502-d346-cce52e39c2c7",
        "colab": {
          "base_uri": "https://localhost:8080/",
          "height": 67
        }
      },
      "source": [
        "train_analysis_pycaret['is_pass'].value_counts()"
      ],
      "execution_count": 0,
      "outputs": [
        {
          "output_type": "execute_result",
          "data": {
            "text/plain": [
              "1    50867\n",
              "0    22280\n",
              "Name: is_pass, dtype: int64"
            ]
          },
          "metadata": {
            "tags": []
          },
          "execution_count": 271
        }
      ]
    },
    {
      "cell_type": "code",
      "metadata": {
        "colab_type": "code",
        "id": "DMRqIG80_Ume",
        "colab": {}
      },
      "source": [
        "# train_analysis_pycaret_sampled['program_duration'] = train_analysis_pycaret_sampled['program_duration'].astype(float)\n",
        "# test_main_pycaret['program_duration'] = test_main_pycaret['program_duration'].astype(float)\n",
        "train_analysis_pycaret['total_programs_enrolled'] = train_analysis_pycaret['total_programs_enrolled'].astype(float)\n",
        "test_main_pycaret['total_programs_enrolled'] = test_main_pycaret['total_programs_enrolled'].astype(float)"
      ],
      "execution_count": 0,
      "outputs": []
    },
    {
      "cell_type": "code",
      "metadata": {
        "id": "RHEIN9JDFb6u",
        "colab_type": "code",
        "outputId": "2ba844f9-e09b-4cde-df64-5fc2b4553028",
        "colab": {
          "base_uri": "https://localhost:8080/",
          "height": 370
        }
      },
      "source": [
        "one_hot_train = pd.get_dummies(train_analysis_pycaret_sampled,columns=['difficulty_test_type','program_duration_cat',\n",
        "                                                       'gender','education_tier','is_handicapped'])\n",
        "\n",
        "one_hot_test = pd.get_dummies(test_analysis_pycaret,columns=['difficulty_test_type','program_duration_cat',\n",
        "                                                       'gender','education_tier','is_handicapped'])"
      ],
      "execution_count": 0,
      "outputs": [
        {
          "output_type": "error",
          "ename": "KeyError",
          "evalue": "ignored",
          "traceback": [
            "\u001b[0;31m---------------------------------------------------------------------------\u001b[0m",
            "\u001b[0;31mKeyError\u001b[0m                                  Traceback (most recent call last)",
            "\u001b[0;32m<ipython-input-273-a9cb34ed1ea3>\u001b[0m in \u001b[0;36m<module>\u001b[0;34m()\u001b[0m\n\u001b[1;32m      1\u001b[0m one_hot_train = pd.get_dummies(train_analysis_pycaret_sampled,columns=['difficulty_test_type','program_duration_cat',\n\u001b[0;32m----> 2\u001b[0;31m                                                        'gender','education_tier','is_handicapped'])\n\u001b[0m\u001b[1;32m      3\u001b[0m \u001b[0;34m\u001b[0m\u001b[0m\n\u001b[1;32m      4\u001b[0m one_hot_test = pd.get_dummies(test_analysis_pycaret,columns=['difficulty_test_type','program_duration_cat',\n\u001b[1;32m      5\u001b[0m                                                        'gender','education_tier','is_handicapped'])\n",
            "\u001b[0;32m/usr/local/lib/python3.6/dist-packages/pandas/core/reshape/reshape.py\u001b[0m in \u001b[0;36mget_dummies\u001b[0;34m(data, prefix, prefix_sep, dummy_na, columns, sparse, drop_first, dtype)\u001b[0m\n\u001b[1;32m    866\u001b[0m             \u001b[0;32mraise\u001b[0m \u001b[0mTypeError\u001b[0m\u001b[0;34m(\u001b[0m\u001b[0;34m\"Input must be a list-like for parameter `columns`\"\u001b[0m\u001b[0;34m)\u001b[0m\u001b[0;34m\u001b[0m\u001b[0;34m\u001b[0m\u001b[0m\n\u001b[1;32m    867\u001b[0m         \u001b[0;32melse\u001b[0m\u001b[0;34m:\u001b[0m\u001b[0;34m\u001b[0m\u001b[0;34m\u001b[0m\u001b[0m\n\u001b[0;32m--> 868\u001b[0;31m             \u001b[0mdata_to_encode\u001b[0m \u001b[0;34m=\u001b[0m \u001b[0mdata\u001b[0m\u001b[0;34m[\u001b[0m\u001b[0mcolumns\u001b[0m\u001b[0;34m]\u001b[0m\u001b[0;34m\u001b[0m\u001b[0;34m\u001b[0m\u001b[0m\n\u001b[0m\u001b[1;32m    869\u001b[0m \u001b[0;34m\u001b[0m\u001b[0m\n\u001b[1;32m    870\u001b[0m         \u001b[0;31m# validate prefixes and separator to avoid silently dropping cols\u001b[0m\u001b[0;34m\u001b[0m\u001b[0;34m\u001b[0m\u001b[0;34m\u001b[0m\u001b[0m\n",
            "\u001b[0;32m/usr/local/lib/python3.6/dist-packages/pandas/core/frame.py\u001b[0m in \u001b[0;36m__getitem__\u001b[0;34m(self, key)\u001b[0m\n\u001b[1;32m   2804\u001b[0m             \u001b[0;32mif\u001b[0m \u001b[0mis_iterator\u001b[0m\u001b[0;34m(\u001b[0m\u001b[0mkey\u001b[0m\u001b[0;34m)\u001b[0m\u001b[0;34m:\u001b[0m\u001b[0;34m\u001b[0m\u001b[0;34m\u001b[0m\u001b[0m\n\u001b[1;32m   2805\u001b[0m                 \u001b[0mkey\u001b[0m \u001b[0;34m=\u001b[0m \u001b[0mlist\u001b[0m\u001b[0;34m(\u001b[0m\u001b[0mkey\u001b[0m\u001b[0;34m)\u001b[0m\u001b[0;34m\u001b[0m\u001b[0;34m\u001b[0m\u001b[0m\n\u001b[0;32m-> 2806\u001b[0;31m             \u001b[0mindexer\u001b[0m \u001b[0;34m=\u001b[0m \u001b[0mself\u001b[0m\u001b[0;34m.\u001b[0m\u001b[0mloc\u001b[0m\u001b[0;34m.\u001b[0m\u001b[0m_get_listlike_indexer\u001b[0m\u001b[0;34m(\u001b[0m\u001b[0mkey\u001b[0m\u001b[0;34m,\u001b[0m \u001b[0maxis\u001b[0m\u001b[0;34m=\u001b[0m\u001b[0;36m1\u001b[0m\u001b[0;34m,\u001b[0m \u001b[0mraise_missing\u001b[0m\u001b[0;34m=\u001b[0m\u001b[0;32mTrue\u001b[0m\u001b[0;34m)\u001b[0m\u001b[0;34m[\u001b[0m\u001b[0;36m1\u001b[0m\u001b[0;34m]\u001b[0m\u001b[0;34m\u001b[0m\u001b[0;34m\u001b[0m\u001b[0m\n\u001b[0m\u001b[1;32m   2807\u001b[0m \u001b[0;34m\u001b[0m\u001b[0m\n\u001b[1;32m   2808\u001b[0m         \u001b[0;31m# take() does not accept boolean indexers\u001b[0m\u001b[0;34m\u001b[0m\u001b[0;34m\u001b[0m\u001b[0;34m\u001b[0m\u001b[0m\n",
            "\u001b[0;32m/usr/local/lib/python3.6/dist-packages/pandas/core/indexing.py\u001b[0m in \u001b[0;36m_get_listlike_indexer\u001b[0;34m(self, key, axis, raise_missing)\u001b[0m\n\u001b[1;32m   1551\u001b[0m \u001b[0;34m\u001b[0m\u001b[0m\n\u001b[1;32m   1552\u001b[0m         self._validate_read_indexer(\n\u001b[0;32m-> 1553\u001b[0;31m             \u001b[0mkeyarr\u001b[0m\u001b[0;34m,\u001b[0m \u001b[0mindexer\u001b[0m\u001b[0;34m,\u001b[0m \u001b[0mo\u001b[0m\u001b[0;34m.\u001b[0m\u001b[0m_get_axis_number\u001b[0m\u001b[0;34m(\u001b[0m\u001b[0maxis\u001b[0m\u001b[0;34m)\u001b[0m\u001b[0;34m,\u001b[0m \u001b[0mraise_missing\u001b[0m\u001b[0;34m=\u001b[0m\u001b[0mraise_missing\u001b[0m\u001b[0;34m\u001b[0m\u001b[0;34m\u001b[0m\u001b[0m\n\u001b[0m\u001b[1;32m   1554\u001b[0m         )\n\u001b[1;32m   1555\u001b[0m         \u001b[0;32mreturn\u001b[0m \u001b[0mkeyarr\u001b[0m\u001b[0;34m,\u001b[0m \u001b[0mindexer\u001b[0m\u001b[0;34m\u001b[0m\u001b[0;34m\u001b[0m\u001b[0m\n",
            "\u001b[0;32m/usr/local/lib/python3.6/dist-packages/pandas/core/indexing.py\u001b[0m in \u001b[0;36m_validate_read_indexer\u001b[0;34m(self, key, indexer, axis, raise_missing)\u001b[0m\n\u001b[1;32m   1644\u001b[0m             \u001b[0;32mif\u001b[0m \u001b[0;32mnot\u001b[0m \u001b[0;34m(\u001b[0m\u001b[0mself\u001b[0m\u001b[0;34m.\u001b[0m\u001b[0mname\u001b[0m \u001b[0;34m==\u001b[0m \u001b[0;34m\"loc\"\u001b[0m \u001b[0;32mand\u001b[0m \u001b[0;32mnot\u001b[0m \u001b[0mraise_missing\u001b[0m\u001b[0;34m)\u001b[0m\u001b[0;34m:\u001b[0m\u001b[0;34m\u001b[0m\u001b[0;34m\u001b[0m\u001b[0m\n\u001b[1;32m   1645\u001b[0m                 \u001b[0mnot_found\u001b[0m \u001b[0;34m=\u001b[0m \u001b[0mlist\u001b[0m\u001b[0;34m(\u001b[0m\u001b[0mset\u001b[0m\u001b[0;34m(\u001b[0m\u001b[0mkey\u001b[0m\u001b[0;34m)\u001b[0m \u001b[0;34m-\u001b[0m \u001b[0mset\u001b[0m\u001b[0;34m(\u001b[0m\u001b[0max\u001b[0m\u001b[0;34m)\u001b[0m\u001b[0;34m)\u001b[0m\u001b[0;34m\u001b[0m\u001b[0;34m\u001b[0m\u001b[0m\n\u001b[0;32m-> 1646\u001b[0;31m                 \u001b[0;32mraise\u001b[0m \u001b[0mKeyError\u001b[0m\u001b[0;34m(\u001b[0m\u001b[0;34mf\"{not_found} not in index\"\u001b[0m\u001b[0;34m)\u001b[0m\u001b[0;34m\u001b[0m\u001b[0;34m\u001b[0m\u001b[0m\n\u001b[0m\u001b[1;32m   1647\u001b[0m \u001b[0;34m\u001b[0m\u001b[0m\n\u001b[1;32m   1648\u001b[0m             \u001b[0;31m# we skip the warning on Categorical/Interval\u001b[0m\u001b[0;34m\u001b[0m\u001b[0;34m\u001b[0m\u001b[0;34m\u001b[0m\u001b[0m\n",
            "\u001b[0;31mKeyError\u001b[0m: \"['program_duration_cat'] not in index\""
          ]
        }
      ]
    },
    {
      "cell_type": "code",
      "metadata": {
        "id": "5cXuAM_zGJvy",
        "colab_type": "code",
        "colab": {}
      },
      "source": [
        "train_one_hot = pd.concat([train_analysis_pycaret_sampled[['id','program_id','test_id','trainee_id','age','total_programs_enrolled','trainee_engagement_rating']],one_hot_train],axis=1)"
      ],
      "execution_count": 0,
      "outputs": []
    },
    {
      "cell_type": "code",
      "metadata": {
        "id": "lvqlloCvG_HG",
        "colab_type": "code",
        "colab": {}
      },
      "source": [
        "test_one_hot = pd.concat([test_analysis_pycaret[['id','program_id','test_id','trainee_id','age','total_programs_enrolled','trainee_engagement_rating']],one_hot_test],axis=1)"
      ],
      "execution_count": 0,
      "outputs": []
    },
    {
      "cell_type": "code",
      "metadata": {
        "id": "HjJaQzjpAAAb",
        "colab_type": "code",
        "colab": {}
      },
      "source": [
        "et = ExtraTreesClassifier(criterion=\"entropy\",n_estimators=200,random_state=88)"
      ],
      "execution_count": 0,
      "outputs": []
    },
    {
      "cell_type": "code",
      "metadata": {
        "id": "ROIypUVWP21X",
        "colab_type": "code",
        "colab": {}
      },
      "source": [
        "X = train_one_hot.drop(columns=\"is_pass\")\n",
        "y = train_one_hot['is_pass']"
      ],
      "execution_count": 0,
      "outputs": []
    },
    {
      "cell_type": "code",
      "metadata": {
        "id": "XXa4qzkAAWQF",
        "colab_type": "code",
        "colab": {}
      },
      "source": [
        "X = train_analysis_pycaret_sampled.drop(columns=\"is_pass\")\n",
        "y = train_analysis_pycaret_sampled['is_pass']"
      ],
      "execution_count": 0,
      "outputs": []
    },
    {
      "cell_type": "code",
      "metadata": {
        "id": "Ll86OEDTALaX",
        "colab_type": "code",
        "colab": {}
      },
      "source": [
        "x_train, x_valid, y_train, y_valid = train_test_split(X, y, \n",
        "                                                      random_state=88,test_size=0.20, stratify=y)"
      ],
      "execution_count": 0,
      "outputs": []
    },
    {
      "cell_type": "code",
      "metadata": {
        "id": "xM9DqVh0HR_G",
        "colab_type": "code",
        "outputId": "64ecaee6-3254-4078-e87c-df54ed8836d3",
        "colab": {
          "base_uri": "https://localhost:8080/",
          "height": 34
        }
      },
      "source": [
        "x_train.shape"
      ],
      "execution_count": 0,
      "outputs": [
        {
          "output_type": "execute_result",
          "data": {
            "text/plain": [
              "(81387, 12)"
            ]
          },
          "metadata": {
            "tags": []
          },
          "execution_count": 187
        }
      ]
    },
    {
      "cell_type": "code",
      "metadata": {
        "id": "MiojhtAoHUDr",
        "colab_type": "code",
        "outputId": "cfb9e093-ee8d-4c75-a387-00f96a1e739b",
        "colab": {
          "base_uri": "https://localhost:8080/",
          "height": 34
        }
      },
      "source": [
        "X.shape"
      ],
      "execution_count": 0,
      "outputs": [
        {
          "output_type": "execute_result",
          "data": {
            "text/plain": [
              "(101734, 12)"
            ]
          },
          "metadata": {
            "tags": []
          },
          "execution_count": 188
        }
      ]
    },
    {
      "cell_type": "code",
      "metadata": {
        "id": "5T4_4e5NAqIX",
        "colab_type": "code",
        "outputId": "a6f4f8ce-1cf6-4cb8-b345-27f5ef80c066",
        "colab": {
          "base_uri": "https://localhost:8080/",
          "height": 151
        }
      },
      "source": [
        "et.fit(x_train,y_train)"
      ],
      "execution_count": 0,
      "outputs": [
        {
          "output_type": "execute_result",
          "data": {
            "text/plain": [
              "ExtraTreesClassifier(bootstrap=False, ccp_alpha=0.0, class_weight=None,\n",
              "                     criterion='entropy', max_depth=None, max_features='auto',\n",
              "                     max_leaf_nodes=None, max_samples=None,\n",
              "                     min_impurity_decrease=0.0, min_impurity_split=None,\n",
              "                     min_samples_leaf=1, min_samples_split=2,\n",
              "                     min_weight_fraction_leaf=0.0, n_estimators=200,\n",
              "                     n_jobs=None, oob_score=False, random_state=88, verbose=0,\n",
              "                     warm_start=False)"
            ]
          },
          "metadata": {
            "tags": []
          },
          "execution_count": 189
        }
      ]
    },
    {
      "cell_type": "code",
      "metadata": {
        "id": "pqtUcjtNA32x",
        "colab_type": "code",
        "colab": {}
      },
      "source": [
        "y_pred_valid = et.predict(x_valid)"
      ],
      "execution_count": 0,
      "outputs": []
    },
    {
      "cell_type": "code",
      "metadata": {
        "id": "y8fLVMd5CItj",
        "colab_type": "code",
        "outputId": "d10859ad-de50-493f-b571-b5bb6d68118a",
        "colab": {
          "base_uri": "https://localhost:8080/",
          "height": 302
        }
      },
      "source": [
        "evaluate_model(y_valid,y_pred_valid)"
      ],
      "execution_count": 0,
      "outputs": [
        {
          "output_type": "stream",
          "text": [
            "confusion matrix\n",
            "True          0     1\n",
            "Predicted            \n",
            "0          9422  1644\n",
            "1           752  8529\n",
            "classification report\n",
            "              precision    recall  f1-score   support\n",
            "\n",
            "           0       0.85      0.93      0.89     10174\n",
            "           1       0.92      0.84      0.88     10173\n",
            "\n",
            "    accuracy                           0.88     20347\n",
            "   macro avg       0.89      0.88      0.88     20347\n",
            "weighted avg       0.89      0.88      0.88     20347\n",
            "\n",
            "accuracy score\n",
            "0.8822430825183074\n"
          ],
          "name": "stdout"
        }
      ]
    },
    {
      "cell_type": "code",
      "metadata": {
        "id": "kXVDHJM4lxMF",
        "colab_type": "code",
        "outputId": "fe08931c-c5bd-4447-e679-5788e3659dd3",
        "colab": {
          "base_uri": "https://localhost:8080/",
          "height": 84
        }
      },
      "source": [
        "X.columns"
      ],
      "execution_count": 0,
      "outputs": [
        {
          "output_type": "execute_result",
          "data": {
            "text/plain": [
              "Index(['id', 'program_id', 'test_id', 'trainee_id', 'program_duration_cat',\n",
              "       'age', 'difficulty_test_type', 'total_programs_enrolled', 'gender',\n",
              "       'education_tier', 'is_handicapped', 'trainee_engagement_rating'],\n",
              "      dtype='object')"
            ]
          },
          "metadata": {
            "tags": []
          },
          "execution_count": 192
        }
      ]
    },
    {
      "cell_type": "code",
      "metadata": {
        "id": "jE-o-Appl0Ap",
        "colab_type": "code",
        "outputId": "ea626bf9-3396-449d-a8c8-d0dd78987c28",
        "colab": {
          "base_uri": "https://localhost:8080/",
          "height": 67
        }
      },
      "source": [
        "et.feature_importances_"
      ],
      "execution_count": 0,
      "outputs": [
        {
          "output_type": "execute_result",
          "data": {
            "text/plain": [
              "array([0.21549555, 0.03038209, 0.15400792, 0.15966023, 0.01795901,\n",
              "       0.11329346, 0.04581175, 0.06554025, 0.01892647, 0.10901861,\n",
              "       0.01270021, 0.05720445])"
            ]
          },
          "metadata": {
            "tags": []
          },
          "execution_count": 193
        }
      ]
    },
    {
      "cell_type": "code",
      "metadata": {
        "id": "Wgm1ft3Ojriv",
        "colab_type": "code",
        "outputId": "dfacdb6a-b649-4e7e-fae8-98c80fbf6ae0",
        "colab": {
          "base_uri": "https://localhost:8080/",
          "height": 84
        }
      },
      "source": [
        "X.columns"
      ],
      "execution_count": 0,
      "outputs": [
        {
          "output_type": "execute_result",
          "data": {
            "text/plain": [
              "Index(['id', 'program_id', 'test_id', 'trainee_id', 'program_duration_cat',\n",
              "       'age', 'difficulty_test_type', 'total_programs_enrolled', 'gender',\n",
              "       'education_tier', 'is_handicapped', 'trainee_engagement_rating'],\n",
              "      dtype='object')"
            ]
          },
          "metadata": {
            "tags": []
          },
          "execution_count": 194
        }
      ]
    },
    {
      "cell_type": "code",
      "metadata": {
        "id": "Yx0hAqZmjO_Q",
        "colab_type": "code",
        "outputId": "fd644ec3-040d-4148-e227-da4fd08b0b45",
        "colab": {
          "base_uri": "https://localhost:8080/",
          "height": 67
        }
      },
      "source": [
        "et.feature_importances_"
      ],
      "execution_count": 0,
      "outputs": [
        {
          "output_type": "execute_result",
          "data": {
            "text/plain": [
              "array([0.21549555, 0.03038209, 0.15400792, 0.15966023, 0.01795901,\n",
              "       0.11329346, 0.04581175, 0.06554025, 0.01892647, 0.10901861,\n",
              "       0.01270021, 0.05720445])"
            ]
          },
          "metadata": {
            "tags": []
          },
          "execution_count": 195
        }
      ]
    },
    {
      "cell_type": "code",
      "metadata": {
        "id": "N5VhWYyaCND5",
        "colab_type": "code",
        "colab": {}
      },
      "source": [
        "from sklearn.metrics import roc_auc_score"
      ],
      "execution_count": 0,
      "outputs": []
    },
    {
      "cell_type": "code",
      "metadata": {
        "id": "d3PFiHfmCfaW",
        "colab_type": "code",
        "outputId": "6c299023-5552-4188-cce3-d6463e63a4aa",
        "colab": {
          "base_uri": "https://localhost:8080/",
          "height": 34
        }
      },
      "source": [
        "roc_auc_score(y_valid,y_pred_valid)"
      ],
      "execution_count": 0,
      "outputs": [
        {
          "output_type": "execute_result",
          "data": {
            "text/plain": [
              "0.8822409276466221"
            ]
          },
          "metadata": {
            "tags": []
          },
          "execution_count": 197
        }
      ]
    },
    {
      "cell_type": "code",
      "metadata": {
        "colab_type": "code",
        "id": "6M7IMNUKC-V_",
        "colab": {}
      },
      "source": [
        "X_test = test_analysis_pycaret"
      ],
      "execution_count": 0,
      "outputs": []
    },
    {
      "cell_type": "code",
      "metadata": {
        "colab_type": "code",
        "id": "cJhssdFKC-WC",
        "colab": {}
      },
      "source": [
        "y_test = et.predict(X_test)"
      ],
      "execution_count": 0,
      "outputs": []
    },
    {
      "cell_type": "code",
      "metadata": {
        "id": "AOn7NVX_NBjc",
        "colab_type": "code",
        "outputId": "1c715979-4e48-4a4e-e896-f38ab778dedf",
        "colab": {
          "base_uri": "https://localhost:8080/",
          "height": 84
        }
      },
      "source": [
        "x_train.columns"
      ],
      "execution_count": 0,
      "outputs": [
        {
          "output_type": "execute_result",
          "data": {
            "text/plain": [
              "Index(['id', 'program_id', 'test_id', 'trainee_id', 'program_duration_cat',\n",
              "       'age', 'difficulty_test_type', 'total_programs_enrolled', 'gender',\n",
              "       'education_tier', 'is_handicapped', 'trainee_engagement_rating'],\n",
              "      dtype='object')"
            ]
          },
          "metadata": {
            "tags": []
          },
          "execution_count": 200
        }
      ]
    },
    {
      "cell_type": "code",
      "metadata": {
        "id": "XXY5Ux-4M6ib",
        "colab_type": "code",
        "outputId": "fea2d99d-4f94-4090-ed63-5129ab79484c",
        "colab": {
          "base_uri": "https://localhost:8080/",
          "height": 67
        }
      },
      "source": [
        "et.feature_importances_"
      ],
      "execution_count": 0,
      "outputs": [
        {
          "output_type": "execute_result",
          "data": {
            "text/plain": [
              "array([0.21549555, 0.03038209, 0.15400792, 0.15966023, 0.01795901,\n",
              "       0.11329346, 0.04581175, 0.06554025, 0.01892647, 0.10901861,\n",
              "       0.01270021, 0.05720445])"
            ]
          },
          "metadata": {
            "tags": []
          },
          "execution_count": 201
        }
      ]
    },
    {
      "cell_type": "code",
      "metadata": {
        "colab_type": "code",
        "id": "MZARRZscC-WE",
        "colab": {}
      },
      "source": [
        "ispass_df = pd.DataFrame(y_test,columns = [\"is_pass\"])"
      ],
      "execution_count": 0,
      "outputs": []
    },
    {
      "cell_type": "code",
      "metadata": {
        "colab_type": "code",
        "id": "x0mXWbc_C-WG",
        "colab": {}
      },
      "source": [
        "submission = pd.concat([submission_new['id'],ispass_df],axis=1)\n",
        "submission = submission[['id','is_pass']]\n",
        "submission.to_csv(\"submission_extra_tree_v6.csv\",index=False)"
      ],
      "execution_count": 0,
      "outputs": []
    },
    {
      "cell_type": "markdown",
      "metadata": {
        "id": "ujS6Mr9aI-0e",
        "colab_type": "text"
      },
      "source": [
        "## Using new features"
      ]
    },
    {
      "cell_type": "code",
      "metadata": {
        "id": "fxL9J-FAMxWx",
        "colab_type": "code",
        "outputId": "2986244f-e3e0-4e67-8b57-00ef2982e984",
        "colab": {
          "base_uri": "https://localhost:8080/",
          "height": 134
        }
      },
      "source": [
        "train_analysis.columns"
      ],
      "execution_count": 0,
      "outputs": [
        {
          "output_type": "execute_result",
          "data": {
            "text/plain": [
              "Index(['id', 'program_id', 'program_type', 'program_duration', 'test_id',\n",
              "       'test_type', 'difficulty_level', 'trainee_id', 'gender', 'education',\n",
              "       'city_tier', 'age', 'total_programs_enrolled', 'is_handicapped',\n",
              "       'trainee_engagement_rating', 'is_pass', 'age_group',\n",
              "       'program_duration_log', 'education_tier', 'program_duration_cat',\n",
              "       'experience', 'difficulty_test_type', 'total_programs_enrolled_cat'],\n",
              "      dtype='object')"
            ]
          },
          "metadata": {
            "tags": []
          },
          "execution_count": 276
        }
      ]
    },
    {
      "cell_type": "code",
      "metadata": {
        "id": "sxw9s9EUC36g",
        "colab_type": "code",
        "colab": {}
      },
      "source": [
        "def engagement_ratings(df,variable):\n",
        "  df[\"engagement_rating_feature\"] = \"\"\n",
        "  df.loc[((df[variable] == 1) | (df[variable] == 2)),'engagement_rating_feature'] = \"poor\" \n",
        "  df.loc[(df[variable] == 3),'engagement_rating_feature'] = \"average\" \n",
        "  df.loc[((df[variable] == 4) | (df[variable] == 5)),'engagement_rating_feature'] = \"good\" \n",
        "  return df['engagement_rating_feature']"
      ],
      "execution_count": 0,
      "outputs": []
    },
    {
      "cell_type": "code",
      "metadata": {
        "id": "xlJMiw4d4OwS",
        "colab_type": "code",
        "colab": {}
      },
      "source": [
        "train_analysis[\"engagement_rating_feature\"] = engagement_ratings(train_analysis,\"trainee_engagement_rating\")\n",
        "test_analysis[\"engagement_rating_feature\"] = engagement_ratings(test_analysis,\"trainee_engagement_rating\")"
      ],
      "execution_count": 0,
      "outputs": []
    },
    {
      "cell_type": "code",
      "metadata": {
        "id": "b5OocaTl4fAn",
        "colab_type": "code",
        "outputId": "a1fe66be-31fa-4105-97a8-23371d3522d5",
        "colab": {
          "base_uri": "https://localhost:8080/",
          "height": 299
        }
      },
      "source": [
        "train_analysis.head()"
      ],
      "execution_count": 0,
      "outputs": [
        {
          "output_type": "execute_result",
          "data": {
            "text/html": [
              "<div>\n",
              "<style scoped>\n",
              "    .dataframe tbody tr th:only-of-type {\n",
              "        vertical-align: middle;\n",
              "    }\n",
              "\n",
              "    .dataframe tbody tr th {\n",
              "        vertical-align: top;\n",
              "    }\n",
              "\n",
              "    .dataframe thead th {\n",
              "        text-align: right;\n",
              "    }\n",
              "</style>\n",
              "<table border=\"1\" class=\"dataframe\">\n",
              "  <thead>\n",
              "    <tr style=\"text-align: right;\">\n",
              "      <th></th>\n",
              "      <th>id</th>\n",
              "      <th>program_id</th>\n",
              "      <th>program_type</th>\n",
              "      <th>program_duration</th>\n",
              "      <th>test_id</th>\n",
              "      <th>test_type</th>\n",
              "      <th>difficulty_level</th>\n",
              "      <th>trainee_id</th>\n",
              "      <th>gender</th>\n",
              "      <th>education</th>\n",
              "      <th>city_tier</th>\n",
              "      <th>age</th>\n",
              "      <th>total_programs_enrolled</th>\n",
              "      <th>is_handicapped</th>\n",
              "      <th>trainee_engagement_rating</th>\n",
              "      <th>is_pass</th>\n",
              "      <th>age_group</th>\n",
              "      <th>program_duration_log</th>\n",
              "      <th>education_tier</th>\n",
              "      <th>program_duration_cat</th>\n",
              "      <th>experience</th>\n",
              "      <th>difficulty_test_type</th>\n",
              "      <th>total_programs_enrolled_cat</th>\n",
              "      <th>engagement_rating_feature</th>\n",
              "    </tr>\n",
              "  </thead>\n",
              "  <tbody>\n",
              "    <tr>\n",
              "      <th>0</th>\n",
              "      <td>9389_150</td>\n",
              "      <td>Y_1</td>\n",
              "      <td>Y</td>\n",
              "      <td>136</td>\n",
              "      <td>150</td>\n",
              "      <td>offline</td>\n",
              "      <td>intermediate</td>\n",
              "      <td>9389</td>\n",
              "      <td>M</td>\n",
              "      <td>Matriculation</td>\n",
              "      <td>3</td>\n",
              "      <td>24.0</td>\n",
              "      <td>5</td>\n",
              "      <td>N</td>\n",
              "      <td>1.0</td>\n",
              "      <td>0</td>\n",
              "      <td>group 17-28</td>\n",
              "      <td>4.919981</td>\n",
              "      <td>3_Matriculation</td>\n",
              "      <td>max duration</td>\n",
              "      <td>Least experience</td>\n",
              "      <td>intermediate_offline</td>\n",
              "      <td>Total Enrolled - 3</td>\n",
              "      <td>poor</td>\n",
              "    </tr>\n",
              "    <tr>\n",
              "      <th>6</th>\n",
              "      <td>17874_144</td>\n",
              "      <td>Y_2</td>\n",
              "      <td>Y</td>\n",
              "      <td>120</td>\n",
              "      <td>144</td>\n",
              "      <td>online</td>\n",
              "      <td>easy</td>\n",
              "      <td>17874</td>\n",
              "      <td>M</td>\n",
              "      <td>Bachelors</td>\n",
              "      <td>2</td>\n",
              "      <td>48.0</td>\n",
              "      <td>3</td>\n",
              "      <td>N</td>\n",
              "      <td>3.0</td>\n",
              "      <td>1</td>\n",
              "      <td>group 45-63</td>\n",
              "      <td>4.795791</td>\n",
              "      <td>2_Bachelors</td>\n",
              "      <td>Minimum duration</td>\n",
              "      <td>Highly experienced</td>\n",
              "      <td>easy_online</td>\n",
              "      <td>Total Enrolled - 2</td>\n",
              "      <td>average</td>\n",
              "    </tr>\n",
              "    <tr>\n",
              "      <th>9</th>\n",
              "      <td>17019_153</td>\n",
              "      <td>Y_1</td>\n",
              "      <td>Y</td>\n",
              "      <td>136</td>\n",
              "      <td>153</td>\n",
              "      <td>offline</td>\n",
              "      <td>hard</td>\n",
              "      <td>17019</td>\n",
              "      <td>M</td>\n",
              "      <td>Bachelors</td>\n",
              "      <td>3</td>\n",
              "      <td>28.0</td>\n",
              "      <td>2</td>\n",
              "      <td>N</td>\n",
              "      <td>4.0</td>\n",
              "      <td>1</td>\n",
              "      <td>group 28-39</td>\n",
              "      <td>4.919981</td>\n",
              "      <td>3_Bachelors</td>\n",
              "      <td>max duration</td>\n",
              "      <td>Moderate experience</td>\n",
              "      <td>hard_offline</td>\n",
              "      <td>Total Enrolled - 1</td>\n",
              "      <td>good</td>\n",
              "    </tr>\n",
              "    <tr>\n",
              "      <th>12</th>\n",
              "      <td>15848_149</td>\n",
              "      <td>Y_1</td>\n",
              "      <td>Y</td>\n",
              "      <td>136</td>\n",
              "      <td>149</td>\n",
              "      <td>offline</td>\n",
              "      <td>intermediate</td>\n",
              "      <td>15848</td>\n",
              "      <td>M</td>\n",
              "      <td>High School Diploma</td>\n",
              "      <td>1</td>\n",
              "      <td>45.0</td>\n",
              "      <td>4</td>\n",
              "      <td>N</td>\n",
              "      <td>4.0</td>\n",
              "      <td>1</td>\n",
              "      <td>group 45-63</td>\n",
              "      <td>4.919981</td>\n",
              "      <td>1_High School Diploma</td>\n",
              "      <td>max duration</td>\n",
              "      <td>Highly experienced</td>\n",
              "      <td>intermediate_offline</td>\n",
              "      <td>Total Enrolled - 3</td>\n",
              "      <td>good</td>\n",
              "    </tr>\n",
              "    <tr>\n",
              "      <th>13</th>\n",
              "      <td>423_126</td>\n",
              "      <td>Y_3</td>\n",
              "      <td>Y</td>\n",
              "      <td>135</td>\n",
              "      <td>126</td>\n",
              "      <td>offline</td>\n",
              "      <td>intermediate</td>\n",
              "      <td>423</td>\n",
              "      <td>M</td>\n",
              "      <td>Matriculation</td>\n",
              "      <td>3</td>\n",
              "      <td>45.0</td>\n",
              "      <td>4</td>\n",
              "      <td>N</td>\n",
              "      <td>5.0</td>\n",
              "      <td>1</td>\n",
              "      <td>group 45-63</td>\n",
              "      <td>4.912655</td>\n",
              "      <td>3_Matriculation</td>\n",
              "      <td>max duration</td>\n",
              "      <td>Highly experienced</td>\n",
              "      <td>intermediate_offline</td>\n",
              "      <td>Total Enrolled - 3</td>\n",
              "      <td>good</td>\n",
              "    </tr>\n",
              "  </tbody>\n",
              "</table>\n",
              "</div>"
            ],
            "text/plain": [
              "           id program_id  ... total_programs_enrolled_cat  engagement_rating_feature\n",
              "0    9389_150        Y_1  ...          Total Enrolled - 3                       poor\n",
              "6   17874_144        Y_2  ...          Total Enrolled - 2                    average\n",
              "9   17019_153        Y_1  ...          Total Enrolled - 1                       good\n",
              "12  15848_149        Y_1  ...          Total Enrolled - 3                       good\n",
              "13    423_126        Y_3  ...          Total Enrolled - 3                       good\n",
              "\n",
              "[5 rows x 24 columns]"
            ]
          },
          "metadata": {
            "tags": []
          },
          "execution_count": 279
        }
      ]
    },
    {
      "cell_type": "code",
      "metadata": {
        "id": "4rGSyjHA4gWv",
        "colab_type": "code",
        "outputId": "fe08c50c-3b24-4951-c2fe-0ee696d74794",
        "colab": {
          "base_uri": "https://localhost:8080/",
          "height": 280
        }
      },
      "source": [
        "sns.countplot(train_analysis['engagement_rating_feature'],hue=train_analysis['is_pass'])\n",
        "plt.show()"
      ],
      "execution_count": 0,
      "outputs": [
        {
          "output_type": "display_data",
          "data": {
            "image/png": "[encoded data removed]",
            "text/plain": [
              "<Figure size 432x288 with 1 Axes>"
            ]
          },
          "metadata": {
            "tags": [],
            "needs_background": "light"
          }
        }
      ]
    },
    {
      "cell_type": "code",
      "metadata": {
        "colab_type": "code",
        "id": "2YLv4EED5IBB",
        "colab": {}
      },
      "source": [
        "train_analysis_pycaret = train_analysis[['id','program_id','test_id','trainee_id','program_duration_cat','age','difficulty_test_type','total_programs_enrolled',\n",
        "                                         'gender','education_tier','is_handicapped','trainee_engagement_rating','is_pass']]\n",
        "test_analysis_pycaret = test_analysis[['id','program_id','test_id','trainee_id','program_duration_cat','age','difficulty_test_type','total_programs_enrolled',\n",
        "                                         'gender','education_tier','is_handicapped','trainee_engagement_rating']]"
      ],
      "execution_count": 0,
      "outputs": []
    },
    {
      "cell_type": "code",
      "metadata": {
        "id": "60LvYUqq_HuA",
        "colab_type": "code",
        "outputId": "d9a89b3c-8f82-46ea-d99d-20f95bcbf248",
        "colab": {
          "base_uri": "https://localhost:8080/",
          "height": 249
        }
      },
      "source": [
        "train_analysis_pycaret.sort_index(inplace=True)\n",
        "train_analysis_pycaret.head()"
      ],
      "execution_count": 0,
      "outputs": [
        {
          "output_type": "execute_result",
          "data": {
            "text/html": [
              "<div>\n",
              "<style scoped>\n",
              "    .dataframe tbody tr th:only-of-type {\n",
              "        vertical-align: middle;\n",
              "    }\n",
              "\n",
              "    .dataframe tbody tr th {\n",
              "        vertical-align: top;\n",
              "    }\n",
              "\n",
              "    .dataframe thead th {\n",
              "        text-align: right;\n",
              "    }\n",
              "</style>\n",
              "<table border=\"1\" class=\"dataframe\">\n",
              "  <thead>\n",
              "    <tr style=\"text-align: right;\">\n",
              "      <th></th>\n",
              "      <th>id</th>\n",
              "      <th>program_id</th>\n",
              "      <th>test_id</th>\n",
              "      <th>trainee_id</th>\n",
              "      <th>program_duration_cat</th>\n",
              "      <th>age</th>\n",
              "      <th>difficulty_test_type</th>\n",
              "      <th>total_programs_enrolled</th>\n",
              "      <th>gender</th>\n",
              "      <th>education_tier</th>\n",
              "      <th>is_handicapped</th>\n",
              "      <th>trainee_engagement_rating</th>\n",
              "      <th>is_pass</th>\n",
              "    </tr>\n",
              "  </thead>\n",
              "  <tbody>\n",
              "    <tr>\n",
              "      <th>0</th>\n",
              "      <td>9389_150</td>\n",
              "      <td>Y_1</td>\n",
              "      <td>150</td>\n",
              "      <td>9389</td>\n",
              "      <td>max duration</td>\n",
              "      <td>24.0</td>\n",
              "      <td>intermediate_offline</td>\n",
              "      <td>5</td>\n",
              "      <td>M</td>\n",
              "      <td>3_Matriculation</td>\n",
              "      <td>N</td>\n",
              "      <td>1.0</td>\n",
              "      <td>0</td>\n",
              "    </tr>\n",
              "    <tr>\n",
              "      <th>1</th>\n",
              "      <td>16523_44</td>\n",
              "      <td>T_1</td>\n",
              "      <td>44</td>\n",
              "      <td>16523</td>\n",
              "      <td>medium1 duration</td>\n",
              "      <td>26.0</td>\n",
              "      <td>easy_offline</td>\n",
              "      <td>2</td>\n",
              "      <td>F</td>\n",
              "      <td>4_High School Diploma</td>\n",
              "      <td>N</td>\n",
              "      <td>3.0</td>\n",
              "      <td>1</td>\n",
              "    </tr>\n",
              "    <tr>\n",
              "      <th>2</th>\n",
              "      <td>13987_178</td>\n",
              "      <td>Z_2</td>\n",
              "      <td>178</td>\n",
              "      <td>13987</td>\n",
              "      <td>Minimum duration</td>\n",
              "      <td>40.0</td>\n",
              "      <td>easy_online</td>\n",
              "      <td>1</td>\n",
              "      <td>M</td>\n",
              "      <td>1_Matriculation</td>\n",
              "      <td>N</td>\n",
              "      <td>2.0</td>\n",
              "      <td>1</td>\n",
              "    </tr>\n",
              "    <tr>\n",
              "      <th>3</th>\n",
              "      <td>13158_32</td>\n",
              "      <td>T_2</td>\n",
              "      <td>32</td>\n",
              "      <td>13158</td>\n",
              "      <td>Minimum duration</td>\n",
              "      <td>45.0</td>\n",
              "      <td>easy_offline</td>\n",
              "      <td>4</td>\n",
              "      <td>F</td>\n",
              "      <td>3_Matriculation</td>\n",
              "      <td>N</td>\n",
              "      <td>1.0</td>\n",
              "      <td>1</td>\n",
              "    </tr>\n",
              "    <tr>\n",
              "      <th>4</th>\n",
              "      <td>10591_84</td>\n",
              "      <td>V_3</td>\n",
              "      <td>84</td>\n",
              "      <td>10591</td>\n",
              "      <td>medium1 duration</td>\n",
              "      <td>42.0</td>\n",
              "      <td>intermediate_offline</td>\n",
              "      <td>2</td>\n",
              "      <td>F</td>\n",
              "      <td>1_High School Diploma</td>\n",
              "      <td>N</td>\n",
              "      <td>4.0</td>\n",
              "      <td>1</td>\n",
              "    </tr>\n",
              "  </tbody>\n",
              "</table>\n",
              "</div>"
            ],
            "text/plain": [
              "          id program_id  ...  trainee_engagement_rating  is_pass\n",
              "0   9389_150        Y_1  ...                        1.0        0\n",
              "1   16523_44        T_1  ...                        3.0        1\n",
              "2  13987_178        Z_2  ...                        2.0        1\n",
              "3   13158_32        T_2  ...                        1.0        1\n",
              "4   10591_84        V_3  ...                        4.0        1\n",
              "\n",
              "[5 rows x 13 columns]"
            ]
          },
          "metadata": {
            "tags": []
          },
          "execution_count": 289
        }
      ]
    },
    {
      "cell_type": "code",
      "metadata": {
        "id": "4GpkwiTY-9cu",
        "colab_type": "code",
        "outputId": "9e602831-2b4f-4548-fd03-7ee601bf8061",
        "colab": {
          "base_uri": "https://localhost:8080/",
          "height": 232
        }
      },
      "source": [
        "test_analysis_pycaret.sort_index(inplace=True)\n",
        "test_analysis_pycaret.head()"
      ],
      "execution_count": 0,
      "outputs": [
        {
          "output_type": "execute_result",
          "data": {
            "text/html": [
              "<div>\n",
              "<style scoped>\n",
              "    .dataframe tbody tr th:only-of-type {\n",
              "        vertical-align: middle;\n",
              "    }\n",
              "\n",
              "    .dataframe tbody tr th {\n",
              "        vertical-align: top;\n",
              "    }\n",
              "\n",
              "    .dataframe thead th {\n",
              "        text-align: right;\n",
              "    }\n",
              "</style>\n",
              "<table border=\"1\" class=\"dataframe\">\n",
              "  <thead>\n",
              "    <tr style=\"text-align: right;\">\n",
              "      <th></th>\n",
              "      <th>id</th>\n",
              "      <th>program_id</th>\n",
              "      <th>test_id</th>\n",
              "      <th>trainee_id</th>\n",
              "      <th>program_duration_cat</th>\n",
              "      <th>age</th>\n",
              "      <th>difficulty_test_type</th>\n",
              "      <th>total_programs_enrolled</th>\n",
              "      <th>gender</th>\n",
              "      <th>education_tier</th>\n",
              "      <th>is_handicapped</th>\n",
              "      <th>trainee_engagement_rating</th>\n",
              "    </tr>\n",
              "  </thead>\n",
              "  <tbody>\n",
              "    <tr>\n",
              "      <th>0</th>\n",
              "      <td>1626_45</td>\n",
              "      <td>T_1</td>\n",
              "      <td>45</td>\n",
              "      <td>1626</td>\n",
              "      <td>medium1 duration</td>\n",
              "      <td>46.0</td>\n",
              "      <td>intermediate_offline</td>\n",
              "      <td>2</td>\n",
              "      <td>F</td>\n",
              "      <td>3_Matriculation</td>\n",
              "      <td>N</td>\n",
              "      <td>4.0</td>\n",
              "    </tr>\n",
              "    <tr>\n",
              "      <th>1</th>\n",
              "      <td>11020_130</td>\n",
              "      <td>Y_3</td>\n",
              "      <td>130</td>\n",
              "      <td>11020</td>\n",
              "      <td>max duration</td>\n",
              "      <td>45.0</td>\n",
              "      <td>easy_online</td>\n",
              "      <td>4</td>\n",
              "      <td>M</td>\n",
              "      <td>3_Bachelors</td>\n",
              "      <td>N</td>\n",
              "      <td>4.0</td>\n",
              "    </tr>\n",
              "    <tr>\n",
              "      <th>2</th>\n",
              "      <td>12652_146</td>\n",
              "      <td>Y_2</td>\n",
              "      <td>146</td>\n",
              "      <td>12652</td>\n",
              "      <td>Minimum duration</td>\n",
              "      <td>45.0</td>\n",
              "      <td>easy_online</td>\n",
              "      <td>2</td>\n",
              "      <td>M</td>\n",
              "      <td>3_Matriculation</td>\n",
              "      <td>N</td>\n",
              "      <td>3.0</td>\n",
              "    </tr>\n",
              "    <tr>\n",
              "      <th>3</th>\n",
              "      <td>7038_72</td>\n",
              "      <td>V_4</td>\n",
              "      <td>72</td>\n",
              "      <td>7038</td>\n",
              "      <td>medium1 duration</td>\n",
              "      <td>45.0</td>\n",
              "      <td>vary hard_offline</td>\n",
              "      <td>2</td>\n",
              "      <td>F</td>\n",
              "      <td>1_High School Diploma</td>\n",
              "      <td>N</td>\n",
              "      <td>2.0</td>\n",
              "    </tr>\n",
              "    <tr>\n",
              "      <th>4</th>\n",
              "      <td>888_71</td>\n",
              "      <td>V_4</td>\n",
              "      <td>71</td>\n",
              "      <td>888</td>\n",
              "      <td>medium1 duration</td>\n",
              "      <td>45.0</td>\n",
              "      <td>intermediate_offline</td>\n",
              "      <td>2</td>\n",
              "      <td>F</td>\n",
              "      <td>3_Matriculation</td>\n",
              "      <td>N</td>\n",
              "      <td>2.0</td>\n",
              "    </tr>\n",
              "  </tbody>\n",
              "</table>\n",
              "</div>"
            ],
            "text/plain": [
              "          id program_id  ...  is_handicapped  trainee_engagement_rating\n",
              "0    1626_45        T_1  ...               N                        4.0\n",
              "1  11020_130        Y_3  ...               N                        4.0\n",
              "2  12652_146        Y_2  ...               N                        3.0\n",
              "3    7038_72        V_4  ...               N                        2.0\n",
              "4     888_71        V_4  ...               N                        2.0\n",
              "\n",
              "[5 rows x 12 columns]"
            ]
          },
          "metadata": {
            "tags": []
          },
          "execution_count": 290
        }
      ]
    },
    {
      "cell_type": "code",
      "metadata": {
        "colab_type": "code",
        "id": "Zfhtl_ki5IBT",
        "colab": {}
      },
      "source": [
        "le = LabelEncoderExt()\n",
        "le.fit(train_analysis_pycaret['program_id'])\n",
        "train_analysis_pycaret['program_id'] = le.transform(train_analysis_pycaret['program_id'])\n",
        "test_analysis_pycaret['program_id'] = le.transform(test_analysis_pycaret['program_id'])\n",
        "\n",
        "# le = LabelEncoderExt()\n",
        "# le.fit(train_analysis_pycaret['program_type'])\n",
        "# train_analysis_pycaret['program_type'] = le.transform(train_analysis_pycaret['program_type'])\n",
        "# test_analysis_pycaret['program_type'] = le.transform(test_analysis_pycaret['program_type'])\n",
        "\n",
        "le = LabelEncoderExt()\n",
        "le.fit(train_analysis_pycaret['difficulty_test_type'])\n",
        "train_analysis_pycaret['difficulty_test_type'] = le.transform(train_analysis_pycaret['difficulty_test_type'])\n",
        "test_analysis_pycaret['difficulty_test_type'] = le.transform(test_analysis_pycaret['difficulty_test_type'])\n",
        "\n",
        "# le = LabelEncoderExt()\n",
        "# le.fit(train_analysis_pycaret['difficulty_level'])\n",
        "# train_analysis_pycaret['difficulty_level'] = le.transform(train_analysis_pycaret['difficulty_level'])\n",
        "# test_analysis_pycaret['difficulty_level'] = le.transform(test_analysis_pycaret['difficulty_level'])\n",
        "\n",
        "# le = LabelEncoderExt()\n",
        "# le.fit(train_analysis_pycaret['test_type'])\n",
        "# train_analysis_pycaret['test_type'] = le.transform(train_analysis_pycaret['test_type'])\n",
        "# test_analysis_pycaret['test_type'] = le.transform(test_analysis_pycaret['test_type'])\n",
        "# le = LabelEncoderExt()\n",
        "# le.fit(train_analysis_pycaret['engagement_rating_feature'])\n",
        "# train_analysis_pycaret['engagement_rating_feature'] = le.transform(train_analysis_pycaret['engagement_rating_feature'])\n",
        "# test_analysis_pycaret['engagement_rating_feature'] = le.transform(test_analysis_pycaret['engagement_rating_feature'])\n",
        "\n",
        "le = LabelEncoderExt()\n",
        "le.fit(train_analysis_pycaret['program_duration_cat'])\n",
        "train_analysis_pycaret['program_duration_cat'] = le.transform(train_analysis_pycaret['program_duration_cat'])\n",
        "test_analysis_pycaret['program_duration_cat'] = le.transform(test_analysis_pycaret['program_duration_cat'])\n",
        "\n",
        "# le = LabelEncoderExt()\n",
        "# le.fit(train_analysis_pycaret['total_programs_enrolled_cat'])\n",
        "# train_analysis_pycaret['total_programs_enrolled_cat'] = le.transform(train_analysis_pycaret['total_programs_enrolled_cat'])\n",
        "# test_analysis_pycaret['total_programs_enrolled_cat'] = le.transform(test_analysis_pycaret['total_programs_enrolled_cat'])\n",
        "\n",
        "le = LabelEncoderExt()\n",
        "le.fit(train_analysis_pycaret['gender'])\n",
        "train_analysis_pycaret['gender'] = le.transform(train_analysis_pycaret['gender'])\n",
        "test_analysis_pycaret['gender'] = le.transform(test_analysis_pycaret['gender'])\n",
        "\n",
        "le = LabelEncoderExt()\n",
        "le.fit(train_analysis_pycaret['education_tier'])\n",
        "train_analysis_pycaret['education_tier'] = le.transform(train_analysis_pycaret['education_tier'])\n",
        "test_analysis_pycaret['education_tier'] = le.transform(test_analysis_pycaret['education_tier'])\n",
        "\n",
        "le = LabelEncoderExt()\n",
        "le.fit(train_analysis_pycaret['is_handicapped'])\n",
        "train_analysis_pycaret['is_handicapped'] = le.transform(train_analysis_pycaret['is_handicapped'])\n",
        "test_analysis_pycaret['is_handicapped'] = le.transform(test_analysis_pycaret['is_handicapped'])"
      ],
      "execution_count": 0,
      "outputs": []
    },
    {
      "cell_type": "code",
      "metadata": {
        "colab_type": "code",
        "id": "AFfy50Wh5IBb",
        "colab": {}
      },
      "source": [
        "## Since pycaret directly takes data as categorical we will convert the data type to float"
      ],
      "execution_count": 0,
      "outputs": []
    },
    {
      "cell_type": "code",
      "metadata": {
        "id": "DQDX-6OWE9Le",
        "colab_type": "code",
        "outputId": "b1971600-ce13-4d26-fd0b-83dfd21cfecc",
        "colab": {
          "base_uri": "https://localhost:8080/",
          "height": 101
        }
      },
      "source": [
        "train_analysis_pycaret['program_duration_cat'].value_counts()"
      ],
      "execution_count": 0,
      "outputs": [
        {
          "output_type": "execute_result",
          "data": {
            "text/plain": [
              "0    23075\n",
              "2    17032\n",
              "3    16604\n",
              "4    16436\n",
              "Name: program_duration_cat, dtype: int64"
            ]
          },
          "metadata": {
            "tags": []
          },
          "execution_count": 293
        }
      ]
    },
    {
      "cell_type": "code",
      "metadata": {
        "id": "1OuaI6nqFz1w",
        "colab_type": "code",
        "colab": {}
      },
      "source": [
        "train_analysis_pycaret.loc[train_analysis_pycaret['program_duration_cat'] == \"Minimum duration\",\"program_cat_label\"] = 1\n",
        "train_analysis_pycaret.loc[train_analysis_pycaret['program_duration_cat'] == \"medium1 duration\",\"program_cat_label\"] = 2\n",
        "train_analysis_pycaret.loc[train_analysis_pycaret['program_duration_cat'] == \"medium2 duration\",\"program_cat_label\"] = 3\n",
        "train_analysis_pycaret.loc[train_analysis_pycaret['program_duration_cat'] == \"max duration\",\"program_cat_label\"] = 4\n",
        "\n",
        "test_analysis_pycaret.loc[test_analysis_pycaret['program_duration_cat'] == \"Minimum duration\",\"program_cat_label\"] = 1\n",
        "test_analysis_pycaret.loc[test_analysis_pycaret['program_duration_cat'] == \"medium1 duration\",\"program_cat_label\"] = 2\n",
        "test_analysis_pycaret.loc[test_analysis_pycaret['program_duration_cat'] == \"medium2 duration\",\"program_cat_label\"] = 3\n",
        "test_analysis_pycaret.loc[test_analysis_pycaret['program_duration_cat'] == \"max duration\",\"program_cat_label\"] = 4"
      ],
      "execution_count": 0,
      "outputs": []
    },
    {
      "cell_type": "code",
      "metadata": {
        "id": "pgoLdWAJGqH3",
        "colab_type": "code",
        "colab": {}
      },
      "source": [
        "tier = train_analysis_pycaret['education_tier'].unique()"
      ],
      "execution_count": 0,
      "outputs": []
    },
    {
      "cell_type": "code",
      "metadata": {
        "id": "CGPXZNorHidp",
        "colab_type": "code",
        "colab": {}
      },
      "source": [
        "mydict = {}\n",
        "for t in tier:\n",
        "  mydict[t] = 0"
      ],
      "execution_count": 0,
      "outputs": []
    },
    {
      "cell_type": "code",
      "metadata": {
        "id": "qAvUsbNdJEwZ",
        "colab_type": "code",
        "outputId": "dc590950-236d-49b3-b8b0-68924758b4a5",
        "colab": {
          "base_uri": "https://localhost:8080/",
          "height": 336
        }
      },
      "source": [
        "mydict"
      ],
      "execution_count": 0,
      "outputs": [
        {
          "output_type": "execute_result",
          "data": {
            "text/plain": [
              "{'1_Bachelors': 0,\n",
              " '1_High School Diploma': 0,\n",
              " '1_Masters': 0,\n",
              " '1_Matriculation': 0,\n",
              " '1_No Qualification': 4,\n",
              " '2_Bachelors': 0,\n",
              " '2_High School Diploma': 0,\n",
              " '2_Masters': 0,\n",
              " '2_Matriculation': 0,\n",
              " '2_No Qualification': 3,\n",
              " '3_Bachelors': 0,\n",
              " '3_High School Diploma': 0,\n",
              " '3_Masters': 0,\n",
              " '3_Matriculation': 0,\n",
              " '3_No Qualification': 2,\n",
              " '4_Bachelors': 0,\n",
              " '4_High School Diploma': 0,\n",
              " '4_Matriculation': 0,\n",
              " '4_No Qualification': 1}"
            ]
          },
          "metadata": {
            "tags": []
          },
          "execution_count": 413
        }
      ]
    },
    {
      "cell_type": "code",
      "metadata": {
        "id": "NXhj1RvhIfL3",
        "colab_type": "code",
        "colab": {}
      },
      "source": [
        "mydict['4_No Qualification'] = 1\n",
        "mydict['3_No Qualification'] = 2\n",
        "mydict['2_No Qualification'] = 3\n",
        "mydict['1_No Qualification'] = 4\n",
        "\n",
        "mydict['4_Matriculation'] = 5\n",
        "mydict['3_Matriculation'] = 6\n",
        "mydict['2_Matriculation'] = 7\n",
        "mydict['1_Matriculation'] = 8\n",
        "\n",
        "mydict['4_High School Diploma'] = 9\n",
        "mydict['3_High School Diploma'] = 10\n",
        "mydict['2_High School Diploma'] = 11\n",
        "mydict['1_High School Diploma'] = 12\n",
        "\n",
        "mydict['4_Bachelors'] = 13\n",
        "mydict['4_Bachelors'] = 14\n",
        "mydict['4_Bachelors'] = 15\n",
        "mydict['4_Bachelors'] = 16\n",
        "\n",
        "mydict['4_Masters'] = 17\n",
        "mydict['4_Masters'] = 18\n",
        "mydict['4_Masters'] = 19\n",
        "mydict['4_Masters'] = 20"
      ],
      "execution_count": 0,
      "outputs": []
    },
    {
      "cell_type": "code",
      "metadata": {
        "id": "YGrPa96kJpWr",
        "colab_type": "code",
        "colab": {}
      },
      "source": [
        "train_analysis_pycaret['education_tier_cat'] = train_analysis_pycaret['education_tier'].map(mydict)\n",
        "test_analysis_pycaret['education_tier_cat'] = test_analysis_pycaret['education_tier'].map(mydict)"
      ],
      "execution_count": 0,
      "outputs": []
    },
    {
      "cell_type": "code",
      "metadata": {
        "id": "HoTkkO6MJ1Wk",
        "colab_type": "code",
        "outputId": "4357273e-70e7-4814-d484-7399642a8c2d",
        "colab": {
          "base_uri": "https://localhost:8080/",
          "height": 215
        }
      },
      "source": [
        "train_analysis_pycaret.head()"
      ],
      "execution_count": 0,
      "outputs": [
        {
          "output_type": "execute_result",
          "data": {
            "text/html": [
              "<div>\n",
              "<style scoped>\n",
              "    .dataframe tbody tr th:only-of-type {\n",
              "        vertical-align: middle;\n",
              "    }\n",
              "\n",
              "    .dataframe tbody tr th {\n",
              "        vertical-align: top;\n",
              "    }\n",
              "\n",
              "    .dataframe thead th {\n",
              "        text-align: right;\n",
              "    }\n",
              "</style>\n",
              "<table border=\"1\" class=\"dataframe\">\n",
              "  <thead>\n",
              "    <tr style=\"text-align: right;\">\n",
              "      <th></th>\n",
              "      <th>id</th>\n",
              "      <th>program_id</th>\n",
              "      <th>test_id</th>\n",
              "      <th>trainee_id</th>\n",
              "      <th>program_duration_cat</th>\n",
              "      <th>age</th>\n",
              "      <th>difficulty_test_type</th>\n",
              "      <th>total_programs_enrolled</th>\n",
              "      <th>gender</th>\n",
              "      <th>education_tier</th>\n",
              "      <th>is_handicapped</th>\n",
              "      <th>trainee_engagement_rating</th>\n",
              "      <th>is_pass</th>\n",
              "    </tr>\n",
              "  </thead>\n",
              "  <tbody>\n",
              "    <tr>\n",
              "      <th>0</th>\n",
              "      <td>9389_150</td>\n",
              "      <td>16</td>\n",
              "      <td>150</td>\n",
              "      <td>9389</td>\n",
              "      <td>2</td>\n",
              "      <td>24.0</td>\n",
              "      <td>4</td>\n",
              "      <td>5</td>\n",
              "      <td>1</td>\n",
              "      <td>13</td>\n",
              "      <td>0</td>\n",
              "      <td>1.0</td>\n",
              "      <td>0</td>\n",
              "    </tr>\n",
              "    <tr>\n",
              "      <th>1</th>\n",
              "      <td>16523_44</td>\n",
              "      <td>2</td>\n",
              "      <td>44</td>\n",
              "      <td>16523</td>\n",
              "      <td>3</td>\n",
              "      <td>26.0</td>\n",
              "      <td>1</td>\n",
              "      <td>2</td>\n",
              "      <td>0</td>\n",
              "      <td>16</td>\n",
              "      <td>0</td>\n",
              "      <td>3.0</td>\n",
              "      <td>1</td>\n",
              "    </tr>\n",
              "    <tr>\n",
              "      <th>2</th>\n",
              "      <td>13987_178</td>\n",
              "      <td>21</td>\n",
              "      <td>178</td>\n",
              "      <td>13987</td>\n",
              "      <td>0</td>\n",
              "      <td>40.0</td>\n",
              "      <td>2</td>\n",
              "      <td>1</td>\n",
              "      <td>1</td>\n",
              "      <td>3</td>\n",
              "      <td>0</td>\n",
              "      <td>2.0</td>\n",
              "      <td>1</td>\n",
              "    </tr>\n",
              "    <tr>\n",
              "      <th>3</th>\n",
              "      <td>13158_32</td>\n",
              "      <td>3</td>\n",
              "      <td>32</td>\n",
              "      <td>13158</td>\n",
              "      <td>0</td>\n",
              "      <td>45.0</td>\n",
              "      <td>1</td>\n",
              "      <td>4</td>\n",
              "      <td>0</td>\n",
              "      <td>13</td>\n",
              "      <td>0</td>\n",
              "      <td>1.0</td>\n",
              "      <td>1</td>\n",
              "    </tr>\n",
              "    <tr>\n",
              "      <th>4</th>\n",
              "      <td>10591_84</td>\n",
              "      <td>11</td>\n",
              "      <td>84</td>\n",
              "      <td>10591</td>\n",
              "      <td>3</td>\n",
              "      <td>42.0</td>\n",
              "      <td>4</td>\n",
              "      <td>2</td>\n",
              "      <td>0</td>\n",
              "      <td>1</td>\n",
              "      <td>0</td>\n",
              "      <td>4.0</td>\n",
              "      <td>1</td>\n",
              "    </tr>\n",
              "  </tbody>\n",
              "</table>\n",
              "</div>"
            ],
            "text/plain": [
              "          id  program_id  ...  trainee_engagement_rating  is_pass\n",
              "0   9389_150          16  ...                        1.0        0\n",
              "1   16523_44           2  ...                        3.0        1\n",
              "2  13987_178          21  ...                        2.0        1\n",
              "3   13158_32           3  ...                        1.0        1\n",
              "4   10591_84          11  ...                        4.0        1\n",
              "\n",
              "[5 rows x 13 columns]"
            ]
          },
          "metadata": {
            "tags": []
          },
          "execution_count": 294
        }
      ]
    },
    {
      "cell_type": "code",
      "metadata": {
        "colab_type": "code",
        "id": "ZhM8QC-w5IBj",
        "colab": {}
      },
      "source": [
        "# def resample_data(train_analysis_pycaret):\n",
        "#   df_majority = train_analysis_pycaret[train_analysis_pycaret.is_pass==1]\n",
        "#   df_minority = train_analysis_pycaret[train_analysis_pycaret.is_pass==0]\n",
        " \n",
        "#   # Upsample minority class\n",
        "#   df_minority_upsampled = resample(df_minority, \n",
        "#                                    replace=True,     # sample with replacement\n",
        "#                                    n_samples=50867,    # to match majority class\n",
        "#                                    random_state=88) # reproducible results\n",
        " \n",
        "#   # Combine majority class with upsampled minority class\n",
        "#   train_analysis_pycaret_sampled = pd.concat([df_majority, df_minority_upsampled])\n",
        "#   return train_analysis_pycaret_sampled"
      ],
      "execution_count": 0,
      "outputs": []
    },
    {
      "cell_type": "code",
      "metadata": {
        "colab_type": "code",
        "id": "cMu6rjEo5IBt",
        "colab": {}
      },
      "source": [
        "# train_analysis_pycaret_sampled = resample_data(train_analysis_pycaret)"
      ],
      "execution_count": 0,
      "outputs": []
    },
    {
      "cell_type": "code",
      "metadata": {
        "id": "sXRY7Gt9Uezs",
        "colab_type": "code",
        "colab": {}
      },
      "source": [
        "train_analysis_pycaret_sampled = train_analysis_pycaret"
      ],
      "execution_count": 0,
      "outputs": []
    },
    {
      "cell_type": "code",
      "metadata": {
        "colab_type": "code",
        "outputId": "5a2a3ef9-fed7-4fbc-baf3-5d730de98118",
        "id": "6KbLiS4h5IB7",
        "colab": {
          "base_uri": "https://localhost:8080/",
          "height": 67
        }
      },
      "source": [
        "train_analysis_pycaret_sampled['is_pass'].value_counts()"
      ],
      "execution_count": 0,
      "outputs": [
        {
          "output_type": "execute_result",
          "data": {
            "text/plain": [
              "1    50867\n",
              "0    22280\n",
              "Name: is_pass, dtype: int64"
            ]
          },
          "metadata": {
            "tags": []
          },
          "execution_count": 297
        }
      ]
    },
    {
      "cell_type": "code",
      "metadata": {
        "colab_type": "code",
        "id": "P0J3OW_k5ICF",
        "colab": {}
      },
      "source": [
        "# train_analysis_pycaret_sampled['program_duration'] = train_analysis_pycaret_sampled['program_duration'].astype(float)\n",
        "# test_main_pycaret['program_duration'] = test_main_pycaret['program_duration'].astype(float)\n",
        "train_analysis_pycaret_sampled['total_programs_enrolled'] = train_analysis_pycaret_sampled['total_programs_enrolled'].astype(float)\n",
        "test_main_pycaret['total_programs_enrolled'] = test_main_pycaret['total_programs_enrolled'].astype(float)"
      ],
      "execution_count": 0,
      "outputs": []
    },
    {
      "cell_type": "code",
      "metadata": {
        "id": "SrdySyRibA5M",
        "colab_type": "code",
        "outputId": "3746a9c2-1598-4c6e-a2d3-0eb1d6b1598a",
        "colab": {
          "base_uri": "https://localhost:8080/",
          "height": 34
        }
      },
      "source": [
        "one_hot_test.shape"
      ],
      "execution_count": 0,
      "outputs": [
        {
          "output_type": "execute_result",
          "data": {
            "text/plain": [
              "(31349, 17)"
            ]
          },
          "metadata": {
            "tags": []
          },
          "execution_count": 337
        }
      ]
    },
    {
      "cell_type": "code",
      "metadata": {
        "id": "4FJTdy4yDVXw",
        "colab_type": "code",
        "colab": {}
      },
      "source": [
        "one_hot_train = pd.get_dummies(train_analysis_pycaret_sampled,columns = ['trainee_engagement_rating'])\n",
        "one_hot_test = pd.get_dummies(test_analysis_pycaret,columns = ['trainee_engagement_rating'])"
      ],
      "execution_count": 0,
      "outputs": []
    },
    {
      "cell_type": "code",
      "metadata": {
        "id": "74YGLQvA6qHI",
        "colab_type": "code",
        "outputId": "ac0adace-e451-42e1-e819-f95f676475eb",
        "colab": {
          "base_uri": "https://localhost:8080/",
          "height": 215
        }
      },
      "source": [
        "one_hot_train.head()"
      ],
      "execution_count": 0,
      "outputs": [
        {
          "output_type": "execute_result",
          "data": {
            "text/html": [
              "<div>\n",
              "<style scoped>\n",
              "    .dataframe tbody tr th:only-of-type {\n",
              "        vertical-align: middle;\n",
              "    }\n",
              "\n",
              "    .dataframe tbody tr th {\n",
              "        vertical-align: top;\n",
              "    }\n",
              "\n",
              "    .dataframe thead th {\n",
              "        text-align: right;\n",
              "    }\n",
              "</style>\n",
              "<table border=\"1\" class=\"dataframe\">\n",
              "  <thead>\n",
              "    <tr style=\"text-align: right;\">\n",
              "      <th></th>\n",
              "      <th>id</th>\n",
              "      <th>program_id</th>\n",
              "      <th>test_id</th>\n",
              "      <th>trainee_id</th>\n",
              "      <th>program_duration_cat</th>\n",
              "      <th>age</th>\n",
              "      <th>difficulty_test_type</th>\n",
              "      <th>total_programs_enrolled</th>\n",
              "      <th>gender</th>\n",
              "      <th>education_tier</th>\n",
              "      <th>is_handicapped</th>\n",
              "      <th>is_pass</th>\n",
              "      <th>trainee_engagement_rating_1.0</th>\n",
              "      <th>trainee_engagement_rating_2.0</th>\n",
              "      <th>trainee_engagement_rating_3.0</th>\n",
              "      <th>trainee_engagement_rating_4.0</th>\n",
              "      <th>trainee_engagement_rating_5.0</th>\n",
              "    </tr>\n",
              "  </thead>\n",
              "  <tbody>\n",
              "    <tr>\n",
              "      <th>0</th>\n",
              "      <td>9389_150</td>\n",
              "      <td>16</td>\n",
              "      <td>150</td>\n",
              "      <td>9389</td>\n",
              "      <td>2</td>\n",
              "      <td>24.0</td>\n",
              "      <td>4</td>\n",
              "      <td>5.0</td>\n",
              "      <td>1</td>\n",
              "      <td>13</td>\n",
              "      <td>0</td>\n",
              "      <td>0</td>\n",
              "      <td>1</td>\n",
              "      <td>0</td>\n",
              "      <td>0</td>\n",
              "      <td>0</td>\n",
              "      <td>0</td>\n",
              "    </tr>\n",
              "    <tr>\n",
              "      <th>1</th>\n",
              "      <td>16523_44</td>\n",
              "      <td>2</td>\n",
              "      <td>44</td>\n",
              "      <td>16523</td>\n",
              "      <td>3</td>\n",
              "      <td>26.0</td>\n",
              "      <td>1</td>\n",
              "      <td>2.0</td>\n",
              "      <td>0</td>\n",
              "      <td>16</td>\n",
              "      <td>0</td>\n",
              "      <td>1</td>\n",
              "      <td>0</td>\n",
              "      <td>0</td>\n",
              "      <td>1</td>\n",
              "      <td>0</td>\n",
              "      <td>0</td>\n",
              "    </tr>\n",
              "    <tr>\n",
              "      <th>2</th>\n",
              "      <td>13987_178</td>\n",
              "      <td>21</td>\n",
              "      <td>178</td>\n",
              "      <td>13987</td>\n",
              "      <td>0</td>\n",
              "      <td>40.0</td>\n",
              "      <td>2</td>\n",
              "      <td>1.0</td>\n",
              "      <td>1</td>\n",
              "      <td>3</td>\n",
              "      <td>0</td>\n",
              "      <td>1</td>\n",
              "      <td>0</td>\n",
              "      <td>1</td>\n",
              "      <td>0</td>\n",
              "      <td>0</td>\n",
              "      <td>0</td>\n",
              "    </tr>\n",
              "    <tr>\n",
              "      <th>3</th>\n",
              "      <td>13158_32</td>\n",
              "      <td>3</td>\n",
              "      <td>32</td>\n",
              "      <td>13158</td>\n",
              "      <td>0</td>\n",
              "      <td>45.0</td>\n",
              "      <td>1</td>\n",
              "      <td>4.0</td>\n",
              "      <td>0</td>\n",
              "      <td>13</td>\n",
              "      <td>0</td>\n",
              "      <td>1</td>\n",
              "      <td>1</td>\n",
              "      <td>0</td>\n",
              "      <td>0</td>\n",
              "      <td>0</td>\n",
              "      <td>0</td>\n",
              "    </tr>\n",
              "    <tr>\n",
              "      <th>4</th>\n",
              "      <td>10591_84</td>\n",
              "      <td>11</td>\n",
              "      <td>84</td>\n",
              "      <td>10591</td>\n",
              "      <td>3</td>\n",
              "      <td>42.0</td>\n",
              "      <td>4</td>\n",
              "      <td>2.0</td>\n",
              "      <td>0</td>\n",
              "      <td>1</td>\n",
              "      <td>0</td>\n",
              "      <td>1</td>\n",
              "      <td>0</td>\n",
              "      <td>0</td>\n",
              "      <td>0</td>\n",
              "      <td>1</td>\n",
              "      <td>0</td>\n",
              "    </tr>\n",
              "  </tbody>\n",
              "</table>\n",
              "</div>"
            ],
            "text/plain": [
              "          id  ...  trainee_engagement_rating_5.0\n",
              "0   9389_150  ...                              0\n",
              "1   16523_44  ...                              0\n",
              "2  13987_178  ...                              0\n",
              "3   13158_32  ...                              0\n",
              "4   10591_84  ...                              0\n",
              "\n",
              "[5 rows x 17 columns]"
            ]
          },
          "metadata": {
            "tags": []
          },
          "execution_count": 450
        }
      ]
    },
    {
      "cell_type": "code",
      "metadata": {
        "colab_type": "code",
        "id": "rKXvNVA45ICi",
        "colab": {}
      },
      "source": [
        "et = ExtraTreesClassifier(criterion=\"entropy\",n_estimators=200,random_state=88)"
      ],
      "execution_count": 0,
      "outputs": []
    },
    {
      "cell_type": "code",
      "metadata": {
        "id": "5bHsYOk9a7Hj",
        "colab_type": "code",
        "outputId": "1ce38a51-3b15-4384-de73-0578fe0997fd",
        "colab": {
          "base_uri": "https://localhost:8080/",
          "height": 34
        }
      },
      "source": [
        "one_hot_train.shape"
      ],
      "execution_count": 0,
      "outputs": [
        {
          "output_type": "execute_result",
          "data": {
            "text/plain": [
              "(73147, 17)"
            ]
          },
          "metadata": {
            "tags": []
          },
          "execution_count": 452
        }
      ]
    },
    {
      "cell_type": "code",
      "metadata": {
        "colab_type": "code",
        "id": "gwlCJqnV5ICq",
        "colab": {}
      },
      "source": [
        "X = one_hot_train.drop(columns=[\"is_pass\"])\n",
        "y = one_hot_train['is_pass']"
      ],
      "execution_count": 0,
      "outputs": []
    },
    {
      "cell_type": "code",
      "metadata": {
        "id": "4r_-zSstVA46",
        "colab_type": "code",
        "colab": {}
      },
      "source": [
        "from imblearn.over_sampling import SMOTE\n",
        "sm = SMOTE(random_state=88,k_neighbors=10)\n",
        "X,y = sm.fit_sample(X,y)"
      ],
      "execution_count": 0,
      "outputs": []
    },
    {
      "cell_type": "code",
      "metadata": {
        "colab_type": "code",
        "id": "x6ar9Nt55IC1",
        "colab": {}
      },
      "source": [
        "# X = train_analysis_pycaret_sampled.drop(columns=\"is_pass\")\n",
        "# y = train_analysis_pycaret_sampled['is_pass']"
      ],
      "execution_count": 0,
      "outputs": []
    },
    {
      "cell_type": "code",
      "metadata": {
        "colab_type": "code",
        "id": "49sGgTOx5IC9",
        "colab": {}
      },
      "source": [
        "x_train, x_valid, y_train, y_valid = train_test_split(X, y, \n",
        "                                                      random_state=88,test_size=0.20, stratify=y)"
      ],
      "execution_count": 0,
      "outputs": []
    },
    {
      "cell_type": "code",
      "metadata": {
        "colab_type": "code",
        "outputId": "653701f2-ce80-49a9-b6ff-ab93105378b8",
        "id": "cy8u-3955IDF",
        "colab": {
          "base_uri": "https://localhost:8080/",
          "height": 34
        }
      },
      "source": [
        "x_train.shape"
      ],
      "execution_count": 0,
      "outputs": [
        {
          "output_type": "execute_result",
          "data": {
            "text/plain": [
              "(81387, 16)"
            ]
          },
          "metadata": {
            "tags": []
          },
          "execution_count": 347
        }
      ]
    },
    {
      "cell_type": "code",
      "metadata": {
        "colab_type": "code",
        "outputId": "210e3389-417b-47b9-f1c3-7d65094c1a24",
        "id": "yVb9eXR15IDM",
        "colab": {
          "base_uri": "https://localhost:8080/",
          "height": 34
        }
      },
      "source": [
        "X.shape"
      ],
      "execution_count": 0,
      "outputs": [
        {
          "output_type": "execute_result",
          "data": {
            "text/plain": [
              "(101734, 16)"
            ]
          },
          "metadata": {
            "tags": []
          },
          "execution_count": 348
        }
      ]
    },
    {
      "cell_type": "code",
      "metadata": {
        "colab_type": "code",
        "outputId": "32afdc6f-6135-4921-8058-6b376c338855",
        "id": "DabGgSBE5IDV",
        "colab": {
          "base_uri": "https://localhost:8080/",
          "height": 151
        }
      },
      "source": [
        "et.fit(x_train,y_train)"
      ],
      "execution_count": 0,
      "outputs": [
        {
          "output_type": "execute_result",
          "data": {
            "text/plain": [
              "ExtraTreesClassifier(bootstrap=False, ccp_alpha=0.0, class_weight=None,\n",
              "                     criterion='entropy', max_depth=None, max_features='auto',\n",
              "                     max_leaf_nodes=None, max_samples=None,\n",
              "                     min_impurity_decrease=0.0, min_impurity_split=None,\n",
              "                     min_samples_leaf=1, min_samples_split=2,\n",
              "                     min_weight_fraction_leaf=0.0, n_estimators=200,\n",
              "                     n_jobs=None, oob_score=False, random_state=88, verbose=0,\n",
              "                     warm_start=False)"
            ]
          },
          "metadata": {
            "tags": []
          },
          "execution_count": 349
        }
      ]
    },
    {
      "cell_type": "code",
      "metadata": {
        "colab_type": "code",
        "id": "MdN83WZI5IDc",
        "colab": {}
      },
      "source": [
        "y_pred_valid = et.predict(x_valid)"
      ],
      "execution_count": 0,
      "outputs": []
    },
    {
      "cell_type": "code",
      "metadata": {
        "colab_type": "code",
        "outputId": "9df30cf3-3859-4426-8945-625251877cbb",
        "id": "tQTlMqX-5IDn",
        "colab": {
          "base_uri": "https://localhost:8080/",
          "height": 302
        }
      },
      "source": [
        "evaluate_model(y_valid,y_pred_valid)"
      ],
      "execution_count": 0,
      "outputs": [
        {
          "output_type": "stream",
          "text": [
            "confusion matrix\n",
            "True          0     1\n",
            "Predicted            \n",
            "0          8074  1640\n",
            "1          2100  8533\n",
            "classification report\n",
            "              precision    recall  f1-score   support\n",
            "\n",
            "           0       0.83      0.79      0.81     10174\n",
            "           1       0.80      0.84      0.82     10173\n",
            "\n",
            "    accuracy                           0.82     20347\n",
            "   macro avg       0.82      0.82      0.82     20347\n",
            "weighted avg       0.82      0.82      0.82     20347\n",
            "\n",
            "accuracy score\n",
            "0.8161891187890107\n"
          ],
          "name": "stdout"
        }
      ]
    },
    {
      "cell_type": "code",
      "metadata": {
        "colab_type": "code",
        "id": "LjVhF2UX7x27",
        "colab": {}
      },
      "source": [
        "X_test = one_hot_test"
      ],
      "execution_count": 0,
      "outputs": []
    },
    {
      "cell_type": "code",
      "metadata": {
        "id": "TxCA8Z4Mays1",
        "colab_type": "code",
        "outputId": "161ce409-ff57-4e0e-9510-a87b55283244",
        "colab": {
          "base_uri": "https://localhost:8080/",
          "height": 34
        }
      },
      "source": [
        "X_test.shape"
      ],
      "execution_count": 0,
      "outputs": [
        {
          "output_type": "execute_result",
          "data": {
            "text/plain": [
              "(31349, 16)"
            ]
          },
          "metadata": {
            "tags": []
          },
          "execution_count": 353
        }
      ]
    },
    {
      "cell_type": "code",
      "metadata": {
        "colab_type": "code",
        "id": "vYY2C8RF7x3I",
        "colab": {}
      },
      "source": [
        "y_test = et.predict(X_test)"
      ],
      "execution_count": 0,
      "outputs": []
    },
    {
      "cell_type": "code",
      "metadata": {
        "id": "rLesjPS8_wwp",
        "colab_type": "code",
        "outputId": "0ea5de3b-6734-482f-ed58-5f118ec33ea7",
        "colab": {
          "base_uri": "https://localhost:8080/",
          "height": 215
        }
      },
      "source": [
        "X_test.head()"
      ],
      "execution_count": 0,
      "outputs": [
        {
          "output_type": "execute_result",
          "data": {
            "text/html": [
              "<div>\n",
              "<style scoped>\n",
              "    .dataframe tbody tr th:only-of-type {\n",
              "        vertical-align: middle;\n",
              "    }\n",
              "\n",
              "    .dataframe tbody tr th {\n",
              "        vertical-align: top;\n",
              "    }\n",
              "\n",
              "    .dataframe thead th {\n",
              "        text-align: right;\n",
              "    }\n",
              "</style>\n",
              "<table border=\"1\" class=\"dataframe\">\n",
              "  <thead>\n",
              "    <tr style=\"text-align: right;\">\n",
              "      <th></th>\n",
              "      <th>id</th>\n",
              "      <th>program_id</th>\n",
              "      <th>test_id</th>\n",
              "      <th>trainee_id</th>\n",
              "      <th>program_duration_cat</th>\n",
              "      <th>age</th>\n",
              "      <th>difficulty_test_type</th>\n",
              "      <th>total_programs_enrolled</th>\n",
              "      <th>gender</th>\n",
              "      <th>education_tier</th>\n",
              "      <th>is_handicapped</th>\n",
              "      <th>trainee_engagement_rating_1.0</th>\n",
              "      <th>trainee_engagement_rating_2.0</th>\n",
              "      <th>trainee_engagement_rating_3.0</th>\n",
              "      <th>trainee_engagement_rating_4.0</th>\n",
              "      <th>trainee_engagement_rating_5.0</th>\n",
              "    </tr>\n",
              "  </thead>\n",
              "  <tbody>\n",
              "    <tr>\n",
              "      <th>0</th>\n",
              "      <td>1626_45</td>\n",
              "      <td>2</td>\n",
              "      <td>45</td>\n",
              "      <td>1626</td>\n",
              "      <td>3</td>\n",
              "      <td>46.0</td>\n",
              "      <td>4</td>\n",
              "      <td>2</td>\n",
              "      <td>0</td>\n",
              "      <td>13</td>\n",
              "      <td>0</td>\n",
              "      <td>0</td>\n",
              "      <td>0</td>\n",
              "      <td>0</td>\n",
              "      <td>1</td>\n",
              "      <td>0</td>\n",
              "    </tr>\n",
              "    <tr>\n",
              "      <th>1</th>\n",
              "      <td>11020_130</td>\n",
              "      <td>18</td>\n",
              "      <td>130</td>\n",
              "      <td>11020</td>\n",
              "      <td>2</td>\n",
              "      <td>45.0</td>\n",
              "      <td>2</td>\n",
              "      <td>4</td>\n",
              "      <td>1</td>\n",
              "      <td>10</td>\n",
              "      <td>0</td>\n",
              "      <td>0</td>\n",
              "      <td>0</td>\n",
              "      <td>0</td>\n",
              "      <td>1</td>\n",
              "      <td>0</td>\n",
              "    </tr>\n",
              "    <tr>\n",
              "      <th>2</th>\n",
              "      <td>12652_146</td>\n",
              "      <td>17</td>\n",
              "      <td>146</td>\n",
              "      <td>12652</td>\n",
              "      <td>0</td>\n",
              "      <td>45.0</td>\n",
              "      <td>2</td>\n",
              "      <td>2</td>\n",
              "      <td>1</td>\n",
              "      <td>13</td>\n",
              "      <td>0</td>\n",
              "      <td>0</td>\n",
              "      <td>0</td>\n",
              "      <td>1</td>\n",
              "      <td>0</td>\n",
              "      <td>0</td>\n",
              "    </tr>\n",
              "    <tr>\n",
              "      <th>3</th>\n",
              "      <td>7038_72</td>\n",
              "      <td>12</td>\n",
              "      <td>72</td>\n",
              "      <td>7038</td>\n",
              "      <td>3</td>\n",
              "      <td>45.0</td>\n",
              "      <td>5</td>\n",
              "      <td>2</td>\n",
              "      <td>0</td>\n",
              "      <td>1</td>\n",
              "      <td>0</td>\n",
              "      <td>0</td>\n",
              "      <td>1</td>\n",
              "      <td>0</td>\n",
              "      <td>0</td>\n",
              "      <td>0</td>\n",
              "    </tr>\n",
              "    <tr>\n",
              "      <th>4</th>\n",
              "      <td>888_71</td>\n",
              "      <td>12</td>\n",
              "      <td>71</td>\n",
              "      <td>888</td>\n",
              "      <td>3</td>\n",
              "      <td>45.0</td>\n",
              "      <td>4</td>\n",
              "      <td>2</td>\n",
              "      <td>0</td>\n",
              "      <td>13</td>\n",
              "      <td>0</td>\n",
              "      <td>0</td>\n",
              "      <td>1</td>\n",
              "      <td>0</td>\n",
              "      <td>0</td>\n",
              "      <td>0</td>\n",
              "    </tr>\n",
              "  </tbody>\n",
              "</table>\n",
              "</div>"
            ],
            "text/plain": [
              "          id  ...  trainee_engagement_rating_5.0\n",
              "0    1626_45  ...                              0\n",
              "1  11020_130  ...                              0\n",
              "2  12652_146  ...                              0\n",
              "3    7038_72  ...                              0\n",
              "4     888_71  ...                              0\n",
              "\n",
              "[5 rows x 16 columns]"
            ]
          },
          "metadata": {
            "tags": []
          },
          "execution_count": 355
        }
      ]
    },
    {
      "cell_type": "code",
      "metadata": {
        "colab_type": "code",
        "outputId": "d08c2b84-a763-420a-ea79-8873099d13ad",
        "id": "cOIDEuKm7x3P",
        "colab": {
          "base_uri": "https://localhost:8080/",
          "height": 34
        }
      },
      "source": [
        "x_train.shape"
      ],
      "execution_count": 0,
      "outputs": [
        {
          "output_type": "execute_result",
          "data": {
            "text/plain": [
              "(81387, 16)"
            ]
          },
          "metadata": {
            "tags": []
          },
          "execution_count": 356
        }
      ]
    },
    {
      "cell_type": "code",
      "metadata": {
        "colab_type": "code",
        "outputId": "f59f8539-b3f9-4ea4-c807-7663e7f63cde",
        "id": "d_lQ6YOu7x3e",
        "colab": {
          "base_uri": "https://localhost:8080/",
          "height": 84
        }
      },
      "source": [
        "et.feature_importances_"
      ],
      "execution_count": 0,
      "outputs": [
        {
          "output_type": "execute_result",
          "data": {
            "text/plain": [
              "array([0.15279608, 0.03420719, 0.12122459, 0.11123241, 0.04291795,\n",
              "       0.08045111, 0.07596658, 0.04921231, 0.04330101, 0.08317808,\n",
              "       0.01775038, 0.07232117, 0.03709961, 0.02663708, 0.03354625,\n",
              "       0.01815822])"
            ]
          },
          "metadata": {
            "tags": []
          },
          "execution_count": 357
        }
      ]
    },
    {
      "cell_type": "code",
      "metadata": {
        "colab_type": "code",
        "id": "TFiUj-iB7x3n",
        "colab": {}
      },
      "source": [
        "ispass_df = pd.DataFrame(y_test,columns = [\"is_pass\"])"
      ],
      "execution_count": 0,
      "outputs": []
    },
    {
      "cell_type": "code",
      "metadata": {
        "id": "Z9wcXeILAcwP",
        "colab_type": "code",
        "colab": {}
      },
      "source": [
        "X_test.reset_index(inplace=True)\n",
        "ispass_df.reset_index(inplace=True)"
      ],
      "execution_count": 0,
      "outputs": []
    },
    {
      "cell_type": "code",
      "metadata": {
        "id": "Xm8qmNMfAAfv",
        "colab_type": "code",
        "colab": {}
      },
      "source": [
        "submission_index = pd.merge(X_test,ispass_df,how=\"inner\",on=\"index\")[['id','is_pass']]\n",
        "submission_index.to_csv(\"submission_extra_tree_v9.csv\",index=False)"
      ],
      "execution_count": 0,
      "outputs": []
    },
    {
      "cell_type": "code",
      "metadata": {
        "id": "di_U4wDfMu2_",
        "colab_type": "code",
        "outputId": "7509d154-44fd-45f3-9537-3e9a7f9aaea3",
        "colab": {
          "base_uri": "https://localhost:8080/",
          "height": 34
        }
      },
      "source": [
        "X_test.shape"
      ],
      "execution_count": 0,
      "outputs": [
        {
          "output_type": "execute_result",
          "data": {
            "text/plain": [
              "(31349, 17)"
            ]
          },
          "metadata": {
            "tags": []
          },
          "execution_count": 363
        }
      ]
    },
    {
      "cell_type": "code",
      "metadata": {
        "id": "zF0sifMNOJ90",
        "colab_type": "code",
        "colab": {}
      },
      "source": [
        "from sklearn.ensemble import RandomForestClassifier"
      ],
      "execution_count": 0,
      "outputs": []
    },
    {
      "cell_type": "code",
      "metadata": {
        "id": "eCEXBvYxOXcx",
        "colab_type": "code",
        "colab": {}
      },
      "source": [
        "rf = RandomForestClassifier(n_estimators=300,criterion='entropy',random_state=88)"
      ],
      "execution_count": 0,
      "outputs": []
    },
    {
      "cell_type": "code",
      "metadata": {
        "id": "EP1w-Qz9Oie0",
        "colab_type": "code",
        "outputId": "faa4ca84-c0cd-4add-fab0-0487f44519eb",
        "colab": {
          "base_uri": "https://localhost:8080/",
          "height": 151
        }
      },
      "source": [
        "rf.fit(X,y)"
      ],
      "execution_count": 0,
      "outputs": [
        {
          "output_type": "execute_result",
          "data": {
            "text/plain": [
              "RandomForestClassifier(bootstrap=True, ccp_alpha=0.0, class_weight=None,\n",
              "                       criterion='entropy', max_depth=None, max_features='auto',\n",
              "                       max_leaf_nodes=None, max_samples=None,\n",
              "                       min_impurity_decrease=0.0, min_impurity_split=None,\n",
              "                       min_samples_leaf=1, min_samples_split=2,\n",
              "                       min_weight_fraction_leaf=0.0, n_estimators=300,\n",
              "                       n_jobs=None, oob_score=False, random_state=88, verbose=0,\n",
              "                       warm_start=False)"
            ]
          },
          "metadata": {
            "tags": []
          },
          "execution_count": 459
        }
      ]
    },
    {
      "cell_type": "code",
      "metadata": {
        "id": "La4XQZ_wO404",
        "colab_type": "code",
        "colab": {}
      },
      "source": [
        ""
      ],
      "execution_count": 0,
      "outputs": []
    },
    {
      "cell_type": "code",
      "metadata": {
        "colab_type": "code",
        "id": "eh_cbZa_PBwI",
        "colab": {}
      },
      "source": [
        "y_pred_valid = rf.predict(x_valid)"
      ],
      "execution_count": 0,
      "outputs": []
    },
    {
      "cell_type": "code",
      "metadata": {
        "colab_type": "code",
        "outputId": "a67a7259-85d9-4731-9678-a1f40499674e",
        "id": "ZiOg7q2MPBwX",
        "colab": {
          "base_uri": "https://localhost:8080/",
          "height": 302
        }
      },
      "source": [
        "evaluate_model(y_valid,y_pred_valid)"
      ],
      "execution_count": 0,
      "outputs": [
        {
          "output_type": "stream",
          "text": [
            "confusion matrix\n",
            "True           0      1\n",
            "Predicted              \n",
            "0          10174      0\n",
            "1              0  10173\n",
            "classification report\n",
            "              precision    recall  f1-score   support\n",
            "\n",
            "           0       1.00      1.00      1.00     10174\n",
            "           1       1.00      1.00      1.00     10173\n",
            "\n",
            "    accuracy                           1.00     20347\n",
            "   macro avg       1.00      1.00      1.00     20347\n",
            "weighted avg       1.00      1.00      1.00     20347\n",
            "\n",
            "accuracy score\n",
            "1.0\n"
          ],
          "name": "stdout"
        }
      ]
    },
    {
      "cell_type": "code",
      "metadata": {
        "colab_type": "code",
        "id": "w0TOnwn4PBwg",
        "colab": {}
      },
      "source": [
        "X_test = one_hot_test"
      ],
      "execution_count": 0,
      "outputs": []
    },
    {
      "cell_type": "code",
      "metadata": {
        "colab_type": "code",
        "outputId": "56f2a2ab-af0d-44ae-b3a8-9950db4c2a8a",
        "id": "iTlnC1KEPBwr",
        "colab": {
          "base_uri": "https://localhost:8080/",
          "height": 34
        }
      },
      "source": [
        "X_test.shape"
      ],
      "execution_count": 0,
      "outputs": [
        {
          "output_type": "execute_result",
          "data": {
            "text/plain": [
              "(31349, 16)"
            ]
          },
          "metadata": {
            "tags": []
          },
          "execution_count": 463
        }
      ]
    },
    {
      "cell_type": "code",
      "metadata": {
        "colab_type": "code",
        "id": "tjTA2zngPBw0",
        "colab": {}
      },
      "source": [
        "y_test = rf.predict(X_test)"
      ],
      "execution_count": 0,
      "outputs": []
    },
    {
      "cell_type": "code",
      "metadata": {
        "colab_type": "code",
        "outputId": "2c60fbab-d3dc-44db-c5ac-67ecb370857e",
        "id": "VOMryUWkPBw7",
        "colab": {
          "base_uri": "https://localhost:8080/",
          "height": 215
        }
      },
      "source": [
        "X_test.head()"
      ],
      "execution_count": 0,
      "outputs": [
        {
          "output_type": "execute_result",
          "data": {
            "text/html": [
              "<div>\n",
              "<style scoped>\n",
              "    .dataframe tbody tr th:only-of-type {\n",
              "        vertical-align: middle;\n",
              "    }\n",
              "\n",
              "    .dataframe tbody tr th {\n",
              "        vertical-align: top;\n",
              "    }\n",
              "\n",
              "    .dataframe thead th {\n",
              "        text-align: right;\n",
              "    }\n",
              "</style>\n",
              "<table border=\"1\" class=\"dataframe\">\n",
              "  <thead>\n",
              "    <tr style=\"text-align: right;\">\n",
              "      <th></th>\n",
              "      <th>id</th>\n",
              "      <th>program_id</th>\n",
              "      <th>test_id</th>\n",
              "      <th>trainee_id</th>\n",
              "      <th>program_duration_cat</th>\n",
              "      <th>age</th>\n",
              "      <th>difficulty_test_type</th>\n",
              "      <th>total_programs_enrolled</th>\n",
              "      <th>gender</th>\n",
              "      <th>education_tier</th>\n",
              "      <th>is_handicapped</th>\n",
              "      <th>trainee_engagement_rating_1.0</th>\n",
              "      <th>trainee_engagement_rating_2.0</th>\n",
              "      <th>trainee_engagement_rating_3.0</th>\n",
              "      <th>trainee_engagement_rating_4.0</th>\n",
              "      <th>trainee_engagement_rating_5.0</th>\n",
              "    </tr>\n",
              "  </thead>\n",
              "  <tbody>\n",
              "    <tr>\n",
              "      <th>0</th>\n",
              "      <td>1626_45</td>\n",
              "      <td>2</td>\n",
              "      <td>45</td>\n",
              "      <td>1626</td>\n",
              "      <td>3</td>\n",
              "      <td>46.0</td>\n",
              "      <td>4</td>\n",
              "      <td>2</td>\n",
              "      <td>0</td>\n",
              "      <td>13</td>\n",
              "      <td>0</td>\n",
              "      <td>0</td>\n",
              "      <td>0</td>\n",
              "      <td>0</td>\n",
              "      <td>1</td>\n",
              "      <td>0</td>\n",
              "    </tr>\n",
              "    <tr>\n",
              "      <th>1</th>\n",
              "      <td>11020_130</td>\n",
              "      <td>18</td>\n",
              "      <td>130</td>\n",
              "      <td>11020</td>\n",
              "      <td>2</td>\n",
              "      <td>45.0</td>\n",
              "      <td>2</td>\n",
              "      <td>4</td>\n",
              "      <td>1</td>\n",
              "      <td>10</td>\n",
              "      <td>0</td>\n",
              "      <td>0</td>\n",
              "      <td>0</td>\n",
              "      <td>0</td>\n",
              "      <td>1</td>\n",
              "      <td>0</td>\n",
              "    </tr>\n",
              "    <tr>\n",
              "      <th>2</th>\n",
              "      <td>12652_146</td>\n",
              "      <td>17</td>\n",
              "      <td>146</td>\n",
              "      <td>12652</td>\n",
              "      <td>0</td>\n",
              "      <td>45.0</td>\n",
              "      <td>2</td>\n",
              "      <td>2</td>\n",
              "      <td>1</td>\n",
              "      <td>13</td>\n",
              "      <td>0</td>\n",
              "      <td>0</td>\n",
              "      <td>0</td>\n",
              "      <td>1</td>\n",
              "      <td>0</td>\n",
              "      <td>0</td>\n",
              "    </tr>\n",
              "    <tr>\n",
              "      <th>3</th>\n",
              "      <td>7038_72</td>\n",
              "      <td>12</td>\n",
              "      <td>72</td>\n",
              "      <td>7038</td>\n",
              "      <td>3</td>\n",
              "      <td>45.0</td>\n",
              "      <td>5</td>\n",
              "      <td>2</td>\n",
              "      <td>0</td>\n",
              "      <td>1</td>\n",
              "      <td>0</td>\n",
              "      <td>0</td>\n",
              "      <td>1</td>\n",
              "      <td>0</td>\n",
              "      <td>0</td>\n",
              "      <td>0</td>\n",
              "    </tr>\n",
              "    <tr>\n",
              "      <th>4</th>\n",
              "      <td>888_71</td>\n",
              "      <td>12</td>\n",
              "      <td>71</td>\n",
              "      <td>888</td>\n",
              "      <td>3</td>\n",
              "      <td>45.0</td>\n",
              "      <td>4</td>\n",
              "      <td>2</td>\n",
              "      <td>0</td>\n",
              "      <td>13</td>\n",
              "      <td>0</td>\n",
              "      <td>0</td>\n",
              "      <td>1</td>\n",
              "      <td>0</td>\n",
              "      <td>0</td>\n",
              "      <td>0</td>\n",
              "    </tr>\n",
              "  </tbody>\n",
              "</table>\n",
              "</div>"
            ],
            "text/plain": [
              "          id  ...  trainee_engagement_rating_5.0\n",
              "0    1626_45  ...                              0\n",
              "1  11020_130  ...                              0\n",
              "2  12652_146  ...                              0\n",
              "3    7038_72  ...                              0\n",
              "4     888_71  ...                              0\n",
              "\n",
              "[5 rows x 16 columns]"
            ]
          },
          "metadata": {
            "tags": []
          },
          "execution_count": 465
        }
      ]
    },
    {
      "cell_type": "code",
      "metadata": {
        "colab_type": "code",
        "outputId": "6323dc43-04e6-4f15-c140-66cc0b91d723",
        "id": "oHH6ZFhjPBxC",
        "colab": {
          "base_uri": "https://localhost:8080/",
          "height": 34
        }
      },
      "source": [
        "x_train.shape"
      ],
      "execution_count": 0,
      "outputs": [
        {
          "output_type": "execute_result",
          "data": {
            "text/plain": [
              "(81387, 16)"
            ]
          },
          "metadata": {
            "tags": []
          },
          "execution_count": 466
        }
      ]
    },
    {
      "cell_type": "code",
      "metadata": {
        "colab_type": "code",
        "id": "m0mAN93gPBxR",
        "colab": {}
      },
      "source": [
        "ispass_df = pd.DataFrame(y_test,columns = [\"is_pass\"])"
      ],
      "execution_count": 0,
      "outputs": []
    },
    {
      "cell_type": "code",
      "metadata": {
        "colab_type": "code",
        "id": "X2OjDE11PBxc",
        "colab": {}
      },
      "source": [
        "X_test1 = X_test.reset_index(inplace=False)\n",
        "ispass_df.reset_index(inplace=True)"
      ],
      "execution_count": 0,
      "outputs": []
    },
    {
      "cell_type": "code",
      "metadata": {
        "colab_type": "code",
        "id": "fo2-UHltPBxj",
        "colab": {}
      },
      "source": [
        "submission_index = pd.merge(X_test1,ispass_df,how=\"inner\",on=\"index\")[['id','is_pass']]\n",
        "submission_index.to_csv(\"submission_random_forest_v.csv\",index=False)"
      ],
      "execution_count": 0,
      "outputs": []
    },
    {
      "cell_type": "code",
      "metadata": {
        "colab_type": "code",
        "outputId": "e7602325-2633-4a0d-f99e-177fea8b10d6",
        "id": "wWBkFGHePBxs",
        "colab": {
          "base_uri": "https://localhost:8080/",
          "height": 67
        }
      },
      "source": [
        "submission['is_pass'].value_counts()"
      ],
      "execution_count": 0,
      "outputs": [
        {
          "output_type": "execute_result",
          "data": {
            "text/plain": [
              "1    15888\n",
              "0    15461\n",
              "Name: is_pass, dtype: int64"
            ]
          },
          "metadata": {
            "tags": []
          },
          "execution_count": 470
        }
      ]
    },
    {
      "cell_type": "code",
      "metadata": {
        "id": "5fK11GuEPcek",
        "colab_type": "code",
        "colab": {}
      },
      "source": [
        "import xgboost as xgboost"
      ],
      "execution_count": 0,
      "outputs": []
    },
    {
      "cell_type": "code",
      "metadata": {
        "id": "W_GT_YGJQ0rs",
        "colab_type": "code",
        "colab": {}
      },
      "source": [
        "xgb = xgboost.XGBRFClassifier(max_depth=10,learning_rate=0.01,n_estimators=200)"
      ],
      "execution_count": 0,
      "outputs": []
    },
    {
      "cell_type": "code",
      "metadata": {
        "id": "qanU2BaTRTj6",
        "colab_type": "code",
        "outputId": "39d50d56-4d75-4949-f82d-3cab549b46f4",
        "colab": {
          "base_uri": "https://localhost:8080/",
          "height": 134
        }
      },
      "source": [
        "xgb.fit(x_train,y_train)"
      ],
      "execution_count": 0,
      "outputs": [
        {
          "output_type": "execute_result",
          "data": {
            "text/plain": [
              "XGBRFClassifier(base_score=0.5, colsample_bylevel=1, colsample_bynode=0.8,\n",
              "                colsample_bytree=1, gamma=0, learning_rate=0.01,\n",
              "                max_delta_step=0, max_depth=10, min_child_weight=1,\n",
              "                missing=None, n_estimators=200, n_jobs=1, nthread=None,\n",
              "                objective='binary:logistic', random_state=0, reg_alpha=0,\n",
              "                reg_lambda=1, scale_pos_weight=1, seed=None, silent=None,\n",
              "                subsample=0.8, verbosity=1)"
            ]
          },
          "metadata": {
            "tags": []
          },
          "execution_count": 437
        }
      ]
    },
    {
      "cell_type": "code",
      "metadata": {
        "id": "1iOjJqk9Srn-",
        "colab_type": "code",
        "colab": {}
      },
      "source": [
        ""
      ],
      "execution_count": 0,
      "outputs": []
    },
    {
      "cell_type": "code",
      "metadata": {
        "colab_type": "code",
        "id": "aQDgZH_UTCOe",
        "colab": {}
      },
      "source": [
        "y_pred_valid = xgb.predict(x_valid)"
      ],
      "execution_count": 0,
      "outputs": []
    },
    {
      "cell_type": "code",
      "metadata": {
        "colab_type": "code",
        "outputId": "a9cf60f6-4471-4655-81ba-7b9626bfc0c0",
        "id": "2bK2B4NaTCOp",
        "colab": {
          "base_uri": "https://localhost:8080/",
          "height": 302
        }
      },
      "source": [
        "evaluate_model(y_valid,y_pred_valid)"
      ],
      "execution_count": 0,
      "outputs": [
        {
          "output_type": "stream",
          "text": [
            "confusion matrix\n",
            "True          0     1\n",
            "Predicted            \n",
            "0          6746  1057\n",
            "1          3428  9116\n",
            "classification report\n",
            "              precision    recall  f1-score   support\n",
            "\n",
            "           0       0.86      0.66      0.75     10174\n",
            "           1       0.73      0.90      0.80     10173\n",
            "\n",
            "    accuracy                           0.78     20347\n",
            "   macro avg       0.80      0.78      0.78     20347\n",
            "weighted avg       0.80      0.78      0.78     20347\n",
            "\n",
            "accuracy score\n",
            "0.7795743844301372\n"
          ],
          "name": "stdout"
        }
      ]
    },
    {
      "cell_type": "code",
      "metadata": {
        "colab_type": "code",
        "id": "lgF05tggTCOx",
        "colab": {}
      },
      "source": [
        "X_test = one_hot_test"
      ],
      "execution_count": 0,
      "outputs": []
    },
    {
      "cell_type": "code",
      "metadata": {
        "colab_type": "code",
        "outputId": "54ec06d4-83ba-4f1d-c2c5-3824bff16eae",
        "id": "deUiaKFnTCO5",
        "colab": {
          "base_uri": "https://localhost:8080/",
          "height": 34
        }
      },
      "source": [
        "X_test.shape"
      ],
      "execution_count": 0,
      "outputs": [
        {
          "output_type": "execute_result",
          "data": {
            "text/plain": [
              "(31349, 16)"
            ]
          },
          "metadata": {
            "tags": []
          },
          "execution_count": 441
        }
      ]
    },
    {
      "cell_type": "code",
      "metadata": {
        "id": "zdvQYPqoTOCO",
        "colab_type": "code",
        "colab": {}
      },
      "source": [
        "X_test2 = X_test.values"
      ],
      "execution_count": 0,
      "outputs": []
    },
    {
      "cell_type": "code",
      "metadata": {
        "colab_type": "code",
        "id": "kuhOKafNTCPE",
        "colab": {}
      },
      "source": [
        "y_test = xgb.predict(X_test2)"
      ],
      "execution_count": 0,
      "outputs": []
    },
    {
      "cell_type": "code",
      "metadata": {
        "colab_type": "code",
        "outputId": "3e3dbf0a-b586-4d36-9a61-83fc49159c38",
        "id": "180bhczhTCPK",
        "colab": {
          "base_uri": "https://localhost:8080/",
          "height": 215
        }
      },
      "source": [
        "X_test.head()"
      ],
      "execution_count": 0,
      "outputs": [
        {
          "output_type": "execute_result",
          "data": {
            "text/html": [
              "<div>\n",
              "<style scoped>\n",
              "    .dataframe tbody tr th:only-of-type {\n",
              "        vertical-align: middle;\n",
              "    }\n",
              "\n",
              "    .dataframe tbody tr th {\n",
              "        vertical-align: top;\n",
              "    }\n",
              "\n",
              "    .dataframe thead th {\n",
              "        text-align: right;\n",
              "    }\n",
              "</style>\n",
              "<table border=\"1\" class=\"dataframe\">\n",
              "  <thead>\n",
              "    <tr style=\"text-align: right;\">\n",
              "      <th></th>\n",
              "      <th>id</th>\n",
              "      <th>program_id</th>\n",
              "      <th>test_id</th>\n",
              "      <th>trainee_id</th>\n",
              "      <th>program_duration_cat</th>\n",
              "      <th>age</th>\n",
              "      <th>difficulty_test_type</th>\n",
              "      <th>total_programs_enrolled</th>\n",
              "      <th>gender</th>\n",
              "      <th>education_tier</th>\n",
              "      <th>is_handicapped</th>\n",
              "      <th>trainee_engagement_rating_1.0</th>\n",
              "      <th>trainee_engagement_rating_2.0</th>\n",
              "      <th>trainee_engagement_rating_3.0</th>\n",
              "      <th>trainee_engagement_rating_4.0</th>\n",
              "      <th>trainee_engagement_rating_5.0</th>\n",
              "    </tr>\n",
              "  </thead>\n",
              "  <tbody>\n",
              "    <tr>\n",
              "      <th>0</th>\n",
              "      <td>1626_45</td>\n",
              "      <td>2</td>\n",
              "      <td>45</td>\n",
              "      <td>1626</td>\n",
              "      <td>3</td>\n",
              "      <td>46.0</td>\n",
              "      <td>4</td>\n",
              "      <td>2</td>\n",
              "      <td>0</td>\n",
              "      <td>13</td>\n",
              "      <td>0</td>\n",
              "      <td>0</td>\n",
              "      <td>0</td>\n",
              "      <td>0</td>\n",
              "      <td>1</td>\n",
              "      <td>0</td>\n",
              "    </tr>\n",
              "    <tr>\n",
              "      <th>1</th>\n",
              "      <td>11020_130</td>\n",
              "      <td>18</td>\n",
              "      <td>130</td>\n",
              "      <td>11020</td>\n",
              "      <td>2</td>\n",
              "      <td>45.0</td>\n",
              "      <td>2</td>\n",
              "      <td>4</td>\n",
              "      <td>1</td>\n",
              "      <td>10</td>\n",
              "      <td>0</td>\n",
              "      <td>0</td>\n",
              "      <td>0</td>\n",
              "      <td>0</td>\n",
              "      <td>1</td>\n",
              "      <td>0</td>\n",
              "    </tr>\n",
              "    <tr>\n",
              "      <th>2</th>\n",
              "      <td>12652_146</td>\n",
              "      <td>17</td>\n",
              "      <td>146</td>\n",
              "      <td>12652</td>\n",
              "      <td>0</td>\n",
              "      <td>45.0</td>\n",
              "      <td>2</td>\n",
              "      <td>2</td>\n",
              "      <td>1</td>\n",
              "      <td>13</td>\n",
              "      <td>0</td>\n",
              "      <td>0</td>\n",
              "      <td>0</td>\n",
              "      <td>1</td>\n",
              "      <td>0</td>\n",
              "      <td>0</td>\n",
              "    </tr>\n",
              "    <tr>\n",
              "      <th>3</th>\n",
              "      <td>7038_72</td>\n",
              "      <td>12</td>\n",
              "      <td>72</td>\n",
              "      <td>7038</td>\n",
              "      <td>3</td>\n",
              "      <td>45.0</td>\n",
              "      <td>5</td>\n",
              "      <td>2</td>\n",
              "      <td>0</td>\n",
              "      <td>1</td>\n",
              "      <td>0</td>\n",
              "      <td>0</td>\n",
              "      <td>1</td>\n",
              "      <td>0</td>\n",
              "      <td>0</td>\n",
              "      <td>0</td>\n",
              "    </tr>\n",
              "    <tr>\n",
              "      <th>4</th>\n",
              "      <td>888_71</td>\n",
              "      <td>12</td>\n",
              "      <td>71</td>\n",
              "      <td>888</td>\n",
              "      <td>3</td>\n",
              "      <td>45.0</td>\n",
              "      <td>4</td>\n",
              "      <td>2</td>\n",
              "      <td>0</td>\n",
              "      <td>13</td>\n",
              "      <td>0</td>\n",
              "      <td>0</td>\n",
              "      <td>1</td>\n",
              "      <td>0</td>\n",
              "      <td>0</td>\n",
              "      <td>0</td>\n",
              "    </tr>\n",
              "  </tbody>\n",
              "</table>\n",
              "</div>"
            ],
            "text/plain": [
              "          id  ...  trainee_engagement_rating_5.0\n",
              "0    1626_45  ...                              0\n",
              "1  11020_130  ...                              0\n",
              "2  12652_146  ...                              0\n",
              "3    7038_72  ...                              0\n",
              "4     888_71  ...                              0\n",
              "\n",
              "[5 rows x 16 columns]"
            ]
          },
          "metadata": {
            "tags": []
          },
          "execution_count": 426
        }
      ]
    },
    {
      "cell_type": "code",
      "metadata": {
        "colab_type": "code",
        "outputId": "9446acfa-9894-4672-e1f6-39114bd08712",
        "id": "BhRV8TqiTCPQ",
        "colab": {
          "base_uri": "https://localhost:8080/",
          "height": 34
        }
      },
      "source": [
        "x_train.shape"
      ],
      "execution_count": 0,
      "outputs": [
        {
          "output_type": "execute_result",
          "data": {
            "text/plain": [
              "(81387, 16)"
            ]
          },
          "metadata": {
            "tags": []
          },
          "execution_count": 427
        }
      ]
    },
    {
      "cell_type": "code",
      "metadata": {
        "colab_type": "code",
        "id": "y_sXQpwITCPW",
        "colab": {}
      },
      "source": [
        "ispass_df = pd.DataFrame(y_test,columns = [\"is_pass\"])"
      ],
      "execution_count": 0,
      "outputs": []
    },
    {
      "cell_type": "code",
      "metadata": {
        "colab_type": "code",
        "id": "gFBZL3BETCPc",
        "colab": {}
      },
      "source": [
        "X_test1 = X_test.reset_index(inplace=False)\n",
        "ispass_df.reset_index(inplace=True)"
      ],
      "execution_count": 0,
      "outputs": []
    },
    {
      "cell_type": "code",
      "metadata": {
        "colab_type": "code",
        "id": "7WWvteN0TCPj",
        "colab": {}
      },
      "source": [
        "submission_index = pd.merge(X_test1,ispass_df,how=\"inner\",on=\"index\")[['id','is_pass']]\n",
        "submission_index.to_csv(\"submission_random_forest_v12.csv\",index=False)"
      ],
      "execution_count": 0,
      "outputs": []
    },
    {
      "cell_type": "code",
      "metadata": {
        "id": "tV46CT7GTaax",
        "colab_type": "code",
        "colab": {}
      },
      "source": [
        ""
      ],
      "execution_count": 0,
      "outputs": []
    }
  ]
}